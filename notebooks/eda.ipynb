{
 "cells": [
  {
   "cell_type": "code",
   "execution_count": 1,
   "id": "naval-tragedy",
   "metadata": {},
   "outputs": [],
   "source": [
    "%matplotlib inline\n",
    "import gspread\n",
    "from gspread.models import Spreadsheet\n",
    "from gspread_dataframe import set_with_dataframe, get_as_dataframe\n",
    "from bs4 import BeautifulSoup\n",
    "import requests\n",
    "from IPython.display import display, Markdown\n",
    "import pandas as pd\n",
    "from urllib.parse import urljoin\n",
    "from io import StringIO, BytesIO\n",
    "import re\n",
    "import numpy as np\n",
    "import seaborn as sns\n",
    "import plotly.express as px\n",
    "from sklearn.preprocessing import StandardScaler"
   ]
  },
  {
   "cell_type": "code",
   "execution_count": 2,
   "id": "continental-equation",
   "metadata": {},
   "outputs": [],
   "source": [
    "# get google sheet to read and store data\n",
    "gc = gspread.service_account(\n",
    "    filename=\"/Users/grahamflemingthomson/Downloads/grahamflemingthomson-164514-04e450fcd324.json\"\n",
    ")\n",
    "sh = gc.open_by_key(\n",
    "    \"1OqoSsf5YrsJWRWK1WouiwHeTP_prGVmsP7yURgjQnwo\"\n",
    ")"
   ]
  },
  {
   "cell_type": "code",
   "execution_count": 3,
   "id": "hairy-bidding",
   "metadata": {},
   "outputs": [
    {
     "data": {
      "text/plain": [
       "[<Worksheet '2019_top_players' id:228381128>,\n",
       " <Worksheet '2020_top_players' id:167849989>]"
      ]
     },
     "execution_count": 3,
     "metadata": {},
     "output_type": "execute_result"
    }
   ],
   "source": [
    "sh.worksheets()"
   ]
  },
  {
   "cell_type": "code",
   "execution_count": 4,
   "id": "authentic-hybrid",
   "metadata": {},
   "outputs": [
    {
     "data": {
      "text/html": [
       "<div>\n",
       "<style scoped>\n",
       "    .dataframe tbody tr th:only-of-type {\n",
       "        vertical-align: middle;\n",
       "    }\n",
       "\n",
       "    .dataframe tbody tr th {\n",
       "        vertical-align: top;\n",
       "    }\n",
       "\n",
       "    .dataframe thead th {\n",
       "        text-align: right;\n",
       "    }\n",
       "</style>\n",
       "<table border=\"1\" class=\"dataframe\">\n",
       "  <thead>\n",
       "    <tr style=\"text-align: right;\">\n",
       "      <th></th>\n",
       "      <th>rank</th>\n",
       "      <th>player_name</th>\n",
       "      <th>total_points</th>\n",
       "      <th>average_points</th>\n",
       "      <th>week_1_pts</th>\n",
       "      <th>week_2_pts</th>\n",
       "      <th>week_3_pts</th>\n",
       "      <th>week_4_pts</th>\n",
       "      <th>week_5_pts</th>\n",
       "      <th>week_6_pts</th>\n",
       "      <th>...</th>\n",
       "      <th>position</th>\n",
       "      <th>player_path</th>\n",
       "      <th>height</th>\n",
       "      <th>weight</th>\n",
       "      <th>dob</th>\n",
       "      <th>age</th>\n",
       "      <th>experience</th>\n",
       "      <th>height_inches</th>\n",
       "      <th>weight_lbs</th>\n",
       "      <th>experience_years</th>\n",
       "    </tr>\n",
       "  </thead>\n",
       "  <tbody>\n",
       "    <tr>\n",
       "      <th>0</th>\n",
       "      <td>1</td>\n",
       "      <td>White, Devin TBB LB</td>\n",
       "      <td>188.5</td>\n",
       "      <td>12.567</td>\n",
       "      <td>12.0</td>\n",
       "      <td>17.0</td>\n",
       "      <td>5.0</td>\n",
       "      <td>2.7</td>\n",
       "      <td>2</td>\n",
       "      <td>19.5</td>\n",
       "      <td>...</td>\n",
       "      <td>LB</td>\n",
       "      <td>player?L=46381&amp;P=14168</td>\n",
       "      <td>6'0\"</td>\n",
       "      <td>237lbs</td>\n",
       "      <td>1998-02-17 0:00:00</td>\n",
       "      <td>23.0</td>\n",
       "      <td>3 years</td>\n",
       "      <td>72.0</td>\n",
       "      <td>237.0</td>\n",
       "      <td>3.0</td>\n",
       "    </tr>\n",
       "    <tr>\n",
       "      <th>1</th>\n",
       "      <td>2</td>\n",
       "      <td>Smith, Roquan CHI LB</td>\n",
       "      <td>187.1</td>\n",
       "      <td>12.473</td>\n",
       "      <td>8.0</td>\n",
       "      <td>6.5</td>\n",
       "      <td>9.5</td>\n",
       "      <td>17.5</td>\n",
       "      <td>11.5</td>\n",
       "      <td>13</td>\n",
       "      <td>...</td>\n",
       "      <td>LB</td>\n",
       "      <td>player?L=46381&amp;P=13696</td>\n",
       "      <td>6'1\"</td>\n",
       "      <td>236lbs</td>\n",
       "      <td>1997-04-08 0:00:00</td>\n",
       "      <td>24.0</td>\n",
       "      <td>4 years</td>\n",
       "      <td>73.0</td>\n",
       "      <td>236.0</td>\n",
       "      <td>4.0</td>\n",
       "    </tr>\n",
       "    <tr>\n",
       "      <th>2</th>\n",
       "      <td>3</td>\n",
       "      <td>Watt, T.J. PIT LB</td>\n",
       "      <td>179.5</td>\n",
       "      <td>11.967</td>\n",
       "      <td>12.0</td>\n",
       "      <td>17.0</td>\n",
       "      <td>13.0</td>\n",
       "      <td>B</td>\n",
       "      <td>13.5</td>\n",
       "      <td>3.5</td>\n",
       "      <td>...</td>\n",
       "      <td>LB</td>\n",
       "      <td>player?L=46381&amp;P=13214</td>\n",
       "      <td>6'4\"</td>\n",
       "      <td>252lbs</td>\n",
       "      <td>1994-10-11 0:00:00</td>\n",
       "      <td>26.0</td>\n",
       "      <td>5 years</td>\n",
       "      <td>76.0</td>\n",
       "      <td>252.0</td>\n",
       "      <td>5.0</td>\n",
       "    </tr>\n",
       "    <tr>\n",
       "      <th>3</th>\n",
       "      <td>4</td>\n",
       "      <td>Schobert, Joe JAC LB</td>\n",
       "      <td>162.7</td>\n",
       "      <td>10.847</td>\n",
       "      <td>8.5</td>\n",
       "      <td>8.0</td>\n",
       "      <td>6.5</td>\n",
       "      <td>5</td>\n",
       "      <td>3.5</td>\n",
       "      <td>15.7</td>\n",
       "      <td>...</td>\n",
       "      <td>LB</td>\n",
       "      <td>player?L=46381&amp;P=12768</td>\n",
       "      <td>6'1\"</td>\n",
       "      <td>245lbs</td>\n",
       "      <td>1993-11-06 0:00:00</td>\n",
       "      <td>27.0</td>\n",
       "      <td>6 years</td>\n",
       "      <td>73.0</td>\n",
       "      <td>245.0</td>\n",
       "      <td>6.0</td>\n",
       "    </tr>\n",
       "    <tr>\n",
       "      <th>4</th>\n",
       "      <td>5</td>\n",
       "      <td>Jones, Deion ATL LB</td>\n",
       "      <td>158.3</td>\n",
       "      <td>10.553</td>\n",
       "      <td>9.5</td>\n",
       "      <td>5.4</td>\n",
       "      <td>4.0</td>\n",
       "      <td>9</td>\n",
       "      <td>6</td>\n",
       "      <td>18.7</td>\n",
       "      <td>...</td>\n",
       "      <td>LB</td>\n",
       "      <td>player?L=46381&amp;P=12745</td>\n",
       "      <td>6'1\"</td>\n",
       "      <td>222lbs</td>\n",
       "      <td>1994-11-04 0:00:00</td>\n",
       "      <td>26.0</td>\n",
       "      <td>6 years</td>\n",
       "      <td>73.0</td>\n",
       "      <td>222.0</td>\n",
       "      <td>6.0</td>\n",
       "    </tr>\n",
       "  </tbody>\n",
       "</table>\n",
       "<p>5 rows × 36 columns</p>\n",
       "</div>"
      ],
      "text/plain": [
       "   rank           player_name  total_points  average_points  week_1_pts  \\\n",
       "0     1   White, Devin TBB LB         188.5          12.567        12.0   \n",
       "1     2  Smith, Roquan CHI LB         187.1          12.473         8.0   \n",
       "2     3     Watt, T.J. PIT LB         179.5          11.967        12.0   \n",
       "3     4  Schobert, Joe JAC LB         162.7          10.847         8.5   \n",
       "4     5   Jones, Deion ATL LB         158.3          10.553         9.5   \n",
       "\n",
       "   week_2_pts  week_3_pts week_4_pts week_5_pts week_6_pts  ... position  \\\n",
       "0        17.0         5.0        2.7          2       19.5  ...       LB   \n",
       "1         6.5         9.5       17.5       11.5         13  ...       LB   \n",
       "2        17.0        13.0          B       13.5        3.5  ...       LB   \n",
       "3         8.0         6.5          5        3.5       15.7  ...       LB   \n",
       "4         5.4         4.0          9          6       18.7  ...       LB   \n",
       "\n",
       "              player_path height  weight                 dob   age experience  \\\n",
       "0  player?L=46381&P=14168   6'0\"  237lbs  1998-02-17 0:00:00  23.0    3 years   \n",
       "1  player?L=46381&P=13696   6'1\"  236lbs  1997-04-08 0:00:00  24.0    4 years   \n",
       "2  player?L=46381&P=13214   6'4\"  252lbs  1994-10-11 0:00:00  26.0    5 years   \n",
       "3  player?L=46381&P=12768   6'1\"  245lbs  1993-11-06 0:00:00  27.0    6 years   \n",
       "4  player?L=46381&P=12745   6'1\"  222lbs  1994-11-04 0:00:00  26.0    6 years   \n",
       "\n",
       "   height_inches  weight_lbs  experience_years  \n",
       "0           72.0       237.0               3.0  \n",
       "1           73.0       236.0               4.0  \n",
       "2           76.0       252.0               5.0  \n",
       "3           73.0       245.0               6.0  \n",
       "4           73.0       222.0               6.0  \n",
       "\n",
       "[5 rows x 36 columns]"
      ]
     },
     "execution_count": 4,
     "metadata": {},
     "output_type": "execute_result"
    }
   ],
   "source": [
    "top_2020 = get_as_dataframe(sh.worksheets()[1])\n",
    "top_2020.head()"
   ]
  },
  {
   "cell_type": "code",
   "execution_count": 5,
   "id": "opened-lounge",
   "metadata": {},
   "outputs": [],
   "source": [
    "pivoted_tp = top_2020.pivot(index=\"player_name\", columns=\"position\", values=\"total_points\")\n",
    "tp_zscores_within_position = StandardScaler().fit_transform(pivoted_tp)"
   ]
  },
  {
   "cell_type": "code",
   "execution_count": 6,
   "id": "damaged-magnet",
   "metadata": {},
   "outputs": [],
   "source": [
    "tp_zscores_within_position_df = pd.DataFrame(\n",
    "    tp_zscores_within_position, \n",
    "    columns=pivoted_tp.columns, \n",
    "    index=pivoted_tp.index\n",
    ").bfill(axis=1)\\\n",
    ".iloc[:, 0]\\\n",
    ".to_frame(\"z_score\")\\\n",
    ".reset_index()"
   ]
  },
  {
   "cell_type": "code",
   "execution_count": 7,
   "id": "looking-tracker",
   "metadata": {},
   "outputs": [],
   "source": [
    "top_2020 = top_2020.merge(tp_zscores_within_position_df, on=\"player_name\", how=\"left\")"
   ]
  },
  {
   "cell_type": "code",
   "execution_count": 10,
   "id": "related-nurse",
   "metadata": {},
   "outputs": [
    {
     "data": {
      "application/vnd.plotly.v1+json": {
       "config": {
        "plotlyServerURL": "https://plot.ly"
       },
       "data": [
        {
         "alignmentgroup": "True",
         "boxpoints": "all",
         "customdata": [
          [
           "White, Devin TBB LB",
           188.5,
           12.567,
           23,
           3
          ],
          [
           "Smith, Roquan CHI LB",
           187.1,
           12.472999999999999,
           24,
           4
          ],
          [
           "Watt, T.J. PIT LB",
           179.5,
           11.967,
           26,
           5
          ],
          [
           "Schobert, Joe JAC LB",
           162.7,
           10.847000000000001,
           27,
           6
          ],
          [
           "Jones, Deion ATL LB",
           158.3,
           10.552999999999999,
           26,
           6
          ],
          [
           "Martinez, Blake NYG LB",
           155.7,
           10.38,
           27,
           6
          ],
          [
           "Wilson, Eric MIN LB",
           152.5,
           10.167,
           26,
           5
          ],
          [
           "David, Lavonte TBB LB",
           146.5,
           9.767000000000001,
           31,
           10
          ],
          [
           "Cunningham, Zach HOU LB",
           145,
           9.667,
           26,
           5
          ],
          [
           "Oluokun, Foyesade ATL LB",
           144.7,
           10.335999999999999,
           25,
           4
          ],
          [
           "Wagner, Bobby SEA LB",
           142.5,
           9.5,
           30,
           10
          ],
          [
           "Queen, Patrick BAL LB",
           141.8,
           9.453,
           21,
           2
          ],
          [
           "Hewitt, Neville NYJ LB",
           139.2,
           9.28,
           28,
           7
          ],
          [
           "Smith, Jaylon DAL LB",
           138,
           9.2,
           25,
           6
          ],
          [
           "Baker, Jerome MIA LB",
           136.5,
           9.1,
           24,
           4
          ],
          [
           "Leonard, Darius IND LB",
           134.4,
           10.338,
           25,
           4
          ],
          [
           "Davis, Demario NOS LB",
           130.2,
           8.68,
           32,
           10
          ],
          [
           "Warner, Fred SFO LB",
           125.9,
           8.392999999999999,
           24,
           4
          ],
          [
           "Smith, Za'Darius GBP LB",
           125.5,
           8.367,
           28,
           7
          ],
          [
           "Adams, Tyrell HOU LB",
           124.5,
           8.3,
           29,
           6
          ],
          [
           "Wright, K.J. SEA LB",
           122.7,
           8.18,
           31,
           11
          ],
          [
           "Kendricks, Eric MIN LB",
           120.5,
           10.955,
           29,
           7
          ],
          [
           "Collins, Jamie DET LB",
           120.1,
           8.579,
           31,
           9
          ],
          [
           "Mack, Khalil CHI LB",
           119.8,
           7.987,
           30,
           8
          ],
          [
           "Van Noy, Kyle MIA LB",
           117.8,
           9.062000000000001,
           30,
           8
          ],
          [
           "Hicks, Jordan ARI LB",
           117.3,
           7.82,
           28,
           7
          ],
          [
           "Singleton, Alex PHI LB",
           116.6,
           7.773,
           27,
           7
          ],
          [
           "Barrett, Shaq TBB LB",
           112,
           7.4670000000000005,
           28,
           8
          ],
          [
           "Jack, Myles JAC LB",
           111.5,
           8.577,
           25,
           6
          ],
          [
           "Thompson, Shaq CAR LB",
           111.5,
           7.433,
           27,
           7
          ],
          [
           "Johnson, Alexander DEN LB",
           109.1,
           7.273,
           29,
           4
          ],
          [
           "Bostic, Jon WAS LB",
           108.5,
           7.233,
           30,
           9
          ],
          [
           "Edmunds, Tremaine BUF LB",
           105.5,
           7.5360000000000005,
           23,
           4
          ],
          [
           "Klein, A.J. BUF LB",
           105.5,
           7.0329999999999995,
           29,
           9
          ],
          [
           "Landry, Harold TEN LB",
           105,
           7,
           24,
           4
          ],
          [
           "Goodson, B.J. CLE LB",
           103.7,
           7.407,
           27,
           6
          ],
          [
           "Campbell, De'Vondre ARI LB",
           103.5,
           6.9,
           27,
           6
          ],
          [
           "Williamson, Avery PIT LB",
           102.1,
           7.292999999999999,
           29,
           8
          ],
          [
           "Murray, Kenneth LAC LB",
           102,
           6.8,
           22,
           2
          ],
          [
           "Morrow, Nicholas LVR LB",
           101.6,
           7.815,
           25,
           5
          ],
          [
           "Jewell, Josey DEN LB",
           101.5,
           6.767,
           26,
           4
          ],
          [
           "Floyd, Leonard LAR LB",
           101.1,
           6.74,
           28,
           6
          ],
          [
           "Trevathan, Danny CHI LB",
           100,
           6.667000000000001,
           31,
           10
          ],
          [
           "Brown, Jayon TEN LB",
           97.5,
           9.75,
           26,
           5
          ],
          [
           "Williams, Vince PIT LB",
           97.5,
           7.5,
           31,
           9
          ],
          [
           "Van Ginkel, Andrew MIA LB",
           93.3,
           6.22,
           25,
           3
          ],
          [
           "Reed, Malik DEN LB",
           91.5,
           6.1,
           24,
           3
          ],
          [
           "Walker, Anthony IND LB",
           90.1,
           6.007000000000001,
           25,
           5
          ],
          [
           "Greenlaw, Dre SFO LB",
           89,
           6.846,
           24,
           3
          ],
          [
           "Kwiatkoski, Nick LVR LB",
           88.8,
           7.4,
           27,
           6
          ],
          [
           "Okereke, Bobby IND LB",
           85.7,
           6.5920000000000005,
           24,
           3
          ],
          [
           "Dupree, Bud PIT LB",
           84,
           7.636,
           28,
           7
          ],
          [
           "Reeder, Troy LAR LB",
           84,
           5.6,
           26,
           3
          ],
          [
           "Smith, Malcolm CLE LB",
           82.2,
           5.48,
           31,
           11
          ],
          [
           "Bynes, Josh CIN LB",
           81.5,
           5.433,
           31,
           11
          ],
          [
           "Holcomb, Cole WAS LB",
           80,
           8,
           24,
           3
          ],
          [
           "Spillane, Robert PIT LB",
           78.3,
           6.525,
           25,
           4
          ],
          [
           "Bentley, Ja'Whaun NEP LB",
           78,
           6.5,
           24,
           4
          ],
          [
           "Pratt, Germaine CIN LB",
           78,
           5.2,
           24,
           3
          ],
          [
           "Judon, Matt BAL LB",
           77.8,
           5.985,
           28,
           6
          ],
          [
           "Takitaki, Sione CLE LB",
           77.5,
           5.5360000000000005,
           25,
           3
          ],
          [
           "Chubb, Bradley DEN LB",
           76.5,
           5.4639999999999995,
           24,
           4
          ],
          [
           "Roberts, Elandon MIA LB",
           76.02,
           5.848,
           27,
           6
          ],
          [
           "Smith, Preston GBP LB",
           75.9,
           5.06,
           28,
           7
          ],
          [
           "Evans, Rashaan TEN LB",
           75.1,
           5.007,
           24,
           4
          ],
          [
           "White, Kyzir LAC LB",
           75,
           6.818,
           25,
           4
          ],
          [
           "Kirksey, Christian GBP LB",
           74.6,
           7.46,
           28,
           8
          ],
          [
           "Young, Kenny LAR LB",
           74.4,
           4.96,
           25,
           4
          ],
          [
           "Alexander, Kwon NOS LB",
           72.5,
           6.042000000000001,
           26,
           7
          ],
          [
           "Edwards, T.J. PHI LB",
           72,
           6.545,
           24,
           3
          ],
          [
           "Barnes, Krys GBP LB",
           69,
           5.75,
           23,
           2
          ],
          [
           "Fackrell, Kyler NYG LB",
           68.1,
           6.191,
           29,
           6
          ],
          [
           "Bowser, Tyus BAL LB",
           67.3,
           4.487,
           26,
           5
          ],
          [
           "Kiser, Micah LAR LB",
           66.7,
           7.4110000000000005,
           26,
           4
          ],
          [
           "Hitchens, Anthony KCC LB",
           64.9,
           4.636,
           28,
           8
          ],
          [
           "Golden, Markus ARI LB",
           64.6,
           4.3069999999999995,
           30,
           7
          ],
          [
           "Vigil, Nick LAC LB",
           64.4,
           4.6,
           27,
           6
          ],
          [
           "Simmons, Isaiah ARI LB",
           64.2,
           4.28,
           22,
           2
          ],
          [
           "Littleton, Cory LVR LB",
           64,
           4.923,
           27,
           6
          ],
          [
           "Fort, L.J. BAL LB",
           63.9,
           4.915,
           31,
           10
          ],
          [
           "Milano, Matt BUF LB",
           63.7,
           7.077999999999999,
           26,
           5
          ],
          [
           "Pierre-Louis, Kevin WAS LB",
           60.5,
           4.654,
           29,
           8
          ],
          [
           "Wilson, Damien KCC LB",
           59.5,
           4.958,
           27,
           7
          ],
          [
           "Nwosu, Uchenna LAC LB",
           58.5,
           4.5,
           24,
           4
          ],
          [
           "Gardeck, Dennis ARI LB",
           57,
           4.071000000000001,
           26,
           4
          ],
          [
           "Gerry, Nate PHI LB",
           57,
           8.142999999999999,
           26,
           5
          ],
          [
           "Crowder, Tae NYG LB",
           56.8,
           5.68,
           24,
           2
          ],
          [
           "Riley, Duke PHI LB",
           55.7,
           4.285,
           26,
           5
          ],
          [
           "Niemann, Ben KCC LB",
           55,
           3.667,
           25,
           4
          ],
          [
           "Wilson, Logan CIN LB",
           54.5,
           4.542,
           24,
           2
          ],
          [
           "Ragland, Reggie DET LB",
           52,
           3.467,
           27,
           6
          ],
          [
           "Vander Esch, Leighton DAL LB",
           51.5,
           5.15,
           24,
           4
          ],
          [
           "Gary, Rashan GBP LB",
           50,
           3.571,
           23,
           3
          ],
          [
           "Highsmith, Alex PIT LB",
           48.7,
           3.247,
           23,
           2
          ],
          [
           "McPhee, Pernell BAL LB",
           48.5,
           3.464,
           32,
           11
          ],
          [
           "Davis, Jarrad DET LB",
           48,
           3.6919999999999997,
           25,
           5
          ],
          [
           "Ferguson, Jaylon BAL LB",
           47.5,
           3.654,
           25,
           3
          ],
          [
           "Gay, Willie KCC LB",
           47.5,
           3.167,
           23,
           2
          ],
          [
           "Long, David TEN LB",
           47.5,
           3.654,
           22,
           3
          ],
          [
           "Jones, Christian DET LB",
           46.5,
           3.1,
           30,
           8
          ],
          [
           "Langi, Harvey NYJ LB",
           46.5,
           3.321,
           28,
           5
          ],
          [
           "Mingo, Barkevious CHI LB",
           44.6,
           2.9730000000000003,
           30,
           9
          ],
          [
           "Thomas, Joe DAL LB",
           44,
           3.1430000000000002,
           30,
           8
          ],
          [
           "Walker, Mykal ATL LB",
           43.5,
           2.9,
           23,
           2
          ],
          [
           "Whitehead, Tahir CAR LB",
           42.6,
           3.2769999999999997,
           31,
           10
          ],
          [
           "Brooks, Jordyn SEA LB",
           42.1,
           3.238,
           23,
           2
          ],
          [
           "Board, Chris BAL LB",
           41,
           2.733,
           25,
           4
          ],
          [
           "Martin, Jake HOU LB",
           40.5,
           3.115,
           25,
           4
          ],
          [
           "Hall, Terez NEP LB",
           40.1,
           5.013,
           24,
           3
          ],
          [
           "Hollins, Justin LAR LB",
           39.2,
           2.613,
           25,
           3
          ],
          [
           "Ebukam, Samson LAR LB",
           39,
           2.6,
           26,
           5
          ],
          [
           "Perryman, Denzel LAC LB",
           38.4,
           3.2,
           27,
           7
          ],
          [
           "Tavai, Jahlani DET LB",
           38,
           2.533,
           24,
           3
          ],
          [
           "Harrison, Malik BAL LB",
           37,
           2.467,
           23,
           2
          ],
          [
           "Kennard, Devon ARI LB",
           36,
           3,
           29,
           8
          ],
          [
           "Barton, Cody SEA LB",
           34.5,
           2.3,
           24,
           3
          ],
          [
           "Summers, Ty GBP LB",
           34.5,
           2.3,
           25,
           3
          ],
          [
           "Carter, Jermaine CAR LB",
           33.5,
           2.233,
           26,
           4
          ],
          [
           "Quinn, Robert CHI LB",
           33.5,
           2.3930000000000002,
           31,
           11
          ],
          [
           "Luvu, Frankie NYJ LB",
           33,
           2.75,
           24,
           4
          ],
          [
           "Wilson, Mack CLE LB",
           33,
           2.75,
           23,
           3
          ],
          [
           "Al-Shaair, Azeez SFO LB",
           31.5,
           2.1,
           23,
           3
          ],
          [
           "McKinney, Benardrick HOU LB",
           31.5,
           7.875,
           28,
           7
          ],
          [
           "Downs, Devante NYG LB",
           30,
           2,
           25,
           4
          ],
          [
           "Martin, Kamal GBP LB",
           30,
           3.333,
           22,
           2
          ],
          [
           "Anzalone, Alex NOS LB",
           29.8,
           1.9869999999999999,
           27,
           5
          ],
          [
           "Grugier-Hill, Kamu MIA LB",
           28.5,
           1.9,
           27,
           6
          ],
          [
           "Bush, Devin PIT LB",
           27.6,
           5.52,
           22,
           3
          ],
          [
           "Burks, Oren GBP LB",
           27.5,
           1.8330000000000002,
           26,
           4
          ],
          [
           "Mayo, David NYG LB",
           27.5,
           2.75,
           27,
           7
          ],
          [
           "Vaughters, James CHI LB",
           26.5,
           2.0380000000000003,
           27,
           7
          ],
          [
           "Dodson, Tyrel BUF LB",
           26,
           2.889,
           22,
           3
          ],
          [
           "Nelson, Anthony TBB LB",
           24.5,
           1.633,
           24,
           3
          ],
          [
           "Davis, Todd MIN LB",
           24.4,
           2.44,
           29,
           8
          ],
          [
           "Evans, Jordan CIN LB",
           24.1,
           1.7209999999999999,
           26,
           5
          ],
          [
           "McMillan, Raekwon LVR LB",
           23.1,
           1.54,
           24,
           5
          ],
          [
           "Coughlin, Carter NYG LB",
           23,
           1.7690000000000001,
           23,
           2
          ],
          [
           "Carter, Lorenzo NYG LB",
           21.7,
           4.34,
           25,
           4
          ],
          [
           "Hall, Nate HOU LB",
           21.5,
           2.3890000000000002,
           25,
           3
          ],
          [
           "Nickerson, Hardy MIN LB",
           21.5,
           1.6540000000000001,
           27,
           5
          ],
          [
           "Scarlett, Brennan HOU LB",
           21.5,
           2.15,
           27,
           6
          ],
          [
           "Gustin, Porter CLE LB",
           21.1,
           1.6230000000000002,
           24,
           3
          ],
          [
           "Turner, Zeke ARI LB",
           20.1,
           1.34,
           24,
           4
          ],
          [
           "Dye, Troy MIN LB",
           20,
           2,
           24,
           2
          ],
          [
           "Marsh, Cassius PIT LB",
           19.5,
           2.438,
           28,
           8
          ],
          [
           "Hamilton, Shaun Dion DET LB",
           19.3,
           1.379,
           25,
           4
          ],
          [
           "Davis-Gaither, Akeem CIN LB",
           19,
           1.2670000000000001,
           23,
           2
          ],
          [
           "Allen, Dakota JAC LB",
           18.5,
           1.5419999999999998,
           25,
           3
          ],
          [
           "Avery, Genard PHI LB",
           18.5,
           1.85,
           26,
           4
          ],
          [
           "Giles-Harris, Joe JAC LB",
           17.8,
           2.225,
           24,
           3
          ],
          [
           "Jones, Chandler ARI LB",
           17,
           3.4,
           31,
           10
          ],
          [
           "Okoronkwo, Ogbonnia LAR LB",
           17,
           1.889,
           26,
           4
          ],
          [
           "Uche, Josh NEP LB",
           17,
           1.889,
           22,
           2
          ],
          [
           "Chickillo, Anthony DEN LB",
           16,
           1.455,
           28,
           7
          ],
          [
           "Lewis, Terrell LAR LB",
           16,
           2.286,
           null,
           null
          ],
          [
           "Compton, Will TEN LB",
           15.5,
           1.409,
           31,
           9
          ],
          [
           "Griffin, Shaquem SEA LB",
           15.5,
           1.192,
           25,
           4
          ],
          [
           "Taylor, Adarius CAR LB",
           15.5,
           1.2919999999999998,
           30,
           8
          ],
          [
           "Williams, Quincy JAC LB",
           15.5,
           2.214,
           24,
           3
          ],
          [
           "Adeniyi, Ola PIT LB",
           15,
           1.071,
           23,
           4
          ],
          [
           "Hager, Bryce NYJ LB",
           15,
           1.6669999999999998,
           29,
           7
          ],
          [
           "Reynolds, LaRoy ATL LB",
           15,
           1,
           30,
           9
          ],
          [
           "Bower, Tashawn NEP LB",
           13.5,
           1.929,
           26,
           5
          ],
          [
           "Jennings, Anfernee NEP LB",
           13,
           0.929,
           24,
           2
          ],
          [
           "Franklin, Zaire IND LB",
           12.6,
           0.84,
           24,
           4
          ],
          [
           "Phillips, Jacob CLE LB",
           12.5,
           1.5619999999999998,
           22,
           2
          ],
          [
           "Bradley, Shaun PHI LB",
           12,
           0.8,
           24,
           2
          ],
          [
           "Brown, Cam NYG LB",
           12,
           0.857,
           23,
           2
          ],
          [
           "Roberson, Derick TEN LB",
           12,
           1.5,
           25,
           3
          ],
          [
           "Vallejo, Tanner ARI LB",
           12,
           0.8,
           26,
           5
          ],
          [
           "Fitts, Kylie ARI LB",
           11.5,
           0.885,
           26,
           4
          ],
          [
           "Lee, Sean DAL LB",
           11.5,
           1.4380000000000002,
           34,
           12
          ],
          [
           "Copeland, Brandon NEP LB",
           11,
           1.8330000000000002,
           29,
           8
          ],
          [
           "Iyiegbuniwe, Joel CHI LB",
           11,
           0.733,
           25,
           4
          ],
          [
           "Matakevich, Tyler BUF LB",
           11,
           0.733,
           28,
           6
          ],
          [
           "Lynch, Aaron JAC LB",
           10.6,
           1.514,
           28,
           8
          ],
          [
           "Eguavoen, Sam MIA LB",
           10.5,
           0.7,
           28,
           3
          ],
          [
           "Robinson, Edmond ATL LB",
           10.5,
           0.875,
           29,
           7
          ],
          [
           "Lynch, Blake MIN LB",
           10,
           5,
           24,
           2
          ],
          [
           "Robertson, Craig NOS LB",
           10,
           0.667,
           33,
           11
          ],
          [
           "Anderson, Ryan WAS LB",
           9.5,
           1.056,
           26,
           5
          ],
          [
           "Burr-Kirven, Ben SEA LB",
           9.5,
           0.633,
           23,
           3
          ],
          [
           "Correa, Kamalei JAC LB",
           9.5,
           1.056,
           27,
           6
          ],
          [
           "O'Daniel, Dorian KCC LB",
           9.5,
           0.8640000000000001,
           26,
           4
          ],
          [
           "Reeves-Maybin, Jalen DET LB",
           9.5,
           0.633,
           26,
           5
          ],
          [
           "Polite, Jachai FA LB",
           9,
           0.818,
           23,
           3
          ],
          [
           "Brailford, Jordan MIN LB",
           8.5,
           2.125,
           25,
           3
          ],
          [
           "Hudson, Khaleke WAS LB",
           8.5,
           0.5670000000000001,
           23,
           2
          ],
          [
           "Baun, Zack NOS LB",
           8,
           0.5710000000000001,
           24,
           2
          ],
          [
           "Malveaux, Cameron CLE LB",
           8,
           4,
           26,
           5
          ],
          [
           "Dzubnar, Nick TEN LB",
           7.6,
           0.507,
           29,
           7
          ],
          [
           "Davis, Tae CLE LB",
           7.5,
           0.625,
           24,
           4
          ],
          [
           "Glasgow, Jordan IND LB",
           7.5,
           0.625,
           24,
           2
          ],
          [
           "Harris, Darius KCC LB",
           7.5,
           2.5,
           25,
           3
          ],
          [
           "Ray, Wyatt TEN LB",
           7.5,
           2.5,
           24,
           3
          ],
          [
           "Wilber, Kyle LVR LB",
           7.5,
           0.5,
           32,
           10
          ],
          [
           "Davis, Thomas WAS LB",
           7,
           1,
           38,
           17
          ],
          [
           "Cabinda, Jason DET LB",
           6.76,
           0.451,
           25,
           4
          ],
          [
           "Beasley, Vic LVR LB",
           6.5,
           0.722,
           28,
           7
          ],
          [
           "Flannigan-Fowles, Demetrius SFO LB",
           6.5,
           0.65,
           24,
           3
          ],
          [
           "Stanford, Julian CAR LB",
           6.5,
           0.433,
           30,
           10
          ],
          [
           "Barr, Anthony MIN LB",
           6,
           3,
           29,
           8
          ],
          [
           "Speed, E.J. IND LB",
           6,
           0.429,
           25,
           3
          ],
          [
           "Egbule, Emeke LAC LB",
           5.5,
           0.423,
           24,
           3
          ],
          [
           "Walker, Joe SFO LB",
           5.5,
           0.5,
           28,
           6
          ],
          [
           "White, Javin LVR LB",
           5.5,
           1.375,
           24,
           2
          ],
          [
           "Bates, Daren TEN LB",
           5,
           0.41700000000000004,
           30,
           9
          ],
          [
           "Cashman, Blake NYJ LB",
           5,
           1.25,
           25,
           3
          ],
          [
           "Connelly, Ryan MIN LB",
           5,
           0.385,
           25,
           3
          ],
          [
           "Jacobs, Leon JAC LB",
           5,
           1.6669999999999998,
           25,
           4
          ],
          [
           "Ogletree, Alec FA LB",
           5,
           2.5,
           29,
           9
          ],
          [
           "Ramsey, Randy GBP LB",
           5,
           0.556,
           25,
           3
          ],
          [
           "Jones, Joseph DEN LB",
           4.6,
           0.354,
           27,
           5
          ],
          [
           "Cole, Dylan HOU LB",
           4.5,
           0.75,
           27,
           5
          ],
          [
           "Elliss, Kaden NOS LB",
           4.5,
           0.321,
           25,
           3
          ],
          [
           "Gifford, Luke DAL LB",
           4.5,
           0.643,
           25,
           3
          ],
          [
           "Skipper, Tuzar TEN LB",
           4.5,
           1.125,
           25,
           3
          ],
          [
           "Taylor, Davion PHI LB",
           4.5,
           0.375,
           22,
           2
          ],
          [
           "Woods, Josh CHI LB",
           4.5,
           0.321,
           24,
           4
          ],
          [
           "Bernard, Francis DAL LB",
           4,
           0.33299999999999996,
           26,
           2
          ],
          [
           "Gilbert, Ulysees PIT LB",
           4,
           1,
           23,
           3
          ],
          [
           "Jefferson, Malik LAC LB",
           4,
           0.308,
           24,
           4
          ],
          [
           "Watson, Josh DEN LB",
           4,
           0.5,
           25,
           3
          ],
          [
           "Garvin, Jonathan GBP LB",
           3.5,
           0.43799999999999994,
           21,
           2
          ],
          [
           "Munson, Calvin MIA LB",
           3.5,
           0.233,
           26,
           5
          ],
          [
           "Burgess, James GBP LB",
           3,
           0.75,
           27,
           6
          ],
          [
           "Welch, Kristian BAL LB",
           3,
           0.33299999999999996,
           23,
           2
          ],
          [
           "Gill, Cam TBB LB",
           2.5,
           0.22699999999999998,
           23,
           2
          ],
          [
           "Brunson, T.J. NYG LB",
           2,
           0.5,
           23,
           2
          ],
          [
           "Quarterman, Shaquille JAC LB",
           2,
           0.182,
           23,
           2
          ],
          [
           "Smith, Andre BUF LB",
           2,
           0.182,
           24,
           4
          ],
          [
           "Bachie, Joe PHI LB",
           1.5,
           0.5,
           23,
           2
          ],
          [
           "Toohill, Casey WAS LB",
           1.5,
           0.214,
           24,
           2
          ],
          [
           "Calitro, Austin DEN LB",
           1,
           0.083,
           27,
           4
          ],
          [
           "Kalambayi, Peter HOU LB",
           1,
           0.111,
           25,
           4
          ],
          [
           "Kunaszyk, Jordan WAS LB",
           1,
           0.2,
           24,
           3
          ],
          [
           "Lee, Darron BUF LB",
           1,
           0.5,
           26,
           6
          ],
          [
           "Minter, Kevin TBB LB",
           1,
           0.067,
           30,
           9
          ],
          [
           "Nzeocha, Mark SFO LB",
           1,
           0.25,
           31,
           7
          ],
          [
           "Reed, Brooks TEN LB",
           1,
           1,
           34,
           11
          ],
          [
           "Tranquill, Drue LAC LB",
           1,
           1,
           25,
           3
          ],
          [
           "Alaka, Otaro BAL LB",
           0.5,
           0.1,
           25,
           3
          ],
          [
           "Bailey, Markus CIN LB",
           0.5,
           0.05,
           24,
           2
          ],
          [
           "Cichy, Jack TBB LB",
           0.5,
           0.1,
           26,
           4
          ],
          [
           "Bell, Quinton FA LB",
           0,
           0,
           24,
           3
          ],
          [
           "Bradham, Nigel FA LB",
           0,
           0,
           31,
           10
          ],
          [
           "Finch, Sharif NYJ LB",
           0,
           0,
           25,
           4
          ],
          [
           "Harris, De'Jon GBP LB",
           0,
           0,
           23,
           2
          ],
          [
           "Irving, Isaiah ARI LB",
           0,
           0,
           26,
           5
          ],
          [
           "Johnston, Clay CAR LB",
           0,
           0,
           24,
           2
          ],
          [
           "Kendricks, Mychal WAS LB",
           0,
           0,
           30,
           10
          ],
          [
           "Maluia, Cassh NEP LB",
           0,
           0,
           22,
           2
          ],
          [
           "March, Justin DAL LB",
           0,
           0,
           27,
           7
          ],
          [
           "Martin, Kareem DET LB",
           0,
           0,
           29,
           8
          ],
          [
           "Onwuasor, Patrick NYJ LB",
           0,
           0,
           28,
           6
          ],
          [
           "Russell, Chapelle JAC LB",
           0,
           0,
           24,
           2
          ],
          [
           "Walker, D'Andre FA LB",
           0,
           0,
           24,
           3
          ],
          [
           "Adams, Matthew IND LB",
           -1,
           -0.125,
           25,
           4
          ],
          [
           "Lee, Elijah CLE LB",
           -1,
           -0.091,
           25,
           5
          ],
          [
           "Armstrong, Ray-Ray FA LB",
           -2,
           -1,
           32,
           9
          ],
          [
           "Reddick, Haason ARI LB",
           150.7,
           10.047,
           26,
           5
          ],
          [
           "Basham, Tarell NYJ LB",
           57.7,
           3.847,
           27,
           5
          ],
          [
           "Mercilus, Whitney HOU LB",
           43.5,
           3.346,
           30,
           10
          ],
          [
           "Jenkins, Jordan NYJ LB",
           38,
           3.167,
           26,
           6
          ],
          [
           "Greenard, Jonathan HOU LB",
           15,
           1.25,
           24,
           2
          ],
          [
           "Zuniga, Jabari NYJ LB",
           2.5,
           0.312,
           23,
           2
          ]
         ],
         "hovertemplate": "position=%{x}<br>z_score=%{y}<br>player_name=%{customdata[0]}<br>total_points=%{customdata[1]}<br>average_points=%{customdata[2]}<br>age=%{customdata[3]}<br>experience_years=%{customdata[4]}<extra></extra>",
         "legendgroup": "LB",
         "marker": {
          "color": "#636efa"
         },
         "name": "LB",
         "notched": false,
         "offsetgroup": "LB",
         "orientation": "v",
         "showlegend": true,
         "type": "box",
         "x": [
          "LB",
          "LB",
          "LB",
          "LB",
          "LB",
          "LB",
          "LB",
          "LB",
          "LB",
          "LB",
          "LB",
          "LB",
          "LB",
          "LB",
          "LB",
          "LB",
          "LB",
          "LB",
          "LB",
          "LB",
          "LB",
          "LB",
          "LB",
          "LB",
          "LB",
          "LB",
          "LB",
          "LB",
          "LB",
          "LB",
          "LB",
          "LB",
          "LB",
          "LB",
          "LB",
          "LB",
          "LB",
          "LB",
          "LB",
          "LB",
          "LB",
          "LB",
          "LB",
          "LB",
          "LB",
          "LB",
          "LB",
          "LB",
          "LB",
          "LB",
          "LB",
          "LB",
          "LB",
          "LB",
          "LB",
          "LB",
          "LB",
          "LB",
          "LB",
          "LB",
          "LB",
          "LB",
          "LB",
          "LB",
          "LB",
          "LB",
          "LB",
          "LB",
          "LB",
          "LB",
          "LB",
          "LB",
          "LB",
          "LB",
          "LB",
          "LB",
          "LB",
          "LB",
          "LB",
          "LB",
          "LB",
          "LB",
          "LB",
          "LB",
          "LB",
          "LB",
          "LB",
          "LB",
          "LB",
          "LB",
          "LB",
          "LB",
          "LB",
          "LB",
          "LB",
          "LB",
          "LB",
          "LB",
          "LB",
          "LB",
          "LB",
          "LB",
          "LB",
          "LB",
          "LB",
          "LB",
          "LB",
          "LB",
          "LB",
          "LB",
          "LB",
          "LB",
          "LB",
          "LB",
          "LB",
          "LB",
          "LB",
          "LB",
          "LB",
          "LB",
          "LB",
          "LB",
          "LB",
          "LB",
          "LB",
          "LB",
          "LB",
          "LB",
          "LB",
          "LB",
          "LB",
          "LB",
          "LB",
          "LB",
          "LB",
          "LB",
          "LB",
          "LB",
          "LB",
          "LB",
          "LB",
          "LB",
          "LB",
          "LB",
          "LB",
          "LB",
          "LB",
          "LB",
          "LB",
          "LB",
          "LB",
          "LB",
          "LB",
          "LB",
          "LB",
          "LB",
          "LB",
          "LB",
          "LB",
          "LB",
          "LB",
          "LB",
          "LB",
          "LB",
          "LB",
          "LB",
          "LB",
          "LB",
          "LB",
          "LB",
          "LB",
          "LB",
          "LB",
          "LB",
          "LB",
          "LB",
          "LB",
          "LB",
          "LB",
          "LB",
          "LB",
          "LB",
          "LB",
          "LB",
          "LB",
          "LB",
          "LB",
          "LB",
          "LB",
          "LB",
          "LB",
          "LB",
          "LB",
          "LB",
          "LB",
          "LB",
          "LB",
          "LB",
          "LB",
          "LB",
          "LB",
          "LB",
          "LB",
          "LB",
          "LB",
          "LB",
          "LB",
          "LB",
          "LB",
          "LB",
          "LB",
          "LB",
          "LB",
          "LB",
          "LB",
          "LB",
          "LB",
          "LB",
          "LB",
          "LB",
          "LB",
          "LB",
          "LB",
          "LB",
          "LB",
          "LB",
          "LB",
          "LB",
          "LB",
          "LB",
          "LB",
          "LB",
          "LB",
          "LB",
          "LB",
          "LB",
          "LB",
          "LB",
          "LB",
          "LB",
          "LB",
          "LB",
          "LB",
          "LB",
          "LB",
          "LB",
          "LB",
          "LB",
          "LB",
          "LB",
          "LB",
          "LB",
          "LB",
          "LB",
          "LB",
          "LB",
          "LB",
          "LB",
          "LB",
          "LB",
          "LB",
          "LB",
          "LB",
          "LB",
          "LB",
          "LB"
         ],
         "x0": " ",
         "xaxis": "x",
         "y": [
          3.1433130010323618,
          3.112681697219222,
          2.94639747651932,
          2.578821830761642,
          2.482552018777489,
          2.4256653116959432,
          2.3556509029801953,
          2.2243738866381673,
          2.1915546325526605,
          2.184990781735559,
          2.1368558757434823,
          2.1215402238369125,
          2.064653516755367,
          2.0383981134869615,
          2.0055788594014543,
          1.959631903681745,
          1.867737992242325,
          1.7736561305305387,
          1.7649043294410702,
          1.743024826717399,
          1.7036417218147908,
          1.6555068158227135,
          1.646755014733245,
          1.640191163916144,
          1.5964321584688015,
          1.5854924071069658,
          1.5701767552003953,
          1.4695310426715076,
          1.458591291309672,
          1.458591291309672,
          1.4060804847728607,
          1.3929527831386581,
          1.3273142749676443,
          1.3273142749676443,
          1.3163745236058086,
          1.287931170065036,
          1.2835552695203016,
          1.2529239657071618,
          1.2507360154347948,
          1.2419842143453261,
          1.2397962640729592,
          1.2310444629834905,
          1.2069770099874522,
          1.152278253178274,
          1.152278253178274,
          1.0603843417388543,
          1.0210012368362462,
          0.9903699330231062,
          0.9663024800270679,
          0.9619265794823336,
          0.8941001210389526,
          0.8569049664087114,
          0.8569049664087114,
          0.8175218615061032,
          0.8022062095995331,
          0.7693869555140262,
          0.732191800883785,
          0.7256279500666837,
          0.7256279500666837,
          0.7212520495219493,
          0.714688198704848,
          0.6928086959811767,
          0.6823065346738144,
          0.679680994346974,
          0.6621773921680367,
          0.6599894418956698,
          0.6512376408062011,
          0.646861740261467,
          0.6052906850864915,
          0.5943509337246559,
          0.528712425553642,
          0.5090208731023377,
          0.4915172709234007,
          0.478389569289198,
          0.43900646438658975,
          0.4324426135694881,
          0.42806671302475413,
          0.4236908124800198,
          0.4193149119352855,
          0.4171269616629183,
          0.41275106111818416,
          0.34273665240243595,
          0.3208571496787646,
          0.2989776469550933,
          0.26615839286958637,
          0.26615839286958637,
          0.26178249232485207,
          0.23771503932881374,
          0.22239938742224377,
          0.21145963606040813,
          0.1567608792512299,
          0.14582112788939425,
          0.11300187380388729,
          0.08455852026311467,
          0.08018261971838035,
          0.0692428683565447,
          0.05830311699470905,
          0.05830311699470905,
          0.05830311699470905,
          0.036423614271037755,
          0.036423614271037755,
          -0.005147440903937682,
          -0.01827514253814049,
          -0.02921489389997614,
          -0.048906446351280275,
          -0.059846197713115924,
          -0.08391365070915438,
          -0.09485340207099004,
          -0.10360520316045853,
          -0.12329675561176266,
          -0.12767265615649698,
          -0.1408003577906998,
          -0.1495521588801683,
          -0.17143166160383957,
          -0.1933111643275109,
          -0.22613041841301781,
          -0.22613041841301781,
          -0.24800992113668913,
          -0.24800992113668913,
          -0.25894967249852474,
          -0.25894967249852474,
          -0.2917689265840317,
          -0.2917689265840317,
          -0.32458818066953865,
          -0.32458818066953865,
          -0.3289640812142729,
          -0.3574074347550456,
          -0.37709898720634977,
          -0.3792869374787169,
          -0.3792869374787169,
          -0.40116644020238823,
          -0.41210619156422384,
          -0.4449254456497308,
          -0.447113395922098,
          -0.4536772467391993,
          -0.4755567494628706,
          -0.47774469973523775,
          -0.5061880532760105,
          -0.5105639538207447,
          -0.5105639538207447,
          -0.5105639538207447,
          -0.5193157549102132,
          -0.5411952576338844,
          -0.5433832079062516,
          -0.5543229592680873,
          -0.5586988598128215,
          -0.565262710629923,
          -0.5762024619917586,
          -0.5762024619917586,
          -0.5915181138983284,
          -0.6090217160772655,
          -0.6090217160772655,
          -0.6090217160772655,
          -0.6309012188009369,
          -0.6309012188009369,
          -0.6418409701627725,
          -0.6418409701627725,
          -0.6418409701627725,
          -0.6418409701627725,
          -0.6527807215246081,
          -0.6527807215246081,
          -0.6527807215246081,
          -0.6855999756101151,
          -0.6965397269719508,
          -0.7052915280614193,
          -0.7074794783337863,
          -0.718419229695622,
          -0.718419229695622,
          -0.718419229695622,
          -0.718419229695622,
          -0.7293589810574577,
          -0.7293589810574577,
          -0.7402987324192933,
          -0.7402987324192933,
          -0.7402987324192933,
          -0.7490505335087618,
          -0.751238483781129,
          -0.751238483781129,
          -0.7621782351429646,
          -0.7621782351429646,
          -0.7731179865048002,
          -0.7731179865048002,
          -0.7731179865048002,
          -0.7731179865048002,
          -0.7731179865048002,
          -0.7840577378666359,
          -0.7949974892284716,
          -0.7949974892284716,
          -0.8059372405903072,
          -0.8059372405903072,
          -0.8146890416797757,
          -0.8168769919521429,
          -0.8168769919521429,
          -0.8168769919521429,
          -0.8168769919521429,
          -0.8168769919521429,
          -0.8278167433139785,
          -0.8330678239676597,
          -0.8387564946758141,
          -0.8387564946758141,
          -0.8387564946758141,
          -0.8496962460376498,
          -0.8496962460376498,
          -0.8606359973994855,
          -0.8606359973994855,
          -0.8606359973994855,
          -0.8715757487613212,
          -0.8715757487613212,
          -0.8715757487613212,
          -0.8715757487613212,
          -0.8715757487613212,
          -0.8715757487613212,
          -0.8803275498507896,
          -0.8825155001231567,
          -0.8825155001231567,
          -0.8825155001231567,
          -0.8825155001231567,
          -0.8825155001231567,
          -0.8825155001231567,
          -0.8934552514849924,
          -0.8934552514849924,
          -0.8934552514849924,
          -0.8934552514849924,
          -0.9043950028468281,
          -0.9043950028468281,
          -0.9153347542086637,
          -0.9153347542086637,
          -0.9262745055704994,
          -0.937214256932335,
          -0.937214256932335,
          -0.937214256932335,
          -0.9481540082941706,
          -0.9481540082941706,
          -0.9590937596560063,
          -0.9590937596560063,
          -0.9590937596560063,
          -0.9590937596560063,
          -0.9590937596560063,
          -0.9590937596560063,
          -0.9590937596560063,
          -0.9590937596560063,
          -0.970033511017842,
          -0.970033511017842,
          -0.970033511017842,
          -0.9809732623796776,
          -0.9809732623796776,
          -0.9809732623796776,
          -0.9809732623796776,
          -0.9809732623796776,
          -0.9809732623796776,
          -0.9809732623796776,
          -0.9809732623796776,
          -0.9809732623796776,
          -0.9809732623796776,
          -0.9809732623796776,
          -0.9809732623796776,
          -0.9809732623796776,
          -1.002852765103349,
          -1.002852765103349,
          -1.02473226782702,
          2.3162677980775865,
          0.28147404477615634,
          -0.02921489389997614,
          -0.1495521588801683,
          -0.6527807215246081,
          -0.9262745055704994
         ],
         "y0": " ",
         "yaxis": "y"
        },
        {
         "alignmentgroup": "True",
         "boxpoints": "all",
         "customdata": [
          [
           "Winovich, Chase NEP DE",
           65.5,
           4.367,
           26,
           3
          ],
          [
           "Odenigbo, Ifeadi MIN DE",
           53.5,
           3.5669999999999997,
           27,
           5
          ],
          [
           "Attaochu, Jeremiah DEN DE",
           53,
           4.417,
           28,
           8
          ],
          [
           "Williams, Quinnen NYJ DE",
           91,
           7,
           23,
           3
          ],
          [
           "Nichols, Bilal CHI DE",
           69.7,
           4.647,
           24,
           4
          ],
          [
           "Brockers, Michael LAR DE",
           66,
           4.4,
           30,
           10
          ],
          [
           "Alualu, Tyson PIT DE",
           50,
           3.571,
           34,
           12
          ],
          [
           "Gotsis, Adam JAC DE",
           39,
           2.6,
           28,
           6
          ],
          [
           "Watkins, Carlos HOU DE",
           31.5,
           2.1,
           27,
           5
          ],
          [
           "Williams, Nick DET DE",
           24.9,
           1.915,
           31,
           9
          ],
          [
           "Shepherd, Nathan NYJ DE",
           22.1,
           1.7,
           28,
           4
          ],
          [
           "Hand, Da'Shawn DET DE",
           21.5,
           2.15,
           25,
           4
          ],
          [
           "Coley, Trevon NYJ DE",
           20,
           3.333,
           26,
           6
          ],
          [
           "Robertson-Harris, Roy CHI DE",
           16.3,
           2.0380000000000003,
           27,
           6
          ],
          [
           "Buggs, Isaiah PIT DE",
           9,
           1,
           23,
           3
          ],
          [
           "Smart, Tanzel NYJ DE",
           1.5,
           0.75,
           26,
           5
          ],
          [
           "Anderson, Abdullah MIN DE",
           0,
           0,
           25,
           4
          ],
          [
           "Pierre-Paul, Jason TBB DE",
           122.1,
           8.14,
           32,
           12
          ],
          [
           "Watt, J.J. HOU DE",
           118,
           7.867000000000001,
           32,
           11
          ],
          [
           "Okwara, Romeo DET DE",
           117.6,
           7.84,
           25,
           6
          ],
          [
           "Garrett, Myles CLE DE",
           116.1,
           8.931000000000001,
           25,
           5
          ],
          [
           "Young, Chase WAS DE",
           109.2,
           7.8,
           22,
           2
          ],
          [
           "Burns, Brian CAR DE",
           109,
           7.267,
           23,
           3
          ],
          [
           "Tuitt, Stephon PIT DE",
           108.5,
           7.75,
           28,
           8
          ],
          [
           "Graham, Brandon PHI DE",
           101.1,
           6.74,
           33,
           12
          ],
          [
           "Ogbah, Emmanuel MIA DE",
           101,
           6.733,
           27,
           6
          ],
          [
           "Sweat, Montez WAS DE",
           98,
           6.5329999999999995,
           24,
           3
          ],
          [
           "Hendrickson, Trey NOS DE",
           97,
           6.928999999999999,
           26,
           5
          ],
          [
           "Lawrence, Demarcus DAL DE",
           95.4,
           6.36,
           29,
           8
          ],
          [
           "Hyder, Kerry SFO DE",
           94.4,
           6.292999999999999,
           30,
           6
          ],
          [
           "Williams, Leonard NYG DE",
           92.5,
           6.167000000000001,
           26,
           7
          ],
          [
           "Bosa, Joey LAC DE",
           90.2,
           7.517,
           25,
           6
          ],
          [
           "Vernon, Olivier CLE DE",
           89.2,
           6.862,
           30,
           10
          ],
          [
           "Jordan, Cameron NOS DE",
           88.8,
           5.92,
           31,
           11
          ],
          [
           "Smith, Aldon DAL DE",
           86.9,
           5.792999999999999,
           31,
           11
          ],
          [
           "Sweat, Josh PHI DE",
           84.5,
           6.0360000000000005,
           24,
           4
          ],
          [
           "Houston, Justin IND DE",
           83.5,
           5.567,
           32,
           11
          ],
          [
           "Ngakoue, Yannick BAL DE",
           83.5,
           5.567,
           26,
           6
          ],
          [
           "Heyward, Cameron PIT DE",
           80,
           5.332999999999999,
           32,
           11
          ],
          [
           "Hughes, Jerry BUF DE",
           76.3,
           5.087,
           32,
           12
          ],
          [
           "Sieler, Zach MIA DE",
           74.5,
           4.967,
           25,
           4
          ],
          [
           "Hubbard, Sam CIN DE",
           70.5,
           5.875,
           25,
           4
          ],
          [
           "Gholston, William TBB DE",
           69.6,
           4.64,
           29,
           9
          ],
          [
           "Crosby, Maxx LVR DE",
           69,
           4.6,
           23,
           3
          ],
          [
           "Lawson, Shaq MIA DE",
           66.6,
           5.122999999999999,
           26,
           6
          ],
          [
           "Lawson, Carl CIN DE",
           64.8,
           4.32,
           25,
           5
          ],
          [
           "Clark, Frank KCC DE",
           64.3,
           4.287,
           27,
           7
          ],
          [
           "Armstead, Arik SFO DE",
           63.5,
           4.2330000000000005,
           26,
           7
          ],
          [
           "Barnett, Derek PHI DE",
           63.5,
           4.885,
           24,
           5
          ],
          [
           "Dunlap, Carlos SEA DE",
           63.5,
           4.5360000000000005,
           32,
           12
          ],
          [
           "Harris, Shelby DEN DE",
           63.5,
           5.773,
           29,
           8
          ],
          [
           "Simon, John NEP DE",
           62,
           4.133,
           30,
           9
          ],
          [
           "Hicks, Akiem CHI DE",
           61.2,
           4.371,
           31,
           10
          ],
          [
           "Fox, Morgan LAR DE",
           60.5,
           4.033,
           26,
           6
          ],
          [
           "Griffen, Everson DET DE",
           60.5,
           4.654,
           33,
           12
          ],
          [
           "Addison, Mario BUF DE",
           59,
           3.9330000000000003,
           33,
           11
          ],
          [
           "Jones, Dre'Mont DEN DE",
           58.6,
           4.883,
           24,
           3
          ],
          [
           "Nassib, Carl LVR DE",
           58.3,
           4.485,
           28,
           6
          ],
          [
           "Wise, Deatrich NEP DE",
           55.5,
           3.7,
           26,
           5
          ],
          [
           "Campbell, Calais BAL DE",
           55,
           5,
           34,
           14
          ],
          [
           "Mayowa, Benson SEA DE",
           54.8,
           4.567,
           29,
           9
          ],
          [
           "Smoot, Dawuane JAC DE",
           53,
           3.533,
           26,
           5
          ],
          [
           "Wolfe, Derek BAL DE",
           53,
           4.077,
           31,
           10
          ],
          [
           "Wonnum, D.J. MIN DE",
           49.5,
           3.8080000000000003,
           23,
           2
          ],
          [
           "Gregory, Randy DAL DE",
           49,
           5.444,
           28,
           7
          ],
          [
           "Haynes, Marquis CAR DE",
           47.6,
           3.4,
           27,
           4
          ],
          [
           "Ferrell, Clelin LVR DE",
           47.3,
           4.3,
           24,
           3
          ],
          [
           "Obada, Efe CAR DE",
           47.1,
           3.14,
           29,
           5
          ],
          [
           "Means, Steven ATL DE",
           46.5,
           3.1,
           31,
           9
          ],
          [
           "Keke, Kingsley GBP DE",
           44,
           2.9330000000000003,
           24,
           3
          ],
          [
           "Kerrigan, Ryan WAS DE",
           42.1,
           2.807,
           32,
           11
          ],
          [
           "Allen, Zach ARI DE",
           42,
           3.5,
           23,
           3
          ],
          [
           "Jordan, Dion SFO DE",
           41.5,
           3.458,
           31,
           9
          ],
          [
           "Robinson, Alton SEA DE",
           41.5,
           3.1919999999999997,
           22,
           2
          ],
          [
           "Urban, Brent CHI DE",
           40.5,
           2.7,
           30,
           8
          ],
          [
           "Edwards, Mario CHI DE",
           40,
           2.8569999999999998,
           null,
           null
          ],
          [
           "Franklin-Myers, John NYJ DE",
           40,
           2.8569999999999998,
           24,
           4
          ],
          [
           "Flowers, Trey DET DE",
           39.9,
           5.7,
           27,
           7
          ],
          [
           "Collier, L.J. SEA DE",
           39.3,
           2.62,
           25,
           3
          ],
          [
           "Lowry, Dean GBP DE",
           38,
           2.533,
           26,
           6
          ],
          [
           "Kpassagnon, Tanoh KCC DE",
           37.5,
           2.5,
           26,
           5
          ],
          [
           "Anderson, Henry NYJ DE",
           37,
           2.467,
           29,
           7
          ],
          [
           "Danna, Michael KCC DE",
           37,
           3.083,
           23,
           2
          ],
          [
           "Walker, DeMarcus DEN DE",
           37,
           3.083,
           26,
           5
          ],
          [
           "Armstrong, Dorance DAL DE",
           36,
           2.4,
           23,
           4
          ],
          [
           "Blackson, Angelo ARI DE",
           35.7,
           2.38,
           28,
           7
          ],
          [
           "Crawford, Jack TEN DE",
           35.5,
           2.367,
           32,
           10
          ],
          [
           "Omenihu, Charles HOU DE",
           35.5,
           2.536,
           23,
           3
          ],
          [
           "Curry, Vinny PHI DE",
           34.5,
           3.45,
           32,
           10
          ],
          [
           "Cominsky, John ATL DE",
           33.5,
           2.792,
           25,
           3
          ],
          [
           "Clayborn, Adrian CLE DE",
           33,
           2.3569999999999998,
           32,
           11
          ],
          [
           "Calhoun, Shilique NEP DE",
           32.5,
           3.611,
           29,
           6
          ],
          [
           "Fowler, Dante ATL DE",
           32.4,
           2.492,
           26,
           7
          ],
          [
           "Clowney, Jadeveon TEN DE",
           32,
           4,
           28,
           8
          ],
          [
           "Muhammad, Al-Quadin IND DE",
           32,
           2.133,
           26,
           5
          ],
          [
           "Ward, Jihad BAL DE",
           31.7,
           3.522,
           27,
           6
          ],
          [
           "Phillips, Jordan ARI DE",
           31.5,
           3.5,
           28,
           7
          ],
          [
           "Harris, Charles ATL DE",
           31,
           2.583,
           26,
           5
          ],
          [
           "Murphy, Trent BUF DE",
           31,
           3.444,
           30,
           8
          ],
          [
           "Rochell, Isaac LAC DE",
           31,
           2.0669999999999997,
           26,
           5
          ],
          [
           "Granderson, Carl NOS DE",
           29.8,
           2.129,
           24,
           3
          ],
          [
           "Hill, B.J. NYG DE",
           28.5,
           1.9,
           26,
           4
          ],
          [
           "Sheard, Jabaal NYG DE",
           28.2,
           3.133,
           32,
           11
          ],
          [
           "Davenport, Marcus NOS DE",
           28,
           2.8,
           24,
           4
          ],
          [
           "Gross-Matos, Yetur CAR DE",
           27.5,
           2.5,
           23,
           2
          ],
          [
           "Allen, Josh JAC DE",
           26,
           3.25,
           23,
           3
          ],
          [
           "Willis, Jordan SFO DE",
           26,
           2.889,
           26,
           5
          ],
          [
           "Huff, Bryce NYJ DE",
           24.5,
           1.885,
           23,
           2
          ],
          [
           "Okafor, Alex KCC DE",
           24.5,
           2.45,
           30,
           9
          ],
          [
           "Bailey, Allen ATL DE",
           22,
           1.4669999999999999,
           32,
           11
          ],
          [
           "Chaisson, K'Lavon JAC DE",
           22,
           1.4669999999999999,
           21,
           2
          ],
          [
           "Johnson, Darryl BUF DE",
           21.5,
           1.536,
           24,
           3
          ],
          [
           "Casey, Jurrell DEN DE",
           18,
           6,
           31,
           11
          ],
          [
           "Charlton, Taco KCC DE",
           18,
           2.571,
           26,
           5
          ],
          [
           "Epenesa, A.J. BUF DE",
           17.5,
           1.3459999999999999,
           22,
           2
          ],
          [
           "Moore, Damontre SEA DE",
           17,
           1.889,
           28,
           9
          ],
          [
           "Bryant, Austin DET DE",
           16,
           3.2,
           24,
           3
          ],
          [
           "Weatherly, Stephen CAR DE",
           15.5,
           1.722,
           27,
           6
          ],
          [
           "Key, Arden LVR DE",
           15.2,
           1.169,
           25,
           4
          ],
          [
           "Kareem, Khalid CIN DE",
           15.02,
           1.001,
           23,
           2
          ],
          [
           "Ingram, Melvin LAC DE",
           14.5,
           2.0709999999999997,
           32,
           10
          ],
          [
           "Bledsoe, Amani CIN DE",
           14,
           1.077,
           23,
           3
          ],
          [
           "McKinley, Takkarist LVR DE",
           14,
           3.5,
           25,
           5
          ],
          [
           "O'Connor, Pat TBB DE",
           13.5,
           0.9,
           27,
           5
          ],
          [
           "Smith-Williams, James WAS DE",
           13.5,
           1.038,
           23,
           2
          ],
          [
           "Green, Rasheem SEA DE",
           13,
           1.444,
           24,
           4
          ],
          [
           "Lancaster, Tyler GBP DE",
           13,
           0.929,
           26,
           4
          ],
          [
           "Phillips, Kyle NYJ DE",
           13,
           1.857,
           24,
           3
          ],
          [
           "Lalos, Niko NYG DE",
           12.5,
           2.5,
           23,
           2
          ],
          [
           "Adams, Montravius GBP DE",
           11,
           1.375,
           26,
           5
          ],
          [
           "Thurman, Nick NEP DE",
           10,
           1.429,
           25,
           4
          ],
          [
           "Mauro, Josh FA DE",
           9.5,
           3.167,
           30,
           8
          ],
          [
           "Smith, Chris LVR DE",
           9.5,
           1.357,
           29,
           8
          ],
          [
           "Bosa, Nick SFO DE",
           9,
           4.5,
           23,
           3
          ],
          [
           "Rivers, Derek LAR DE",
           9,
           0.75,
           27,
           5
          ],
          [
           "Ledbetter, Jeremiah TBB DE",
           8.5,
           2.833,
           26,
           5
          ],
          [
           "Irvin, Bruce SEA DE",
           8,
           4,
           34,
           10
          ],
          [
           "Ximines, Oshane NYG DE",
           8,
           2,
           25,
           3
          ],
          [
           "Dickerson, Matt TEN DE",
           7.5,
           0.833,
           25,
           4
          ],
          [
           "Larkin, Austin CAR DE",
           7,
           0.875,
           26,
           4
          ],
          [
           "Winn, Billy GBP DE",
           7,
           1.167,
           32,
           10
          ],
          [
           "Dogbe, Michael ARI DE",
           6.5,
           2.167,
           25,
           3
          ],
          [
           "Tuszka, Derrek DEN DE",
           6.5,
           0.812,
           24,
           2
          ],
          [
           "Yarbrough, Eddie MIN DE",
           6.5,
           2.167,
           28,
           6
          ],
          [
           "Jackson, Joe CLE DE",
           5.5,
           1.8330000000000002,
           24,
           3
          ],
          [
           "Harris, Trent NYG DE",
           5,
           1.25,
           25,
           4
          ],
          [
           "Wormley, Chris PIT DE",
           5,
           0.41700000000000004,
           27,
           5
          ],
          [
           "Murchison, Larrell TEN DE",
           4.5,
           0.5,
           24,
           2
          ],
          [
           "Okwara, Julian DET DE",
           3.5,
           0.7,
           23,
           2
          ],
          [
           "Street, Kentavius SFO DE",
           3.5,
           0.25,
           25,
           4
          ],
          [
           "Bullard, Jonathan SEA DE",
           3,
           0.5,
           27,
           6
          ],
          [
           "Banogu, Ben IND DE",
           2.5,
           0.278,
           25,
           3
          ],
          [
           "Ford, Dee SFO DE",
           2,
           2,
           30,
           8
          ],
          [
           "Harris, Demone FA DE",
           2,
           2,
           25,
           4
          ],
          [
           "Jones, Datone LVR DE",
           2,
           2,
           30,
           9
          ],
          [
           "Strowbridge, Jason MIA DE",
           1.5,
           0.214,
           24,
           2
          ],
          [
           "Turay, Kemoko IND DE",
           1.4,
           0.233,
           25,
           4
          ],
          [
           "Cox, Bryan BUF DE",
           1,
           1,
           26,
           5
          ],
          [
           "Mack, Isaiah FA DE",
           1,
           0.125,
           25,
           3
          ],
          [
           "Orchard, Nate TEN DE",
           1,
           0.33299999999999996,
           28,
           7
          ],
          [
           "Mondeaux, Henry PIT DE",
           0.6,
           0.06,
           25,
           4
          ],
          [
           "Anae, Bradlee DAL DE",
           0.5,
           0.071,
           22,
           2
          ],
          [
           "Ansah, Ezekiel SFO DE",
           0,
           0,
           31,
           9
          ],
          [
           "Carter, Ron'Dell DAL DE",
           0,
           0,
           23,
           2
          ],
          [
           "Render, Tyshun MIA DE",
           0,
           0,
           24,
           2
          ],
          [
           "Zettel, Anthony FA DE",
           0,
           0,
           28,
           6
          ],
          [
           "Gipson, Trevis CHI DE",
           -1,
           -0.16699999999999998,
           23,
           2
          ]
         ],
         "hovertemplate": "position=%{x}<br>z_score=%{y}<br>player_name=%{customdata[0]}<br>total_points=%{customdata[1]}<br>average_points=%{customdata[2]}<br>age=%{customdata[3]}<br>experience_years=%{customdata[4]}<extra></extra>",
         "legendgroup": "DE",
         "marker": {
          "color": "#EF553B"
         },
         "name": "DE",
         "notched": false,
         "offsetgroup": "DE",
         "orientation": "v",
         "showlegend": true,
         "type": "box",
         "x": [
          "DE",
          "DE",
          "DE",
          "DE",
          "DE",
          "DE",
          "DE",
          "DE",
          "DE",
          "DE",
          "DE",
          "DE",
          "DE",
          "DE",
          "DE",
          "DE",
          "DE",
          "DE",
          "DE",
          "DE",
          "DE",
          "DE",
          "DE",
          "DE",
          "DE",
          "DE",
          "DE",
          "DE",
          "DE",
          "DE",
          "DE",
          "DE",
          "DE",
          "DE",
          "DE",
          "DE",
          "DE",
          "DE",
          "DE",
          "DE",
          "DE",
          "DE",
          "DE",
          "DE",
          "DE",
          "DE",
          "DE",
          "DE",
          "DE",
          "DE",
          "DE",
          "DE",
          "DE",
          "DE",
          "DE",
          "DE",
          "DE",
          "DE",
          "DE",
          "DE",
          "DE",
          "DE",
          "DE",
          "DE",
          "DE",
          "DE",
          "DE",
          "DE",
          "DE",
          "DE",
          "DE",
          "DE",
          "DE",
          "DE",
          "DE",
          "DE",
          "DE",
          "DE",
          "DE",
          "DE",
          "DE",
          "DE",
          "DE",
          "DE",
          "DE",
          "DE",
          "DE",
          "DE",
          "DE",
          "DE",
          "DE",
          "DE",
          "DE",
          "DE",
          "DE",
          "DE",
          "DE",
          "DE",
          "DE",
          "DE",
          "DE",
          "DE",
          "DE",
          "DE",
          "DE",
          "DE",
          "DE",
          "DE",
          "DE",
          "DE",
          "DE",
          "DE",
          "DE",
          "DE",
          "DE",
          "DE",
          "DE",
          "DE",
          "DE",
          "DE",
          "DE",
          "DE",
          "DE",
          "DE",
          "DE",
          "DE",
          "DE",
          "DE",
          "DE",
          "DE",
          "DE",
          "DE",
          "DE",
          "DE",
          "DE",
          "DE",
          "DE",
          "DE",
          "DE",
          "DE",
          "DE",
          "DE",
          "DE",
          "DE",
          "DE",
          "DE",
          "DE",
          "DE",
          "DE",
          "DE",
          "DE",
          "DE",
          "DE",
          "DE",
          "DE",
          "DE",
          "DE",
          "DE",
          "DE",
          "DE",
          "DE",
          "DE",
          "DE",
          "DE",
          "DE",
          "DE",
          "DE"
         ],
         "x0": " ",
         "xaxis": "x",
         "y": [
          0.8540678476351784,
          0.47318804162743017,
          0.45731804971044065,
          1.6634374354016432,
          0.9873757797378903,
          0.8699378395521679,
          0.36209809820850364,
          0.012958276034734458,
          -0.22509160272010814,
          -0.4345754960243697,
          -0.5234474507595108,
          -0.5424914410598983,
          -0.5901014168108668,
          -0.7075393569965892,
          -0.939241238984636,
          -1.1772911177394787,
          -1.2249010934904472,
          2.6505509326383905,
          2.520416998919077,
          2.507721005385485,
          2.4601110296345166,
          2.241105141180061,
          2.234757144413266,
          2.218887152496276,
          1.984011272124831,
          1.9808372737414335,
          1.8856173222394963,
          1.8538773384055174,
          1.803093364271151,
          1.771353380437172,
          1.7110474111526117,
          1.6380454483344602,
          1.606305464500481,
          1.5936094709668893,
          1.5333035016823295,
          1.4571275404807795,
          1.4253875566468006,
          1.4253875566468006,
          1.314297613227874,
          1.1968596730421517,
          1.1397277021409895,
          1.0127677668050734,
          0.9842017813544921,
          0.9651577910541049,
          0.888981829852555,
          0.831849858951393,
          0.8159798670344034,
          0.7905878799672204,
          0.7905878799672204,
          0.7905878799672204,
          0.7905878799672204,
          0.7429779042162518,
          0.7175859171490687,
          0.6953679284652833,
          0.6953679284652833,
          0.6477579527143148,
          0.6350619591807232,
          0.6255399640305294,
          0.5366680092953882,
          0.5207980173783987,
          0.5144500206116028,
          0.45731804971044065,
          0.45731804971044065,
          0.3462281062915141,
          0.3303581143745246,
          0.285922137006954,
          0.2764001418567602,
          0.2700521450899645,
          0.25100815478957705,
          0.17165819520462952,
          0.11135222592006945,
          0.1081782275366715,
          0.09230823561968199,
          0.09230823561968199,
          0.06056825178570298,
          0.04469825986871347,
          0.04469825986871347,
          0.041524261485315524,
          0.022480271184928072,
          -0.018781707799244558,
          -0.034651699716234066,
          -0.05052169163322357,
          -0.05052169163322357,
          -0.05052169163322357,
          -0.08226167546720259,
          -0.0917836706173962,
          -0.09813166738419209,
          -0.09813166738419209,
          -0.1298716512181711,
          -0.16161163505215012,
          -0.17748162696913963,
          -0.19335161888612915,
          -0.19652561726952708,
          -0.20922161080311866,
          -0.20922161080311866,
          -0.21874360595331238,
          -0.22509160272010814,
          -0.24096159463709765,
          -0.24096159463709765,
          -0.24096159463709765,
          -0.27904957523787244,
          -0.3203115542220452,
          -0.3298335493722389,
          -0.3361815461390347,
          -0.35205153805602424,
          -0.3996615138069927,
          -0.3996615138069927,
          -0.44727148955796125,
          -0.44727148955796125,
          -0.5266214491429088,
          -0.5266214491429088,
          -0.5424914410598983,
          -0.6535813844788249,
          -0.6535813844788249,
          -0.6694513763958143,
          -0.6853213683128039,
          -0.7170613521467829,
          -0.7329313440637724,
          -0.7424533392139662,
          -0.7481665363040824,
          -0.7646713278977514,
          -0.780541319814741,
          -0.780541319814741,
          -0.7964113117317304,
          -0.7964113117317304,
          -0.81228130364872,
          -0.81228130364872,
          -0.81228130364872,
          -0.8281512955657094,
          -0.8757612713166779,
          -0.9075012551506569,
          -0.9233712470676465,
          -0.9233712470676465,
          -0.939241238984636,
          -0.939241238984636,
          -0.9551112309016255,
          -0.970981222818615,
          -0.970981222818615,
          -0.9868512147356046,
          -1.0027212066525941,
          -1.0027212066525941,
          -1.0185911985695835,
          -1.0185911985695835,
          -1.0185911985695835,
          -1.0503311824035626,
          -1.066201174320552,
          -1.066201174320552,
          -1.0820711662375415,
          -1.1138111500715207,
          -1.1138111500715207,
          -1.12968114198851,
          -1.1455511339054996,
          -1.1614211258224891,
          -1.1614211258224891,
          -1.1614211258224891,
          -1.1772911177394787,
          -1.1804651161228765,
          -1.193161109656468,
          -1.193161109656468,
          -1.193161109656468,
          -1.2058571031900596,
          -1.2090311015734576,
          -1.2249010934904472,
          -1.2249010934904472,
          -1.2249010934904472,
          -1.2249010934904472,
          -1.256641077324426
         ],
         "y0": " ",
         "yaxis": "y"
        },
        {
         "alignmentgroup": "True",
         "boxpoints": "all",
         "customdata": [
          [
           "Humphrey, Marlon BAL CB",
           137.2,
           9.8,
           24,
           5
          ],
          [
           "Butler, Malcolm TEN CB",
           136.9,
           9.127,
           31,
           8
          ],
          [
           "Johnson, Taron BUF CB",
           121.1,
           8.073,
           24,
           4
          ],
          [
           "Ryan, Logan NYG CB",
           120.3,
           8.02,
           30,
           9
          ],
          [
           "Moore, Kenny IND CB",
           119.6,
           7.973,
           25,
           5
          ],
          [
           "Howard, Xavien MIA CB",
           115.4,
           7.693,
           27,
           6
          ],
          [
           "Hill, Troy LAR CB",
           108.4,
           7.227,
           29,
           7
          ],
          [
           "Hilton, Mike PIT CB",
           102.2,
           9.291,
           27,
           6
          ],
          [
           "Jackson, J.C. NEP CB",
           101.6,
           6.773,
           25,
           4
          ],
          [
           "Davis, Michael LAC CB",
           99.7,
           6.647,
           26,
           5
          ],
          [
           "Davis, Carlton TBB CB",
           98.6,
           7.042999999999999,
           24,
           4
          ],
          [
           "Bradberry, James NYG CB",
           90.6,
           6.471,
           27,
           6
          ],
          [
           "Terrell, A.J. ATL CB",
           90.1,
           6.931,
           22,
           2
          ],
          [
           "White, Tre'Davious BUF CB",
           89.7,
           6.407,
           26,
           5
          ],
          [
           "Diggs, Trevon DAL CB",
           89.5,
           8.136000000000001,
           22,
           2
          ],
          [
           "Peters, Marcus BAL CB",
           87.1,
           6.7,
           28,
           7
          ],
          [
           "Griffin, Shaq SEA CB",
           87,
           7.909,
           27,
           5
          ],
          [
           "Mitchell, Terrance CLE CB",
           84.8,
           5.653,
           28,
           8
          ],
          [
           "Gladney, Jeff MIN CB",
           83.3,
           5.553,
           24,
           2
          ],
          [
           "Desir, Pierre BAL CB",
           82.4,
           6.867000000000001,
           30,
           8
          ],
          [
           "Haden, Joe PIT CB",
           81.1,
           5.792999999999999,
           32,
           12
          ],
          [
           "Oliver, Isaiah ATL CB",
           78.7,
           5.247000000000001,
           24,
           4
          ],
          [
           "Ward, Denzel CLE CB",
           78.7,
           6.558,
           24,
           4
          ],
          [
           "Jones, Jonathan NEP CB",
           78,
           5.2,
           27,
           6
          ],
          [
           "Dean, Jamel TBB CB",
           77.7,
           5.977,
           24,
           3
          ],
          [
           "Mullen, Trayvon LVR CB",
           77.3,
           5.153,
           23,
           3
          ],
          [
           "Alexander, Jaire GBP CB",
           77.1,
           5.507000000000001,
           24,
           4
          ],
          [
           "Jenkins, Janoris NOS CB",
           77,
           6.417000000000001,
           32,
           10
          ],
          [
           "Williams, Darious LAR CB",
           74.5,
           4.967,
           28,
           4
          ],
          [
           "Fuller, Kendall WAS CB",
           73.7,
           5.669,
           26,
           6
          ],
          [
           "Hargreaves, Vernon HOU CB",
           73.4,
           4.893,
           25,
           6
          ],
          [
           "Darby, Ronald WAS CB",
           71.7,
           4.78,
           27,
           7
          ],
          [
           "Herndon, Tre JAC CB",
           71.7,
           4.78,
           25,
           4
          ],
          [
           "Sneed, L'Jarius KCC CB",
           71,
           7.888999999999999,
           24,
           2
          ],
          [
           "Verrett, Jason SFO CB",
           67.7,
           5.642,
           30,
           8
          ],
          [
           "Poole, Brian NYJ CB",
           67.5,
           7.5,
           28,
           6
          ],
          [
           "Kirkpatrick, Dre ARI CB",
           67.4,
           5.185,
           31,
           10
          ],
          [
           "Dantzler, Cameron MIN CB",
           67,
           6.091,
           22,
           2
          ],
          [
           "Lattimore, Marshon NOS CB",
           66.8,
           5.138,
           25,
           5
          ],
          [
           "Murphy-Bunting, Sean TBB CB",
           66,
           4.4,
           23,
           3
          ],
          [
           "Amadi, Ugo SEA CB",
           65.5,
           5.038,
           24,
           3
          ],
          [
           "Nelson, Steven PIT CB",
           64.9,
           4.636,
           28,
           7
          ],
          [
           "Rhodes, Xavier IND CB",
           64.6,
           4.3069999999999995,
           30,
           9
          ],
          [
           "Slay, Darius PHI CB",
           64.3,
           4.593,
           30,
           9
          ],
          [
           "Phillips, Darius CIN CB",
           64,
           5.818,
           25,
           4
          ],
          [
           "Needham, Nik MIA CB",
           63.6,
           4.24,
           24,
           3
          ],
          [
           "Murphy, Byron ARI CB",
           63.5,
           4.5360000000000005,
           23,
           3
          ],
          [
           "Brown, Anthony DAL CB",
           61,
           6.778,
           27,
           6
          ],
          [
           "Lawson, Nevin LVR CB",
           61,
           4.692,
           30,
           8
          ],
          [
           "Ojemudia, Michael DEN CB",
           60.9,
           4.06,
           23,
           2
          ],
          [
           "Skrine, Buster CHI CB",
           60.9,
           5.075,
           32,
           11
          ],
          [
           "Callahan, Bryce DEN CB",
           60.82,
           6.082000000000001,
           29,
           7
          ],
          [
           "Peterson, Patrick ARI CB",
           60.8,
           4.053,
           30,
           11
          ],
          [
           "Austin, Blessuan NYJ CB",
           60.5,
           5.5,
           24,
           3
          ],
          [
           "Sutton, Cameron PIT CB",
           60.5,
           4.033,
           26,
           5
          ],
          [
           "Douglas, Rasul CAR CB",
           59.8,
           4.6,
           27,
           5
          ],
          [
           "Jackson, Donte CAR CB",
           59.8,
           4.6,
           25,
           4
          ],
          [
           "Okudah, Jeff DET CB",
           59.6,
           6.622000000000001,
           22,
           2
          ],
          [
           "Fuller, Kyle CHI CB",
           59.1,
           3.94,
           29,
           8
          ],
          [
           "Oruwariye, Amani DET CB",
           57.7,
           3.847,
           25,
           3
          ],
          [
           "Alexander, Mackensie CIN CB",
           57.6,
           4.431,
           27,
           6
          ],
          [
           "Breeland, Bashaud KCC CB",
           57.5,
           5.227,
           29,
           8
          ],
          [
           "King, Desmond TEN CB",
           56.38,
           4.027,
           26,
           5
          ],
          [
           "Moseley, Emmanuel SFO CB",
           56.1,
           5.1,
           25,
           4
          ],
          [
           "Lewis, Jourdan DAL CB",
           56,
           4,
           25,
           5
          ],
          [
           "Wallace, Levi BUF CB",
           56,
           5.091,
           25,
           4
          ],
          [
           "Jackson, William CIN CB",
           55.3,
           3.95,
           28,
           6
          ],
          [
           "Carrie, T.J. IND CB",
           55.2,
           3.943,
           30,
           8
          ],
          [
           "Hayward, Casey LAC CB",
           54.9,
           3.9210000000000003,
           31,
           10
          ],
          [
           "Flowers, Tre SEA CB",
           52,
           4.727,
           25,
           4
          ],
          [
           "Johnson, Jaylon CHI CB",
           51.9,
           3.992,
           22,
           2
          ],
          [
           "Jones, Sidney JAC CB",
           51.1,
           5.678,
           25,
           5
          ],
          [
           "King, Kevin GBP CB",
           50,
           5,
           26,
           5
          ],
          [
           "Joseph, Johnathan ARI CB",
           49.3,
           4.482,
           37,
           16
          ],
          [
           "Yiadom, Isaac NYG CB",
           49.1,
           3.273,
           25,
           4
          ],
          [
           "Moreland, Jimmy WAS CB",
           48.3,
           3.22,
           25,
           3
          ],
          [
           "Fenton, Rashad KCC CB",
           48.1,
           3.207,
           24,
           3
          ],
          [
           "Moore, Tarvarius SFO CB",
           47.8,
           3.187,
           24,
           4
          ],
          [
           "Sullivan, Chandon GBP CB",
           46.7,
           3.113,
           24,
           4
          ],
          [
           "Sims, LeShaun CIN CB",
           46.4,
           3.867,
           27,
           6
          ],
          [
           "Robey, Nickell PHI CB",
           44.9,
           2.9930000000000003,
           29,
           9
          ],
          [
           "Taylor, Jamar SFO CB",
           44.3,
           5.537000000000001,
           30,
           9
          ],
          [
           "Henderson, CJ JAC CB",
           44.2,
           5.525,
           22,
           2
          ],
          [
           "Dennard, Darqueze ATL CB",
           44.1,
           5.513,
           29,
           8
          ],
          [
           "Ya-Sin, Rock IND CB",
           43.8,
           3.3689999999999998,
           25,
           3
          ],
          [
           "Williams, K'Waun SFO CB",
           43.5,
           5.438,
           null,
           null
          ],
          [
           "Elder, Corn CAR CB",
           43,
           2.867,
           26,
           5
          ],
          [
           "Roby, Bradley HOU CB",
           42.8,
           4.28,
           29,
           8
          ],
          [
           "Dunbar, Quinton SEA CB",
           42.6,
           7.1,
           28,
           7
          ],
          [
           "Harris, Chris LAC CB",
           42.6,
           5.325,
           31,
           11
          ],
          [
           "Awuzie, Chidobe DAL CB",
           42.5,
           6.071000000000001,
           26,
           5
          ],
          [
           "Ward, Charvarius KCC CB",
           41.9,
           2.9930000000000003,
           25,
           4
          ],
          [
           "Roberts, Darryl DET CB",
           41.5,
           4.15,
           30,
           7
          ],
          [
           "Sheffield, Kendall ATL CB",
           41.3,
           3.4419999999999997,
           24,
           3
          ],
          [
           "Crossen, Keion HOU CB",
           40.5,
           2.7,
           25,
           4
          ],
          [
           "Rodgers, Isaiah IND CB",
           40.16,
           3.347,
           23,
           2
          ],
          [
           "Claybrooks, Chris JAC CB",
           39.74,
           3.312,
           23,
           2
          ],
          [
           "Borders, Breon TEN CB",
           39,
           6.5,
           25,
           5
          ],
          [
           "Bassey, Essang DEN CB",
           38.6,
           3.217,
           22,
           2
          ],
          [
           "Hall, Bryce NYJ CB",
           38.5,
           5.5,
           24,
           2
          ],
          [
           "Gilmore, Stephon NEP CB",
           37.9,
           3.445,
           30,
           10
          ],
          [
           "Ramsey, Jalen LAR CB",
           37.8,
           2.7,
           26,
           6
          ],
          [
           "Maddox, Avonte PHI CB",
           37.6,
           3.76,
           25,
           4
          ],
          [
           "Johnson, Kevin CLE CB",
           36,
           2.7689999999999997,
           28,
           7
          ],
          [
           "Thomas, Tavierre CLE CB",
           35.5,
           2.367,
           25,
           4
          ],
          [
           "Holmes, Darney NYG CB",
           35.4,
           3.218,
           22,
           2
          ],
          [
           "Campbell, Tevaughn LAC CB",
           35.1,
           2.7,
           27,
           4
          ],
          [
           "Williams, P.J. NOS CB",
           35,
           2.5,
           27,
           7
          ],
          [
           "Ballentine, Corey NYJ CB",
           33.52,
           2.394,
           25,
           3
          ],
          [
           "Jones, Byron MIA CB",
           32.1,
           2.469,
           28,
           7
          ],
          [
           "Wreh-Wilson, Blidi ATL CB",
           31.6,
           2.2569999999999997,
           31,
           9
          ],
          [
           "Maulet, Art NYJ CB",
           31.3,
           3.13,
           27,
           5
          ],
          [
           "LeBlanc, Cre'von PHI CB",
           30.9,
           3.4330000000000003,
           26,
           6
          ],
          [
           "McCourty, Jason NEP CB",
           30.8,
           2.053,
           33,
           13
          ],
          [
           "Boyd, Kris MIN CB",
           30.7,
           3.07,
           24,
           3
          ],
          [
           "Norman, Josh BUF CB",
           30.5,
           3.812,
           33,
           10
          ],
          [
           "Smith, Jimmy BAL CB",
           30.4,
           2.764,
           32,
           11
          ],
          [
           "Pride, Troy CAR CB",
           29.3,
           2.093,
           23,
           2
          ],
          [
           "Averett, Anthony BAL CB",
           28.5,
           3.167,
           26,
           4
          ],
          [
           "Guidry, Javelin NYJ CB",
           28,
           3.111,
           22,
           2
          ],
          [
           "Stewart, M.J. CLE CB",
           27.2,
           1.8130000000000002,
           25,
           4
          ],
          [
           "Bouye, A.J. DEN CB",
           27,
           3.8569999999999998,
           29,
           9
          ],
          [
           "Trufant, Desmond DET CB",
           26.8,
           4.467,
           30,
           9
          ],
          [
           "Fulton, Kristian TEN CB",
           26.6,
           5.32,
           22,
           2
          ],
          [
           "Coleman, Justin DET CB",
           25.9,
           2.59,
           28,
           7
          ],
          [
           "Sherman, Richard SFO CB",
           25.9,
           5.18,
           33,
           11
          ],
          [
           "Jackson, Lamar NYJ CB",
           25.5,
           2.125,
           23,
           2
          ],
          [
           "Robinson, Patrick NOS CB",
           25.2,
           2.1,
           33,
           12
          ],
          [
           "Witherspoon, Ahkello SFO CB",
           25.2,
           2.52,
           26,
           5
          ],
          [
           "Bausby, DeVante DEN CB",
           24.7,
           2.47,
           28,
           7
          ],
          [
           "Hill, Holton FA CB",
           24.5,
           6.125,
           24,
           4
          ],
          [
           "Johnson, Danny WAS CB",
           24.16,
           1.858,
           25,
           4
          ],
          [
           "Hand, Harrison MIN CB",
           23.9,
           1.838,
           22,
           2
          ],
          [
           "Jacquet, Michael PHI CB",
           23.4,
           3.343,
           24,
           2
          ],
          [
           "Jackson, Dane BUF CB",
           23.1,
           5.775,
           24,
           2
          ],
          [
           "Gaines, Phillip HOU CB",
           22.5,
           1.875,
           30,
           8
          ],
          [
           "Jackson, Chris TEN CB",
           22.5,
           2.045,
           23,
           2
          ],
          [
           "Moreau, Fabian WAS CB",
           20,
           1.3330000000000002,
           27,
           5
          ],
          [
           "Perry, Jamal MIA CB",
           19.5,
           1.625,
           26,
           5
          ],
          [
           "Arnette, Damon LVR CB",
           18.7,
           2.3369999999999997,
           25,
           2
          ],
          [
           "Mabin, Greg JAC CB",
           18.2,
           4.55,
           26,
           5
          ],
          [
           "Johnson, Dontae SFO CB",
           18.1,
           1.392,
           29,
           8
          ],
          [
           "Worley, Daryl LVR CB",
           18.1,
           2.011,
           26,
           6
          ],
          [
           "McManis, Sherrick CHI CB",
           18,
           1.8,
           33,
           12
          ],
          [
           "Jackson, Josh GBP CB",
           17.02,
           1.4180000000000001,
           25,
           4
          ],
          [
           "Igbinoghene, Noah MIA CB",
           16.32,
           1.088,
           21,
           2
          ],
          [
           "Hayden, D.J. JAC CB",
           15.9,
           3.18,
           30,
           9
          ],
          [
           "Jones, Chris MIN CB",
           15.3,
           1.913,
           25,
           4
          ],
          [
           "Harris, Davontae BAL CB",
           15.1,
           1.3730000000000002,
           26,
           4
          ],
          [
           "Kalu, Joshua TEN CB",
           15.08,
           1.077,
           25,
           4
          ],
          [
           "Bryant, Myles NEP CB",
           15,
           2.1430000000000002,
           23,
           2
          ],
          [
           "Williams, Tramon FA CB",
           14.5,
           2.9,
           38,
           16
          ],
          [
           "Facyson, Brandon LAC CB",
           14.3,
           1.192,
           26,
           4
          ],
          [
           "Watson, Brandon JAC CB",
           13.7,
           0.9129999999999999,
           25,
           3
          ],
          [
           "Brown, Tony CIN CB",
           13,
           1.625,
           25,
           4
          ],
          [
           "Shelley, Duke CHI CB",
           13,
           1.3,
           24,
           3
          ],
          [
           "Smith, Tye TEN CB",
           12.6,
           1.145,
           28,
           7
          ],
          [
           "Robinson, Rashard DAL CB",
           12.5,
           3.125,
           25,
           6
          ],
          [
           "Layne, Justin PIT CB",
           12,
           0.8,
           23,
           3
          ],
          [
           "Lewis, Ryan NYG CB",
           12,
           2.4,
           27,
           5
          ],
          [
           "Reid, John HOU CB",
           12,
           1,
           25,
           2
          ],
          [
           "Bethel, Justin NEP CB",
           11.6,
           0.773,
           30,
           10
          ],
          [
           "Hollman, Ka'dar GBP CB",
           11,
           0.846,
           26,
           3
          ],
          [
           "Hughes, Mike MIN CB",
           11,
           2.75,
           25,
           4
          ],
          [
           "Williams, Joejuan NEP CB",
           11,
           0.7859999999999999,
           23,
           3
          ],
          [
           "Cockrell, Ross TBB CB",
           10.5,
           0.955,
           29,
           8
          ],
          [
           "Barcoo, Luq JAC CB",
           9.2,
           3.0669999999999997,
           22,
           2
          ],
          [
           "Smith, Tremon IND CB",
           9.2,
           1.022,
           24,
           4
          ],
          [
           "Vildor, Kindle CHI CB",
           9.1,
           0.607,
           23,
           2
          ],
          [
           "Johnson, Isaiah LVR CB",
           9,
           0.643,
           25,
           3
          ],
          [
           "Scott, Josiah JAC CB",
           9,
           1.5,
           22,
           2
          ],
          [
           "Hamilton, Antonio KCC CB",
           7,
           0.467,
           null,
           null
          ],
          [
           "Jackson, Adoree TEN CB",
           6.5,
           3.25,
           25,
           5
          ],
          [
           "Ford, Mike DET CB",
           6.1,
           0.762,
           25,
           4
          ],
          [
           "Hardee, Justin NOS CB",
           6,
           0.667,
           27,
           5
          ],
          [
           "Lewis, Cam BUF CB",
           6,
           3,
           24,
           3
          ],
          [
           "Webster, Ken SFO CB",
           6,
           0.667,
           24,
           3
          ],
          [
           "Nixon, Keisean LVR CB",
           5.84,
           0.41700000000000004,
           23,
           3
          ],
          [
           "Pierre, James PIT CB",
           5.5,
           0.423,
           24,
           2
          ],
          [
           "Robinson, Reggie DAL CB",
           5,
           1.25,
           24,
           2
          ],
          [
           "Seymour, Kevon PHI CB",
           4.5,
           2.25,
           27,
           6
          ],
          [
           "Williams, Trevor PIT CB",
           4,
           2,
           27,
           6
          ],
          [
           "Goodwin, C.J. DAL CB",
           3.92,
           0.261,
           31,
           7
          ],
          [
           "Harper, Madre NYG CB",
           3.9,
           0.433,
           23,
           2
          ],
          [
           "Apple, Eli FA CB",
           3.5,
           1.75,
           25,
           6
          ],
          [
           "Robertson, Amik LVR CB",
           3.5,
           0.43799999999999994,
           22,
           2
          ],
          [
           "Dawson, Duke DEN CB",
           3.3,
           0.275,
           25,
           4
          ],
          [
           "Bonds, Terrell MIA CB",
           3,
           1,
           24,
           3
          ],
          [
           "Wilson, Quincy NYG CB",
           3,
           1,
           25,
           5
          ],
          [
           "Smith, Ryan TBB CB",
           2.5,
           0.16699999999999998,
           27,
           6
          ],
          [
           "Toliver, Kevin DEN CB",
           2.5,
           1.25,
           25,
           4
          ],
          [
           "Long, David LAR CB",
           2.3,
           0.153,
           23,
           3
          ],
          [
           "James, Craig PHI CB",
           2,
           0.5,
           25,
           4
          ],
          [
           "Motley, Parnell DEN CB",
           2,
           0.667,
           23,
           2
          ],
          [
           "Thomas-Oliver, Stantley CAR CB",
           2,
           0.222,
           22,
           2
          ],
          [
           "Peterson, Kevin ARI CB",
           1.7,
           0.155,
           27,
           6
          ],
          [
           "McRae, Tony DET CB",
           1.5,
           0.188,
           28,
           6
          ],
          [
           "Miller, Jordan SEA CB",
           1,
           1,
           24,
           3
          ],
          [
           "Tankersley, Cordrea MIN CB",
           1,
           1,
           27,
           5
          ],
          [
           "Thorpe, Neiko SEA CB",
           1,
           0.33299999999999996,
           31,
           10
          ],
          [
           "Smith, Saivion DAL CB",
           0.9,
           0.15,
           23,
           3
          ],
          [
           "Brock, Tramaine DET CB",
           0.5,
           0.5,
           32,
           12
          ],
          [
           "Crawford, Xavier CHI CB",
           0.5,
           0.25,
           25,
           3
          ],
          [
           "Milton, Chris TEN CB",
           0.5,
           0.036000000000000004,
           28,
           6
          ],
          [
           "Young, Tavon BAL CB",
           0.5,
           0.25,
           27,
           6
          ],
          [
           "Armstrong, Cornell HOU CB",
           0,
           0,
           25,
           4
          ],
          [
           "Baker, Deandre KCC CB",
           0,
           0,
           23,
           3
          ],
          [
           "Boddy-Calhoun, Briean FA CB",
           0,
           0,
           28,
           6
          ],
          [
           "Meadors, Nate JAC CB",
           0,
           0,
           24,
           3
          ],
          [
           "Nickerson, Parry GBP CB",
           0,
           0,
           26,
           4
          ],
          [
           "Stroman, Greg WAS CB",
           -0.08,
           -0.02,
           25,
           4
          ],
          [
           "Crawley, Ken NOS CB",
           -0.7,
           -0.14,
           28,
           6
          ],
          [
           "Carr, Brandon FA CB",
           -1.4,
           -0.467,
           35,
           14
          ],
          [
           "Keyes, Thakarius KCC CB",
           -1.6,
           -0.22899999999999998,
           23,
           2
          ],
          [
           "Allen, Brian CLE CB",
           -2.1,
           -2.1,
           27,
           5
          ],
          [
           "Jamerson, Natrell CAR CB",
           -6.6,
           -2.2,
           25,
           4
          ],
          [
           "Joyner, Lamarcus LVR CB",
           71,
           5.462000000000001,
           30,
           8
          ],
          [
           "Johnson, Lonnie HOU CB",
           65.2,
           4.3469999999999995,
           null,
           null
          ],
          [
           "Gaulden, Rashaan LVR CB",
           0,
           0,
           26,
           4
          ]
         ],
         "hovertemplate": "position=%{x}<br>z_score=%{y}<br>player_name=%{customdata[0]}<br>total_points=%{customdata[1]}<br>average_points=%{customdata[2]}<br>age=%{customdata[3]}<br>experience_years=%{customdata[4]}<extra></extra>",
         "legendgroup": "CB",
         "marker": {
          "color": "#00cc96"
         },
         "name": "CB",
         "notched": false,
         "offsetgroup": "CB",
         "orientation": "v",
         "showlegend": true,
         "type": "box",
         "x": [
          "CB",
          "CB",
          "CB",
          "CB",
          "CB",
          "CB",
          "CB",
          "CB",
          "CB",
          "CB",
          "CB",
          "CB",
          "CB",
          "CB",
          "CB",
          "CB",
          "CB",
          "CB",
          "CB",
          "CB",
          "CB",
          "CB",
          "CB",
          "CB",
          "CB",
          "CB",
          "CB",
          "CB",
          "CB",
          "CB",
          "CB",
          "CB",
          "CB",
          "CB",
          "CB",
          "CB",
          "CB",
          "CB",
          "CB",
          "CB",
          "CB",
          "CB",
          "CB",
          "CB",
          "CB",
          "CB",
          "CB",
          "CB",
          "CB",
          "CB",
          "CB",
          "CB",
          "CB",
          "CB",
          "CB",
          "CB",
          "CB",
          "CB",
          "CB",
          "CB",
          "CB",
          "CB",
          "CB",
          "CB",
          "CB",
          "CB",
          "CB",
          "CB",
          "CB",
          "CB",
          "CB",
          "CB",
          "CB",
          "CB",
          "CB",
          "CB",
          "CB",
          "CB",
          "CB",
          "CB",
          "CB",
          "CB",
          "CB",
          "CB",
          "CB",
          "CB",
          "CB",
          "CB",
          "CB",
          "CB",
          "CB",
          "CB",
          "CB",
          "CB",
          "CB",
          "CB",
          "CB",
          "CB",
          "CB",
          "CB",
          "CB",
          "CB",
          "CB",
          "CB",
          "CB",
          "CB",
          "CB",
          "CB",
          "CB",
          "CB",
          "CB",
          "CB",
          "CB",
          "CB",
          "CB",
          "CB",
          "CB",
          "CB",
          "CB",
          "CB",
          "CB",
          "CB",
          "CB",
          "CB",
          "CB",
          "CB",
          "CB",
          "CB",
          "CB",
          "CB",
          "CB",
          "CB",
          "CB",
          "CB",
          "CB",
          "CB",
          "CB",
          "CB",
          "CB",
          "CB",
          "CB",
          "CB",
          "CB",
          "CB",
          "CB",
          "CB",
          "CB",
          "CB",
          "CB",
          "CB",
          "CB",
          "CB",
          "CB",
          "CB",
          "CB",
          "CB",
          "CB",
          "CB",
          "CB",
          "CB",
          "CB",
          "CB",
          "CB",
          "CB",
          "CB",
          "CB",
          "CB",
          "CB",
          "CB",
          "CB",
          "CB",
          "CB",
          "CB",
          "CB",
          "CB",
          "CB",
          "CB",
          "CB",
          "CB",
          "CB",
          "CB",
          "CB",
          "CB",
          "CB",
          "CB",
          "CB",
          "CB",
          "CB",
          "CB",
          "CB",
          "CB",
          "CB",
          "CB",
          "CB",
          "CB",
          "CB",
          "CB",
          "CB",
          "CB",
          "CB",
          "CB",
          "CB",
          "CB",
          "CB",
          "CB",
          "CB",
          "CB",
          "CB",
          "CB",
          "CB",
          "CB",
          "CB",
          "CB",
          "CB",
          "CB",
          "CB",
          "CB",
          "CB",
          "CB"
         ],
         "x0": " ",
         "xaxis": "x",
         "y": [
          3.1533959979726043,
          3.143819545726486,
          2.639459727430904,
          2.613922521441255,
          2.591577466200311,
          2.45750713475465,
          2.2340565823452154,
          2.0361432359254303,
          2.0169903314331927,
          1.956339467207775,
          1.9212258089720065,
          1.6658537490755094,
          1.6498929953319783,
          1.6371243923371537,
          1.6307400908397414,
          1.554128472870792,
          1.550936322122086,
          1.4807090056505492,
          1.432826744419956,
          1.4040973876816003,
          1.3625994279484193,
          1.2859878099794704,
          1.2859878099794704,
          1.2636427547385267,
          1.2540663024924084,
          1.2412976994975833,
          1.2349133980001707,
          1.2317212472514647,
          1.1519174785338093,
          1.1263802725441598,
          1.1168038202980413,
          1.0625372575700356,
          1.0625372575700356,
          1.040192202329092,
          0.934851227621787,
          0.9284669261243744,
          0.9252747753756685,
          0.9125061723808434,
          0.9061218708834309,
          0.8805846648937813,
          0.8646239111502502,
          0.8454710066580131,
          0.8358945544118941,
          0.8263181021657756,
          0.816741649919657,
          0.8039730469248322,
          0.8007808961761259,
          0.7209771274584706,
          0.7209771274584706,
          0.7177849767097644,
          0.7177849767097644,
          0.7152312561107995,
          0.7145928259610581,
          0.7050163737149396,
          0.7050163737149396,
          0.682671318473996,
          0.682671318473996,
          0.6762870169765837,
          0.6603262632330527,
          0.6156361527511657,
          0.6124440020024594,
          0.6092518512537533,
          0.5734997628682437,
          0.5645617407718663,
          0.56136959002316,
          0.56136959002316,
          0.5390245347822165,
          0.5358323840335104,
          0.5262559317873916,
          0.4336835600749115,
          0.4304914093262052,
          0.40495420333655563,
          0.36984054510078723,
          0.3474954898598437,
          0.3411111883624314,
          0.31557398237278156,
          0.30918968087536924,
          0.2996132286292505,
          0.2644995703934823,
          0.25492311814736357,
          0.20704085691677035,
          0.18788795242453304,
          0.184695801675827,
          0.18150365092712073,
          0.17192719868100198,
          0.16235074643488343,
          0.14638999269135236,
          0.14000569119393985,
          0.13362138969652756,
          0.13362138969652756,
          0.1304292389478213,
          0.11127633445558398,
          0.09850773146075917,
          0.09212342996334665,
          0.06658622397369704,
          0.055732911428095805,
          0.042325878283529884,
          0.018703962743103847,
          0.005935359748279042,
          0.002743208999572785,
          -0.016409695492664536,
          -0.019601846241370794,
          -0.025986147738783084,
          -0.07706055971808254,
          -0.0930213134616136,
          -0.09621346421031986,
          -0.1057899164564384,
          -0.10898206720514467,
          -0.1562258982859965,
          -0.20155443891762478,
          -0.21751519266115585,
          -0.22709164490727451,
          -0.23986024790209942,
          -0.24305239865080558,
          -0.24624454939951182,
          -0.2526288508969242,
          -0.2558210016456305,
          -0.29093465988139877,
          -0.3164718658710485,
          -0.33243261961457954,
          -0.3579698256042293,
          -0.36435412710164167,
          -0.3707384285990541,
          -0.37712273009646646,
          -0.39946778533741006,
          -0.39946778533741006,
          -0.41223638833223486,
          -0.42181284057835355,
          -0.42181284057835355,
          -0.4377735943218846,
          -0.444157895819297,
          -0.4550112083648981,
          -0.4633108003115343,
          -0.4792715540550654,
          -0.4888480063011839,
          -0.5080009107934212,
          -0.5080009107934212,
          -0.5878046795110766,
          -0.6037654332546076,
          -0.6293026392442573,
          -0.6452633929877885,
          -0.6484555437364946,
          -0.6484555437364946,
          -0.6516476944852008,
          -0.6829307718225217,
          -0.7052758270634651,
          -0.7186828602080313,
          -0.7378357647002686,
          -0.744220066197681,
          -0.7448584963474223,
          -0.7474122169463872,
          -0.7633729706899183,
          -0.7697572721873307,
          -0.788910176679568,
          -0.8112552319205114,
          -0.8112552319205114,
          -0.8240238349153363,
          -0.8272159856640425,
          -0.8431767394075735,
          -0.8431767394075735,
          -0.8431767394075735,
          -0.8559453424023984,
          -0.8750982468946357,
          -0.8750982468946357,
          -0.8750982468946357,
          -0.8910590006381668,
          -0.9325569603713476,
          -0.9325569603713476,
          -0.9357491111200537,
          -0.9389412618687599,
          -0.9389412618687599,
          -1.0027842768428843,
          -1.0187450305864152,
          -1.03151363358124,
          -1.0347057843299463,
          -1.0347057843299463,
          -1.0347057843299463,
          -1.0398132255278765,
          -1.0506665380734774,
          -1.0666272918170085,
          -1.0825880455605394,
          -1.0985487993040706,
          -1.1011025199030355,
          -1.1017409500527768,
          -1.1145095530476017,
          -1.1145095530476017,
          -1.1208938545450142,
          -1.1304703067911328,
          -1.1304703067911328,
          -1.1464310605346637,
          -1.1464310605346637,
          -1.1528153620320762,
          -1.1623918142781948,
          -1.1623918142781948,
          -1.1623918142781948,
          -1.1719682665243134,
          -1.178352568021726,
          -1.194313321765257,
          -1.194313321765257,
          -1.194313321765257,
          -1.1975054725139633,
          -1.210274075508788,
          -1.210274075508788,
          -1.210274075508788,
          -1.210274075508788,
          -1.226234829252319,
          -1.226234829252319,
          -1.226234829252319,
          -1.226234829252319,
          -1.226234829252319,
          -1.228788549851284,
          -1.2485798844932627,
          -1.270924939734206,
          -1.2773092412316185,
          -1.2932699949751496,
          -1.4369167786669292,
          1.040192202329092,
          0.8550474589041317,
          -1.226234829252319
         ],
         "y0": " ",
         "yaxis": "y"
        },
        {
         "alignmentgroup": "True",
         "boxpoints": "all",
         "customdata": [
          [
           "Mills, Jalen PHI S",
           89.5,
           5.9670000000000005,
           27,
           6
          ],
          [
           "Reed, D.J. SEA S",
           80.84,
           8.982000000000001,
           24,
           4
          ],
          [
           "Neal, Siran BUF S",
           7,
           0.467,
           26,
           4
          ],
          [
           "Hairston, Nate DEN S",
           3.9,
           0.975,
           26,
           5
          ],
          [
           "Baker, Budda ARI S",
           146,
           10.429,
           25,
           5
          ],
          [
           "Poyer, Jordan BUF S",
           138.3,
           9.22,
           30,
           9
          ],
          [
           "Chinn, Jeremy CAR S",
           137.4,
           9.814,
           23,
           2
          ],
          [
           "Simmons, Justin DEN S",
           132.6,
           8.84,
           27,
           6
          ],
          [
           "Bates, Jessie CIN S",
           132.3,
           8.82,
           24,
           4
          ],
          [
           "Adams, Jamal SEA S",
           130.5,
           11.864,
           25,
           5
          ],
          [
           "Phillips, Adrian NEP S",
           125.5,
           8.367,
           29,
           8
          ],
          [
           "Bell, Vonn CIN S",
           125,
           8.333,
           26,
           6
          ],
          [
           "Peppers, Jabrill NYG S",
           123.02,
           8.787,
           25,
           5
          ],
          [
           "Sorensen, Daniel KCC S",
           122.8,
           8.187000000000001,
           31,
           8
          ],
          [
           "Willis, Khari IND S",
           121.6,
           8.686,
           25,
           3
          ],
          [
           "Jenkins, Malcolm NOS S",
           120.1,
           8.007,
           33,
           13
          ],
          [
           "Curl, Kamren WAS S",
           118.3,
           7.8870000000000005,
           22,
           2
          ],
          [
           "Fitzpatrick, Minkah PIT S",
           117.7,
           7.847,
           24,
           4
          ],
          [
           "Neal, Keanu ATL S",
           112.5,
           8.036,
           25,
           6
          ],
          [
           "Mathieu, Tyrann KCC S",
           111.3,
           7.42,
           29,
           9
          ],
          [
           "Winfield, Antoine TBB S",
           108.1,
           7.207000000000001,
           22,
           2
          ],
          [
           "Byard, Kevin TEN S",
           106.6,
           7.107,
           27,
           6
          ],
          [
           "Maye, Marcus NYJ S",
           106.5,
           7.1,
           27,
           5
          ],
          [
           "Johnson, John LAR S",
           106,
           7.067,
           27,
           5
          ],
          [
           "Savage, Darnell GBP S",
           105.3,
           7.521,
           23,
           3
          ],
          [
           "Rowe, Eric MIA S",
           101.6,
           6.773,
           28,
           7
          ],
          [
           "Amos, Adrian GBP S",
           100.3,
           6.687,
           28,
           7
          ],
          [
           "Whitehead, Jordan TBB S",
           99.4,
           6.627000000000001,
           24,
           4
          ],
          [
           "Smith, Harrison MIN S",
           98.5,
           6.567,
           32,
           10
          ],
          [
           "Clark, Chuck BAL S",
           98,
           6.5329999999999995,
           26,
           5
          ],
          [
           "Reid, Justin HOU S",
           97,
           7.462000000000001,
           24,
           4
          ],
          [
           "Jackson, Eddie CHI S",
           96.5,
           6.433,
           28,
           5
          ],
          [
           "Jenkins, Rayshawn LAC S",
           95.1,
           6.34,
           27,
           5
          ],
          [
           "Boston, Tre CAR S",
           94.5,
           6.3,
           28,
           8
          ],
          [
           "Elliott, DeShon BAL S",
           92,
           6.132999999999999,
           24,
           4
          ],
          [
           "Vaccaro, Kenny TEN S",
           91.8,
           7.65,
           30,
           9
          ],
          [
           "McLeod, Rodney PHI S",
           91.7,
           7.053999999999999,
           30,
           10
          ],
          [
           "McCourty, Devin NEP S",
           90.7,
           6.047000000000001,
           33,
           12
          ],
          [
           "Diggs, Quandre SEA S",
           88.8,
           5.92,
           29,
           7
          ],
          [
           "Abram, Johnathan LVR S",
           85.7,
           7.142,
           24,
           3
          ],
          [
           "Wilson, Donovan DAL S",
           84.3,
           6.485,
           26,
           3
          ],
          [
           "Harris, Anthony MIN S",
           82.9,
           5.527,
           28,
           7
          ],
          [
           "Jackson, Kareem DEN S",
           82.7,
           5.513,
           33,
           12
          ],
          [
           "Adderley, Nasir LAC S",
           82.5,
           5.893,
           23,
           3
          ],
          [
           "Gardner-Johnson, Chauncey NOS S",
           81.9,
           5.46,
           23,
           3
          ],
          [
           "Edmunds, Terrell PIT S",
           80.1,
           5.34,
           24,
           4
          ],
          [
           "Gipson, Tashaun CHI S",
           77,
           5.132999999999999,
           30,
           10
          ],
          [
           "Walker, Tracy DET S",
           76.5,
           5.4639999999999995,
           26,
           4
          ],
          [
           "Joseph, Karl CLE S",
           72.1,
           5.546,
           27,
           6
          ],
          [
           "Fuller, Jordan LAR S",
           71.5,
           6.5,
           23,
           2
          ],
          [
           "Murray, Eric HOU S",
           69,
           4.928999999999999,
           27,
           6
          ],
          [
           "Harmon, Duron DET S",
           68.2,
           4.547,
           30,
           9
          ],
          [
           "Wilson, Jarrod JAC S",
           68.2,
           6.2,
           27,
           6
          ],
          [
           "Hyde, Micah BUF S",
           66.62,
           4.7589999999999995,
           30,
           9
          ],
          [
           "Harris, Erik LVR S",
           66.5,
           4.75,
           31,
           7
          ],
          [
           "Williams, Marcus NOS S",
           65.9,
           4.707,
           24,
           5
          ],
          [
           "Neal, Ryan SEA S",
           65.6,
           5.4670000000000005,
           25,
           4
          ],
          [
           "Ward, Jimmie SFO S",
           64.1,
           4.931,
           29,
           8
          ],
          [
           "Greene, Raven GBP S",
           62.2,
           6.22,
           26,
           4
          ],
          [
           "Heath, Jeff LVR S",
           62,
           5.167000000000001,
           30,
           9
          ],
          [
           "Sendejo, Andrew CLE S",
           61,
           4.357,
           33,
           12
          ],
          [
           "Love, Julian NYG S",
           60.8,
           4.053,
           23,
           3
          ],
          [
           "Burris, Juston CAR S",
           60.5,
           5.042,
           27,
           6
          ],
          [
           "Jones, Brandon MIA S",
           60.5,
           4.033,
           23,
           2
          ],
          [
           "Jones, Josh JAC S",
           60.5,
           5.042,
           26,
           5
          ],
          [
           "Hooker, Amani TEN S",
           60.3,
           4.02,
           22,
           3
          ],
          [
           "Blackmon, Julian IND S",
           59.9,
           4.279,
           22,
           2
          ],
          [
           "Woods, Xavier DAL S",
           58.2,
           4.157,
           25,
           5
          ],
          [
           "McCain, Bobby MIA S",
           54.9,
           3.66,
           27,
           7
          ],
          [
           "Rapp, Taylor LAR S",
           53.5,
           5.944,
           23,
           3
          ],
          [
           "Harrison, Ronnie CLE S",
           53.2,
           5.32,
           24,
           4
          ],
          [
           "Collins, Landon WAS S",
           51.6,
           7.371,
           27,
           7
          ],
          [
           "Kearse, Jayron FA S",
           49.5,
           4.5,
           27,
           6
          ],
          [
           "Dugger, Kyle NEP S",
           47.58,
           3.66,
           25,
           2
          ],
          [
           "Epps, Marcus PHI S",
           46.5,
           3.577,
           25,
           3
          ],
          [
           "Harris, Marcell SFO S",
           46.5,
           3.1,
           24,
           4
          ],
          [
           "Thompson, Darian DAL S",
           46.1,
           3.073,
           27,
           6
          ],
          [
           "Banjo, Chris ARI S",
           45,
           3.4619999999999997,
           31,
           9
          ],
          [
           "Wilson, Brandon CIN S",
           44.8,
           3.2,
           26,
           5
          ],
          [
           "Thornhill, Juan KCC S",
           44.5,
           2.967,
           24,
           3
          ],
          [
           "Thomas, Daniel JAC S",
           41.3,
           4.13,
           22,
           2
          ],
          [
           "Wingard, Andrew JAC S",
           39.8,
           3.3169999999999997,
           24,
           3
          ],
          [
           "Tartt, Jaquiski SFO S",
           39.6,
           5.657,
           29,
           7
          ],
          [
           "Parks, Will DEN S",
           36.5,
           4.056,
           26,
           6
          ],
          [
           "Edwards, Mike TBB S",
           35.8,
           2.387,
           25,
           3
          ],
          [
           "Davis, Ashtyn NYJ S",
           35.22,
           3.522,
           24,
           2
          ],
          [
           "McDougald, Bradley NYJ S",
           32.9,
           4.7,
           30,
           9
          ],
          [
           "Everett, Deshazor WAS S",
           32,
           2.909,
           29,
           7
          ],
          [
           "Apke, Troy WAS S",
           30.5,
           2.033,
           26,
           4
          ],
          [
           "Marlowe, Dean BUF S",
           29,
           2.0709999999999997,
           28,
           7
          ],
          [
           "Moore, A.J. HOU S",
           28.5,
           2.85,
           25,
           4
          ],
          [
           "Addae, Jahleel LAC S",
           27.3,
           2.4819999999999998,
           31,
           9
          ],
          [
           "Allen, Ricardo ATL S",
           26.8,
           2.436,
           29,
           8
          ],
          [
           "Redwine, Sheldrick CLE S",
           26.3,
           1.879,
           24,
           3
          ],
          [
           "Neasman, Sharrod ATL S",
           25.7,
           1.713,
           29,
           6
          ],
          [
           "Harris, Will DET S",
           24.5,
           1.633,
           25,
           3
          ],
          [
           "Houston-Carson, DeAndre CHI S",
           23,
           1.5330000000000001,
           28,
           6
          ],
          [
           "Reaves, Jeremy WAS S",
           23,
           2.875,
           24,
           4
          ],
          [
           "Thompson, Deionte ARI S",
           22.7,
           1.892,
           24,
           3
          ],
          [
           "Wilson, Tavon IND S",
           22.5,
           1.607,
           31,
           10
          ],
          [
           "Franklin, Sam CAR S",
           20.5,
           2.278,
           25,
           2
          ],
          [
           "Odum, George IND S",
           20.5,
           1.367,
           27,
           4
          ],
          [
           "Kazee, Damontae ATL S",
           20,
           5,
           27,
           5
          ],
          [
           "Scott, Vernon GBP S",
           19.5,
           1.393,
           23,
           2
          ],
          [
           "Redmond, Will GBP S",
           19,
           1.5830000000000002,
           27,
           6
          ],
          [
           "Allen, Marcus PIT S",
           18.5,
           1.423,
           24,
           4
          ],
          [
           "Brooks, Terrence NEP S",
           18.5,
           1.423,
           30,
           8
          ],
          [
           "Williams, Shawn CIN S",
           17.1,
           1.425,
           30,
           9
          ],
          [
           "Watts, Armani KCC S",
           16.62,
           1.1079999999999999,
           25,
           4
          ],
          [
           "Farley, Matthias NYJ S",
           16.3,
           1.087,
           28,
           6
          ],
          [
           "Killebrew, Miles DET S",
           16,
           1.143,
           28,
           6
          ],
          [
           "Washington, Charles ARI S",
           15,
           1.071,
           28,
           6
          ],
          [
           "Thompson, Jalen ARI S",
           14.5,
           3.625,
           22,
           3
          ],
          [
           "Fejedelem, Clayton MIA S",
           14.3,
           1.192,
           27,
           6
          ],
          [
           "Bush, Deon CHI S",
           14,
           1.273,
           27,
           6
          ],
          [
           "Swearinger, D.J. NOS S",
           13.7,
           1.245,
           29,
           9
          ],
          [
           "McKinney, Xavier NYG S",
           13.5,
           2.7,
           21,
           2
          ],
          [
           "Scott, Nick LAR S",
           12.5,
           0.893,
           26,
           3
          ],
          [
           "Wallace, K'Von PHI S",
           12.5,
           0.893,
           23,
           2
          ],
          [
           "Hartsfield, Myles CAR S",
           12.2,
           0.938,
           23,
           2
          ],
          [
           "Thompson, Tedric FA S",
           12,
           1.5,
           26,
           5
          ],
          [
           "Davis, Cody NEP S",
           11.5,
           0.958,
           31,
           9
          ],
          [
           "Black, Henry GBP S",
           11,
           1.571,
           24,
           2
          ],
          [
           "Hill, Delano SEA S",
           11,
           5.5,
           25,
           5
          ],
          [
           "Blair, Marquise SEA S",
           10.5,
           5.25,
           23,
           3
          ],
          [
           "Ford, Johnathan PHI S",
           10.5,
           1.5,
           26,
           5
          ],
          [
           "Hawkins, Jaylinn ATL S",
           10.5,
           0.955,
           23,
           2
          ],
          [
           "Thomas, Michael HOU S",
           10.2,
           1.133,
           32,
           10
          ],
          [
           "Burgess, Terrell LAR S",
           9,
           1.286,
           22,
           2
          ],
          [
           "Metellus, Josh MIN S",
           8.5,
           0.607,
           23,
           2
          ],
          [
           "Riley, Curtis FA S",
           8.5,
           1.4169999999999998,
           28,
           7
          ],
          [
           "Cruikshank, Dane TEN S",
           8.3,
           4.15,
           26,
           4
          ],
          [
           "Dangerfield, Jordan PIT S",
           7.5,
           0.536,
           30,
           7
          ],
          [
           "Ebner, Nate NYG S",
           7.5,
           0.5,
           32,
           10
          ],
          [
           "Iloka, George MIN S",
           7.5,
           1.875,
           30,
           10
          ],
          [
           "Colbert, Adrian NYG S",
           7.4,
           1.48,
           27,
           5
          ],
          [
           "Leavitt, Dallin LVR S",
           6.9,
           0.863,
           26,
           4
          ],
          [
           "Orr, Kareem TEN S",
           6.8,
           1.36,
           24,
           3
          ],
          [
           "Hooker, Malik IND S",
           6,
           3,
           25,
           5
          ],
          [
           "Watkins, Jaylen LAC S",
           6,
           3,
           28,
           8
          ],
          [
           "Cyprien, Johnathan FA S",
           5.5,
           1.375,
           30,
           9
          ],
          [
           "Davis, Sean PIT S",
           5.5,
           0.36700000000000005,
           27,
           6
          ],
          [
           "Parker, Steven DAL S",
           5.5,
           0.7859999999999999,
           25,
           4
          ],
          [
           "Moore, C.J. DET S",
           4.4,
           0.4,
           27,
           5
          ],
          [
           "Marshall, Trey DEN S",
           4,
           0.33299999999999996,
           25,
           4
          ],
          [
           "Frazier, Kavon MIA S",
           3.8,
           0.271,
           26,
           6
          ],
          [
           "Richards, Jordan BAL S",
           3.5,
           0.233,
           28,
           7
          ],
          [
           "Gilchrist, Marcus BAL S",
           3,
           1.5,
           32,
           11
          ],
          [
           "Johnson, Jaquan BUF S",
           2.48,
           0.191,
           25,
           3
          ],
          [
           "Hughes, Juju LAR S",
           2,
           0.182,
           22,
           2
          ],
          [
           "Randall, Damarious SEA S",
           2,
           0.2,
           28,
           7
          ],
          [
           "Brooks, Antoine PIT S",
           1.5,
           0.5,
           22,
           2
          ],
          [
           "Levine, Anthony BAL S",
           1.5,
           0.107,
           34,
           11
          ],
          [
           "Chandler, Sean CAR S",
           1,
           0.33299999999999996,
           25,
           4
          ],
          [
           "Mayden, Jared SFO S",
           1,
           0.5,
           22,
           2
          ],
          [
           "Campbell, Ibraheim IND S",
           0.5,
           0.125,
           29,
           7
          ],
          [
           "Gray, J.T. NOS S",
           0.5,
           0.033,
           25,
           4
          ],
          [
           "Robinson, Kenny CAR S",
           0.5,
           0.062,
           22,
           2
          ],
          [
           "Christian, Marqui CHI S",
           0,
           0,
           26,
           6
          ],
          [
           "Countess, Blake PHI S",
           0,
           0,
           27,
           6
          ],
          [
           "Hampton, Saquan NYJ S",
           0,
           0,
           25,
           3
          ],
          [
           "Stone, Geno HOU S",
           0,
           0,
           22,
           2
          ],
          [
           "Gilman, Alohi LAC S",
           -0.2,
           -0.013999999999999999,
           23,
           2
          ],
          [
           "Adams, Andrew TBB S",
           -0.5,
           -0.033,
           27,
           6
          ],
          [
           "Moffatt, Jovante CLE S",
           -2,
           -0.25,
           24,
           2
          ],
          [
           "Locke, P.J. DEN S",
           -2.8,
           -0.2,
           24,
           3
          ]
         ],
         "hovertemplate": "position=%{x}<br>z_score=%{y}<br>player_name=%{customdata[0]}<br>total_points=%{customdata[1]}<br>average_points=%{customdata[2]}<br>age=%{customdata[3]}<br>experience_years=%{customdata[4]}<extra></extra>",
         "legendgroup": "S",
         "marker": {
          "color": "#ab63fa"
         },
         "name": "S",
         "notched": false,
         "offsetgroup": "S",
         "orientation": "v",
         "showlegend": true,
         "type": "box",
         "x": [
          "S",
          "S",
          "S",
          "S",
          "S",
          "S",
          "S",
          "S",
          "S",
          "S",
          "S",
          "S",
          "S",
          "S",
          "S",
          "S",
          "S",
          "S",
          "S",
          "S",
          "S",
          "S",
          "S",
          "S",
          "S",
          "S",
          "S",
          "S",
          "S",
          "S",
          "S",
          "S",
          "S",
          "S",
          "S",
          "S",
          "S",
          "S",
          "S",
          "S",
          "S",
          "S",
          "S",
          "S",
          "S",
          "S",
          "S",
          "S",
          "S",
          "S",
          "S",
          "S",
          "S",
          "S",
          "S",
          "S",
          "S",
          "S",
          "S",
          "S",
          "S",
          "S",
          "S",
          "S",
          "S",
          "S",
          "S",
          "S",
          "S",
          "S",
          "S",
          "S",
          "S",
          "S",
          "S",
          "S",
          "S",
          "S",
          "S",
          "S",
          "S",
          "S",
          "S",
          "S",
          "S",
          "S",
          "S",
          "S",
          "S",
          "S",
          "S",
          "S",
          "S",
          "S",
          "S",
          "S",
          "S",
          "S",
          "S",
          "S",
          "S",
          "S",
          "S",
          "S",
          "S",
          "S",
          "S",
          "S",
          "S",
          "S",
          "S",
          "S",
          "S",
          "S",
          "S",
          "S",
          "S",
          "S",
          "S",
          "S",
          "S",
          "S",
          "S",
          "S",
          "S",
          "S",
          "S",
          "S",
          "S",
          "S",
          "S",
          "S",
          "S",
          "S",
          "S",
          "S",
          "S",
          "S",
          "S",
          "S",
          "S",
          "S",
          "S",
          "S",
          "S",
          "S",
          "S",
          "S",
          "S",
          "S",
          "S",
          "S",
          "S",
          "S",
          "S",
          "S",
          "S",
          "S",
          "S",
          "S",
          "S",
          "S",
          "S",
          "S",
          "S",
          "S"
         ],
         "x0": " ",
         "xaxis": "x",
         "y": [
          1.026464892689613,
          0.8169845216659962,
          -0.96916219847071,
          -1.0441493982597645,
          2.3931670823933495,
          2.206908553885053,
          2.18513807652694,
          2.069028863950339,
          2.061772038164302,
          2.0182310834480766,
          1.8972839870141176,
          1.8851892773707217,
          1.8372942271828738,
          1.8319725549397796,
          1.8029452517956295,
          1.7666611228654419,
          1.7231201681492165,
          1.7086065165771418,
          1.5828215362858242,
          1.553794233141674,
          1.4763880914239402,
          1.4401039624937526,
          1.4376850205650735,
          1.4255903109216777,
          1.4086577174209234,
          1.3191568660597937,
          1.2877106209869644,
          1.265940143628852,
          1.244169666270739,
          1.2320749566273432,
          1.2078855373405515,
          1.1957908276971556,
          1.1619256406956469,
          1.1474119891235721,
          1.0869384409065925,
          1.0821005570492341,
          1.079681615120555,
          1.0554921958337633,
          1.0095322991888587,
          0.9345450993998043,
          0.9006799123982956,
          0.8668147253967874,
          0.8619768415394289,
          0.8571389576820705,
          0.8426253061099955,
          0.79908435139377,
          0.7240971516047157,
          0.7120024419613197,
          0.6055689970994357,
          0.5910553455273607,
          0.5305817973103812,
          0.5112302618809479,
          0.5112302618809479,
          0.4730109794078169,
          0.47010824909340176,
          0.45559459752132686,
          0.44833777173528905,
          0.4120536428051013,
          0.36609374616019713,
          0.3612558623028387,
          0.33706644301604693,
          0.3322285591586885,
          0.324971733372651,
          0.324971733372651,
          0.324971733372651,
          0.3201338495152926,
          0.3104580818005759,
          0.26933606901303,
          0.18951098536661692,
          0.15564579836510847,
          0.148388972579071,
          0.10968590172020408,
          0.058888121217941285,
          0.012444436187300999,
          -0.013680136642434098,
          -0.013680136642434098,
          -0.02335590435715078,
          -0.04996426557262179,
          -0.05480214942998022,
          -0.062058975216017685,
          -0.1394651169337515,
          -0.1757492458639392,
          -0.18058712972129745,
          -0.255574329510352,
          -0.27250692301110635,
          -0.28653678619744555,
          -0.3426562389428025,
          -0.3644267163009151,
          -0.4007108452311028,
          -0.4369949741612905,
          -0.4490896838046864,
          -0.47811698694883653,
          -0.4902116965922324,
          -0.5023064062356283,
          -0.5168200578077035,
          -0.5458473609518536,
          -0.5821314898820412,
          -0.5821314898820412,
          -0.5893883156680788,
          -0.5942261995254372,
          -0.6426050380990207,
          -0.6426050380990207,
          -0.6546997477424167,
          -0.6667944573858126,
          -0.6788891670292084,
          -0.6909838766726043,
          -0.6909838766726043,
          -0.7248490636741128,
          -0.7364599849317729,
          -0.7442005991035463,
          -0.7514574248895838,
          -0.7756468441763756,
          -0.7877415538197715,
          -0.7925794376771299,
          -0.7998362634631674,
          -0.8070930892492049,
          -0.8119309731065633,
          -0.8361203923933551,
          -0.8361203923933551,
          -0.8433772181793926,
          -0.848215102036751,
          -0.8603098116801469,
          -0.8724045213235427,
          -0.8724045213235427,
          -0.8844992309669387,
          -0.8844992309669387,
          -0.8844992309669387,
          -0.8917560567529762,
          -0.9207833598971263,
          -0.9328780695405222,
          -0.9328780695405222,
          -0.9377159533978807,
          -0.9570674888273141,
          -0.9570674888273141,
          -0.9570674888273141,
          -0.9594864307559933,
          -0.9715811403993891,
          -0.9740000823280683,
          -0.9933516177575018,
          -0.9933516177575018,
          -1.0054463274008976,
          -1.0054463274008976,
          -1.0054463274008976,
          -1.0320546886163686,
          -1.0417304563310854,
          -1.0465683401884438,
          -1.0538251659744813,
          -1.0659198756178772,
          -1.0784983736470088,
          -1.090109294904669,
          -1.090109294904669,
          -1.1022040045480648,
          -1.1022040045480648,
          -1.1142987141914606,
          -1.1142987141914606,
          -1.1263934238348565,
          -1.1263934238348565,
          -1.1263934238348565,
          -1.1384881334782526,
          -1.1384881334782526,
          -1.1384881334782526,
          -1.1384881334782526,
          -1.143326017335611,
          -1.1505828431216485,
          -1.1868669720518361,
          -1.2062185074812695
         ],
         "y0": " ",
         "yaxis": "y"
        },
        {
         "alignmentgroup": "True",
         "boxpoints": "all",
         "customdata": [
          [
           "Mann, Braden NYJ PN",
           103.3,
           6.8870000000000005,
           23,
           2
          ],
          [
           "Way, Tress WAS PN",
           103.11,
           6.874,
           31,
           9
          ],
          [
           "Johnston, Cam PHI PN",
           101.35,
           6.757000000000001,
           29,
           5
          ],
          [
           "Dickson, Michael SEA PN",
           100.09,
           6.672999999999999,
           25,
           4
          ],
          [
           "Hekker, Johnny LAR PN",
           98.96,
           6.597,
           31,
           10
          ],
          [
           "O'Donnell, Pat CHI PN",
           98.81,
           6.587000000000001,
           30,
           8
          ],
          [
           "Fox, Jack DET PN",
           95.93,
           6.395,
           24,
           3
          ],
          [
           "Wishnowsky, Mitch SFO PN",
           94.7,
           6.313,
           29,
           3
          ],
          [
           "Haack, Matt MIA PN",
           94.57,
           6.305,
           26,
           5
          ],
          [
           "Huber, Kevin CIN PN",
           93.31,
           6.221,
           35,
           13
          ],
          [
           "Dixon, Riley NYG PN",
           93.16,
           6.211,
           27,
           6
          ],
          [
           "Martin, Sam DEN PN",
           89.55,
           5.97,
           31,
           9
          ],
          [
           "Bailey, Jake NEP PN",
           88.21,
           5.881,
           23,
           3
          ],
          [
           "Morstead, Thomas NOS PN",
           83.67,
           5.577999999999999,
           35,
           13
          ],
          [
           "Berry, Jordan PIT PN",
           83,
           8.3,
           30,
           7
          ],
          [
           "Pinion, Bradley TBB PN",
           81.18,
           5.412000000000001,
           26,
           7
          ],
          [
           "Anger, Bryan HOU PN",
           79.63,
           5.309,
           32,
           10
          ],
          [
           "Koch, Sam BAL PN",
           78.74,
           5.249,
           38,
           16
          ],
          [
           "Lee, Andy ARI PN",
           76.54,
           5.103,
           38,
           18
          ],
          [
           "Townsend, Tommy KCC PN",
           76.46,
           5.0969999999999995,
           24,
           2
          ],
          [
           "Cooke, Logan JAC PN",
           76.38,
           5.875,
           25,
           4
          ],
          [
           "Hofrichter, Sterling ATL PN",
           75.48,
           5.032,
           24,
           2
          ],
          [
           "Long, Ty LAC PN",
           74.59,
           4.973,
           28,
           3
          ],
          [
           "Charlton, Joseph CAR PN",
           69.62,
           4.641,
           24,
           2
          ],
          [
           "Colquitt, Britton MIN PN",
           67.47,
           4.498,
           36,
           13
          ],
          [
           "Gillan, Jamie CLE PN",
           65.68,
           4.379,
           23,
           3
          ],
          [
           "Scott, J.K. GBP PN",
           64.16,
           4.277,
           25,
           4
          ],
          [
           "Bojorquez, Corey BUF PN",
           62.73,
           4.1819999999999995,
           24,
           4
          ],
          [
           "Kern, Brett TEN PN",
           62.24,
           5.187,
           35,
           14
          ],
          [
           "Cole, A.J. LVR PN",
           61.54,
           4.103,
           25,
           3
          ],
          [
           "Sanchez, Rigoberto IND PN",
           61.2,
           4.708,
           26,
           5
          ],
          [
           "Colquitt, Dustin KCC PN",
           36.35,
           6.058,
           39,
           17
          ],
          [
           "Niswander, Hunter DAL PN",
           32.44,
           4.6339999999999995,
           null,
           null
          ],
          [
           "Jones, Chris DAL PN",
           30.58,
           3.823,
           31,
           11
          ]
         ],
         "hovertemplate": "position=%{x}<br>z_score=%{y}<br>player_name=%{customdata[0]}<br>total_points=%{customdata[1]}<br>average_points=%{customdata[2]}<br>age=%{customdata[3]}<br>experience_years=%{customdata[4]}<extra></extra>",
         "legendgroup": "PN",
         "marker": {
          "color": "#FFA15A"
         },
         "name": "PN",
         "notched": false,
         "offsetgroup": "PN",
         "orientation": "v",
         "showlegend": true,
         "type": "box",
         "x": [
          "PN",
          "PN",
          "PN",
          "PN",
          "PN",
          "PN",
          "PN",
          "PN",
          "PN",
          "PN",
          "PN",
          "PN",
          "PN",
          "PN",
          "PN",
          "PN",
          "PN",
          "PN",
          "PN",
          "PN",
          "PN",
          "PN",
          "PN",
          "PN",
          "PN",
          "PN",
          "PN",
          "PN",
          "PN",
          "PN",
          "PN",
          "PN",
          "PN",
          "PN"
         ],
         "x0": " ",
         "xaxis": "x",
         "y": [
          1.3170608108909507,
          1.3071383496522422,
          1.2152250244936773,
          1.1494234394369782,
          1.090410906806763,
          1.082577384776204,
          0.932173761789462,
          0.867938881138874,
          0.8611498287123885,
          0.7953482436556893,
          0.7875147216251296,
          0.5989879580896647,
          0.5290084946166664,
          0.2919138944917331,
          0.25692416275523394,
          0.1618774287844459,
          0.08093103446866395,
          0.03445213708734431,
          -0.08043951936086088,
          -0.08461739777715993,
          -0.08879527619345823,
          -0.1357964083768147,
          -0.18227530575813433,
          -0.4418260023706719,
          -0.5541064848086915,
          -0.6475865143733676,
          -0.7269662042830376,
          -0.8016457809743713,
          -0.8272352862741987,
          -0.8637917224168098,
          -0.8815477056860778,
          -2.179301188748766,
          -2.38349499634535,
          -2.4806306695242877
         ],
         "y0": " ",
         "yaxis": "y"
        },
        {
         "alignmentgroup": "True",
         "boxpoints": "all",
         "customdata": [
          [
           "Mahomes, Patrick KCC QB",
           424.9,
           28.326999999999998,
           25,
           5
          ],
          [
           "Rodgers, Aaron GBP QB",
           416.46,
           27.764,
           37,
           17
          ],
          [
           "Allen, Josh BUF QB",
           406.8,
           27.12,
           25,
           4
          ],
          [
           "Murray, Kyler ARI QB",
           383.46,
           25.564,
           23,
           3
          ],
          [
           "Wilson, Russell SEA QB",
           359.94,
           23.996,
           32,
           10
          ],
          [
           "Watson, Deshaun HOU QB",
           346.52,
           23.101,
           25,
           5
          ],
          [
           "Brady, Tom TBB QB",
           346.26,
           23.084,
           43,
           22
          ],
          [
           "Tannehill, Ryan TEN QB",
           345.42,
           23.028000000000002,
           32,
           10
          ],
          [
           "Jackson, Lamar BAL QB",
           314.06,
           22.433000000000003,
           24,
           4
          ],
          [
           "Herbert, Justin LAC QB",
           312.86,
           22.346999999999998,
           23,
           2
          ],
          [
           "Roethlisberger, Ben PIT QB",
           311.32,
           20.755,
           39,
           18
          ],
          [
           "Cousins, Kirk MIN QB",
           292.9,
           19.527,
           32,
           10
          ],
          [
           "Carr, Derek LVR QB",
           269.68,
           17.979,
           30,
           8
          ],
          [
           "Ryan, Matt ATL QB",
           259.64,
           17.309,
           36,
           14
          ],
          [
           "Rivers, Philip FA QB",
           251.8,
           16.787,
           39,
           18
          ],
          [
           "Goff, Jared DET QB",
           244.48,
           16.299,
           26,
           6
          ],
          [
           "Stafford, Matthew LAR QB",
           239.94,
           15.995999999999999,
           33,
           13
          ],
          [
           "Mayfield, Baker CLE QB",
           236.88,
           15.792,
           26,
           4
          ],
          [
           "Bridgewater, Teddy CAR QB",
           230.98,
           16.499000000000002,
           28,
           8
          ],
          [
           "Brees, Drew NOS QB",
           212.44,
           19.313,
           42,
           21
          ],
          [
           "Newton, Cam NEP QB",
           194,
           13.857000000000001,
           32,
           11
          ],
          [
           "Wentz, Carson PHI QB",
           165.8,
           13.817,
           28,
           6
          ],
          [
           "Minshew, Gardner JAC QB",
           161.66,
           17.962,
           25,
           3
          ],
          [
           "Fitzpatrick, Ryan MIA QB",
           160.74,
           17.86,
           38,
           17
          ],
          [
           "Burrow, Joe CIN QB",
           157.72,
           15.772,
           24,
           2
          ],
          [
           "Lock, Drew DEN QB",
           152.66,
           12.722000000000001,
           24,
           3
          ],
          [
           "Trubisky, Mitchell CHI QB",
           151.52,
           16.836,
           26,
           5
          ],
          [
           "Prescott, Dak DAL QB",
           143.14,
           28.628,
           27,
           6
          ],
          [
           "Jones, Daniel NYG QB",
           130.66,
           10.051,
           23,
           3
          ],
          [
           "Dalton, Andy DAL QB",
           128.34,
           12.834000000000001,
           33,
           11
          ],
          [
           "Hill, Taysom NOS QB",
           123.02,
           8.201,
           30,
           5
          ],
          [
           "Tagovailoa, Tua MIA QB",
           120.12,
           12.012,
           23,
           2
          ],
          [
           "Mullens, Nick SFO QB",
           115.88,
           11.588,
           26,
           5
          ],
          [
           "Darnold, Sam NYJ QB",
           103.08,
           9.371,
           23,
           4
          ],
          [
           "Foles, Nick CHI QB",
           97.08,
           10.787,
           32,
           10
          ],
          [
           "Hurts, Jalen PHI QB",
           75.16,
           5.369,
           22,
           2
          ],
          [
           "Garoppolo, Jimmy SFO QB",
           63.34,
           10.557,
           29,
           8
          ],
          [
           "Flacco, Joe NYJ QB",
           55.46,
           11.092,
           36,
           14
          ],
          [
           "Allen, Brandon CIN QB",
           54.58,
           13.645,
           28,
           6
          ],
          [
           "Haskins, Dwayne PIT QB",
           53.36,
           7.622999999999999,
           24,
           3
          ],
          [
           "Smith, Alex WAS QB",
           48.1,
           6.871,
           37,
           17
          ],
          [
           "Glennon, Mike JAC QB",
           45.84,
           11.46,
           31,
           9
          ],
          [
           "Allen, Kyle WAS QB",
           44.5,
           11.125,
           25,
           4
          ],
          [
           "Beathard, C.J. SFO QB",
           42.36,
           8.472000000000001,
           27,
           5
          ],
          [
           "Mariota, Marcus LVR QB",
           28.84,
           28.84,
           27,
           7
          ],
          [
           "Driskel, Jeff DEN QB",
           25.08,
           8.36,
           28,
           6
          ],
          [
           "Luton, Jake JAC QB",
           21.26,
           7.087000000000001,
           25,
           2
          ],
          [
           "Brissett, Jacoby IND QB",
           17.28,
           1.7280000000000002,
           28,
           6
          ],
          [
           "Gabbert, Blaine TBB QB",
           16.32,
           4.08,
           31,
           11
          ],
          [
           "McCoy, Colt NYG QB",
           16.2,
           4.05,
           34,
           12
          ],
          [
           "Gilbert, Garrett DAL QB",
           14.52,
           14.52,
           29,
           8
          ],
          [
           "Stidham, Jarrett NEP QB",
           12.94,
           2.588,
           24,
           3
          ],
          [
           "Heinicke, Taylor WAS QB",
           12.68,
           12.68,
           28,
           7
          ],
          [
           "Finley, Ryan CIN QB",
           12.16,
           2.432,
           26,
           3
          ],
          [
           "McSorley, Trace BAL QB",
           11.3,
           5.65,
           25,
           3
          ],
          [
           "Daniel, Chase DET QB",
           11.16,
           2.2319999999999998,
           34,
           13
          ],
          [
           "Rypien, Brett DEN QB",
           8.8,
           2.9330000000000003,
           24,
           3
          ],
          [
           "Walker, P.J. CAR QB",
           8.72,
           2.907,
           26,
           5
          ],
          [
           "Taylor, Tyrod LAC QB",
           7.02,
           3.51,
           31,
           11
          ],
          [
           "Henne, Chad KCC QB",
           4,
           2,
           35,
           14
          ],
          [
           "Huntley, Tyler BAL QB",
           2.08,
           2.08,
           null,
           null
          ],
          [
           "Keenum, Case CLE QB",
           1.84,
           0.92,
           33,
           10
          ],
          [
           "Woodside, Logan TEN QB",
           1.28,
           0.213,
           26,
           4
          ],
          [
           "Webb, Joe NYG QB",
           1,
           0.5,
           34,
           12
          ],
          [
           "Blough, David DET QB",
           0.76,
           0.76,
           25,
           3
          ],
          [
           "Bray, Tyler CHI QB",
           0.72,
           0.72,
           29,
           9
          ],
          [
           "Winston, Jameis NOS QB",
           0.5,
           0.16699999999999998,
           27,
           7
          ],
          [
           "Streveler, Chris ARI QB",
           0.3,
           0.075,
           26,
           3
          ],
          [
           "Barkley, Matt BUF QB",
           0.02,
           0.005,
           30,
           9
          ],
          [
           "Hoyer, Brian NEP QB",
           0,
           0,
           35,
           13
          ],
          [
           "Stick, Easton LAC QB",
           -0.04,
           -0.04,
           25,
           3
          ],
          [
           "Peterman, Nathan LVR QB",
           -0.1,
           -0.1,
           27,
           5
          ],
          [
           "Rudolph, Mason PIT QB",
           -0.34,
           -0.085,
           25,
           4
          ],
          [
           "Schaub, Matt FA QB",
           -0.4,
           -0.4,
           39,
           18
          ],
          [
           "Griffin III, Robert BAL QB",
           -0.42,
           -0.105,
           31,
           10
          ],
          [
           "McCarron, A.J. HOU QB",
           -1,
           -1,
           30,
           8
          ],
          [
           "Smith, Geno SEA QB",
           -1.88,
           -1.88,
           30,
           9
          ],
          [
           "Boyle, Tim GBP QB",
           -3.9,
           -0.48700000000000004,
           26,
           4
          ],
          [
           "DiNucci, Ben DAL QB",
           -4.04,
           -1.347,
           24,
           2
          ],
          [
           "Hinton, Kendall DEN QB",
           -5.28,
           -5.28,
           24,
           2
          ]
         ],
         "hovertemplate": "position=%{x}<br>z_score=%{y}<br>player_name=%{customdata[0]}<br>total_points=%{customdata[1]}<br>average_points=%{customdata[2]}<br>age=%{customdata[3]}<br>experience_years=%{customdata[4]}<extra></extra>",
         "legendgroup": "QB",
         "marker": {
          "color": "#19d3f3"
         },
         "name": "QB",
         "notched": false,
         "offsetgroup": "QB",
         "orientation": "v",
         "showlegend": true,
         "type": "box",
         "x": [
          "QB",
          "QB",
          "QB",
          "QB",
          "QB",
          "QB",
          "QB",
          "QB",
          "QB",
          "QB",
          "QB",
          "QB",
          "QB",
          "QB",
          "QB",
          "QB",
          "QB",
          "QB",
          "QB",
          "QB",
          "QB",
          "QB",
          "QB",
          "QB",
          "QB",
          "QB",
          "QB",
          "QB",
          "QB",
          "QB",
          "QB",
          "QB",
          "QB",
          "QB",
          "QB",
          "QB",
          "QB",
          "QB",
          "QB",
          "QB",
          "QB",
          "QB",
          "QB",
          "QB",
          "QB",
          "QB",
          "QB",
          "QB",
          "QB",
          "QB",
          "QB",
          "QB",
          "QB",
          "QB",
          "QB",
          "QB",
          "QB",
          "QB",
          "QB",
          "QB",
          "QB",
          "QB",
          "QB",
          "QB",
          "QB",
          "QB",
          "QB",
          "QB",
          "QB",
          "QB",
          "QB",
          "QB",
          "QB",
          "QB",
          "QB",
          "QB",
          "QB",
          "QB",
          "QB",
          "QB"
         ],
         "x0": " ",
         "xaxis": "x",
         "y": [
          2.421139172988783,
          2.3556908233528655,
          2.2807819302861643,
          2.099790878093948,
          1.917404008018501,
          1.8133380302798745,
          1.811321848892986,
          1.8048080321045774,
          1.5616255386706481,
          1.5523200861157784,
          1.5403780886703622,
          1.3975393919531116,
          1.2174788850163822,
          1.1396232653073053,
          1.0788276419488232,
          1.0220643813641177,
          0.9868587525315271,
          0.9631298485166093,
          0.917378040121833,
          0.7736087981490956,
          0.6306150105559306,
          0.41193687551649183,
          0.3798330642021911,
          0.3726988839101244,
          0.34928016164703546,
          0.31004217004066803,
          0.30120199011354193,
          0.23621891310536805,
          0.13944220653472283,
          0.12145166492864139,
          0.08019749193538547,
          0.057709314927783674,
          0.024830049233910523,
          -0.07442811135136668,
          -0.12095537412571539,
          -0.2909349741280026,
          -0.38259368179346953,
          -0.44369948690378086,
          -0.45052348544401866,
          -0.4599840288748029,
          -0.5007729292403152,
          -0.5182981982186532,
          -0.5286892869049244,
          -0.5452840106277755,
          -0.6501254427459745,
          -0.6792825274178997,
          -0.7089048847175684,
          -0.7397679690245531,
          -0.7472123310684489,
          -0.7481428763239358,
          -0.7611705099007535,
          -0.7734226890979986,
          -0.775438870484887,
          -0.779471233258664,
          -0.7861401409229873,
          -0.7872257770543888,
          -0.8055265004122992,
          -0.8061468639159572,
          -0.8193295883686894,
          -0.8427483106317782,
          -0.8576370347195698,
          -0.8594981252305437,
          -0.8638406697561496,
          -0.8660119420189525,
          -0.8678730325299264,
          -0.8681832142817555,
          -0.869889213916815,
          -0.8714401226759599,
          -0.8736113949387628,
          -0.8737664858146773,
          -0.8740766675665064,
          -0.8745419401942498,
          -0.8764030307052237,
          -0.8768683033329673,
          -0.8770233942088818,
          -0.8815210296104021,
          -0.8883450281506399,
          -0.904009206618004,
          -0.9050948427494055,
          -0.9147104770561042
         ],
         "y0": " ",
         "yaxis": "y"
        },
        {
         "alignmentgroup": "True",
         "boxpoints": "all",
         "customdata": [
          [
           "Chiefs, Kansas City KCC Off",
           138.1,
           9.207,
           null,
           null
          ],
          [
           "Cardinals, Arizona ARI Off",
           132.6,
           8.84,
           null,
           null
          ],
          [
           "Bills, Buffalo BUF Off",
           131.8,
           8.787,
           null,
           null
          ],
          [
           "Colts, Indianapolis IND Off",
           129,
           8.6,
           null,
           null
          ],
          [
           "Steelers, Pittsburgh PIT Off",
           127.8,
           8.52,
           null,
           null
          ],
          [
           "Packers, Green Bay GBP Off",
           127.3,
           8.487,
           null,
           null
          ],
          [
           "Raiders, Las Vegas LVR Off",
           126.3,
           8.42,
           null,
           null
          ],
          [
           "Titans, Tennessee TEN Off",
           123,
           8.2,
           null,
           null
          ],
          [
           "Rams, Los Angeles LAR Off",
           122.4,
           8.16,
           null,
           null
          ],
          [
           "Browns, Cleveland CLE Off",
           122.2,
           8.147,
           null,
           null
          ],
          [
           "Chargers, Los Angeles LAC Off",
           122,
           8.133,
           null,
           null
          ],
          [
           "Saints, New Orleans NOS Off",
           121.6,
           8.107000000000001,
           null,
           null
          ],
          [
           "Buccaneers, Tampa Bay TBB Off",
           119.8,
           7.987,
           null,
           null
          ],
          [
           "Ravens, Baltimore BAL Off",
           105.9,
           7.06,
           null,
           null
          ],
          [
           "Falcons, Atlanta ATL Off",
           104.3,
           6.952999999999999,
           null,
           null
          ],
          [
           "Cowboys, Dallas DAL Off",
           99.6,
           6.64,
           null,
           null
          ],
          [
           "Vikings, Minnesota MIN Off",
           99.2,
           6.6129999999999995,
           null,
           null
          ],
          [
           "Panthers, Carolina CAR Off",
           98.8,
           6.587000000000001,
           null,
           null
          ],
          [
           "Dolphins, Miami MIA Off",
           95.2,
           6.347,
           null,
           null
          ],
          [
           "Patriots, New England NEP Off",
           88.6,
           5.907,
           null,
           null
          ],
          [
           "49ers, San Francisco SFO Off",
           85.9,
           5.727,
           null,
           null
          ],
          [
           "Bears, Chicago CHI Off",
           83.6,
           5.5729999999999995,
           null,
           null
          ],
          [
           "Broncos, Denver DEN Off",
           83.5,
           5.567,
           null,
           null
          ],
          [
           "Lions, Detroit DET Off",
           82.3,
           5.487,
           null,
           null
          ],
          [
           "Jaguars, Jacksonville JAC Off",
           81.5,
           5.433,
           null,
           null
          ],
          [
           "Seahawks, Seattle SEA Off",
           76.5,
           5.1,
           null,
           null
          ],
          [
           "Bengals, Cincinnati CIN Off",
           74.5,
           4.967,
           null,
           null
          ],
          [
           "FootballTeam, Washington WAS Off",
           73.6,
           4.907,
           null,
           null
          ],
          [
           "Texans, Houston HOU Off",
           70.7,
           4.713,
           null,
           null
          ],
          [
           "Giants, New York NYG Off",
           62.5,
           4.167,
           null,
           null
          ],
          [
           "Eagles, Philadelphia PHI Off",
           56.2,
           3.747,
           null,
           null
          ],
          [
           "Jets, New York NYJ Off",
           51.4,
           3.427,
           null,
           null
          ]
         ],
         "hovertemplate": "position=%{x}<br>z_score=%{y}<br>player_name=%{customdata[0]}<br>total_points=%{customdata[1]}<br>average_points=%{customdata[2]}<br>age=%{customdata[3]}<br>experience_years=%{customdata[4]}<extra></extra>",
         "legendgroup": "Off",
         "marker": {
          "color": "#FF6692"
         },
         "name": "Off",
         "notched": false,
         "offsetgroup": "Off",
         "orientation": "v",
         "showlegend": true,
         "type": "box",
         "x": [
          "Off",
          "Off",
          "Off",
          "Off",
          "Off",
          "Off",
          "Off",
          "Off",
          "Off",
          "Off",
          "Off",
          "Off",
          "Off",
          "Off",
          "Off",
          "Off",
          "Off",
          "Off",
          "Off",
          "Off",
          "Off",
          "Off",
          "Off",
          "Off",
          "Off",
          "Off",
          "Off",
          "Off",
          "Off",
          "Off",
          "Off",
          "Off"
         ],
         "x0": " ",
         "xaxis": "x",
         "y": [
          1.5217284044641395,
          1.298820207056159,
          1.2663971965240897,
          1.1529166596618445,
          1.1042821438637396,
          1.084017762281196,
          1.0434889991161087,
          0.9097440806713204,
          0.8854268227722681,
          0.8773210701392505,
          0.869215317506233,
          0.8530038122401978,
          0.7800520385430406,
          0.21670223054832646,
          0.1518562094841863,
          -0.03862897739172448,
          -0.054840482657759086,
          -0.07105198792379427,
          -0.2169555353181086,
          -0.48444537220768563,
          -0.5938730327534211,
          -0.6870891880331225,
          -0.691142064349631,
          -0.739776580147736,
          -0.7721995906798058,
          -0.9748434065052427,
          -1.0559009328354174,
          -1.0923768196839962,
          -1.2099102328627493,
          -1.542246090816466,
          -1.7975772987565164,
          -1.9921153619489358
         ],
         "y0": " ",
         "yaxis": "y"
        },
        {
         "alignmentgroup": "True",
         "boxpoints": "all",
         "customdata": [
          [
           "Adams, Davante GBP WR",
           284.8,
           21.908,
           28,
           8
          ],
          [
           "Hill, Tyreek KCC WR",
           282,
           18.8,
           27,
           6
          ],
          [
           "Diggs, Stefon BUF WR",
           246.5,
           16.433,
           27,
           7
          ],
          [
           "Ridley, Calvin ATL WR",
           223.4,
           15.957,
           26,
           4
          ],
          [
           "Metcalf, DK SEA WR",
           223.2,
           14.88,
           23,
           3
          ],
          [
           "Hopkins, DeAndre ARI WR",
           220.8,
           14.72,
           28,
           9
          ],
          [
           "Thielen, Adam MIN WR",
           210.3,
           15.020999999999999,
           30,
           8
          ],
          [
           "Jefferson, Justin MIN WR",
           210.2,
           14.013,
           21,
           2
          ],
          [
           "Robinson, Allen CHI WR",
           208.2,
           13.88,
           27,
           8
          ],
          [
           "Evans, Mike TBB WR",
           199,
           13.267000000000001,
           27,
           8
          ],
          [
           "Allen, Keenan LAC WR",
           192.6,
           13.757,
           29,
           9
          ],
          [
           "Woods, Robert LAR WR",
           186,
           12.4,
           29,
           9
          ],
          [
           "Lockett, Tyler SEA WR",
           184.26,
           12.284,
           28,
           7
          ],
          [
           "Cooper, Amari DAL WR",
           183.7,
           12.247,
           26,
           7
          ],
          [
           "Brown, A.J. TEN WR",
           183.58,
           14.122,
           23,
           3
          ],
          [
           "Lamb, CeeDee DAL WR",
           173.44,
           11.562999999999999,
           22,
           2
          ],
          [
           "Johnson, Diontae PIT WR",
           169.98,
           12.140999999999998,
           24,
           3
          ],
          [
           "Anderson, Robby CAR WR",
           168.1,
           11.207,
           28,
           6
          ],
          [
           "Kupp, Cooper LAR WR",
           167.7,
           11.18,
           27,
           5
          ],
          [
           "Smith-Schuster, JuJu PIT WR",
           166.1,
           11.073,
           24,
           5
          ],
          [
           "Beasley, Cole BUF WR",
           165.5,
           11.033,
           32,
           10
          ],
          [
           "McLaurin, Terry WAS WR",
           164.8,
           11.770999999999999,
           25,
           3
          ],
          [
           "Fuller, Will HOU WR",
           163.96,
           14.905,
           27,
           6
          ],
          [
           "Moore, D.J. CAR WR",
           162.9,
           11.636,
           24,
           4
          ],
          [
           "Claypool, Chase PIT WR",
           162.3,
           10.82,
           22,
           2
          ],
          [
           "Cooks, Brandin HOU WR",
           158.4,
           11.314,
           27,
           8
          ],
          [
           "Higgins, Tee CIN WR",
           156.6,
           10.44,
           22,
           2
          ],
          [
           "Agholor, Nelson LVR WR",
           155.4,
           10.36,
           28,
           7
          ],
          [
           "Aiyuk, Brandon SFO WR",
           155.14,
           12.927999999999999,
           23,
           2
          ],
          [
           "Jones, Marvin DET WR",
           153.8,
           10.253,
           31,
           10
          ],
          [
           "Samuel, Curtis CAR WR",
           152.5,
           10.892999999999999,
           24,
           5
          ],
          [
           "Davis, Corey TEN WR",
           152,
           11.692,
           26,
           5
          ],
          [
           "Boyd, Tyler CIN WR",
           147.44,
           10.530999999999999,
           26,
           6
          ],
          [
           "Brown, Marquise BAL WR",
           138.6,
           9.24,
           23,
           3
          ],
          [
           "Crowder, Jamison NYJ WR",
           137.74,
           12.522,
           27,
           7
          ],
          [
           "Gallup, Michael DAL WR",
           134.9,
           8.993,
           25,
           4
          ],
          [
           "Godwin, Chris TBB WR",
           130.7,
           11.882,
           25,
           5
          ],
          [
           "Cole, Keelan JAC WR",
           130.4,
           8.693,
           28,
           5
          ],
          [
           "Landry, Jarvis CLE WR",
           129.36,
           9.24,
           28,
           8
          ],
          [
           "Patrick, Tim DEN WR",
           128.6,
           9.186,
           27,
           5
          ],
          [
           "Chark, D.J. JAC WR",
           126.6,
           9.738,
           24,
           4
          ],
          [
           "Kirk, Christian ARI WR",
           126.48,
           9.033999999999999,
           24,
           4
          ],
          [
           "Hilton, T.Y. IND WR",
           125,
           8.929,
           31,
           10
          ],
          [
           "Gage, Russell ATL WR",
           124.86,
           8.324,
           25,
           4
          ],
          [
           "Jones, Julio ATL WR",
           120.6,
           13.4,
           32,
           11
          ],
          [
           "Hardman, Mecole KCC WR",
           116.8,
           7.787000000000001,
           23,
           3
          ],
          [
           "Sanders, Emmanuel NOS WR",
           115,
           8.846,
           34,
           12
          ],
          [
           "Parker, DeVante MIA WR",
           114.2,
           8.785,
           28,
           7
          ],
          [
           "Williams, Mike LAC WR",
           113.9,
           8.136000000000001,
           26,
           5
          ],
          [
           "Slayton, Darius NYG WR",
           110.8,
           7.3870000000000005,
           24,
           3
          ],
          [
           "Pascal, Zach IND WR",
           105.8,
           7.053,
           26,
           5
          ],
          [
           "Renfrow, Hunter LVR WR",
           105.46,
           7.031000000000001,
           25,
           3
          ],
          [
           "Ward, Greg PHI WR",
           105.04,
           7.002999999999999,
           25,
           5
          ],
          [
           "Jeudy, Jerry DEN WR",
           104.1,
           6.94,
           22,
           2
          ],
          [
           "Mooney, Darnell CHI WR",
           104,
           6.933,
           23,
           2
          ],
          [
           "Shenault, Laviska JAC WR",
           104,
           8,
           22,
           2
          ],
          [
           "Moore, David SEA WR",
           102.62,
           6.841,
           26,
           5
          ],
          [
           "Valdes-Scantling, Marquez GBP WR",
           101.7,
           6.78,
           26,
           4
          ],
          [
           "Shepard, Sterling NYG WR",
           99.4,
           9.036,
           28,
           6
          ],
          [
           "Davis, Gabriel BUF WR",
           98.7,
           6.58,
           22,
           2
          ],
          [
           "Meyers, Jakobi NEP WR",
           95.26,
           7.327999999999999,
           24,
           3
          ],
          [
           "Patterson, Cordarrelle CHI WR",
           93.66,
           6.244,
           30,
           9
          ],
          [
           "Fulgham, Travis PHI WR",
           93.4,
           7.7829999999999995,
           25,
           3
          ],
          [
           "Bourne, Kendrick SFO WR",
           91.6,
           6.542999999999999,
           25,
           5
          ],
          [
           "Higgins, Rashard CLE WR",
           91.4,
           7.617000000000001,
           26,
           6
          ],
          [
           "Reynolds, Josh LAR WR",
           88.9,
           5.9270000000000005,
           26,
           5
          ],
          [
           "Grant, Jakeem MIA WR",
           87.36,
           6.24,
           28,
           6
          ],
          [
           "Byrd, Damiere NEP WR",
           86.8,
           5.787000000000001,
           28,
           7
          ],
          [
           "Miller, Scott TBB WR",
           85.3,
           5.687,
           23,
           3
          ],
          [
           "Washington, James PIT WR",
           85.2,
           5.68,
           25,
           4
          ],
          [
           "Green, A.J. CIN WR",
           84.3,
           5.62,
           32,
           11
          ],
          [
           "Berrios, Braxton NYJ WR",
           83.82,
           5.587999999999999,
           25,
           4
          ],
          [
           "Miller, Anthony CHI WR",
           83.74,
           5.582999999999999,
           26,
           4
          ],
          [
           "Cobb, Randall HOU WR",
           81.6,
           8.16,
           30,
           11
          ],
          [
           "Smith, Tre'Quan NOS WR",
           80.6,
           5.757000000000001,
           25,
           4
          ],
          [
           "Guyton, Jalen LAC WR",
           78.6,
           5.24,
           23,
           3
          ],
          [
           "Lazard, Allen GBP WR",
           78.6,
           8.732999999999999,
           25,
           4
          ],
          [
           "Perriman, Breshad NYJ WR",
           77.7,
           7.064,
           27,
           7
          ],
          [
           "Amendola, Danny DET WR",
           77.46,
           5.957999999999999,
           35,
           14
          ],
          [
           "Snead, Willie BAL WR",
           74.4,
           5.723,
           28,
           8
          ],
          [
           "Hamler, KJ DEN WR",
           74.02,
           5.694,
           21,
           2
          ],
          [
           "Ruggs, Henry LVR WR",
           73.44,
           6.12,
           22,
           2
          ],
          [
           "Beckham, Odell CLE WR",
           71.82,
           10.26,
           28,
           8
          ],
          [
           "Fitzgerald, Larry ARI WR",
           70.9,
           5.454,
           37,
           18
          ],
          [
           "Tate, Golden NYG WR",
           70.42,
           5.867999999999999,
           32,
           12
          ],
          [
           "Robinson, Demarcus KCC WR",
           70.12,
           4.675,
           26,
           6
          ],
          [
           "Watkins, Sammy KCC WR",
           69.9,
           6.99,
           27,
           8
          ],
          [
           "Reagor, Jalen PHI WR",
           68.96,
           6.896,
           22,
           2
          ],
          [
           "Johnson, Tyron LAC WR",
           68.94,
           6.267,
           25,
           3
          ],
          [
           "Williams, Preston MIA WR",
           67.8,
           8.475,
           24,
           3
          ],
          [
           "Sims, Cam WAS WR",
           67.7,
           4.513,
           25,
           4
          ],
          [
           "Duvernay, Devin BAL WR",
           66.46,
           4.431,
           23,
           2
          ],
          [
           "Samuel, Deebo SFO WR",
           65.2,
           9.314,
           25,
           3
          ],
          [
           "Brown, John BUF WR",
           65.1,
           8.138,
           31,
           8
          ],
          [
           "Conley, Chris JAC WR",
           63.9,
           4.564,
           28,
           7
          ],
          [
           "Thomas, Michael NOS WR",
           63.9,
           9.129,
           28,
           6
          ],
          [
           "Peoples-Jones, Donovan CLE WR",
           63.88,
           5.807,
           22,
           2
          ],
          [
           "Brown, Antonio TBB WR",
           62.88,
           8.982999999999999,
           32,
           12
          ],
          [
           "Pittman, Michael IND WR",
           62.4,
           5.2,
           23,
           2
          ],
          [
           "Coutee, Keke HOU WR",
           62.22,
           8.889,
           24,
           4
          ],
          [
           "Harris, Deonte NOS WR",
           59.42,
           6.602,
           23,
           3
          ],
          [
           "McKenzie, Isaiah BUF WR",
           58.68,
           3.912,
           26,
           5
          ],
          [
           "Agnew, Jamal DET WR",
           57.5,
           4.423,
           26,
           5
          ],
          [
           "McCloud, Ray-Ray PIT WR",
           56.02,
           3.735,
           24,
           4
          ],
          [
           "Golladay, Kenny DET WR",
           55.8,
           11.16,
           27,
           5
          ],
          [
           "Hall, Marvin CLE WR",
           52.82,
           4.402,
           28,
           6
          ],
          [
           "Boykin, Miles BAL WR",
           50.3,
           3.353,
           24,
           3
          ],
          [
           "Wilson, Cedrick DAL WR",
           49.72,
           3.315,
           25,
           4
          ],
          [
           "Roberts, Andre BUF WR",
           48.98,
           3.265,
           33,
           12
          ],
          [
           "Harry, N'Keal NEP WR",
           48.7,
           3.7460000000000004,
           23,
           3
          ],
          [
           "Johnson, Collin JAC WR",
           48.7,
           3.4789999999999996,
           23,
           2
          ],
          [
           "Olszewski, Gunner NEP WR",
           48.38,
           4.032,
           24,
           3
          ],
          [
           "Edelman, Julian NEP WR",
           47.22,
           7.87,
           35,
           13
          ],
          [
           "Hamilton, DaeSean DEN WR",
           47,
           3.133,
           26,
           4
          ],
          [
           "Mims, Denzel NYJ WR",
           46.7,
           5.837999999999999,
           23,
           2
          ],
          [
           "James, Richie SFO WR",
           46.58,
           4.658,
           26,
           4
          ],
          [
           "Cephus, Quintez DET WR",
           45.8,
           3.8169999999999997,
           23,
           2
          ],
          [
           "Humphries, Adam TEN WR",
           45.3,
           6.471,
           27,
           7
          ],
          [
           "Sims, Steven WAS WR",
           45.18,
           4.107,
           24,
           3
          ],
          [
           "Isabella, Andy ARI WR",
           44.54,
           3.7119999999999997,
           24,
           3
          ],
          [
           "Raymond, Kalif TEN WR",
           43.72,
           3.123,
           26,
           6
          ],
          [
           "Powell, Brandon ATL WR",
           42.4,
           2.827,
           24,
           4
          ],
          [
           "Zaccheaus, Olamide ATL WR",
           42.4,
           3.855,
           23,
           3
          ],
          [
           "Swain, Freddie SEA WR",
           42.38,
           2.825,
           22,
           2
          ],
          [
           "Jackson, DeSean PHI WR",
           39.88,
           7.976,
           34,
           14
          ],
          [
           "Johnson, Marcus FA WR",
           38.5,
           3.5,
           26,
           6
          ],
          [
           "Hansen, Chad HOU WR",
           35.5,
           8.875,
           26,
           5
          ],
          [
           "Inman, Dontrelle WAS WR",
           34.8,
           3.867,
           32,
           9
          ],
          [
           "Ford, Isaiah MIA WR",
           34.4,
           3.822,
           25,
           5
          ],
          [
           "Callaway, Marquez NOS WR",
           32.84,
           3.284,
           23,
           2
          ],
          [
           "Johnson, Tyler TBB WR",
           32.8,
           2.523,
           22,
           2
          ],
          [
           "Sanu, Mohamed DET WR",
           32.4,
           3.6,
           31,
           10
          ],
          [
           "Wright, Isaiah WAS WR",
           32.1,
           2.469,
           24,
           2
          ],
          [
           "Jefferson, Van LAR WR",
           31.42,
           2.095,
           24,
           2
          ],
          [
           "Hollins, Mack MIA WR",
           31.3,
           2.0869999999999997,
           27,
           5
          ],
          [
           "Batson, Cameron TEN WR",
           29.24,
           2.658,
           25,
           4
          ],
          [
           "Beebe, Chad MIN WR",
           28.84,
           2.218,
           26,
           4
          ],
          [
           "Cooper, Pharoh CAR WR",
           27.96,
           1.864,
           26,
           6
          ],
          [
           "Spencer, Diontae DEN WR",
           27.94,
           2.7939999999999996,
           29,
           8
          ],
          [
           "Johnson, Olabisi MIN WR",
           26.4,
           1.76,
           24,
           3
          ],
          [
           "Erickson, Alex CIN WR",
           26.18,
           1.745,
           28,
           6
          ],
          [
           "Pringle, Byron KCC WR",
           26.18,
           2.182,
           27,
           4
          ],
          [
           "Stills, Kenny BUF WR",
           25.9,
           2.59,
           29,
           9
          ],
          [
           "Mickens, Jaydon TBB WR",
           25.82,
           2.8689999999999998,
           27,
           6
          ],
          [
           "Jones, Zay LVR WR",
           25.36,
           1.6909999999999998,
           26,
           5
          ],
          [
           "Reed, Joe LAC WR",
           25.3,
           2.53,
           23,
           2
          ],
          [
           "Smith, Jeff NYJ WR",
           25.2,
           2.291,
           24,
           3
          ],
          [
           "Webster, Nsimba LAR WR",
           24.9,
           1.66,
           25,
           3
          ],
          [
           "Hightower, John PHI WR",
           24.7,
           2.0580000000000003,
           24,
           2
          ],
          [
           "Watson, Justin TBB WR",
           24.66,
           2.4659999999999997,
           26,
           4
          ],
          [
           "Brown, Noah DAL WR",
           24.3,
           1.62,
           23,
           5
          ],
          [
           "St. Brown, Equanimeous GBP WR",
           23.9,
           2.173,
           24,
           4
          ],
          [
           "Thomas, Mike CIN WR",
           23.3,
           1.7919999999999998,
           26,
           6
          ],
          [
           "Johnson, KeeSean ARI WR",
           22.5,
           3.214,
           24,
           3
          ],
          [
           "Taylor, Malik GBP WR",
           22.02,
           1.5730000000000002,
           25,
           3
          ],
          [
           "Hodge, KhaDarel CLE WR",
           21.5,
           2.688,
           26,
           4
          ],
          [
           "Tate, Auden CIN WR",
           20.5,
           2.278,
           24,
           4
          ],
          [
           "Watkins, Quez PHI WR",
           19,
           3.8,
           22,
           2
          ],
          [
           "Board, C.J. NYG WR",
           18.8,
           1.446,
           27,
           5
          ],
          [
           "Edwards, Bryan LVR WR",
           18.7,
           1.7,
           22,
           2
          ],
          [
           "Blake, Christian ATL WR",
           18.6,
           1.24,
           24,
           4
          ],
          [
           "Jeffery, Alshon PHI WR",
           18.5,
           2.6430000000000002,
           31,
           10
          ],
          [
           "Bryant, Dez BAL WR",
           18.2,
           3.64,
           32,
           12
          ],
          [
           "Harris, De'Michael IND WR",
           17.5,
           2.5,
           22,
           2
          ],
          [
           "Treadwell, Laquon ATL WR",
           17.4,
           4.35,
           25,
           6
          ],
          [
           "Hogan, Chris FA WR",
           16.3,
           3.26,
           32,
           11
          ],
          [
           "Taylor, Trent SFO WR",
           16.08,
           1.34,
           27,
           5
          ],
          [
           "Dulin, Ashton IND WR",
           15.12,
           1.26,
           24,
           3
          ],
          [
           "Shepherd, Darrius FA WR",
           14.42,
           1.8030000000000002,
           25,
           3
          ],
          [
           "Cleveland, Tyrie DEN WR",
           13.66,
           1.518,
           23,
           2
          ],
          [
           "Arcega-Whiteside, JJ PHI WR",
           13.5,
           1.929,
           24,
           3
          ],
          [
           "Carter, DeAndre CHI WR",
           12.34,
           1.028,
           28,
           7
          ],
          [
           "Osborn, K.J. MIN WR",
           11.7,
           1.3,
           23,
           2
          ],
          [
           "Zylstra, Brandon CAR WR",
           11.34,
           0.7559999999999999,
           28,
           4
          ],
          [
           "Mack, Austin NYG WR",
           11.2,
           1.12,
           null,
           null
          ],
          [
           "Malone, Josh NYJ WR",
           10.4,
           2.6,
           25,
           5
          ],
          [
           "Hill, K.J. LAC WR",
           10.32,
           0.737,
           23,
           2
          ],
          [
           "Campbell, Parris IND WR",
           10.2,
           5.1,
           23,
           3
          ],
          [
           "Humphrey, Lil'Jordan NOS WR",
           9.9,
           4.95,
           23,
           3
          ],
          [
           "Proche, James BAL WR",
           9.82,
           0.701,
           24,
           2
          ],
          [
           "Sutton, Courtland DEN WR",
           9.1,
           9.1,
           25,
           4
          ],
          [
           "Kumerow, Jake BUF WR",
           8.7,
           1.45,
           29,
           5
          ],
          [
           "Sherfield, Trent ARI WR",
           8.6,
           0.614,
           25,
           4
          ],
          [
           "Wims, Javon CHI WR",
           8.5,
           0.708,
           26,
           4
          ],
          [
           "Moncrief, Donte NEP WR",
           8.36,
           1.672,
           27,
           8
          ],
          [
           "Westbrook, Nick TEN WR",
           7.3,
           0.608,
           24,
           2
          ],
          [
           "Bradley, Ja'Marcus CLE WR",
           6.5,
           6.5,
           24,
           2
          ],
          [
           "Zuber, Isaiah NEP WR",
           6.5,
           1.625,
           24,
           2
          ],
          [
           "Ridley, Riley CHI WR",
           5.9,
           1.18,
           24,
           3
          ],
          [
           "Hart, Penny SEA WR",
           5.7,
           0.475,
           24,
           3
          ],
          [
           "Cracraft, River SFO WR",
           5.56,
           0.695,
           26,
           5
          ],
          [
           "Mitchell, Steven HOU WR",
           5.5,
           1.1,
           27,
           4
          ],
          [
           "Foster, Robert WAS WR",
           5.2,
           1.3,
           27,
           4
          ],
          [
           "Johnson, Juwan NOS WR",
           5,
           0.833,
           24,
           2
          ],
          [
           "Cager, Lawrence NYJ WR",
           4.5,
           2.25,
           23,
           2
          ],
          [
           "Callaway, Antonio KCC WR",
           4.48,
           0.8959999999999999,
           24,
           4
          ],
          [
           "Ginn Jr., Ted FA WR",
           4.46,
           0.743,
           36,
           15
          ],
          [
           "Westbrook, Dede JAC WR",
           4.22,
           2.11,
           27,
           5
          ],
          [
           "Kemp, Marcus KCC WR",
           4.1,
           0.41,
           25,
           5
          ],
          [
           "Austin, Tavon GBP WR",
           3.58,
           1.193,
           30,
           9
          ],
          [
           "Pettis, Dante NYG WR",
           3.58,
           0.597,
           25,
           4
          ],
          [
           "Roberts, Seth FA WR",
           3.5,
           0.5,
           30,
           8
          ],
          [
           "Burnett, Deontay PHI WR",
           3.4,
           1.7,
           23,
           4
          ],
          [
           "Fountain, Daurice IND WR",
           3.3,
           0.66,
           25,
           4
          ],
          [
           "Fowler, Bennie NOS WR",
           3.1,
           0.62,
           29,
           8
          ],
          [
           "Gandy-Golden, Antonio WAS WR",
           3,
           0.5,
           23,
           2
          ],
          [
           "Ratley, Damion HOU WR",
           2.8,
           0.56,
           26,
           4
          ],
          [
           "Natson, JoJo CLE WR",
           2.54,
           0.847,
           27,
           6
          ],
          [
           "Chisena, Dan MIN WR",
           2.5,
           0.192,
           24,
           2
          ],
          [
           "Smith, Vyncint NYJ WR",
           2.38,
           0.397,
           24,
           4
          ],
          [
           "Scott, Jaleel NYJ WR",
           2.1,
           2.1,
           26,
           4
          ],
          [
           "Morgan, Stanley CIN WR",
           2,
           0.4,
           23,
           3
          ],
          [
           "Kirkwood, Keith CAR WR",
           1.8,
           1.8,
           27,
           4
          ],
          [
           "Hollister, Cody TEN WR",
           1.7,
           0.85,
           27,
           5
          ],
          [
           "Harris, Dwayne CHI WR",
           1.24,
           0.413,
           33,
           11
          ],
          [
           "Ross, John CIN WR",
           1.2,
           0.4,
           25,
           5
          ],
          [
           "Carr, Austin FA WR",
           1.14,
           0.228,
           27,
           5
          ],
          [
           "Moore, Chris BAL WR",
           1,
           0.5,
           27,
           6
          ],
          [
           "Slater, Matt NEP WR",
           1,
           0.067,
           35,
           14
          ],
          [
           "Turner, Malik DAL WR",
           1,
           0.2,
           25,
           4
          ],
          [
           "Godwin, Terry JAC WR",
           0.8,
           0.4,
           24,
           3
          ],
          [
           "White, Kevin SFO WR",
           0.8,
           0.267,
           28,
           7
          ],
          [
           "Gafford, Rico ARI WR",
           0.48,
           0.16,
           25,
           4
          ],
          [
           "Quinn, Trey LVR WR",
           0.24,
           0.24,
           25,
           4
          ],
          [
           "Bachman, Alex NYG WR",
           0,
           0,
           24,
           3
          ],
          [
           "Badet, Jeff WAS WR",
           0,
           0,
           26,
           4
          ],
          [
           "Begelton, Reggie GBP WR",
           0,
           0,
           27,
           3
          ],
          [
           "Brown, Tony WAS WR",
           0,
           0,
           23,
           2
          ],
          [
           "Cain, Deon BAL WR",
           0,
           0,
           24,
           4
          ],
          [
           "Coulter, Isaiah HOU WR",
           0,
           0,
           null,
           null
          ],
          [
           "Dieter, Gehrig KCC WR",
           0,
           0,
           28,
           5
          ],
          [
           "Doss, Keelan LVR WR",
           0,
           0,
           25,
           3
          ],
          [
           "Holton, Johnny NYG WR",
           0,
           0,
           29,
           6
          ],
          [
           "Matthews, Jordan SFO WR",
           0,
           0,
           28,
           8
          ],
          [
           "Merritt, Kirk MIA WR",
           0,
           0,
           24,
           2
          ],
          [
           "Moore, Jason LAC WR",
           0,
           0,
           25,
           3
          ],
          [
           "Rowland, Chris ATL WR",
           0,
           0,
           23,
           2
          ],
          [
           "Sharpe, Tajae FA WR",
           0,
           0,
           26,
           6
          ],
          [
           "Taylor, Taywan CLE WR",
           0,
           0,
           26,
           5
          ],
          [
           "Williams, Duke BUF WR",
           0,
           0,
           28,
           4
          ],
          [
           "Willies, Derrick CLE WR",
           0,
           0,
           26,
           4
          ],
          [
           "Winfree, Juwann GBP WR",
           0,
           0,
           24,
           3
          ],
          [
           "Butler, Hakeem PHI WR",
           0,
           0,
           25,
           3
          ]
         ],
         "hovertemplate": "position=%{x}<br>z_score=%{y}<br>player_name=%{customdata[0]}<br>total_points=%{customdata[1]}<br>average_points=%{customdata[2]}<br>age=%{customdata[3]}<br>experience_years=%{customdata[4]}<extra></extra>",
         "legendgroup": "WR",
         "marker": {
          "color": "#B6E880"
         },
         "name": "WR",
         "notched": false,
         "offsetgroup": "WR",
         "orientation": "v",
         "showlegend": true,
         "type": "box",
         "x": [
          "WR",
          "WR",
          "WR",
          "WR",
          "WR",
          "WR",
          "WR",
          "WR",
          "WR",
          "WR",
          "WR",
          "WR",
          "WR",
          "WR",
          "WR",
          "WR",
          "WR",
          "WR",
          "WR",
          "WR",
          "WR",
          "WR",
          "WR",
          "WR",
          "WR",
          "WR",
          "WR",
          "WR",
          "WR",
          "WR",
          "WR",
          "WR",
          "WR",
          "WR",
          "WR",
          "WR",
          "WR",
          "WR",
          "WR",
          "WR",
          "WR",
          "WR",
          "WR",
          "WR",
          "WR",
          "WR",
          "WR",
          "WR",
          "WR",
          "WR",
          "WR",
          "WR",
          "WR",
          "WR",
          "WR",
          "WR",
          "WR",
          "WR",
          "WR",
          "WR",
          "WR",
          "WR",
          "WR",
          "WR",
          "WR",
          "WR",
          "WR",
          "WR",
          "WR",
          "WR",
          "WR",
          "WR",
          "WR",
          "WR",
          "WR",
          "WR",
          "WR",
          "WR",
          "WR",
          "WR",
          "WR",
          "WR",
          "WR",
          "WR",
          "WR",
          "WR",
          "WR",
          "WR",
          "WR",
          "WR",
          "WR",
          "WR",
          "WR",
          "WR",
          "WR",
          "WR",
          "WR",
          "WR",
          "WR",
          "WR",
          "WR",
          "WR",
          "WR",
          "WR",
          "WR",
          "WR",
          "WR",
          "WR",
          "WR",
          "WR",
          "WR",
          "WR",
          "WR",
          "WR",
          "WR",
          "WR",
          "WR",
          "WR",
          "WR",
          "WR",
          "WR",
          "WR",
          "WR",
          "WR",
          "WR",
          "WR",
          "WR",
          "WR",
          "WR",
          "WR",
          "WR",
          "WR",
          "WR",
          "WR",
          "WR",
          "WR",
          "WR",
          "WR",
          "WR",
          "WR",
          "WR",
          "WR",
          "WR",
          "WR",
          "WR",
          "WR",
          "WR",
          "WR",
          "WR",
          "WR",
          "WR",
          "WR",
          "WR",
          "WR",
          "WR",
          "WR",
          "WR",
          "WR",
          "WR",
          "WR",
          "WR",
          "WR",
          "WR",
          "WR",
          "WR",
          "WR",
          "WR",
          "WR",
          "WR",
          "WR",
          "WR",
          "WR",
          "WR",
          "WR",
          "WR",
          "WR",
          "WR",
          "WR",
          "WR",
          "WR",
          "WR",
          "WR",
          "WR",
          "WR",
          "WR",
          "WR",
          "WR",
          "WR",
          "WR",
          "WR",
          "WR",
          "WR",
          "WR",
          "WR",
          "WR",
          "WR",
          "WR",
          "WR",
          "WR",
          "WR",
          "WR",
          "WR",
          "WR",
          "WR",
          "WR",
          "WR",
          "WR",
          "WR",
          "WR",
          "WR",
          "WR",
          "WR",
          "WR",
          "WR",
          "WR",
          "WR",
          "WR",
          "WR",
          "WR",
          "WR",
          "WR",
          "WR",
          "WR",
          "WR",
          "WR",
          "WR",
          "WR",
          "WR",
          "WR",
          "WR",
          "WR",
          "WR",
          "WR",
          "WR",
          "WR",
          "WR",
          "WR",
          "WR",
          "WR",
          "WR",
          "WR",
          "WR",
          "WR"
         ],
         "x0": " ",
         "xaxis": "x",
         "y": [
          3.5477868559358794,
          3.5033011070526925,
          2.939285362283716,
          2.5722779339974244,
          2.5691003805057675,
          2.530969738605893,
          2.3641481802939426,
          2.362559403548114,
          2.330783868631552,
          2.1846164080153665,
          2.0829346962823685,
          1.9780754310577136,
          1.9504307156803042,
          1.941533565903667,
          1.9396270338086736,
          1.7785250717817036,
          1.7235533963760512,
          1.693684393554483,
          1.6873292865711704,
          1.661908858637921,
          1.6523761981629523,
          1.6412547609421557,
          1.6279090362771997,
          1.6110680027714217,
          1.6015353422964531,
          1.539573049209157,
          1.510975067784251,
          1.4919097468343139,
          1.4877789272951607,
          1.4664893189010644,
          1.445835221205299,
          1.4378913374761584,
          1.3654431178663968,
          1.2249952535351925,
          1.211331773521071,
          1.1662105139395529,
          1.0994818906147723,
          1.0947155603772882,
          1.078192282220676,
          1.0661175789523822,
          1.0343420440358202,
          1.0324355119408266,
          1.0089216161025705,
          1.006697328658411,
          0.9390154392861338,
          0.878641922944666,
          0.8500439415197603,
          0.8373337275531354,
          0.8325673973156512,
          0.7833153181949798,
          0.7038764809035747,
          0.698474639967759,
          0.6918017776352813,
          0.6768672762244968,
          0.6752784994786689,
          0.6752784994786689,
          0.6533533803862411,
          0.6387366343246226,
          0.6021947691705762,
          0.5910733319497794,
          0.5364194118932927,
          0.510998983960043,
          0.50686816442089,
          0.47827018299598395,
          0.47509262950432796,
          0.43537321085862535,
          0.4109060489728725,
          0.40200889919623506,
          0.3781772480088135,
          0.3765884712629855,
          0.3622894805505325,
          0.35466335217055756,
          0.3533923307738951,
          0.3193925084131737,
          0.3035047409548926,
          0.27172920603833056,
          0.27172920603833056,
          0.2574302153258778,
          0.2536171511358902,
          0.2050005827135504,
          0.19896323107940347,
          0.1897483259536005,
          0.16401014267118516,
          0.1493933966095668,
          0.14176726822959185,
          0.13700093799210758,
          0.13350562915128578,
          0.11857112774050141,
          0.11825337239133585,
          0.10014131748889546,
          0.09855254074306745,
          0.07885170909479883,
          0.058833122097364875,
          0.057244345351536635,
          0.03817902440159946,
          0.03817902440159946,
          0.03786126905243391,
          0.021973501594152876,
          0.014347373214177917,
          0.011487575071687335,
          -0.032998173811499505,
          -0.044755121730627505,
          -0.06350268733139912,
          -0.08701658316965499,
          -0.09051189201047692,
          -0.13785743903615433,
          -0.17789461303102258,
          -0.18710951815682555,
          -0.19886646607595357,
          -0.20331504096427216,
          -0.20331504096427216,
          -0.20839912655092208,
          -0.22682893680252814,
          -0.23032424564334994,
          -0.2350905758808342,
          -0.23699710797582801,
          -0.24938956659328723,
          -0.25733345032242777,
          -0.2592399824174214,
          -0.2694081535907213,
          -0.28243612290651177,
          -0.3034079759514427,
          -0.3034079759514427,
          -0.30372573130060826,
          -0.34344514994631087,
          -0.3653702690387387,
          -0.4130335714135818,
          -0.4241550086343786,
          -0.430510115617691,
          -0.4552950328526093,
          -0.45593054355094065,
          -0.462285650534253,
          -0.4670519807717373,
          -0.4778556626433684,
          -0.4797621947383621,
          -0.5124909957024212,
          -0.5188461026857334,
          -0.5328273380490208,
          -0.5331450933981865,
          -0.5576122552839392,
          -0.561107564124761,
          -0.561107564124761,
          -0.5655561390130798,
          -0.5668271604097422,
          -0.5741355334405515,
          -0.5750887994880484,
          -0.5766775762338764,
          -0.5814439064713608,
          -0.584621459963017,
          -0.5852569706613483,
          -0.5909765669463294,
          -0.5973316739296418,
          -0.6068643344046104,
          -0.6195745483712353,
          -0.6272006767512102,
          -0.6354623158295163,
          -0.6513500832877973,
          -0.6751817344752188,
          -0.6783592879668751,
          -0.6799480647127031,
          -0.6815368414585312,
          -0.6831256182043594,
          -0.6878919484418436,
          -0.6990133856626404,
          -0.7006021624084685,
          -0.7180787066125777,
          -0.7215740154533995,
          -0.7368262722133493,
          -0.7479477094341459,
          -0.7600224127024396,
          -0.7625644554957646,
          -0.7809942657473704,
          -0.7911624369206703,
          -0.7968820332056515,
          -0.7991063206498108,
          -0.8118165346164358,
          -0.8130875560130982,
          -0.8149940881080919,
          -0.8197604183455762,
          -0.8210314397422387,
          -0.8324706323122011,
          -0.8388257392955134,
          -0.8404145160413415,
          -0.8420032927871697,
          -0.844227580231329,
          -0.861068613737107,
          -0.8737788277037317,
          -0.8737788277037317,
          -0.8833114881787004,
          -0.8864890416703565,
          -0.8887133291145158,
          -0.8896665951620127,
          -0.894432925399497,
          -0.8976104788911533,
          -0.9055543626202938,
          -0.9058721179694593,
          -0.906189873318625,
          -0.9100029375086125,
          -0.9119094696036062,
          -0.9201711086819124,
          -0.9201711086819124,
          -0.9214421300785748,
          -0.9230309068244029,
          -0.924619683570231,
          -0.9277972370618872,
          -0.9293860138077153,
          -0.9325635672993716,
          -0.9366943868385247,
          -0.9373298975368559,
          -0.9392364296318495,
          -0.9436850045201682,
          -0.9452737812659964,
          -0.9484513347576526,
          -0.9500401115034807,
          -0.9573484845342899,
          -0.9579839952326211,
          -0.958937261280118,
          -0.9611615487242774,
          -0.9611615487242774,
          -0.9611615487242774,
          -0.9643391022159337,
          -0.9643391022159337,
          -0.9694231878025836,
          -0.9732362519925709,
          -0.9770493161825584,
          -0.9770493161825584,
          -0.9770493161825584,
          -0.9770493161825584,
          -0.9770493161825584,
          -0.9770493161825584,
          -0.9770493161825584,
          -0.9770493161825584,
          -0.9770493161825584,
          -0.9770493161825584,
          -0.9770493161825584,
          -0.9770493161825584,
          -0.9770493161825584,
          -0.9770493161825584,
          -0.9770493161825584,
          -0.9770493161825584,
          -0.9770493161825584,
          -0.9770493161825584,
          -0.9770493161825584
         ],
         "y0": " ",
         "yaxis": "y"
        },
        {
         "alignmentgroup": "True",
         "boxpoints": "all",
         "customdata": [
          [
           "Bowden, Lynn MIA RB",
           31.6,
           3.511,
           23,
           2
          ],
          [
           "Perry, Malcolm MIA RB",
           11.2,
           1.4,
           24,
           2
          ],
          [
           "Kamara, Alvin NOS RB",
           336.56,
           22.436999999999998,
           25,
           5
          ],
          [
           "Cook, Dalvin MIN RB",
           311.8,
           22.271,
           25,
           5
          ],
          [
           "Henry, Derrick TEN RB",
           287.1,
           19.14,
           27,
           6
          ],
          [
           "Robinson, James JAC RB",
           218.9,
           15.636,
           22,
           2
          ],
          [
           "Montgomery, David CHI RB",
           215.1,
           15.364,
           23,
           3
          ],
          [
           "Jones, Aaron GBP RB",
           214.9,
           16.531,
           26,
           5
          ],
          [
           "Taylor, Jonathan IND RB",
           197.9,
           14.136,
           22,
           2
          ],
          [
           "Hunt, Kareem CLE RB",
           191.9,
           12.793,
           25,
           5
          ],
          [
           "Jacobs, Josh LVR RB",
           191.4,
           13.671,
           23,
           3
          ],
          [
           "Elliott, Ezekiel DAL RB",
           183.1,
           13.079,
           25,
           6
          ],
          [
           "Chubb, Nick CLE RB",
           182.9,
           16.627,
           25,
           4
          ],
          [
           "Davis, Mike CAR RB",
           177.4,
           11.827,
           28,
           7
          ],
          [
           "Gibson, Antonio WAS RB",
           175.6,
           13.508,
           22,
           2
          ],
          [
           "Drake, Kenyan ARI RB",
           167.1,
           11.936,
           27,
           6
          ],
          [
           "Gordon, Melvin DEN RB",
           165.4,
           11.814,
           28,
           7
          ],
          [
           "Hines, Nyheim IND RB",
           164.2,
           10.947000000000001,
           24,
           4
          ],
          [
           "Jones, Ronald TBB RB",
           158.5,
           12.192,
           23,
           4
          ],
          [
           "Carson, Chris SEA RB",
           158,
           14.364,
           26,
           5
          ],
          [
           "Edwards-Helaire, Clyde KCC RB",
           157,
           12.077,
           22,
           2
          ],
          [
           "Sanders, Miles PHI RB",
           154.4,
           12.867,
           24,
           3
          ],
          [
           "Edmonds, Chase ARI RB",
           151.68,
           10.112,
           25,
           4
          ],
          [
           "Swift, D'Andre DET RB",
           150.3,
           12.525,
           22,
           2
          ],
          [
           "Johnson, David HOU RB",
           142,
           12.909,
           29,
           7
          ],
          [
           "McKissic, J.D. WAS RB",
           141.9,
           9.46,
           27,
           6
          ],
          [
           "Gurley, Todd ATL RB",
           141.2,
           10.086,
           26,
           7
          ],
          [
           "Bernard, Giovani CIN RB",
           136.42,
           9.095,
           29,
           9
          ],
          [
           "Conner, James PIT RB",
           135.9,
           11.325,
           26,
           5
          ],
          [
           "Pollard, Tony DAL RB",
           132.1,
           8.807,
           24,
           3
          ],
          [
           "Gaskin, Myles MIA RB",
           128,
           14.222000000000001,
           24,
           3
          ],
          [
           "Dobbins, J.K. BAL RB",
           127.5,
           9.107000000000001,
           22,
           2
          ],
          [
           "Ekeler, Austin LAC RB",
           123.2,
           13.689,
           26,
           5
          ],
          [
           "Murray, Latavius NOS RB",
           122.7,
           8.18,
           31,
           9
          ],
          [
           "Henderson, Darrell LAR RB",
           122.3,
           8.152999999999999,
           23,
           3
          ],
          [
           "Edwards, Gus BAL RB",
           121.2,
           8.08,
           26,
           4
          ],
          [
           "McKinnon, Jerick SFO RB",
           121.16,
           8.077,
           29,
           8
          ],
          [
           "Gallman, Wayne NYG RB",
           120.1,
           8.579,
           26,
           5
          ],
          [
           "Singletary, Devin BUF RB",
           119.3,
           7.952999999999999,
           23,
           3
          ],
          [
           "Wilson, Jeffery SFO RB",
           115.5,
           10.5,
           25,
           4
          ],
          [
           "Williams, Jamaal GBP RB",
           111.8,
           8.6,
           26,
           5
          ],
          [
           "Fournette, Leonard TBB RB",
           110.3,
           9.192,
           26,
           5
          ],
          [
           "Peterson, Adrian DET RB",
           106.2,
           7.08,
           36,
           15
          ],
          [
           "Brown, Malcolm LAR RB",
           96.3,
           6.42,
           28,
           7
          ],
          [
           "Burkhead, Rex NEP RB",
           95.1,
           9.51,
           30,
           9
          ],
          [
           "Scott, Boston PHI RB",
           93.8,
           6.252999999999999,
           26,
           4
          ],
          [
           "Gore, Frank NYJ RB",
           92.2,
           6.147,
           38,
           17
          ],
          [
           "Mostert, Raheem SFO RB",
           91.7,
           11.462,
           29,
           7
          ],
          [
           "Mixon, Joe CIN RB",
           90.1,
           15.017000000000001,
           24,
           5
          ],
          [
           "Moss, Zack BUF RB",
           89.5,
           7.457999999999999,
           23,
           2
          ],
          [
           "Akers, Cam LAR RB",
           87.7,
           7.308,
           21,
           2
          ],
          [
           "Harris, Damien NEP RB",
           86.8,
           8.68,
           24,
           3
          ],
          [
           "McCaffrey, Christian CAR RB",
           83.4,
           27.8,
           24,
           5
          ],
          [
           "White, James NEP RB",
           80,
           6.154,
           29,
           8
          ],
          [
           "Hyde, Carlos SEA RB",
           74.9,
           7.49,
           30,
           8
          ],
          [
           "Booker, Devontae LVR RB",
           73.76,
           4.917,
           28,
           6
          ],
          [
           "Kelley, Joshua LAC RB",
           72.26,
           5.558,
           23,
           2
          ],
          [
           "Hill, Brian ATL RB",
           71.3,
           4.753,
           25,
           5
          ],
          [
           "Snell, Benny PIT RB",
           70.9,
           4.727,
           23,
           3
          ],
          [
           "Juszczyk, Kyle SFO RB",
           69.2,
           4.613,
           30,
           9
          ],
          [
           "Johnson, Duke HOU RB",
           68.4,
           6.218,
           27,
           7
          ],
          [
           "Ballage, Kalen LAC RB",
           67.8,
           6.78,
           25,
           4
          ],
          [
           "Lindsay, Phillip DEN RB",
           63.5,
           5.773,
           26,
           4
          ],
          [
           "Lewis, Dion NYG RB",
           63,
           4.2,
           30,
           11
          ],
          [
           "Johnson, Kerryon DET RB",
           62.3,
           4.1530000000000005,
           23,
           4
          ],
          [
           "Bell, Le'Veon KCC RB",
           61.1,
           5.555,
           29,
           9
          ],
          [
           "Perine, Samaje CIN RB",
           58.12,
           3.875,
           25,
           5
          ],
          [
           "Wilkins, Jordan IND RB",
           57.42,
           3.8280000000000003,
           26,
           4
          ],
          [
           "Barber, Peyton WAS RB",
           54,
           3.6,
           26,
           6
          ],
          [
           "Mattison, Alexander MIN RB",
           52.4,
           4.367,
           22,
           3
          ],
          [
           "Johnson, Ty NYJ RB",
           51.76,
           4.313,
           23,
           3
          ],
          [
           "Michel, Sony NEP RB",
           50.7,
           6.337000000000001,
           26,
           4
          ],
          [
           "Dallas, DeeJay SEA RB",
           49.9,
           4.158,
           22,
           2
          ],
          [
           "Ahmed, Salvon MIA RB",
           49.7,
           9.94,
           22,
           2
          ],
          [
           "Perine, Lamical NYJ RB",
           48.88,
           4.888,
           23,
           2
          ],
          [
           "Richard, Jalen LVR RB",
           47.5,
           3.654,
           27,
           6
          ],
          [
           "Ingram, Mark FA RB",
           46,
           4.6,
           31,
           11
          ],
          [
           "Smith, Ito ATL RB",
           45.7,
           3.515,
           25,
           4
          ],
          [
           "Williams, Darrel KCC RB",
           44.8,
           2.987,
           26,
           4
          ],
          [
           "Homer, Travis SEA RB",
           42.94,
           4.771,
           22,
           3
          ],
          [
           "Jackson, Justin LAC RB",
           42.4,
           5.3,
           26,
           4
          ],
          [
           "Dillon, AJ GBP RB",
           39,
           3.9,
           23,
           2
          ],
          [
           "Morris, Alfred NYG RB",
           38,
           4.75,
           32,
           10
          ],
          [
           "McNichols, Jeremy TEN RB",
           37.9,
           2.5269999999999997,
           25,
           5
          ],
          [
           "Breida, Matt MIA RB",
           37,
           3.364,
           26,
           5
          ],
          [
           "Thompson, Chris JAC RB",
           32.6,
           4.075,
           30,
           9
          ],
          [
           "Freeman, Devonta FA RB",
           32.5,
           6.5,
           29,
           8
          ],
          [
           "Freeman, Royce DEN RB",
           31.4,
           2.093,
           25,
           4
          ],
          [
           "Hasty, JaMycal SFO RB",
           29.88,
           3.735,
           24,
           2
          ],
          [
           "Abdullah, Ameer MIN RB",
           29.6,
           1.973,
           27,
           7
          ],
          [
           "Ervin, Tyler GBP RB",
           29.24,
           3.655,
           27,
           6
          ],
          [
           "Johnson, D'Ernest CLE RB",
           28.28,
           1.885,
           25,
           3
          ],
          [
           "Howard, Jordan PHI RB",
           28.2,
           4.029,
           26,
           6
          ],
          [
           "Ogunbowale, Dare JAC RB",
           24.44,
           1.88,
           27,
           5
          ],
          [
           "Ingold, Alec LVR RB",
           24.4,
           1.6269999999999998,
           24,
           3
          ],
          [
           "Adams, Josh NYJ RB",
           23.2,
           3.3139999999999996,
           24,
           4
          ],
          [
           "Evans, Darrynton TEN RB",
           22.7,
           5.675,
           22,
           2
          ],
          [
           "Ham, C.J. MIN RB",
           21.84,
           1.56,
           27,
           6
          ],
          [
           "Vaughn, Ke'Shawn TBB RB",
           20.8,
           2.311,
           24,
           2
          ],
          [
           "Boone, Mike MIN RB",
           20.18,
           1.345,
           25,
           4
          ],
          [
           "Nall, Ryan CHI RB",
           20.1,
           1.34,
           25,
           4
          ],
          [
           "McCoy, LeSean TBB RB",
           19.2,
           1.92,
           32,
           13
          ],
          [
           "Clement, Corey PHI RB",
           19.18,
           1.37,
           26,
           5
          ],
          [
           "Smith, Rodney CAR RB",
           19.1,
           3.1830000000000003,
           25,
           2
          ],
          [
           "McFarland, Anthony PIT RB",
           18,
           1.8,
           22,
           2
          ],
          [
           "Nabers, Gabe LAC RB",
           17.5,
           1.167,
           23,
           2
          ],
          [
           "Bonnafon, Reggie CAR RB",
           16.7,
           8.35,
           25,
           3
          ],
          [
           "Foreman, D'Onta TEN RB",
           16.5,
           2.75,
           25,
           5
          ],
          [
           "Pope, Troymaine FA RB",
           16.36,
           2.727,
           27,
           6
          ],
          [
           "Laird, Patrick MIA RB",
           16.3,
           1.087,
           25,
           3
          ],
          [
           "Prosise, C.J. FA RB",
           16.16,
           1.6159999999999999,
           27,
           6
          ],
          [
           "Watt, Derek PIT RB",
           15.5,
           1.409,
           28,
           6
          ],
          [
           "Taylor, J.J. NEP RB",
           15.1,
           3.02,
           23,
           2
          ],
          [
           "Washington, DeAndre MIA RB",
           14.6,
           3.65,
           28,
           6
          ],
          [
           "Cohen, Tarik CHI RB",
           14.5,
           4.833,
           25,
           5
          ],
          [
           "Howell, Buddy HOU RB",
           14.2,
           1.092,
           25,
           4
          ],
          [
           "Cannon, Trenton CAR RB",
           13.78,
           1.06,
           26,
           4
          ],
          [
           "Yeldon, T.J. BUF RB",
           13.7,
           4.567,
           27,
           7
          ],
          [
           "Coleman, Tevin SFO RB",
           12.8,
           1.829,
           28,
           7
          ],
          [
           "Barkley, Saquon NYG RB",
           12.4,
           6.2,
           24,
           4
          ],
          [
           "Hill, Justice BAL RB",
           11.9,
           1.082,
           23,
           3
          ],
          [
           "Samuels, Jaylen PIT RB",
           11.9,
           0.915,
           24,
           4
          ],
          [
           "Collins, Alex SEA RB",
           11.7,
           5.85,
           26,
           6
          ],
          [
           "Williams, Trayveon CIN RB",
           11,
           1.222,
           23,
           3
          ],
          [
           "Barner, Kenjon TBB RB",
           10.68,
           1.78,
           32,
           9
          ],
          [
           "Ozigbo, Devine JAC RB",
           10.3,
           1.4709999999999999,
           24,
           3
          ],
          [
           "Pierce, Artavis CHI RB",
           10,
           2.5,
           25,
           2
          ],
          [
           "Bellore, Nick SEA RB",
           9.9,
           0.66,
           32,
           11
          ],
          [
           "Smith, Keith ATL RB",
           9.9,
           0.66,
           29,
           8
          ],
          [
           "Ricard, Patrick BAL RB",
           9.4,
           0.6709999999999999,
           26,
           5
          ],
          [
           "Penny, Elijhaa NYG RB",
           9,
           0.643,
           27,
           6
          ],
          [
           "Dowdle, Rico DAL RB",
           8.98,
           0.6409999999999999,
           22,
           2
          ],
          [
           "Blasingame, Khari TEN RB",
           8.84,
           0.631,
           24,
           3
          ],
          [
           "Hilliard, Dontrell HOU RB",
           8.74,
           1.4569999999999999,
           26,
           4
          ],
          [
           "Cottrell, Nathan JAC RB",
           8.42,
           1.203,
           24,
           2
          ],
          [
           "Burton, Michael NOS RB",
           8,
           0.5329999999999999,
           29,
           7
          ],
          [
           "Mack, Marlon IND RB",
           7.1,
           7.1,
           25,
           5
          ],
          [
           "Johnson, Jakob NEP RB",
           6.6,
           0.44,
           26,
           3
          ],
          [
           "Sherman, Anthony KCC RB",
           6.5,
           0.542,
           32,
           11
          ],
          [
           "Walter, Austin SFO RB",
           6.06,
           2.02,
           24,
           3
          ],
          [
           "Phillips, Scottie HOU RB",
           5.94,
           0.8490000000000001,
           23,
           2
          ],
          [
           "Janovich, Andy CLE RB",
           5.7,
           0.43799999999999994,
           28,
           6
          ],
          [
           "Montgomery, Ty NOS RB",
           5.38,
           1.0759999999999998,
           28,
           7
          ],
          [
           "Armah, Alexander CAR RB",
           5.2,
           0.34700000000000003,
           27,
           5
          ],
          [
           "Thompson, Darwin KCC RB",
           5.2,
           0.4,
           24,
           3
          ],
          [
           "Calais, Raymond LAR RB",
           4.44,
           1.48,
           23,
           2
          ],
          [
           "Foster, D.J. ARI RB",
           4.24,
           0.47100000000000003,
           27,
           6
          ],
          [
           "Ward, Jonathan ARI RB",
           4,
           0.308,
           23,
           2
          ],
          [
           "Perry, Senorise TEN RB",
           3.4,
           0.486,
           29,
           8
          ],
          [
           "Scarbrough, Bo SEA RB",
           3.1,
           3.1,
           24,
           4
          ],
          [
           "Williams, Jonathan WAS RB",
           3,
           0.6,
           27,
           6
          ],
          [
           "Huntley, Jason PHI RB",
           2.84,
           0.71,
           23,
           2
          ],
          [
           "Washington, Dwayne NOS RB",
           2.24,
           0.204,
           27,
           6
          ],
          [
           "Riddick, Theo LVR RB",
           2.2,
           0.733,
           30,
           9
          ],
          [
           "Cox, Jeremy DEN RB",
           2,
           0.28600000000000003,
           24,
           3
          ],
          [
           "Cox, Chandler FA RB",
           1.9,
           0.23800000000000002,
           24,
           3
          ],
          [
           "Miller, Lamar WAS RB",
           1.6,
           1.6,
           30,
           10
          ],
          [
           "Penny, Rashaad SEA RB",
           1.5,
           0.75,
           25,
           4
          ],
          [
           "Reynolds, Craig JAC RB",
           1.2,
           0.6,
           24,
           3
          ],
          [
           "Williams, Dexter GBP RB",
           0.8,
           0.267,
           24,
           3
          ],
          [
           "Killins Jr., Adrian FA RB",
           0.7,
           0.7,
           23,
           2
          ],
          [
           "Jones, Xavier LAR RB",
           0.66,
           0.055,
           23,
           2
          ],
          [
           "Gillaspia, Cullen HOU RB",
           0.6,
           0.086,
           26,
           3
          ],
          [
           "Bellamy, LeVante DEN RB",
           0.4,
           0.1,
           24,
           2
          ],
          [
           "Brooks-James, Tony ATL RB",
           0.4,
           0.4,
           26,
           3
          ],
          [
           "Ollison, Qadree ATL RB",
           0.3,
           0.1,
           24,
           3
          ],
          [
           "Bradwell, Darius LAC RB",
           0,
           0,
           24,
           2
          ],
          [
           "Holyfield, Elijah PHI RB",
           0,
           0,
           23,
           3
          ],
          [
           "Leake, Javon WAS RB",
           0,
           0,
           22,
           2
          ],
          [
           "Smallwood, Wendell FA RB",
           0,
           0,
           27,
           6
          ],
          [
           "Warren, Michael WAS RB",
           0,
           0,
           22,
           2
          ],
          [
           "Olonilua, Sewo DAL RB",
           -1.5,
           -0.75,
           23,
           2
          ],
          [
           "Edmunds, Trey PIT RB",
           -2,
           -0.5,
           26,
           5
          ],
          [
           "Jones, Taiwan BUF RB",
           -2.2,
           -0.16899999999999998,
           32,
           11
          ]
         ],
         "hovertemplate": "position=%{x}<br>z_score=%{y}<br>player_name=%{customdata[0]}<br>total_points=%{customdata[1]}<br>average_points=%{customdata[2]}<br>age=%{customdata[3]}<br>experience_years=%{customdata[4]}<extra></extra>",
         "legendgroup": "RB",
         "marker": {
          "color": "#FF97FF"
         },
         "name": "RB",
         "notched": false,
         "offsetgroup": "RB",
         "orientation": "v",
         "showlegend": true,
         "type": "box",
         "x": [
          "RB",
          "RB",
          "RB",
          "RB",
          "RB",
          "RB",
          "RB",
          "RB",
          "RB",
          "RB",
          "RB",
          "RB",
          "RB",
          "RB",
          "RB",
          "RB",
          "RB",
          "RB",
          "RB",
          "RB",
          "RB",
          "RB",
          "RB",
          "RB",
          "RB",
          "RB",
          "RB",
          "RB",
          "RB",
          "RB",
          "RB",
          "RB",
          "RB",
          "RB",
          "RB",
          "RB",
          "RB",
          "RB",
          "RB",
          "RB",
          "RB",
          "RB",
          "RB",
          "RB",
          "RB",
          "RB",
          "RB",
          "RB",
          "RB",
          "RB",
          "RB",
          "RB",
          "RB",
          "RB",
          "RB",
          "RB",
          "RB",
          "RB",
          "RB",
          "RB",
          "RB",
          "RB",
          "RB",
          "RB",
          "RB",
          "RB",
          "RB",
          "RB",
          "RB",
          "RB",
          "RB",
          "RB",
          "RB",
          "RB",
          "RB",
          "RB",
          "RB",
          "RB",
          "RB",
          "RB",
          "RB",
          "RB",
          "RB",
          "RB",
          "RB",
          "RB",
          "RB",
          "RB",
          "RB",
          "RB",
          "RB",
          "RB",
          "RB",
          "RB",
          "RB",
          "RB",
          "RB",
          "RB",
          "RB",
          "RB",
          "RB",
          "RB",
          "RB",
          "RB",
          "RB",
          "RB",
          "RB",
          "RB",
          "RB",
          "RB",
          "RB",
          "RB",
          "RB",
          "RB",
          "RB",
          "RB",
          "RB",
          "RB",
          "RB",
          "RB",
          "RB",
          "RB",
          "RB",
          "RB",
          "RB",
          "RB",
          "RB",
          "RB",
          "RB",
          "RB",
          "RB",
          "RB",
          "RB",
          "RB",
          "RB",
          "RB",
          "RB",
          "RB",
          "RB",
          "RB",
          "RB",
          "RB",
          "RB",
          "RB",
          "RB",
          "RB",
          "RB",
          "RB",
          "RB",
          "RB",
          "RB",
          "RB",
          "RB",
          "RB",
          "RB",
          "RB",
          "RB",
          "RB",
          "RB",
          "RB",
          "RB",
          "RB",
          "RB",
          "RB",
          "RB",
          "RB",
          "RB",
          "RB",
          "RB",
          "RB",
          "RB",
          "RB",
          "RB",
          "RB"
         ],
         "x0": " ",
         "xaxis": "x",
         "y": [
          -0.419019829636539,
          -0.7224027127175947,
          4.1162568382261435,
          3.74803329974149,
          3.3807020638541334,
          2.3664514449262906,
          2.309938947097466,
          2.306964605106476,
          2.0541455358722627,
          1.9649152761425404,
          1.9574794211650635,
          1.8340442285389476,
          1.831069886547957,
          1.7492754817957117,
          1.7225064038767948,
          1.5960968692596884,
          1.5708149623362673,
          1.5529689103903224,
          1.4682001636470865,
          1.4607643086696096,
          1.445892598714656,
          1.4072261528317764,
          1.3667751017543024,
          1.3462521420164664,
          1.2228169493903505,
          1.2213297783948551,
          1.2109195814263871,
          1.1398328078417084,
          1.1320995186651328,
          1.0755870208363085,
          1.0146130100209985,
          1.0071771550435216,
          0.9432288022372206,
          0.9357929472597437,
          0.9298442632777622,
          0.9134853823273131,
          0.9128905139291149,
          0.897126501376864,
          0.8852291334129011,
          0.828716635584077,
          0.7736913087507482,
          0.7513837438183177,
          0.6904097330030076,
          0.5431798044489657,
          0.5253337525030213,
          0.5060005295615815,
          0.4822057936336557,
          0.47476993865617884,
          0.45097520272825276,
          0.44205217675528063,
          0.415283098836364,
          0.4018985598769056,
          0.3513347460300631,
          0.30077093218322043,
          0.2249252114129566,
          0.20797146206430936,
          0.1856638971318788,
          0.17138705557512313,
          0.16543837159314176,
          0.14015646466972043,
          0.1282590967057575,
          0.11933607073278515,
          0.05538771792648425,
          0.0479518629490074,
          0.03754166598053976,
          0.019695614034595375,
          -0.02462208163116673,
          -0.03503227859963426,
          -0.08589352664557597,
          -0.10968826257350192,
          -0.11920615694467229,
          -0.13497016949692314,
          -0.14686753746088618,
          -0.14984187945187685,
          -0.1620366816149389,
          -0.18255964135277505,
          -0.2048672062852056,
          -0.2093287192716917,
          -0.2227132582311501,
          -0.250374638747364,
          -0.258405362123039,
          -0.30896917596988155,
          -0.3238408859248353,
          -0.3253280569203307,
          -0.33871259587978897,
          -0.40414811968158526,
          -0.40563529067708065,
          -0.4219941716275298,
          -0.4445991707590594,
          -0.44876324954644636,
          -0.45411706513022976,
          -0.4683939066869853,
          -0.4695836434833816,
          -0.5255012729140075,
          -0.5260961413122057,
          -0.5439421932581502,
          -0.5513780482356271,
          -0.5641677187968872,
          -0.579634297150039,
          -0.5888547573221103,
          -0.5900444941185066,
          -0.603429033077965,
          -0.603726467277064,
          -0.6049162040734604,
          -0.6212750850239094,
          -0.6287109400013863,
          -0.6406083079653493,
          -0.64358264995634,
          -0.6456646893500335,
          -0.6465569919473306,
          -0.6486390313410242,
          -0.6584543599112936,
          -0.6644030438932751,
          -0.671838898870752,
          -0.6733260698662474,
          -0.6777875828527335,
          -0.684033701033814,
          -0.6852234378302104,
          -0.6986079767896686,
          -0.7045566607716502,
          -0.711992515749127,
          -0.711992515749127,
          -0.7149668577401178,
          -0.7253770547085854,
          -0.7301360018941706,
          -0.735787251677053,
          -0.7402487646635391,
          -0.7417359356590345,
          -0.7417359356590345,
          -0.7491717906365113,
          -0.7551204746184927,
          -0.7554179088175919,
          -0.7574999482112854,
          -0.7589871192067807,
          -0.7637460663923659,
          -0.7699921845734465,
          -0.7833767235329048,
          -0.7908125785103817,
          -0.792299749505877,
          -0.7988433018860567,
          -0.8006279070806511,
          -0.80419711746984,
          -0.8089560646554251,
          -0.8116329724473168,
          -0.8116329724473168,
          -0.8229354720130817,
          -0.8259098140040724,
          -0.8294790243932613,
          -0.8384020503662336,
          -0.8428635633527196,
          -0.8443507343482151,
          -0.8467302079410076,
          -0.8556532339139798,
          -0.856248102312178,
          -0.8592224443031687,
          -0.8607096152986641,
          -0.8651711282851502,
          -0.8666582992806455,
          -0.8711198122671316,
          -0.8770684962491132,
          -0.8785556672446085,
          -0.8791505356428068,
          -0.8800428382401039,
          -0.8830171802310947,
          -0.8830171802310947,
          -0.8845043512265901,
          -0.8889658642130761,
          -0.8889658642130761,
          -0.8889658642130761,
          -0.8889658642130761,
          -0.8889658642130761,
          -0.9112734291455067,
          -0.9187092841229836,
          -0.9216836261139744
         ],
         "y0": " ",
         "yaxis": "y"
        },
        {
         "alignmentgroup": "True",
         "boxpoints": "all",
         "customdata": [
          [
           "Donald, Aaron LAR DT",
           125.5,
           8.367,
           30,
           8
          ],
          [
           "Buckner, DeForest IND DT",
           113,
           8.071,
           27,
           6
          ],
          [
           "Richardson, Sheldon CLE DT",
           96.5,
           6.433,
           30,
           9
          ],
          [
           "Payne, Da'Ron WAS DT",
           83,
           5.5329999999999995,
           23,
           4
          ],
          [
           "Onyemata, David NOS DT",
           82.6,
           5.9,
           28,
           6
          ],
          [
           "Cox, Fletcher PHI DT",
           80.5,
           5.367000000000001,
           30,
           10
          ],
          [
           "Jones, Chris KCC DT",
           79.4,
           5.671,
           26,
           6
          ],
          [
           "Allen, Jonathan WAS DT",
           71.5,
           4.7669999999999995,
           26,
           5
          ],
          [
           "Suh, Ndamukong TBB DT",
           71.5,
           4.7669999999999995,
           34,
           12
          ],
          [
           "Jarrett, Grady ATL DT",
           70.6,
           4.707,
           28,
           7
          ],
          [
           "Reed, Jarran SEA DT",
           70.5,
           4.7,
           27,
           6
          ],
          [
           "Simmons, Jeffery TEN DT",
           70,
           5,
           23,
           3
          ],
          [
           "Lawrence, Dexter NYG DT",
           67,
           4.467,
           23,
           3
          ],
          [
           "Wilkins, Christian MIA DT",
           64.8,
           4.985,
           25,
           3
          ],
          [
           "Tomlinson, Dalvin NYG DT",
           64,
           4.2669999999999995,
           27,
           5
          ],
          [
           "Jones, DaQuan TEN DT",
           62.5,
           4.167,
           29,
           8
          ],
          [
           "Ford, Poona SEA DT",
           60.5,
           4.033,
           25,
           4
          ],
          [
           "Joseph-Day, Sebastian LAR DT",
           60.5,
           4.033,
           26,
           4
          ],
          [
           "Fatukasi, Foley NYJ DT",
           52.7,
           3.764,
           26,
           4
          ],
          [
           "Williams, DeShawn DEN DT",
           52.6,
           4.046,
           null,
           null
          ],
          [
           "Joseph, Linval LAC DT",
           52.5,
           3.5,
           32,
           12
          ],
          [
           "Stewart, Grover IND DT",
           50.5,
           3.367,
           27,
           5
          ],
          [
           "Kinlaw, Javon SFO DT",
           50.2,
           3.5860000000000003,
           23,
           2
          ],
          [
           "Oliver, Ed BUF DT",
           50,
           3.333,
           23,
           3
          ],
          [
           "Hargrave, Javon PHI DT",
           49.5,
           3.536,
           28,
           6
          ],
          [
           "Tillery, Jerry LAC DT",
           49.1,
           3.273,
           24,
           3
          ],
          [
           "Ogunjobi, Larry CLE DT",
           47.8,
           3.4139999999999997,
           26,
           5
          ],
          [
           "Brown, Derrick CAR DT",
           46.8,
           3.12,
           23,
           2
          ],
          [
           "Butler, Adam NEP DT",
           43,
           3.071,
           27,
           5
          ],
          [
           "Jefferson, Quinton BUF DT",
           41.6,
           2.773,
           28,
           6
          ],
          [
           "Johnson, Jaleel MIN DT",
           41.5,
           2.767,
           26,
           5
          ],
          [
           "Clark, Kenny GBP DT",
           41,
           3.417,
           25,
           6
          ],
          [
           "Settle, Tim WAS DT",
           40.9,
           2.727,
           23,
           4
          ],
          [
           "Wharton, Tershawn KCC DT",
           39.2,
           2.613,
           22,
           2
          ],
          [
           "Kerr, Zach CAR DT",
           39,
           3.25,
           30,
           8
          ],
          [
           "Penisini, John DET DT",
           39,
           2.6,
           23,
           2
          ],
          [
           "Jones, D.J. SFO DT",
           37.5,
           2.885,
           26,
           5
          ],
          [
           "Jones, Justin LAC DT",
           35.5,
           2.958,
           25,
           4
          ],
          [
           "Nnadi, Derrick KCC DT",
           35.5,
           2.367,
           25,
           4
          ],
          [
           "Hamilton, Davon JAC DT",
           35,
           3.182,
           24,
           2
          ],
          [
           "Jackson, Malik PHI DT",
           34.8,
           2.4859999999999998,
           31,
           10
          ],
          [
           "Givens, Kevin SFO DT",
           34.5,
           2.654,
           24,
           3
          ],
          [
           "Hall, P.J. HOU DT",
           34,
           3.4,
           26,
           4
          ],
          [
           "Stephen, Shamar MIN DT",
           33.5,
           2.233,
           30,
           8
          ],
          [
           "Shelton, Danny DET DT",
           33,
           3,
           27,
           7
          ],
          [
           "Cowart, Byron NEP DT",
           32.5,
           2.5,
           25,
           3
          ],
          [
           "Roy, Bravvion CAR DT",
           31.5,
           2.25,
           24,
           2
          ],
          [
           "Rankins, Sheldon NOS DT",
           31.4,
           2.855,
           27,
           6
          ],
          [
           "Hankins, Johnathan LVR DT",
           30.8,
           2.053,
           29,
           9
          ],
          [
           "Costin, Doug JAC DT",
           30.5,
           2.773,
           23,
           2
          ],
          [
           "Williams, Brandon BAL DT",
           30.5,
           2.542,
           32,
           9
          ],
          [
           "Butler, Vernon BUF DT",
           30,
           2.3080000000000003,
           26,
           6
          ],
          [
           "Gallimore, Neville DAL DT",
           30,
           2.3080000000000003,
           24,
           2
          ],
          [
           "Davis, Raekwon MIA DT",
           29,
           1.933,
           23,
           2
          ],
          [
           "Hunt, Margus CIN DT",
           28.5,
           2.375,
           33,
           9
          ],
          [
           "Hurst, Maurice LVR DT",
           28.5,
           2.591,
           26,
           4
          ],
          [
           "Zimmer, Justin BUF DT",
           28.5,
           2.591,
           28,
           6
          ],
          [
           "Mata'afa, Hercules MIN DT",
           28,
           2.333,
           25,
           4
          ],
          [
           "Tuttle, Shy NOS DT",
           27.5,
           2.292,
           25,
           3
          ],
          [
           "Davison, Tyeler ATL DT",
           27,
           1.8,
           28,
           7
          ],
          [
           "Crawford, Tyrone DAL DT",
           26.5,
           1.767,
           31,
           10
          ],
          [
           "Peters, Corey ARI DT",
           26.5,
           2.944,
           32,
           12
          ],
          [
           "Johnson, Austin NYG DT",
           24,
           1.6,
           27,
           6
          ],
          [
           "Watts, Armon MIN DT",
           24,
           1.6,
           24,
           3
          ],
          [
           "Covington, Christian CIN DT",
           23.5,
           1.567,
           27,
           7
          ],
          [
           "Mclendon, Steve TBB DT",
           23,
           1.5330000000000001,
           35,
           13
          ],
          [
           "Brown, Malcom NOS DT",
           21.5,
           1.7919999999999998,
           27,
           7
          ],
          [
           "Vickers, Kendal LVR DT",
           21,
           1.75,
           26,
           4
          ],
          [
           "Woods, Antwaun DAL DT",
           21,
           1.5,
           28,
           6
          ],
          [
           "Purcell, Mike DEN DT",
           20,
           3.333,
           30,
           9
          ],
          [
           "Vea, Vita TBB DT",
           20,
           4,
           26,
           4
          ],
          [
           "Bryan, Taven JAC DT",
           19.5,
           1.3,
           25,
           4
          ],
          [
           "Dunn, Brandon HOU DT",
           19.5,
           1.5,
           28,
           8
          ],
          [
           "Square, Damion LAC DT",
           19.5,
           1.3,
           32,
           9
          ],
          [
           "Pennel, Mike KCC DT",
           19,
           1.462,
           30,
           8
          ],
          [
           "Reader, D.J. CIN DT",
           19,
           3.8,
           26,
           6
          ],
          [
           "Mone, Bryan SEA DT",
           17.5,
           1.944,
           25,
           3
          ],
          [
           "Ridgeway, Hassan PHI DT",
           17.5,
           2.5,
           26,
           6
          ],
          [
           "Godchaux, Davon MIA DT",
           16,
           3.2,
           26,
           5
          ],
          [
           "Taylor, Vincent CLE DT",
           16,
           1.143,
           27,
           5
          ],
          [
           "Williams, Xavier CIN DT",
           16,
           1.455,
           29,
           7
          ],
          [
           "Fotu, Leki ARI DT",
           15.5,
           1.55,
           22,
           2
          ],
          [
           "Ioannidis, Matt WAS DT",
           15,
           5,
           27,
           6
          ],
          [
           "Jenkins, John CHI DT",
           15,
           1.5,
           31,
           9
          ],
          [
           "Phillips, Harrison BUF DT",
           14.5,
           1.318,
           25,
           4
          ],
          [
           "Daniels, Mike CIN DT",
           14,
           1.273,
           32,
           10
          ],
          [
           "Ellis, Justin BAL DT",
           13,
           1,
           30,
           8
          ],
          [
           "Stallworth, Taylor IND DT",
           13,
           0.867,
           25,
           4
          ],
          [
           "Roach, Malcolm NOS DT",
           12.9,
           1.433,
           22,
           2
          ],
          [
           "Liuget, Corey FA DT",
           11,
           1.8330000000000002,
           31,
           11
          ],
          [
           "Hill, Trysten DAL DT",
           10.9,
           2.18,
           23,
           3
          ],
          [
           "Elliott, Jordan CLE DT",
           10.5,
           0.7,
           23,
           2
          ],
          [
           "Harrison, Damon GBP DT",
           10,
           1.6669999999999998,
           32,
           10
          ],
          [
           "Robinson, A'Shawn LAR DT",
           10,
           1.429,
           26,
           6
          ],
          [
           "Strong, Kevin DET DT",
           10,
           2,
           24,
           3
          ],
          [
           "Nunez-Roches, Rakeem TBB DT",
           9.5,
           0.633,
           27,
           7
          ],
          [
           "Ekuale, Daniel JAC DT",
           9,
           1.125,
           27,
           4
          ],
          [
           "Peko, Domata ARI DT",
           9,
           1.8,
           36,
           16
          ],
          [
           "Blacklock, Ross HOU DT",
           8.8,
           0.629,
           22,
           2
          ],
          [
           "Williams, Sylvester DEN DT",
           8.5,
           1.214,
           32,
           9
          ],
          [
           "Lawrence, Rashard ARI DT",
           8,
           1,
           22,
           2
          ],
          [
           "Lynch, James MIN DT",
           8,
           1,
           22,
           2
          ],
          [
           "Brown, Andrew HOU DT",
           7,
           1.167,
           25,
           4
          ],
          [
           "Agim, McTelvin DEN DT",
           6.5,
           0.722,
           23,
           2
          ],
          [
           "Davidson, Marlon ATL DT",
           6.5,
           0.929,
           23,
           2
          ],
          [
           "Ross, Daniel JAC DT",
           6.5,
           1.625,
           28,
           5
          ],
          [
           "Jones, Abry JAC DT",
           6,
           1.2,
           29,
           9
          ],
          [
           "Hamilton, Justin DAL DT",
           5.5,
           0.55,
           27,
           6
          ],
          [
           "McCullers, Daniel CHI DT",
           5.5,
           1.8330000000000002,
           28,
           8
          ],
          [
           "McGill, T.Y. PHI DT",
           5.5,
           0.917,
           28,
           7
          ],
          [
           "Davis, Carl NEP DT",
           5,
           1.6669999999999998,
           29,
           7
          ],
          [
           "Poe, Dontari FA DT",
           5,
           0.7140000000000001,
           30,
           10
          ],
          [
           "Senat, Deadrin ATL DT",
           5,
           1,
           26,
           4
          ],
          [
           "Collins, Maliek LVR DT",
           4,
           0.364,
           26,
           6
          ],
          [
           "Spence, Akeem NEP DT",
           3.8,
           0.76,
           29,
           9
          ],
          [
           "Broughton, Cortez LAC DT",
           3.5,
           0.43799999999999994,
           24,
           3
          ],
          [
           "Day, Sheldon FA DT",
           3,
           0.75,
           26,
           6
          ],
          [
           "Irving, David FA DT",
           3,
           1.5,
           27,
           7
          ],
          [
           "Short, Kawann CAR DT",
           3,
           1,
           32,
           9
          ],
          [
           "Ankou, Eli DAL DT",
           2.5,
           0.41700000000000004,
           26,
           5
          ],
          [
           "Glasgow, Ryan NOS DT",
           2.5,
           1.25,
           27,
           5
          ],
          [
           "Akinmoladun, Freedom CIN DT",
           1.5,
           0.75,
           25,
           3
          ],
          [
           "Davis, Khalil TBB DT",
           1.5,
           1.5,
           24,
           2
          ],
          [
           "Copeland, Marquise LAR DT",
           1,
           1,
           24,
           3
          ],
          [
           "Jernigan, Timmy FA DT",
           1,
           0.2,
           28,
           8
          ],
          [
           "Lawrence, Devaroe WAS DT",
           1,
           1,
           28,
           5
          ],
          [
           "Saunders, Khalen KCC DT",
           1,
           0.5,
           24,
           3
          ],
          [
           "Thomas, Solomon SFO DT",
           1,
           0.5,
           25,
           5
          ],
          [
           "Washington, Broderick BAL DT",
           1,
           0.125,
           24,
           2
          ],
          [
           "Windsor, Robert IND DT",
           0.5,
           0.25,
           24,
           2
          ],
          [
           "Atkins, Geno CIN DT",
           0,
           0,
           33,
           12
          ],
          [
           "Autry, Denico IND DT",
           64,
           4.923,
           30,
           8
          ],
          [
           "Guy, Lawrence NEP DT",
           61.5,
           4.731,
           31,
           11
          ],
          [
           "Lewis, Tyquan IND DT",
           52.9,
           3.5269999999999997,
           26,
           4
          ],
          [
           "Tuioti-Mariner, Jacob ATL DT",
           42.6,
           2.84,
           24,
           4
          ],
          [
           "Holmes, Jalyn MIN DT",
           33.5,
           2.3930000000000002,
           25,
           4
          ],
          [
           "Gaines, Greg LAR DT",
           23,
           1.5330000000000001,
           25,
           3
          ],
          [
           "Madubuike, Justin BAL DT",
           22,
           2.444,
           23,
           2
          ],
          [
           "Davis, Carlos PIT DT",
           6.5,
           1.083,
           24,
           2
          ],
          [
           "Rush, Anthony GBP DT",
           5,
           1,
           24,
           3
          ]
         ],
         "hovertemplate": "position=%{x}<br>z_score=%{y}<br>player_name=%{customdata[0]}<br>total_points=%{customdata[1]}<br>average_points=%{customdata[2]}<br>age=%{customdata[3]}<br>experience_years=%{customdata[4]}<extra></extra>",
         "legendgroup": "DT",
         "marker": {
          "color": "#FECB52"
         },
         "name": "DT",
         "notched": false,
         "offsetgroup": "DT",
         "orientation": "v",
         "showlegend": true,
         "type": "box",
         "x": [
          "DT",
          "DT",
          "DT",
          "DT",
          "DT",
          "DT",
          "DT",
          "DT",
          "DT",
          "DT",
          "DT",
          "DT",
          "DT",
          "DT",
          "DT",
          "DT",
          "DT",
          "DT",
          "DT",
          "DT",
          "DT",
          "DT",
          "DT",
          "DT",
          "DT",
          "DT",
          "DT",
          "DT",
          "DT",
          "DT",
          "DT",
          "DT",
          "DT",
          "DT",
          "DT",
          "DT",
          "DT",
          "DT",
          "DT",
          "DT",
          "DT",
          "DT",
          "DT",
          "DT",
          "DT",
          "DT",
          "DT",
          "DT",
          "DT",
          "DT",
          "DT",
          "DT",
          "DT",
          "DT",
          "DT",
          "DT",
          "DT",
          "DT",
          "DT",
          "DT",
          "DT",
          "DT",
          "DT",
          "DT",
          "DT",
          "DT",
          "DT",
          "DT",
          "DT",
          "DT",
          "DT",
          "DT",
          "DT",
          "DT",
          "DT",
          "DT",
          "DT",
          "DT",
          "DT",
          "DT",
          "DT",
          "DT",
          "DT",
          "DT",
          "DT",
          "DT",
          "DT",
          "DT",
          "DT",
          "DT",
          "DT",
          "DT",
          "DT",
          "DT",
          "DT",
          "DT",
          "DT",
          "DT",
          "DT",
          "DT",
          "DT",
          "DT",
          "DT",
          "DT",
          "DT",
          "DT",
          "DT",
          "DT",
          "DT",
          "DT",
          "DT",
          "DT",
          "DT",
          "DT",
          "DT",
          "DT",
          "DT",
          "DT",
          "DT",
          "DT",
          "DT",
          "DT",
          "DT",
          "DT",
          "DT",
          "DT",
          "DT",
          "DT",
          "DT",
          "DT",
          "DT",
          "DT",
          "DT",
          "DT",
          "DT",
          "DT",
          "DT",
          "DT",
          "DT",
          "DT"
         ],
         "x0": " ",
         "xaxis": "x",
         "y": [
          3.9062487849772385,
          3.400456433071608,
          2.732810528556176,
          2.186554788498095,
          2.170369433237114,
          2.0853963181169686,
          2.0408865911492735,
          1.7212258247449148,
          1.7212258247449148,
          1.6848087754077092,
          1.6807624365924643,
          1.6605307425162392,
          1.5391405780588878,
          1.4501211241234968,
          1.4177504136015366,
          1.3570553313728608,
          1.27612855506796,
          1.27612855506796,
          0.9605141274788467,
          0.9564677886636016,
          0.9524214498483565,
          0.8714946735434557,
          0.8593556570977207,
          0.8512629794672304,
          0.8310312853910052,
          0.8148459301300252,
          0.7622435255318394,
          0.721780137379389,
          0.5680192624000774,
          0.5113705189866469,
          0.5073241801714018,
          0.4870924860951765,
          0.48304614727993145,
          0.4142583874207659,
          0.40616570979027566,
          0.40616570979027566,
          0.3454706275616,
          0.2645438512566991,
          0.2645438512566991,
          0.24431215718047392,
          0.2362194795499837,
          0.2240804631042487,
          0.20384876902802349,
          0.18361707495179827,
          0.16338538087557303,
          0.1431536867993478,
          0.10269029864689738,
          0.09864395983165229,
          0.07436592694018211,
          0.06222691049444695,
          0.06222691049444695,
          0.04199521641822174,
          0.04199521641822174,
          0.0015318282657713002,
          -0.01869986581045392,
          -0.01869986581045392,
          -0.01869986581045392,
          -0.03893155988667914,
          -0.05916325396290435,
          -0.07939494803912957,
          -0.09962664211535478,
          -0.09962664211535478,
          -0.20078511249648087,
          -0.20078511249648087,
          -0.2210168065727061,
          -0.2412485006489313,
          -0.301943582877607,
          -0.3221752769538322,
          -0.3221752769538322,
          -0.3626386651062826,
          -0.3626386651062826,
          -0.38287035918250784,
          -0.38287035918250784,
          -0.38287035918250784,
          -0.40310205325873305,
          -0.40310205325873305,
          -0.4637971354874087,
          -0.4637971354874087,
          -0.5244922177160843,
          -0.5244922177160843,
          -0.5244922177160843,
          -0.5447239117923096,
          -0.5649556058685348,
          -0.5649556058685348,
          -0.58518729994476,
          -0.6054189940209852,
          -0.6458823821734356,
          -0.6458823821734356,
          -0.6499287209886807,
          -0.7268091584783365,
          -0.7308554972935817,
          -0.7470408525545618,
          -0.7672725466307869,
          -0.7672725466307869,
          -0.7672725466307869,
          -0.7875042407070122,
          -0.8077359347832374,
          -0.8077359347832374,
          -0.8158286124137275,
          -0.8279676288594626,
          -0.8481993229356879,
          -0.8481993229356879,
          -0.8886627110881383,
          -0.9088944051643635,
          -0.9088944051643635,
          -0.9088944051643635,
          -0.9291260992405888,
          -0.9493577933168139,
          -0.9493577933168139,
          -0.9493577933168139,
          -0.9695894873930392,
          -0.9695894873930392,
          -0.9695894873930392,
          -1.0100528755454896,
          -1.0181455531759795,
          -1.0302845696217149,
          -1.05051626369794,
          -1.05051626369794,
          -1.05051626369794,
          -1.0707479577741652,
          -1.0707479577741652,
          -1.1112113459266157,
          -1.1112113459266157,
          -1.1314430400028408,
          -1.1314430400028408,
          -1.1314430400028408,
          -1.1314430400028408,
          -1.1314430400028408,
          -1.1314430400028408,
          -1.151674734079066,
          -1.1719064281552913,
          1.4177504136015366,
          1.3165919432204105,
          0.9686068051093366,
          0.5518339071390973,
          0.18361707495179827,
          -0.2412485006489313,
          -0.28171188880138176,
          -0.9088944051643635,
          -0.9695894873930392
         ],
         "y0": " ",
         "yaxis": "y"
        },
        {
         "alignmentgroup": "True",
         "boxpoints": "all",
         "customdata": [
          [
           "Kelce, Travis KCC TE",
           248.76,
           16.584,
           31,
           9
          ],
          [
           "Waller, Darren LVR TE",
           202.4,
           13.493,
           28,
           7
          ],
          [
           "Tonyan, Robert GBP TE",
           134.3,
           8.953,
           27,
           5
          ],
          [
           "Hockenson, T.J. DET TE",
           131.3,
           8.753,
           23,
           3
          ],
          [
           "Andrews, Mark BAL TE",
           128,
           9.846,
           24,
           4
          ],
          [
           "Thomas, Logan WAS TE",
           127.02,
           8.468,
           29,
           8
          ],
          [
           "Gesicki, Mike MIA TE",
           124.1,
           8.863999999999999,
           25,
           4
          ],
          [
           "Gronkowski, Rob TBB TE",
           118.4,
           7.893,
           32,
           12
          ],
          [
           "Smith, Jonnu TEN TE",
           117.7,
           8.407,
           25,
           5
          ],
          [
           "Henry, Hunter LAC TE",
           113.8,
           8.129,
           26,
           6
          ],
          [
           "Graham, Jimmy CHI TE",
           111.7,
           7.447,
           34,
           12
          ],
          [
           "Hurst, Hayden ATL TE",
           109.3,
           7.287000000000001,
           27,
           4
          ],
          [
           "Engram, Evan NYG TE",
           105.3,
           7.02,
           26,
           5
          ],
          [
           "Fant, Noah DEN TE",
           105.1,
           7.507000000000001,
           23,
           3
          ],
          [
           "Ebron, Eric PIT TE",
           101.3,
           6.752999999999999,
           28,
           8
          ],
          [
           "Cook, Jared NOS TE",
           97.1,
           6.936,
           34,
           13
          ],
          [
           "Schultz, Dalton DAL TE",
           97,
           6.4670000000000005,
           24,
           4
          ],
          [
           "Goedert, Dallas PHI TE",
           91.9,
           8.355,
           26,
           4
          ],
          [
           "Higbee, Tyler LAR TE",
           91.6,
           6.542999999999999,
           28,
           6
          ],
          [
           "Kittle, George SFO TE",
           85.8,
           12.257,
           27,
           5
          ],
          [
           "Hooper, Austin CLE TE",
           77.3,
           6.442,
           26,
           6
          ],
          [
           "Smith Jr., Irv MIN TE",
           72,
           6,
           22,
           3
          ],
          [
           "Eifert, Tyler JAC TE",
           70.4,
           5.029,
           30,
           9
          ],
          [
           "Burton, Trey IND TE",
           69.8,
           5.817,
           29,
           8
          ],
          [
           "Fells, Darren HOU TE",
           65.7,
           4.38,
           35,
           10
          ],
          [
           "Everett, Gerald LAR TE",
           65.4,
           4.36,
           26,
           5
          ],
          [
           "Alie-Cox, Mo IND TE",
           63.9,
           4.564,
           27,
           5
          ],
          [
           "Firkser, Anthony TEN TE",
           62.4,
           4.16,
           26,
           4
          ],
          [
           "Arnold, Dan ARI TE",
           61.7,
           4.113,
           26,
           5
          ],
          [
           "Akins, Jordan HOU TE",
           60.9,
           5.075,
           29,
           4
          ],
          [
           "Reed, Jordan SFO TE",
           59.6,
           5.96,
           30,
           9
          ],
          [
           "Rodgers, Richard PHI TE",
           59.5,
           4.25,
           29,
           8
          ],
          [
           "Ertz, Zach PHI TE",
           55.9,
           5.59,
           30,
           9
          ],
          [
           "Sample, Drew CIN TE",
           53.9,
           3.593,
           25,
           3
          ],
          [
           "Brate, Cameron TBB TE",
           52.6,
           3.5069999999999997,
           29,
           8
          ],
          [
           "Hollister, Jacob SEA TE",
           52.3,
           3.487,
           27,
           5
          ],
          [
           "Knox, Dawson BUF TE",
           50.9,
           4.627,
           24,
           3
          ],
          [
           "Rudolph, Kyle MIN TE",
           50.4,
           4.2,
           31,
           11
          ],
          [
           "Bryant, Harrison CLE TE",
           49.3,
           3.287,
           23,
           2
          ],
          [
           "Dissly, Will SEA TE",
           46.92,
           3.128,
           24,
           4
          ],
          [
           "Doyle, Jack IND TE",
           42.9,
           3.3,
           31,
           9
          ],
          [
           "Smythe, Durham MIA TE",
           42.2,
           3.014,
           25,
           4
          ],
          [
           "Kmet, Cole CHI TE",
           41.4,
           2.76,
           22,
           2
          ],
          [
           "Herndon, Chris NYJ TE",
           40.7,
           2.713,
           25,
           4
          ],
          [
           "Njoku, David CLE TE",
           40.5,
           3.375,
           24,
           5
          ],
          [
           "Olsen, Greg FA TE",
           38.9,
           3.536,
           36,
           15
          ],
          [
           "O'Shaughnessy, James JAC TE",
           36.2,
           2.5860000000000003,
           29,
           7
          ],
          [
           "Kroft, Tyler BUF TE",
           35.4,
           3.54,
           28,
           7
          ],
          [
           "Shaheen, Adam MIA TE",
           34.4,
           2.293,
           27,
           5
          ],
          [
           "Howard, O.J. TBB TE",
           30.6,
           7.65,
           26,
           5
          ],
          [
           "James, Jesse DET TE",
           29.2,
           1.9469999999999998,
           26,
           7
          ],
          [
           "Trautman, Adam NOS TE",
           28.6,
           2.043,
           24,
           2
          ],
          [
           "Dwelley, Ross SFO TE",
           27.3,
           1.82,
           26,
           4
          ],
          [
           "Moreau, Foster LVR TE",
           27.3,
           1.82,
           24,
           3
          ],
          [
           "Boyle, Nick BAL TE",
           26.8,
           2.978,
           28,
           7
          ],
          [
           "Lewis, Marcedes GBP TE",
           26.3,
           1.879,
           37,
           16
          ],
          [
           "Parham, Donald LAC TE",
           26,
           2.167,
           23,
           3
          ],
          [
           "Izzo, Ryan NEP TE",
           25.4,
           2.117,
           25,
           4
          ],
          [
           "Thomas, Ian CAR TE",
           24.6,
           1.64,
           24,
           4
          ],
          [
           "Witten, Jason FA TE",
           24,
           1.6,
           39,
           19
          ],
          [
           "Pruitt, MyCole TEN TE",
           23.9,
           2.39,
           29,
           7
          ],
          [
           "Sternberger, Jace GBP TE",
           23.72,
           1.9769999999999999,
           24,
           3
          ],
          [
           "Okwuegbunam, Albert DEN TE",
           23.6,
           5.9,
           23,
           2
          ],
          [
           "Conklin, Tyler MIN TE",
           22.4,
           1.493,
           25,
           4
          ],
          [
           "Vannett, Nick DEN TE",
           20.5,
           1.464,
           28,
           6
          ],
          [
           "Williams, Maxx ARI TE",
           18.7,
           2.3369999999999997,
           27,
           7
          ],
          [
           "Daniels, Darrell ARI TE",
           18.06,
           1.642,
           26,
           6
          ],
          [
           "Smith, Lee BUF TE",
           17.5,
           1.944,
           33,
           11
          ],
          [
           "Uzomah, C.J. CIN TE",
           17.2,
           8.6,
           28,
           7
          ],
          [
           "Bell, Blake DAL TE",
           16.7,
           1.113,
           29,
           7
          ],
          [
           "Brown, Pharaoh HOU TE",
           16,
           1.3330000000000002,
           27,
           5
          ],
          [
           "Gilliam, Reggie BUF TE",
           14.6,
           1.123,
           23,
           2
          ],
          [
           "Swaim, Geoff TEN TE",
           12.1,
           1.344,
           27,
           7
          ],
          [
           "Anderson, Stephen LAC TE",
           11.9,
           0.7929999999999999,
           28,
           6
          ],
          [
           "Smith, Kaden NYG TE",
           11.8,
           0.843,
           24,
           3
          ],
          [
           "Green, Virgil LAC TE",
           11.5,
           1.9169999999999998,
           32,
           11
          ],
          [
           "Harris, Demetrius CHI TE",
           11.42,
           0.816,
           29,
           9
          ],
          [
           "Carter, Cethan CIN TE",
           11.2,
           0.8,
           27,
           5
          ],
          [
           "Carlson, Stephen CLE TE",
           11.1,
           0.74,
           24,
           3
          ],
          [
           "Hill, Josh NOS TE",
           10.6,
           0.757,
           31,
           9
          ],
          [
           "Griffin, Ryan NYJ TE",
           10.1,
           0.721,
           31,
           9
          ],
          [
           "Fumagalli, Troy DEN TE",
           10,
           1.429,
           26,
           4
          ],
          [
           "Keizer, Nick KCC TE",
           8.8,
           0.5870000000000001,
           26,
           4
          ],
          [
           "McDonald, Vance FA TE",
           8.1,
           0.623,
           30,
           9
          ],
          [
           "Stocker, Luke ATL TE",
           7.5,
           0.5,
           32,
           11
          ],
          [
           "Mundt, Johnny LAR TE",
           7.3,
           0.48700000000000004,
           26,
           5
          ],
          [
           "Thompson, Colin CAR TE",
           7.2,
           0.5539999999999999,
           27,
           5
          ],
          [
           "Croom, Jason PHI TE",
           6.8,
           1.7,
           27,
           5
          ],
          [
           "Thomas, Jordan IND TE",
           6.8,
           1.133,
           24,
           4
          ],
          [
           "Manhertz, Chris CAR TE",
           6.2,
           0.413,
           29,
           6
          ],
          [
           "Carrier, Derek LVR TE",
           5.9,
           0.39299999999999996,
           30,
           10
          ],
          [
           "Woerner, Charlie SFO TE",
           5.8,
           0.446,
           23,
           2
          ],
          [
           "Hudson, Tanner TBB TE",
           5.6,
           0.509,
           26,
           4
          ],
          [
           "Toilolo, Levine NYG TE",
           5.6,
           0.373,
           29,
           9
          ],
          [
           "Yelder, Deon KCC TE",
           5.5,
           0.423,
           26,
           4
          ],
          [
           "Brown, Daniel NYJ TE",
           5.3,
           0.353,
           28,
           7
          ],
          [
           "Sprinkle, Jeremy WAS TE",
           5.1,
           0.34,
           26,
           5
          ],
          [
           "Warring, Kahale HOU TE",
           5,
           0.833,
           24,
           3
          ],
          [
           "Holtz, J.P. CHI TE",
           4.96,
           0.331,
           27,
           6
          ],
          [
           "Graham, Jaeden ATL TE",
           4.52,
           0.301,
           25,
           4
          ],
          [
           "Lovett, John GBP TE",
           4.3,
           0.537,
           25,
           3
          ],
          [
           "Ellefson, Ben JAC TE",
           3.5,
           0.5,
           24,
           2
          ],
          [
           "Bryant, Hunter DET TE",
           3.2,
           0.8,
           22,
           2
          ],
          [
           "Dafney, Dominique GBP TE",
           2.8,
           2.8,
           23,
           2
          ],
          [
           "Parkinson, Colby SEA TE",
           2.6,
           0.52,
           22,
           2
          ],
          [
           "Butt, Jake DEN TE",
           2.5,
           0.5,
           25,
           5
          ],
          [
           "Deguara, Josiah GBP TE",
           1.7,
           0.85,
           24,
           2
          ],
          [
           "Jarwin, Blake DAL TE",
           1.7,
           1.7,
           26,
           5
          ],
          [
           "Willson, Luke SEA TE",
           1.7,
           0.212,
           31,
           9
          ],
          [
           "Saubert, Eric JAC TE",
           1.2,
           0.171,
           27,
           5
          ],
          [
           "Dillon, Brandon MIN TE",
           1.1,
           0.36700000000000005,
           24,
           3
          ],
          [
           "DeValve, Seth ARI TE",
           1,
           0.33299999999999996,
           28,
           6
          ],
          [
           "Keene, Dalton NEP TE",
           1,
           0.2,
           22,
           2
          ],
          [
           "Schreck, Mason CIN TE",
           1,
           0.077,
           27,
           5
          ],
          [
           "Nauta, Isaac GBP TE",
           0.8,
           0.114,
           24,
           3
          ],
          [
           "Baugh, Marcus WAS TE",
           0.7,
           0.1,
           26,
           4
          ],
          [
           "Sullivan, Stephen CAR TE",
           0.5,
           0.5,
           24,
           2
          ],
          [
           "Winchester, James KCC TE",
           0.5,
           0.033,
           31,
           9
          ],
          [
           "Asiasi, Devin NEP TE",
           0,
           0,
           23,
           2
          ],
          [
           "Auclair, Antony TBB TE",
           0,
           0,
           27,
           5
          ],
          [
           "Beck, Andrew DEN TE",
           0,
           0,
           25,
           3
          ],
          [
           "Culkin, Sean BAL TE",
           0,
           0,
           27,
           5
          ],
          [
           "Davis, Tyler JAC TE",
           0,
           0,
           24,
           2
          ],
          [
           "Gentry, Zach PIT TE",
           0,
           0,
           24,
           3
          ],
          [
           "Hopkins, Brycen LAR TE",
           0,
           0,
           24,
           2
          ],
          [
           "McKeon, Sean DAL TE",
           0,
           0,
           23,
           2
          ],
          [
           "Seals-Jones, Ricky KCC TE",
           0,
           0,
           26,
           5
          ],
          [
           "Togiai, Noah IND TE",
           0,
           0,
           23,
           2
          ],
          [
           "Travis, Ross NYJ TE",
           0,
           0,
           28,
           7
          ],
          [
           "Wilson, Caleb PHI TE",
           0,
           0,
           24,
           3
          ],
          [
           "Hemingway, Temarrick WAS TE",
           -0.5,
           -0.062,
           27,
           6
          ],
          [
           "Tomlinson, Eric BAL TE",
           -0.5,
           -0.083,
           29,
           7
          ],
          [
           "Wesco, Trevon NYJ TE",
           -3,
           -0.273,
           25,
           3
          ]
         ],
         "hovertemplate": "position=%{x}<br>z_score=%{y}<br>player_name=%{customdata[0]}<br>total_points=%{customdata[1]}<br>average_points=%{customdata[2]}<br>age=%{customdata[3]}<br>experience_years=%{customdata[4]}<extra></extra>",
         "legendgroup": "TE",
         "marker": {
          "color": "#636efa"
         },
         "name": "TE",
         "notched": false,
         "offsetgroup": "TE",
         "orientation": "v",
         "showlegend": true,
         "type": "box",
         "x": [
          "TE",
          "TE",
          "TE",
          "TE",
          "TE",
          "TE",
          "TE",
          "TE",
          "TE",
          "TE",
          "TE",
          "TE",
          "TE",
          "TE",
          "TE",
          "TE",
          "TE",
          "TE",
          "TE",
          "TE",
          "TE",
          "TE",
          "TE",
          "TE",
          "TE",
          "TE",
          "TE",
          "TE",
          "TE",
          "TE",
          "TE",
          "TE",
          "TE",
          "TE",
          "TE",
          "TE",
          "TE",
          "TE",
          "TE",
          "TE",
          "TE",
          "TE",
          "TE",
          "TE",
          "TE",
          "TE",
          "TE",
          "TE",
          "TE",
          "TE",
          "TE",
          "TE",
          "TE",
          "TE",
          "TE",
          "TE",
          "TE",
          "TE",
          "TE",
          "TE",
          "TE",
          "TE",
          "TE",
          "TE",
          "TE",
          "TE",
          "TE",
          "TE",
          "TE",
          "TE",
          "TE",
          "TE",
          "TE",
          "TE",
          "TE",
          "TE",
          "TE",
          "TE",
          "TE",
          "TE",
          "TE",
          "TE",
          "TE",
          "TE",
          "TE",
          "TE",
          "TE",
          "TE",
          "TE",
          "TE",
          "TE",
          "TE",
          "TE",
          "TE",
          "TE",
          "TE",
          "TE",
          "TE",
          "TE",
          "TE",
          "TE",
          "TE",
          "TE",
          "TE",
          "TE",
          "TE",
          "TE",
          "TE",
          "TE",
          "TE",
          "TE",
          "TE",
          "TE",
          "TE",
          "TE",
          "TE",
          "TE",
          "TE",
          "TE",
          "TE",
          "TE",
          "TE",
          "TE",
          "TE",
          "TE",
          "TE",
          "TE",
          "TE",
          "TE",
          "TE",
          "TE",
          "TE",
          "TE"
         ],
         "x0": " ",
         "xaxis": "x",
         "y": [
          4.839376929387914,
          3.7853410676260775,
          2.2370269566256233,
          2.168819286537498,
          2.093790849440559,
          2.071509677211772,
          2.0051208783259957,
          1.8755263051585571,
          1.8596111821379946,
          1.770941211023431,
          1.7231958419617432,
          1.6686297058912425,
          1.5776861457737414,
          1.573138967767866,
          1.4867425856562404,
          1.3912518475328641,
          1.3889782585299268,
          1.2730252193801133,
          1.2662044523713003,
          1.134336290200924,
          0.9410812249512345,
          0.8205810077955458,
          0.7842035837485455,
          0.7705620497309201,
          0.6773449006104818,
          0.6705241336016693,
          0.6364202985576062,
          0.6023164635135434,
          0.5864013404929808,
          0.5682126284694805,
          0.5386559714312927,
          0.5363823824283552,
          0.45453317832260426,
          0.4090613982638538,
          0.379504741225666,
          0.37268397421685334,
          0.34085372817572807,
          0.32948578316104044,
          0.3044763041287276,
          0.25036488585881467,
          0.1589666079407261,
          0.14305148492016354,
          0.12486277289666324,
          0.10894764987610066,
          0.10440047187022555,
          0.06802304782322513,
          0.006636144743912065,
          -0.011552567279588227,
          -0.034288457308963474,
          -0.12068483942058933,
          -0.15251508546171472,
          -0.16615661947933982,
          -0.19571327651752765,
          -0.19571327651752765,
          -0.20708122153221528,
          -0.21844916654690288,
          -0.22526993355571548,
          -0.23891146757334067,
          -0.2571001795968408,
          -0.270741713614466,
          -0.27301530261740353,
          -0.27710776282269106,
          -0.27983606962621604,
          -0.3071191376614664,
          -0.35031732871727933,
          -0.3912419307701548,
          -0.40579290038895494,
          -0.41852499880540506,
          -0.4253457658142176,
          -0.43671371082890525,
          -0.45262883384946795,
          -0.4844590798905932,
          -0.5412988049640314,
          -0.5458459829699065,
          -0.5481195719728439,
          -0.5549403389816565,
          -0.5567592101840065,
          -0.5617611059904691,
          -0.5640346949934066,
          -0.5754026400080942,
          -0.5867705850227818,
          -0.5890441740257194,
          -0.6163272420609697,
          -0.6322423650815323,
          -0.6458838990991576,
          -0.6504310771050326,
          -0.6527046661079701,
          -0.6617990221197202,
          -0.6617990221197202,
          -0.6754405561373453,
          -0.682261323146158,
          -0.6845349121490953,
          -0.6890820901549705,
          -0.6890820901549705,
          -0.691355679157908,
          -0.695902857163783,
          -0.7004500351696581,
          -0.7027236241725956,
          -0.7036330597737706,
          -0.7136368513866957,
          -0.7186387471931582,
          -0.7368274592166585,
          -0.743648226225471,
          -0.7527425822372212,
          -0.7572897602430961,
          -0.7595633492460337,
          -0.7777520612695339,
          -0.7777520612695339,
          -0.7777520612695339,
          -0.7891200062842215,
          -0.791393595287159,
          -0.7936671842900966,
          -0.7936671842900966,
          -0.7936671842900966,
          -0.7982143622959716,
          -0.800487951298909,
          -0.8050351293047842,
          -0.8050351293047842,
          -0.8164030743194718,
          -0.8164030743194718,
          -0.8164030743194718,
          -0.8164030743194718,
          -0.8164030743194718,
          -0.8164030743194718,
          -0.8164030743194718,
          -0.8164030743194718,
          -0.8164030743194718,
          -0.8164030743194718,
          -0.8164030743194718,
          -0.8164030743194718,
          -0.8277710193341594,
          -0.8277710193341594,
          -0.8846107444075976
         ],
         "y0": " ",
         "yaxis": "y"
        },
        {
         "alignmentgroup": "True",
         "boxpoints": "all",
         "customdata": [
          [
           "Sanders, Jason MIA PK",
           162.1,
           10.807,
           25,
           4
          ],
          [
           "Koo, Younghoe ATL PK",
           153.7,
           10.979000000000001,
           26,
           5
          ],
          [
           "Bass, Tyler BUF PK",
           135.7,
           9.047,
           24,
           2
          ],
          [
           "Carlson, Daniel LVR PK",
           135.5,
           9.033,
           26,
           4
          ],
          [
           "Blankenship, Rodrigo IND PK",
           135.2,
           9.013,
           24,
           2
          ],
          [
           "Tucker, Justin BAL PK",
           134,
           8.933,
           31,
           10
          ],
          [
           "Gano, Graham NYG PK",
           132.4,
           8.827,
           34,
           13
          ],
          [
           "Myers, Jason SEA PK",
           129.8,
           8.652999999999999,
           30,
           8
          ],
          [
           "Santos, Cairo CHI PK",
           127.4,
           8.493,
           29,
           8
          ],
          [
           "Zuerlein, Greg DAL PK",
           126,
           8.4,
           33,
           10
          ],
          [
           "Lutz, Wil NOS PK",
           120.5,
           8.033,
           26,
           6
          ],
          [
           "McManus, Brandon DEN PK",
           117.6,
           8.4,
           29,
           8
          ],
          [
           "Succop, Ryan TBB PK",
           113.2,
           7.547000000000001,
           34,
           13
          ],
          [
           "Slye, Joey CAR PK",
           110.9,
           7.393,
           25,
           3
          ],
          [
           "Folk, Nick NEP PK",
           110.4,
           7.36,
           36,
           15
          ],
          [
           "Butker, Harrison KCC PK",
           108.8,
           7.252999999999999,
           25,
           5
          ],
          [
           "Fairbairn, Ka'imi HOU PK",
           107.2,
           7.147,
           27,
           6
          ],
          [
           "Crosby, Mason GBP PK",
           106.9,
           7.127000000000001,
           36,
           15
          ],
          [
           "Hopkins, Dustin WAS PK",
           106.2,
           7.08,
           30,
           9
          ],
          [
           "Gostkowski, Stephen TEN PK",
           100.8,
           6.72,
           37,
           16
          ],
          [
           "Prater, Matt DET PK",
           99.1,
           6.607,
           36,
           16
          ],
          [
           "Gould, Robbie SFO PK",
           97.4,
           6.492999999999999,
           38,
           17
          ],
          [
           "Bullock, Randy CIN PK",
           95.3,
           7.942,
           31,
           10
          ],
          [
           "Badgley, Mike LAC PK",
           94.9,
           6.327000000000001,
           25,
           4
          ],
          [
           "Parkey, Cody CLE PK",
           89.9,
           6.421,
           29,
           8
          ],
          [
           "Gonzalez, Zane ARI PK",
           88.9,
           7.4079999999999995,
           26,
           5
          ],
          [
           "Boswell, Chris PIT PK",
           88.7,
           6.8229999999999995,
           31,
           8
          ],
          [
           "Elliott, Jake PHI PK",
           62.7,
           4.18,
           26,
           5
          ],
          [
           "Bailey, Dan MIN PK",
           59.1,
           3.94,
           33,
           11
          ],
          [
           "Gay, Matt LAR PK",
           56.6,
           9.433,
           27,
           3
          ],
          [
           "Ficken, Sam NYJ PK",
           43.8,
           4.867,
           28,
           7
          ],
          [
           "Rosas, Aldrick JAC PK",
           31.9,
           6.38,
           26,
           6
          ],
          [
           "Nugent, Mike ARI PK",
           30.5,
           10.167,
           39,
           17
          ],
          [
           "Sloman, Sam TEN PK",
           28,
           4,
           23,
           2
          ],
          [
           "Castillo, Sergio FA PK",
           25.9,
           4.317,
           30,
           8
          ],
          [
           "Lambo, Josh JAC PK",
           24,
           6,
           30,
           7
          ],
          [
           "Seibert, Austin CIN PK",
           18.6,
           4.65,
           24,
           3
          ],
          [
           "McLaughlin, Chase NYJ PK",
           13.6,
           4.533,
           25,
           3
          ],
          [
           "Wright, Matthew DET PK",
           9.7,
           4.85,
           25,
           3
          ],
          [
           "Forbath, Kai FA PK",
           3.6,
           1.8,
           33,
           11
          ],
          [
           "Brown, Jon FA PK",
           2.1,
           2.1,
           28,
           6
          ],
          [
           "Fry, Elliott ATL PK",
           0.3,
           0.3,
           26,
           3
          ],
          [
           "Wright, Brandon LAR PK",
           -2,
           -2,
           24,
           2
          ],
          [
           "Hauschka, Steven FA PK",
           -3,
           -3,
           35,
           14
          ],
          [
           "Russolino, Taylor DEN PK",
           -6,
           -6,
           32,
           3
          ]
         ],
         "hovertemplate": "position=%{x}<br>z_score=%{y}<br>player_name=%{customdata[0]}<br>total_points=%{customdata[1]}<br>average_points=%{customdata[2]}<br>age=%{customdata[3]}<br>experience_years=%{customdata[4]}<extra></extra>",
         "legendgroup": "PK",
         "marker": {
          "color": "#EF553B"
         },
         "name": "PK",
         "notched": false,
         "offsetgroup": "PK",
         "orientation": "v",
         "showlegend": true,
         "type": "box",
         "x": [
          "PK",
          "PK",
          "PK",
          "PK",
          "PK",
          "PK",
          "PK",
          "PK",
          "PK",
          "PK",
          "PK",
          "PK",
          "PK",
          "PK",
          "PK",
          "PK",
          "PK",
          "PK",
          "PK",
          "PK",
          "PK",
          "PK",
          "PK",
          "PK",
          "PK",
          "PK",
          "PK",
          "PK",
          "PK",
          "PK",
          "PK",
          "PK",
          "PK",
          "PK",
          "PK",
          "PK",
          "PK",
          "PK",
          "PK",
          "PK",
          "PK",
          "PK",
          "PK",
          "PK",
          "PK"
         ],
         "x0": " ",
         "xaxis": "x",
         "y": [
          1.6693993683126502,
          1.5018655284511884,
          1.1428644430337704,
          1.138875542084688,
          1.1328921906610643,
          1.10895878496657,
          1.0770475773739108,
          1.0251918650358394,
          0.9773250536468502,
          0.9494027470032731,
          0.8397079709035065,
          0.7818689071418112,
          0.6941130862619981,
          0.6482407253475503,
          0.6382684729748442,
          0.6063572653821847,
          0.5744460577895254,
          0.5684627063659019,
          0.5545015530441133,
          0.4468012274188878,
          0.41289556935168714,
          0.3789899112844868,
          0.33710645131912115,
          0.3291286494209565,
          0.22940612569389593,
          0.2094616209484838,
          0.20547271999940134,
          -0.3130844033813136,
          -0.38488462046479727,
          -0.43474588232832756,
          -0.6900355430696027,
          -0.9273751495400068,
          -0.9552974561835837,
          -1.005158718047114,
          -1.0470421780124795,
          -1.0849367370287624,
          -1.192637062653988,
          -1.2923595863810486,
          -1.3701431548881557,
          -1.4918046338351696,
          -1.5217213909532878,
          -1.5576214994950297,
          -1.6034938604094775,
          -1.6234383651548896,
          -1.6832718793911259
         ],
         "y0": " ",
         "yaxis": "y"
        }
       ],
       "layout": {
        "boxmode": "overlay",
        "legend": {
         "title": {
          "text": "position"
         },
         "tracegroupgap": 0
        },
        "margin": {
         "t": 60
        },
        "template": {
         "data": {
          "bar": [
           {
            "error_x": {
             "color": "#2a3f5f"
            },
            "error_y": {
             "color": "#2a3f5f"
            },
            "marker": {
             "line": {
              "color": "#E5ECF6",
              "width": 0.5
             }
            },
            "type": "bar"
           }
          ],
          "barpolar": [
           {
            "marker": {
             "line": {
              "color": "#E5ECF6",
              "width": 0.5
             }
            },
            "type": "barpolar"
           }
          ],
          "carpet": [
           {
            "aaxis": {
             "endlinecolor": "#2a3f5f",
             "gridcolor": "white",
             "linecolor": "white",
             "minorgridcolor": "white",
             "startlinecolor": "#2a3f5f"
            },
            "baxis": {
             "endlinecolor": "#2a3f5f",
             "gridcolor": "white",
             "linecolor": "white",
             "minorgridcolor": "white",
             "startlinecolor": "#2a3f5f"
            },
            "type": "carpet"
           }
          ],
          "choropleth": [
           {
            "colorbar": {
             "outlinewidth": 0,
             "ticks": ""
            },
            "type": "choropleth"
           }
          ],
          "contour": [
           {
            "colorbar": {
             "outlinewidth": 0,
             "ticks": ""
            },
            "colorscale": [
             [
              0,
              "#0d0887"
             ],
             [
              0.1111111111111111,
              "#46039f"
             ],
             [
              0.2222222222222222,
              "#7201a8"
             ],
             [
              0.3333333333333333,
              "#9c179e"
             ],
             [
              0.4444444444444444,
              "#bd3786"
             ],
             [
              0.5555555555555556,
              "#d8576b"
             ],
             [
              0.6666666666666666,
              "#ed7953"
             ],
             [
              0.7777777777777778,
              "#fb9f3a"
             ],
             [
              0.8888888888888888,
              "#fdca26"
             ],
             [
              1,
              "#f0f921"
             ]
            ],
            "type": "contour"
           }
          ],
          "contourcarpet": [
           {
            "colorbar": {
             "outlinewidth": 0,
             "ticks": ""
            },
            "type": "contourcarpet"
           }
          ],
          "heatmap": [
           {
            "colorbar": {
             "outlinewidth": 0,
             "ticks": ""
            },
            "colorscale": [
             [
              0,
              "#0d0887"
             ],
             [
              0.1111111111111111,
              "#46039f"
             ],
             [
              0.2222222222222222,
              "#7201a8"
             ],
             [
              0.3333333333333333,
              "#9c179e"
             ],
             [
              0.4444444444444444,
              "#bd3786"
             ],
             [
              0.5555555555555556,
              "#d8576b"
             ],
             [
              0.6666666666666666,
              "#ed7953"
             ],
             [
              0.7777777777777778,
              "#fb9f3a"
             ],
             [
              0.8888888888888888,
              "#fdca26"
             ],
             [
              1,
              "#f0f921"
             ]
            ],
            "type": "heatmap"
           }
          ],
          "heatmapgl": [
           {
            "colorbar": {
             "outlinewidth": 0,
             "ticks": ""
            },
            "colorscale": [
             [
              0,
              "#0d0887"
             ],
             [
              0.1111111111111111,
              "#46039f"
             ],
             [
              0.2222222222222222,
              "#7201a8"
             ],
             [
              0.3333333333333333,
              "#9c179e"
             ],
             [
              0.4444444444444444,
              "#bd3786"
             ],
             [
              0.5555555555555556,
              "#d8576b"
             ],
             [
              0.6666666666666666,
              "#ed7953"
             ],
             [
              0.7777777777777778,
              "#fb9f3a"
             ],
             [
              0.8888888888888888,
              "#fdca26"
             ],
             [
              1,
              "#f0f921"
             ]
            ],
            "type": "heatmapgl"
           }
          ],
          "histogram": [
           {
            "marker": {
             "colorbar": {
              "outlinewidth": 0,
              "ticks": ""
             }
            },
            "type": "histogram"
           }
          ],
          "histogram2d": [
           {
            "colorbar": {
             "outlinewidth": 0,
             "ticks": ""
            },
            "colorscale": [
             [
              0,
              "#0d0887"
             ],
             [
              0.1111111111111111,
              "#46039f"
             ],
             [
              0.2222222222222222,
              "#7201a8"
             ],
             [
              0.3333333333333333,
              "#9c179e"
             ],
             [
              0.4444444444444444,
              "#bd3786"
             ],
             [
              0.5555555555555556,
              "#d8576b"
             ],
             [
              0.6666666666666666,
              "#ed7953"
             ],
             [
              0.7777777777777778,
              "#fb9f3a"
             ],
             [
              0.8888888888888888,
              "#fdca26"
             ],
             [
              1,
              "#f0f921"
             ]
            ],
            "type": "histogram2d"
           }
          ],
          "histogram2dcontour": [
           {
            "colorbar": {
             "outlinewidth": 0,
             "ticks": ""
            },
            "colorscale": [
             [
              0,
              "#0d0887"
             ],
             [
              0.1111111111111111,
              "#46039f"
             ],
             [
              0.2222222222222222,
              "#7201a8"
             ],
             [
              0.3333333333333333,
              "#9c179e"
             ],
             [
              0.4444444444444444,
              "#bd3786"
             ],
             [
              0.5555555555555556,
              "#d8576b"
             ],
             [
              0.6666666666666666,
              "#ed7953"
             ],
             [
              0.7777777777777778,
              "#fb9f3a"
             ],
             [
              0.8888888888888888,
              "#fdca26"
             ],
             [
              1,
              "#f0f921"
             ]
            ],
            "type": "histogram2dcontour"
           }
          ],
          "mesh3d": [
           {
            "colorbar": {
             "outlinewidth": 0,
             "ticks": ""
            },
            "type": "mesh3d"
           }
          ],
          "parcoords": [
           {
            "line": {
             "colorbar": {
              "outlinewidth": 0,
              "ticks": ""
             }
            },
            "type": "parcoords"
           }
          ],
          "pie": [
           {
            "automargin": true,
            "type": "pie"
           }
          ],
          "scatter": [
           {
            "marker": {
             "colorbar": {
              "outlinewidth": 0,
              "ticks": ""
             }
            },
            "type": "scatter"
           }
          ],
          "scatter3d": [
           {
            "line": {
             "colorbar": {
              "outlinewidth": 0,
              "ticks": ""
             }
            },
            "marker": {
             "colorbar": {
              "outlinewidth": 0,
              "ticks": ""
             }
            },
            "type": "scatter3d"
           }
          ],
          "scattercarpet": [
           {
            "marker": {
             "colorbar": {
              "outlinewidth": 0,
              "ticks": ""
             }
            },
            "type": "scattercarpet"
           }
          ],
          "scattergeo": [
           {
            "marker": {
             "colorbar": {
              "outlinewidth": 0,
              "ticks": ""
             }
            },
            "type": "scattergeo"
           }
          ],
          "scattergl": [
           {
            "marker": {
             "colorbar": {
              "outlinewidth": 0,
              "ticks": ""
             }
            },
            "type": "scattergl"
           }
          ],
          "scattermapbox": [
           {
            "marker": {
             "colorbar": {
              "outlinewidth": 0,
              "ticks": ""
             }
            },
            "type": "scattermapbox"
           }
          ],
          "scatterpolar": [
           {
            "marker": {
             "colorbar": {
              "outlinewidth": 0,
              "ticks": ""
             }
            },
            "type": "scatterpolar"
           }
          ],
          "scatterpolargl": [
           {
            "marker": {
             "colorbar": {
              "outlinewidth": 0,
              "ticks": ""
             }
            },
            "type": "scatterpolargl"
           }
          ],
          "scatterternary": [
           {
            "marker": {
             "colorbar": {
              "outlinewidth": 0,
              "ticks": ""
             }
            },
            "type": "scatterternary"
           }
          ],
          "surface": [
           {
            "colorbar": {
             "outlinewidth": 0,
             "ticks": ""
            },
            "colorscale": [
             [
              0,
              "#0d0887"
             ],
             [
              0.1111111111111111,
              "#46039f"
             ],
             [
              0.2222222222222222,
              "#7201a8"
             ],
             [
              0.3333333333333333,
              "#9c179e"
             ],
             [
              0.4444444444444444,
              "#bd3786"
             ],
             [
              0.5555555555555556,
              "#d8576b"
             ],
             [
              0.6666666666666666,
              "#ed7953"
             ],
             [
              0.7777777777777778,
              "#fb9f3a"
             ],
             [
              0.8888888888888888,
              "#fdca26"
             ],
             [
              1,
              "#f0f921"
             ]
            ],
            "type": "surface"
           }
          ],
          "table": [
           {
            "cells": {
             "fill": {
              "color": "#EBF0F8"
             },
             "line": {
              "color": "white"
             }
            },
            "header": {
             "fill": {
              "color": "#C8D4E3"
             },
             "line": {
              "color": "white"
             }
            },
            "type": "table"
           }
          ]
         },
         "layout": {
          "annotationdefaults": {
           "arrowcolor": "#2a3f5f",
           "arrowhead": 0,
           "arrowwidth": 1
          },
          "autotypenumbers": "strict",
          "coloraxis": {
           "colorbar": {
            "outlinewidth": 0,
            "ticks": ""
           }
          },
          "colorscale": {
           "diverging": [
            [
             0,
             "#8e0152"
            ],
            [
             0.1,
             "#c51b7d"
            ],
            [
             0.2,
             "#de77ae"
            ],
            [
             0.3,
             "#f1b6da"
            ],
            [
             0.4,
             "#fde0ef"
            ],
            [
             0.5,
             "#f7f7f7"
            ],
            [
             0.6,
             "#e6f5d0"
            ],
            [
             0.7,
             "#b8e186"
            ],
            [
             0.8,
             "#7fbc41"
            ],
            [
             0.9,
             "#4d9221"
            ],
            [
             1,
             "#276419"
            ]
           ],
           "sequential": [
            [
             0,
             "#0d0887"
            ],
            [
             0.1111111111111111,
             "#46039f"
            ],
            [
             0.2222222222222222,
             "#7201a8"
            ],
            [
             0.3333333333333333,
             "#9c179e"
            ],
            [
             0.4444444444444444,
             "#bd3786"
            ],
            [
             0.5555555555555556,
             "#d8576b"
            ],
            [
             0.6666666666666666,
             "#ed7953"
            ],
            [
             0.7777777777777778,
             "#fb9f3a"
            ],
            [
             0.8888888888888888,
             "#fdca26"
            ],
            [
             1,
             "#f0f921"
            ]
           ],
           "sequentialminus": [
            [
             0,
             "#0d0887"
            ],
            [
             0.1111111111111111,
             "#46039f"
            ],
            [
             0.2222222222222222,
             "#7201a8"
            ],
            [
             0.3333333333333333,
             "#9c179e"
            ],
            [
             0.4444444444444444,
             "#bd3786"
            ],
            [
             0.5555555555555556,
             "#d8576b"
            ],
            [
             0.6666666666666666,
             "#ed7953"
            ],
            [
             0.7777777777777778,
             "#fb9f3a"
            ],
            [
             0.8888888888888888,
             "#fdca26"
            ],
            [
             1,
             "#f0f921"
            ]
           ]
          },
          "colorway": [
           "#636efa",
           "#EF553B",
           "#00cc96",
           "#ab63fa",
           "#FFA15A",
           "#19d3f3",
           "#FF6692",
           "#B6E880",
           "#FF97FF",
           "#FECB52"
          ],
          "font": {
           "color": "#2a3f5f"
          },
          "geo": {
           "bgcolor": "white",
           "lakecolor": "white",
           "landcolor": "#E5ECF6",
           "showlakes": true,
           "showland": true,
           "subunitcolor": "white"
          },
          "hoverlabel": {
           "align": "left"
          },
          "hovermode": "closest",
          "mapbox": {
           "style": "light"
          },
          "paper_bgcolor": "white",
          "plot_bgcolor": "#E5ECF6",
          "polar": {
           "angularaxis": {
            "gridcolor": "white",
            "linecolor": "white",
            "ticks": ""
           },
           "bgcolor": "#E5ECF6",
           "radialaxis": {
            "gridcolor": "white",
            "linecolor": "white",
            "ticks": ""
           }
          },
          "scene": {
           "xaxis": {
            "backgroundcolor": "#E5ECF6",
            "gridcolor": "white",
            "gridwidth": 2,
            "linecolor": "white",
            "showbackground": true,
            "ticks": "",
            "zerolinecolor": "white"
           },
           "yaxis": {
            "backgroundcolor": "#E5ECF6",
            "gridcolor": "white",
            "gridwidth": 2,
            "linecolor": "white",
            "showbackground": true,
            "ticks": "",
            "zerolinecolor": "white"
           },
           "zaxis": {
            "backgroundcolor": "#E5ECF6",
            "gridcolor": "white",
            "gridwidth": 2,
            "linecolor": "white",
            "showbackground": true,
            "ticks": "",
            "zerolinecolor": "white"
           }
          },
          "shapedefaults": {
           "line": {
            "color": "#2a3f5f"
           }
          },
          "ternary": {
           "aaxis": {
            "gridcolor": "white",
            "linecolor": "white",
            "ticks": ""
           },
           "baxis": {
            "gridcolor": "white",
            "linecolor": "white",
            "ticks": ""
           },
           "bgcolor": "#E5ECF6",
           "caxis": {
            "gridcolor": "white",
            "linecolor": "white",
            "ticks": ""
           }
          },
          "title": {
           "x": 0.05
          },
          "xaxis": {
           "automargin": true,
           "gridcolor": "white",
           "linecolor": "white",
           "ticks": "",
           "title": {
            "standoff": 15
           },
           "zerolinecolor": "white",
           "zerolinewidth": 2
          },
          "yaxis": {
           "automargin": true,
           "gridcolor": "white",
           "linecolor": "white",
           "ticks": "",
           "title": {
            "standoff": 15
           },
           "zerolinecolor": "white",
           "zerolinewidth": 2
          }
         }
        },
        "xaxis": {
         "anchor": "y",
         "categoryarray": [
          "LB",
          "DE",
          "CB",
          "S",
          "PN",
          "QB",
          "Off",
          "WR",
          "RB",
          "DT",
          "TE",
          "PK"
         ],
         "categoryorder": "array",
         "domain": [
          0,
          1
         ],
         "title": {
          "text": "position"
         }
        },
        "yaxis": {
         "anchor": "x",
         "domain": [
          0,
          1
         ],
         "title": {
          "text": "z_score"
         }
        }
       }
      },
      "text/html": [
       "<div>                            <div id=\"e75e3015-667b-453c-8f43-5ee4adf854bd\" class=\"plotly-graph-div\" style=\"height:525px; width:100%;\"></div>            <script type=\"text/javascript\">                require([\"plotly\"], function(Plotly) {                    window.PLOTLYENV=window.PLOTLYENV || {};                                    if (document.getElementById(\"e75e3015-667b-453c-8f43-5ee4adf854bd\")) {                    Plotly.newPlot(                        \"e75e3015-667b-453c-8f43-5ee4adf854bd\",                        [{\"alignmentgroup\": \"True\", \"boxpoints\": \"all\", \"customdata\": [[\"White, Devin TBB LB\", 188.5, 12.567, 23.0, 3.0], [\"Smith, Roquan CHI LB\", 187.1, 12.472999999999999, 24.0, 4.0], [\"Watt, T.J. PIT LB\", 179.5, 11.967, 26.0, 5.0], [\"Schobert, Joe JAC LB\", 162.7, 10.847000000000001, 27.0, 6.0], [\"Jones, Deion ATL LB\", 158.3, 10.552999999999999, 26.0, 6.0], [\"Martinez, Blake NYG LB\", 155.7, 10.38, 27.0, 6.0], [\"Wilson, Eric MIN LB\", 152.5, 10.167, 26.0, 5.0], [\"David, Lavonte TBB LB\", 146.5, 9.767000000000001, 31.0, 10.0], [\"Cunningham, Zach HOU LB\", 145.0, 9.667, 26.0, 5.0], [\"Oluokun, Foyesade ATL LB\", 144.7, 10.335999999999999, 25.0, 4.0], [\"Wagner, Bobby SEA LB\", 142.5, 9.5, 30.0, 10.0], [\"Queen, Patrick BAL LB\", 141.8, 9.453, 21.0, 2.0], [\"Hewitt, Neville NYJ LB\", 139.2, 9.28, 28.0, 7.0], [\"Smith, Jaylon DAL LB\", 138.0, 9.2, 25.0, 6.0], [\"Baker, Jerome MIA LB\", 136.5, 9.1, 24.0, 4.0], [\"Leonard, Darius IND LB\", 134.4, 10.338, 25.0, 4.0], [\"Davis, Demario NOS LB\", 130.2, 8.68, 32.0, 10.0], [\"Warner, Fred SFO LB\", 125.9, 8.392999999999999, 24.0, 4.0], [\"Smith, Za'Darius GBP LB\", 125.5, 8.367, 28.0, 7.0], [\"Adams, Tyrell HOU LB\", 124.5, 8.3, 29.0, 6.0], [\"Wright, K.J. SEA LB\", 122.7, 8.18, 31.0, 11.0], [\"Kendricks, Eric MIN LB\", 120.5, 10.955, 29.0, 7.0], [\"Collins, Jamie DET LB\", 120.1, 8.579, 31.0, 9.0], [\"Mack, Khalil CHI LB\", 119.8, 7.987, 30.0, 8.0], [\"Van Noy, Kyle MIA LB\", 117.8, 9.062000000000001, 30.0, 8.0], [\"Hicks, Jordan ARI LB\", 117.3, 7.82, 28.0, 7.0], [\"Singleton, Alex PHI LB\", 116.6, 7.773, 27.0, 7.0], [\"Barrett, Shaq TBB LB\", 112.0, 7.4670000000000005, 28.0, 8.0], [\"Jack, Myles JAC LB\", 111.5, 8.577, 25.0, 6.0], [\"Thompson, Shaq CAR LB\", 111.5, 7.433, 27.0, 7.0], [\"Johnson, Alexander DEN LB\", 109.1, 7.273, 29.0, 4.0], [\"Bostic, Jon WAS LB\", 108.5, 7.233, 30.0, 9.0], [\"Edmunds, Tremaine BUF LB\", 105.5, 7.5360000000000005, 23.0, 4.0], [\"Klein, A.J. BUF LB\", 105.5, 7.0329999999999995, 29.0, 9.0], [\"Landry, Harold TEN LB\", 105.0, 7.0, 24.0, 4.0], [\"Goodson, B.J. CLE LB\", 103.7, 7.407, 27.0, 6.0], [\"Campbell, De'Vondre ARI LB\", 103.5, 6.9, 27.0, 6.0], [\"Williamson, Avery PIT LB\", 102.1, 7.292999999999999, 29.0, 8.0], [\"Murray, Kenneth LAC LB\", 102.0, 6.8, 22.0, 2.0], [\"Morrow, Nicholas LVR LB\", 101.6, 7.815, 25.0, 5.0], [\"Jewell, Josey DEN LB\", 101.5, 6.767, 26.0, 4.0], [\"Floyd, Leonard LAR LB\", 101.1, 6.74, 28.0, 6.0], [\"Trevathan, Danny CHI LB\", 100.0, 6.667000000000001, 31.0, 10.0], [\"Brown, Jayon TEN LB\", 97.5, 9.75, 26.0, 5.0], [\"Williams, Vince PIT LB\", 97.5, 7.5, 31.0, 9.0], [\"Van Ginkel, Andrew MIA LB\", 93.3, 6.22, 25.0, 3.0], [\"Reed, Malik DEN LB\", 91.5, 6.1, 24.0, 3.0], [\"Walker, Anthony IND LB\", 90.1, 6.007000000000001, 25.0, 5.0], [\"Greenlaw, Dre SFO LB\", 89.0, 6.846, 24.0, 3.0], [\"Kwiatkoski, Nick LVR LB\", 88.8, 7.4, 27.0, 6.0], [\"Okereke, Bobby IND LB\", 85.7, 6.5920000000000005, 24.0, 3.0], [\"Dupree, Bud PIT LB\", 84.0, 7.636, 28.0, 7.0], [\"Reeder, Troy LAR LB\", 84.0, 5.6, 26.0, 3.0], [\"Smith, Malcolm CLE LB\", 82.2, 5.48, 31.0, 11.0], [\"Bynes, Josh CIN LB\", 81.5, 5.433, 31.0, 11.0], [\"Holcomb, Cole WAS LB\", 80.0, 8.0, 24.0, 3.0], [\"Spillane, Robert PIT LB\", 78.3, 6.525, 25.0, 4.0], [\"Bentley, Ja'Whaun NEP LB\", 78.0, 6.5, 24.0, 4.0], [\"Pratt, Germaine CIN LB\", 78.0, 5.2, 24.0, 3.0], [\"Judon, Matt BAL LB\", 77.8, 5.985, 28.0, 6.0], [\"Takitaki, Sione CLE LB\", 77.5, 5.5360000000000005, 25.0, 3.0], [\"Chubb, Bradley DEN LB\", 76.5, 5.4639999999999995, 24.0, 4.0], [\"Roberts, Elandon MIA LB\", 76.02, 5.848, 27.0, 6.0], [\"Smith, Preston GBP LB\", 75.9, 5.06, 28.0, 7.0], [\"Evans, Rashaan TEN LB\", 75.1, 5.007, 24.0, 4.0], [\"White, Kyzir LAC LB\", 75.0, 6.818, 25.0, 4.0], [\"Kirksey, Christian GBP LB\", 74.6, 7.46, 28.0, 8.0], [\"Young, Kenny LAR LB\", 74.4, 4.96, 25.0, 4.0], [\"Alexander, Kwon NOS LB\", 72.5, 6.042000000000001, 26.0, 7.0], [\"Edwards, T.J. PHI LB\", 72.0, 6.545, 24.0, 3.0], [\"Barnes, Krys GBP LB\", 69.0, 5.75, 23.0, 2.0], [\"Fackrell, Kyler NYG LB\", 68.1, 6.191, 29.0, 6.0], [\"Bowser, Tyus BAL LB\", 67.3, 4.487, 26.0, 5.0], [\"Kiser, Micah LAR LB\", 66.7, 7.4110000000000005, 26.0, 4.0], [\"Hitchens, Anthony KCC LB\", 64.9, 4.636, 28.0, 8.0], [\"Golden, Markus ARI LB\", 64.6, 4.3069999999999995, 30.0, 7.0], [\"Vigil, Nick LAC LB\", 64.4, 4.6, 27.0, 6.0], [\"Simmons, Isaiah ARI LB\", 64.2, 4.28, 22.0, 2.0], [\"Littleton, Cory LVR LB\", 64.0, 4.923, 27.0, 6.0], [\"Fort, L.J. BAL LB\", 63.9, 4.915, 31.0, 10.0], [\"Milano, Matt BUF LB\", 63.7, 7.077999999999999, 26.0, 5.0], [\"Pierre-Louis, Kevin WAS LB\", 60.5, 4.654, 29.0, 8.0], [\"Wilson, Damien KCC LB\", 59.5, 4.958, 27.0, 7.0], [\"Nwosu, Uchenna LAC LB\", 58.5, 4.5, 24.0, 4.0], [\"Gardeck, Dennis ARI LB\", 57.0, 4.071000000000001, 26.0, 4.0], [\"Gerry, Nate PHI LB\", 57.0, 8.142999999999999, 26.0, 5.0], [\"Crowder, Tae NYG LB\", 56.8, 5.68, 24.0, 2.0], [\"Riley, Duke PHI LB\", 55.7, 4.285, 26.0, 5.0], [\"Niemann, Ben KCC LB\", 55.0, 3.667, 25.0, 4.0], [\"Wilson, Logan CIN LB\", 54.5, 4.542, 24.0, 2.0], [\"Ragland, Reggie DET LB\", 52.0, 3.467, 27.0, 6.0], [\"Vander Esch, Leighton DAL LB\", 51.5, 5.15, 24.0, 4.0], [\"Gary, Rashan GBP LB\", 50.0, 3.571, 23.0, 3.0], [\"Highsmith, Alex PIT LB\", 48.7, 3.247, 23.0, 2.0], [\"McPhee, Pernell BAL LB\", 48.5, 3.464, 32.0, 11.0], [\"Davis, Jarrad DET LB\", 48.0, 3.6919999999999997, 25.0, 5.0], [\"Ferguson, Jaylon BAL LB\", 47.5, 3.654, 25.0, 3.0], [\"Gay, Willie KCC LB\", 47.5, 3.167, 23.0, 2.0], [\"Long, David TEN LB\", 47.5, 3.654, 22.0, 3.0], [\"Jones, Christian DET LB\", 46.5, 3.1, 30.0, 8.0], [\"Langi, Harvey NYJ LB\", 46.5, 3.321, 28.0, 5.0], [\"Mingo, Barkevious CHI LB\", 44.6, 2.9730000000000003, 30.0, 9.0], [\"Thomas, Joe DAL LB\", 44.0, 3.1430000000000002, 30.0, 8.0], [\"Walker, Mykal ATL LB\", 43.5, 2.9, 23.0, 2.0], [\"Whitehead, Tahir CAR LB\", 42.6, 3.2769999999999997, 31.0, 10.0], [\"Brooks, Jordyn SEA LB\", 42.1, 3.238, 23.0, 2.0], [\"Board, Chris BAL LB\", 41.0, 2.733, 25.0, 4.0], [\"Martin, Jake HOU LB\", 40.5, 3.115, 25.0, 4.0], [\"Hall, Terez NEP LB\", 40.1, 5.013, 24.0, 3.0], [\"Hollins, Justin LAR LB\", 39.2, 2.613, 25.0, 3.0], [\"Ebukam, Samson LAR LB\", 39.0, 2.6, 26.0, 5.0], [\"Perryman, Denzel LAC LB\", 38.4, 3.2, 27.0, 7.0], [\"Tavai, Jahlani DET LB\", 38.0, 2.533, 24.0, 3.0], [\"Harrison, Malik BAL LB\", 37.0, 2.467, 23.0, 2.0], [\"Kennard, Devon ARI LB\", 36.0, 3.0, 29.0, 8.0], [\"Barton, Cody SEA LB\", 34.5, 2.3, 24.0, 3.0], [\"Summers, Ty GBP LB\", 34.5, 2.3, 25.0, 3.0], [\"Carter, Jermaine CAR LB\", 33.5, 2.233, 26.0, 4.0], [\"Quinn, Robert CHI LB\", 33.5, 2.3930000000000002, 31.0, 11.0], [\"Luvu, Frankie NYJ LB\", 33.0, 2.75, 24.0, 4.0], [\"Wilson, Mack CLE LB\", 33.0, 2.75, 23.0, 3.0], [\"Al-Shaair, Azeez SFO LB\", 31.5, 2.1, 23.0, 3.0], [\"McKinney, Benardrick HOU LB\", 31.5, 7.875, 28.0, 7.0], [\"Downs, Devante NYG LB\", 30.0, 2.0, 25.0, 4.0], [\"Martin, Kamal GBP LB\", 30.0, 3.333, 22.0, 2.0], [\"Anzalone, Alex NOS LB\", 29.8, 1.9869999999999999, 27.0, 5.0], [\"Grugier-Hill, Kamu MIA LB\", 28.5, 1.9, 27.0, 6.0], [\"Bush, Devin PIT LB\", 27.6, 5.52, 22.0, 3.0], [\"Burks, Oren GBP LB\", 27.5, 1.8330000000000002, 26.0, 4.0], [\"Mayo, David NYG LB\", 27.5, 2.75, 27.0, 7.0], [\"Vaughters, James CHI LB\", 26.5, 2.0380000000000003, 27.0, 7.0], [\"Dodson, Tyrel BUF LB\", 26.0, 2.889, 22.0, 3.0], [\"Nelson, Anthony TBB LB\", 24.5, 1.633, 24.0, 3.0], [\"Davis, Todd MIN LB\", 24.4, 2.44, 29.0, 8.0], [\"Evans, Jordan CIN LB\", 24.1, 1.7209999999999999, 26.0, 5.0], [\"McMillan, Raekwon LVR LB\", 23.1, 1.54, 24.0, 5.0], [\"Coughlin, Carter NYG LB\", 23.0, 1.7690000000000001, 23.0, 2.0], [\"Carter, Lorenzo NYG LB\", 21.7, 4.34, 25.0, 4.0], [\"Hall, Nate HOU LB\", 21.5, 2.3890000000000002, 25.0, 3.0], [\"Nickerson, Hardy MIN LB\", 21.5, 1.6540000000000001, 27.0, 5.0], [\"Scarlett, Brennan HOU LB\", 21.5, 2.15, 27.0, 6.0], [\"Gustin, Porter CLE LB\", 21.1, 1.6230000000000002, 24.0, 3.0], [\"Turner, Zeke ARI LB\", 20.1, 1.34, 24.0, 4.0], [\"Dye, Troy MIN LB\", 20.0, 2.0, 24.0, 2.0], [\"Marsh, Cassius PIT LB\", 19.5, 2.438, 28.0, 8.0], [\"Hamilton, Shaun Dion DET LB\", 19.3, 1.379, 25.0, 4.0], [\"Davis-Gaither, Akeem CIN LB\", 19.0, 1.2670000000000001, 23.0, 2.0], [\"Allen, Dakota JAC LB\", 18.5, 1.5419999999999998, 25.0, 3.0], [\"Avery, Genard PHI LB\", 18.5, 1.85, 26.0, 4.0], [\"Giles-Harris, Joe JAC LB\", 17.8, 2.225, 24.0, 3.0], [\"Jones, Chandler ARI LB\", 17.0, 3.4, 31.0, 10.0], [\"Okoronkwo, Ogbonnia LAR LB\", 17.0, 1.889, 26.0, 4.0], [\"Uche, Josh NEP LB\", 17.0, 1.889, 22.0, 2.0], [\"Chickillo, Anthony DEN LB\", 16.0, 1.455, 28.0, 7.0], [\"Lewis, Terrell LAR LB\", 16.0, 2.286, null, null], [\"Compton, Will TEN LB\", 15.5, 1.409, 31.0, 9.0], [\"Griffin, Shaquem SEA LB\", 15.5, 1.192, 25.0, 4.0], [\"Taylor, Adarius CAR LB\", 15.5, 1.2919999999999998, 30.0, 8.0], [\"Williams, Quincy JAC LB\", 15.5, 2.214, 24.0, 3.0], [\"Adeniyi, Ola PIT LB\", 15.0, 1.071, 23.0, 4.0], [\"Hager, Bryce NYJ LB\", 15.0, 1.6669999999999998, 29.0, 7.0], [\"Reynolds, LaRoy ATL LB\", 15.0, 1.0, 30.0, 9.0], [\"Bower, Tashawn NEP LB\", 13.5, 1.929, 26.0, 5.0], [\"Jennings, Anfernee NEP LB\", 13.0, 0.929, 24.0, 2.0], [\"Franklin, Zaire IND LB\", 12.6, 0.84, 24.0, 4.0], [\"Phillips, Jacob CLE LB\", 12.5, 1.5619999999999998, 22.0, 2.0], [\"Bradley, Shaun PHI LB\", 12.0, 0.8, 24.0, 2.0], [\"Brown, Cam NYG LB\", 12.0, 0.857, 23.0, 2.0], [\"Roberson, Derick TEN LB\", 12.0, 1.5, 25.0, 3.0], [\"Vallejo, Tanner ARI LB\", 12.0, 0.8, 26.0, 5.0], [\"Fitts, Kylie ARI LB\", 11.5, 0.885, 26.0, 4.0], [\"Lee, Sean DAL LB\", 11.5, 1.4380000000000002, 34.0, 12.0], [\"Copeland, Brandon NEP LB\", 11.0, 1.8330000000000002, 29.0, 8.0], [\"Iyiegbuniwe, Joel CHI LB\", 11.0, 0.733, 25.0, 4.0], [\"Matakevich, Tyler BUF LB\", 11.0, 0.733, 28.0, 6.0], [\"Lynch, Aaron JAC LB\", 10.6, 1.514, 28.0, 8.0], [\"Eguavoen, Sam MIA LB\", 10.5, 0.7, 28.0, 3.0], [\"Robinson, Edmond ATL LB\", 10.5, 0.875, 29.0, 7.0], [\"Lynch, Blake MIN LB\", 10.0, 5.0, 24.0, 2.0], [\"Robertson, Craig NOS LB\", 10.0, 0.667, 33.0, 11.0], [\"Anderson, Ryan WAS LB\", 9.5, 1.056, 26.0, 5.0], [\"Burr-Kirven, Ben SEA LB\", 9.5, 0.633, 23.0, 3.0], [\"Correa, Kamalei JAC LB\", 9.5, 1.056, 27.0, 6.0], [\"O'Daniel, Dorian KCC LB\", 9.5, 0.8640000000000001, 26.0, 4.0], [\"Reeves-Maybin, Jalen DET LB\", 9.5, 0.633, 26.0, 5.0], [\"Polite, Jachai FA LB\", 9.0, 0.818, 23.0, 3.0], [\"Brailford, Jordan MIN LB\", 8.5, 2.125, 25.0, 3.0], [\"Hudson, Khaleke WAS LB\", 8.5, 0.5670000000000001, 23.0, 2.0], [\"Baun, Zack NOS LB\", 8.0, 0.5710000000000001, 24.0, 2.0], [\"Malveaux, Cameron CLE LB\", 8.0, 4.0, 26.0, 5.0], [\"Dzubnar, Nick TEN LB\", 7.6, 0.507, 29.0, 7.0], [\"Davis, Tae CLE LB\", 7.5, 0.625, 24.0, 4.0], [\"Glasgow, Jordan IND LB\", 7.5, 0.625, 24.0, 2.0], [\"Harris, Darius KCC LB\", 7.5, 2.5, 25.0, 3.0], [\"Ray, Wyatt TEN LB\", 7.5, 2.5, 24.0, 3.0], [\"Wilber, Kyle LVR LB\", 7.5, 0.5, 32.0, 10.0], [\"Davis, Thomas WAS LB\", 7.0, 1.0, 38.0, 17.0], [\"Cabinda, Jason DET LB\", 6.76, 0.451, 25.0, 4.0], [\"Beasley, Vic LVR LB\", 6.5, 0.722, 28.0, 7.0], [\"Flannigan-Fowles, Demetrius SFO LB\", 6.5, 0.65, 24.0, 3.0], [\"Stanford, Julian CAR LB\", 6.5, 0.433, 30.0, 10.0], [\"Barr, Anthony MIN LB\", 6.0, 3.0, 29.0, 8.0], [\"Speed, E.J. IND LB\", 6.0, 0.429, 25.0, 3.0], [\"Egbule, Emeke LAC LB\", 5.5, 0.423, 24.0, 3.0], [\"Walker, Joe SFO LB\", 5.5, 0.5, 28.0, 6.0], [\"White, Javin LVR LB\", 5.5, 1.375, 24.0, 2.0], [\"Bates, Daren TEN LB\", 5.0, 0.41700000000000004, 30.0, 9.0], [\"Cashman, Blake NYJ LB\", 5.0, 1.25, 25.0, 3.0], [\"Connelly, Ryan MIN LB\", 5.0, 0.385, 25.0, 3.0], [\"Jacobs, Leon JAC LB\", 5.0, 1.6669999999999998, 25.0, 4.0], [\"Ogletree, Alec FA LB\", 5.0, 2.5, 29.0, 9.0], [\"Ramsey, Randy GBP LB\", 5.0, 0.556, 25.0, 3.0], [\"Jones, Joseph DEN LB\", 4.6, 0.354, 27.0, 5.0], [\"Cole, Dylan HOU LB\", 4.5, 0.75, 27.0, 5.0], [\"Elliss, Kaden NOS LB\", 4.5, 0.321, 25.0, 3.0], [\"Gifford, Luke DAL LB\", 4.5, 0.643, 25.0, 3.0], [\"Skipper, Tuzar TEN LB\", 4.5, 1.125, 25.0, 3.0], [\"Taylor, Davion PHI LB\", 4.5, 0.375, 22.0, 2.0], [\"Woods, Josh CHI LB\", 4.5, 0.321, 24.0, 4.0], [\"Bernard, Francis DAL LB\", 4.0, 0.33299999999999996, 26.0, 2.0], [\"Gilbert, Ulysees PIT LB\", 4.0, 1.0, 23.0, 3.0], [\"Jefferson, Malik LAC LB\", 4.0, 0.308, 24.0, 4.0], [\"Watson, Josh DEN LB\", 4.0, 0.5, 25.0, 3.0], [\"Garvin, Jonathan GBP LB\", 3.5, 0.43799999999999994, 21.0, 2.0], [\"Munson, Calvin MIA LB\", 3.5, 0.233, 26.0, 5.0], [\"Burgess, James GBP LB\", 3.0, 0.75, 27.0, 6.0], [\"Welch, Kristian BAL LB\", 3.0, 0.33299999999999996, 23.0, 2.0], [\"Gill, Cam TBB LB\", 2.5, 0.22699999999999998, 23.0, 2.0], [\"Brunson, T.J. NYG LB\", 2.0, 0.5, 23.0, 2.0], [\"Quarterman, Shaquille JAC LB\", 2.0, 0.182, 23.0, 2.0], [\"Smith, Andre BUF LB\", 2.0, 0.182, 24.0, 4.0], [\"Bachie, Joe PHI LB\", 1.5, 0.5, 23.0, 2.0], [\"Toohill, Casey WAS LB\", 1.5, 0.214, 24.0, 2.0], [\"Calitro, Austin DEN LB\", 1.0, 0.083, 27.0, 4.0], [\"Kalambayi, Peter HOU LB\", 1.0, 0.111, 25.0, 4.0], [\"Kunaszyk, Jordan WAS LB\", 1.0, 0.2, 24.0, 3.0], [\"Lee, Darron BUF LB\", 1.0, 0.5, 26.0, 6.0], [\"Minter, Kevin TBB LB\", 1.0, 0.067, 30.0, 9.0], [\"Nzeocha, Mark SFO LB\", 1.0, 0.25, 31.0, 7.0], [\"Reed, Brooks TEN LB\", 1.0, 1.0, 34.0, 11.0], [\"Tranquill, Drue LAC LB\", 1.0, 1.0, 25.0, 3.0], [\"Alaka, Otaro BAL LB\", 0.5, 0.1, 25.0, 3.0], [\"Bailey, Markus CIN LB\", 0.5, 0.05, 24.0, 2.0], [\"Cichy, Jack TBB LB\", 0.5, 0.1, 26.0, 4.0], [\"Bell, Quinton FA LB\", 0.0, 0.0, 24.0, 3.0], [\"Bradham, Nigel FA LB\", 0.0, 0.0, 31.0, 10.0], [\"Finch, Sharif NYJ LB\", 0.0, 0.0, 25.0, 4.0], [\"Harris, De'Jon GBP LB\", 0.0, 0.0, 23.0, 2.0], [\"Irving, Isaiah ARI LB\", 0.0, 0.0, 26.0, 5.0], [\"Johnston, Clay CAR LB\", 0.0, 0.0, 24.0, 2.0], [\"Kendricks, Mychal WAS LB\", 0.0, 0.0, 30.0, 10.0], [\"Maluia, Cassh NEP LB\", 0.0, 0.0, 22.0, 2.0], [\"March, Justin DAL LB\", 0.0, 0.0, 27.0, 7.0], [\"Martin, Kareem DET LB\", 0.0, 0.0, 29.0, 8.0], [\"Onwuasor, Patrick NYJ LB\", 0.0, 0.0, 28.0, 6.0], [\"Russell, Chapelle JAC LB\", 0.0, 0.0, 24.0, 2.0], [\"Walker, D'Andre FA LB\", 0.0, 0.0, 24.0, 3.0], [\"Adams, Matthew IND LB\", -1.0, -0.125, 25.0, 4.0], [\"Lee, Elijah CLE LB\", -1.0, -0.091, 25.0, 5.0], [\"Armstrong, Ray-Ray FA LB\", -2.0, -1.0, 32.0, 9.0], [\"Reddick, Haason ARI LB\", 150.7, 10.047, 26.0, 5.0], [\"Basham, Tarell NYJ LB\", 57.7, 3.847, 27.0, 5.0], [\"Mercilus, Whitney HOU LB\", 43.5, 3.346, 30.0, 10.0], [\"Jenkins, Jordan NYJ LB\", 38.0, 3.167, 26.0, 6.0], [\"Greenard, Jonathan HOU LB\", 15.0, 1.25, 24.0, 2.0], [\"Zuniga, Jabari NYJ LB\", 2.5, 0.312, 23.0, 2.0]], \"hovertemplate\": \"position=%{x}<br>z_score=%{y}<br>player_name=%{customdata[0]}<br>total_points=%{customdata[1]}<br>average_points=%{customdata[2]}<br>age=%{customdata[3]}<br>experience_years=%{customdata[4]}<extra></extra>\", \"legendgroup\": \"LB\", \"marker\": {\"color\": \"#636efa\"}, \"name\": \"LB\", \"notched\": false, \"offsetgroup\": \"LB\", \"orientation\": \"v\", \"showlegend\": true, \"type\": \"box\", \"x\": [\"LB\", \"LB\", \"LB\", \"LB\", \"LB\", \"LB\", \"LB\", \"LB\", \"LB\", \"LB\", \"LB\", \"LB\", \"LB\", \"LB\", \"LB\", \"LB\", \"LB\", \"LB\", \"LB\", \"LB\", \"LB\", \"LB\", \"LB\", \"LB\", \"LB\", \"LB\", \"LB\", \"LB\", \"LB\", \"LB\", \"LB\", \"LB\", \"LB\", \"LB\", \"LB\", \"LB\", \"LB\", \"LB\", \"LB\", \"LB\", \"LB\", \"LB\", \"LB\", \"LB\", \"LB\", \"LB\", \"LB\", \"LB\", \"LB\", \"LB\", \"LB\", \"LB\", \"LB\", \"LB\", \"LB\", \"LB\", \"LB\", \"LB\", \"LB\", \"LB\", \"LB\", \"LB\", \"LB\", \"LB\", \"LB\", \"LB\", \"LB\", \"LB\", \"LB\", \"LB\", \"LB\", \"LB\", \"LB\", \"LB\", \"LB\", \"LB\", \"LB\", \"LB\", \"LB\", \"LB\", \"LB\", \"LB\", \"LB\", \"LB\", \"LB\", \"LB\", \"LB\", \"LB\", \"LB\", \"LB\", \"LB\", \"LB\", \"LB\", \"LB\", \"LB\", \"LB\", \"LB\", \"LB\", \"LB\", \"LB\", \"LB\", \"LB\", \"LB\", \"LB\", \"LB\", \"LB\", \"LB\", \"LB\", \"LB\", \"LB\", \"LB\", \"LB\", \"LB\", \"LB\", \"LB\", \"LB\", \"LB\", \"LB\", \"LB\", \"LB\", \"LB\", \"LB\", \"LB\", \"LB\", \"LB\", \"LB\", \"LB\", \"LB\", \"LB\", \"LB\", \"LB\", \"LB\", \"LB\", \"LB\", \"LB\", \"LB\", \"LB\", \"LB\", \"LB\", \"LB\", \"LB\", \"LB\", \"LB\", \"LB\", \"LB\", \"LB\", \"LB\", \"LB\", \"LB\", \"LB\", \"LB\", \"LB\", \"LB\", \"LB\", \"LB\", \"LB\", \"LB\", \"LB\", \"LB\", \"LB\", \"LB\", \"LB\", \"LB\", \"LB\", \"LB\", \"LB\", \"LB\", \"LB\", \"LB\", \"LB\", \"LB\", \"LB\", \"LB\", \"LB\", \"LB\", \"LB\", \"LB\", \"LB\", \"LB\", \"LB\", \"LB\", \"LB\", \"LB\", \"LB\", \"LB\", \"LB\", \"LB\", \"LB\", \"LB\", \"LB\", \"LB\", \"LB\", \"LB\", \"LB\", \"LB\", \"LB\", \"LB\", \"LB\", \"LB\", \"LB\", \"LB\", \"LB\", \"LB\", \"LB\", \"LB\", \"LB\", \"LB\", \"LB\", \"LB\", \"LB\", \"LB\", \"LB\", \"LB\", \"LB\", \"LB\", \"LB\", \"LB\", \"LB\", \"LB\", \"LB\", \"LB\", \"LB\", \"LB\", \"LB\", \"LB\", \"LB\", \"LB\", \"LB\", \"LB\", \"LB\", \"LB\", \"LB\", \"LB\", \"LB\", \"LB\", \"LB\", \"LB\", \"LB\", \"LB\", \"LB\", \"LB\", \"LB\", \"LB\", \"LB\", \"LB\", \"LB\", \"LB\", \"LB\", \"LB\", \"LB\", \"LB\", \"LB\", \"LB\", \"LB\", \"LB\", \"LB\", \"LB\", \"LB\", \"LB\", \"LB\", \"LB\", \"LB\", \"LB\", \"LB\", \"LB\", \"LB\"], \"x0\": \" \", \"xaxis\": \"x\", \"y\": [3.1433130010323618, 3.112681697219222, 2.94639747651932, 2.578821830761642, 2.482552018777489, 2.4256653116959432, 2.3556509029801953, 2.2243738866381673, 2.1915546325526605, 2.184990781735559, 2.1368558757434823, 2.1215402238369125, 2.064653516755367, 2.0383981134869615, 2.0055788594014543, 1.959631903681745, 1.867737992242325, 1.7736561305305387, 1.7649043294410702, 1.743024826717399, 1.7036417218147908, 1.6555068158227135, 1.646755014733245, 1.640191163916144, 1.5964321584688015, 1.5854924071069658, 1.5701767552003953, 1.4695310426715076, 1.458591291309672, 1.458591291309672, 1.4060804847728607, 1.3929527831386581, 1.3273142749676443, 1.3273142749676443, 1.3163745236058086, 1.287931170065036, 1.2835552695203016, 1.2529239657071618, 1.2507360154347948, 1.2419842143453261, 1.2397962640729592, 1.2310444629834905, 1.2069770099874522, 1.152278253178274, 1.152278253178274, 1.0603843417388543, 1.0210012368362462, 0.9903699330231062, 0.9663024800270679, 0.9619265794823336, 0.8941001210389526, 0.8569049664087114, 0.8569049664087114, 0.8175218615061032, 0.8022062095995331, 0.7693869555140262, 0.732191800883785, 0.7256279500666837, 0.7256279500666837, 0.7212520495219493, 0.714688198704848, 0.6928086959811767, 0.6823065346738144, 0.679680994346974, 0.6621773921680367, 0.6599894418956698, 0.6512376408062011, 0.646861740261467, 0.6052906850864915, 0.5943509337246559, 0.528712425553642, 0.5090208731023377, 0.4915172709234007, 0.478389569289198, 0.43900646438658975, 0.4324426135694881, 0.42806671302475413, 0.4236908124800198, 0.4193149119352855, 0.4171269616629183, 0.41275106111818416, 0.34273665240243595, 0.3208571496787646, 0.2989776469550933, 0.26615839286958637, 0.26615839286958637, 0.26178249232485207, 0.23771503932881374, 0.22239938742224377, 0.21145963606040813, 0.1567608792512299, 0.14582112788939425, 0.11300187380388729, 0.08455852026311467, 0.08018261971838035, 0.0692428683565447, 0.05830311699470905, 0.05830311699470905, 0.05830311699470905, 0.036423614271037755, 0.036423614271037755, -0.005147440903937682, -0.01827514253814049, -0.02921489389997614, -0.048906446351280275, -0.059846197713115924, -0.08391365070915438, -0.09485340207099004, -0.10360520316045853, -0.12329675561176266, -0.12767265615649698, -0.1408003577906998, -0.1495521588801683, -0.17143166160383957, -0.1933111643275109, -0.22613041841301781, -0.22613041841301781, -0.24800992113668913, -0.24800992113668913, -0.25894967249852474, -0.25894967249852474, -0.2917689265840317, -0.2917689265840317, -0.32458818066953865, -0.32458818066953865, -0.3289640812142729, -0.3574074347550456, -0.37709898720634977, -0.3792869374787169, -0.3792869374787169, -0.40116644020238823, -0.41210619156422384, -0.4449254456497308, -0.447113395922098, -0.4536772467391993, -0.4755567494628706, -0.47774469973523775, -0.5061880532760105, -0.5105639538207447, -0.5105639538207447, -0.5105639538207447, -0.5193157549102132, -0.5411952576338844, -0.5433832079062516, -0.5543229592680873, -0.5586988598128215, -0.565262710629923, -0.5762024619917586, -0.5762024619917586, -0.5915181138983284, -0.6090217160772655, -0.6090217160772655, -0.6090217160772655, -0.6309012188009369, -0.6309012188009369, -0.6418409701627725, -0.6418409701627725, -0.6418409701627725, -0.6418409701627725, -0.6527807215246081, -0.6527807215246081, -0.6527807215246081, -0.6855999756101151, -0.6965397269719508, -0.7052915280614193, -0.7074794783337863, -0.718419229695622, -0.718419229695622, -0.718419229695622, -0.718419229695622, -0.7293589810574577, -0.7293589810574577, -0.7402987324192933, -0.7402987324192933, -0.7402987324192933, -0.7490505335087618, -0.751238483781129, -0.751238483781129, -0.7621782351429646, -0.7621782351429646, -0.7731179865048002, -0.7731179865048002, -0.7731179865048002, -0.7731179865048002, -0.7731179865048002, -0.7840577378666359, -0.7949974892284716, -0.7949974892284716, -0.8059372405903072, -0.8059372405903072, -0.8146890416797757, -0.8168769919521429, -0.8168769919521429, -0.8168769919521429, -0.8168769919521429, -0.8168769919521429, -0.8278167433139785, -0.8330678239676597, -0.8387564946758141, -0.8387564946758141, -0.8387564946758141, -0.8496962460376498, -0.8496962460376498, -0.8606359973994855, -0.8606359973994855, -0.8606359973994855, -0.8715757487613212, -0.8715757487613212, -0.8715757487613212, -0.8715757487613212, -0.8715757487613212, -0.8715757487613212, -0.8803275498507896, -0.8825155001231567, -0.8825155001231567, -0.8825155001231567, -0.8825155001231567, -0.8825155001231567, -0.8825155001231567, -0.8934552514849924, -0.8934552514849924, -0.8934552514849924, -0.8934552514849924, -0.9043950028468281, -0.9043950028468281, -0.9153347542086637, -0.9153347542086637, -0.9262745055704994, -0.937214256932335, -0.937214256932335, -0.937214256932335, -0.9481540082941706, -0.9481540082941706, -0.9590937596560063, -0.9590937596560063, -0.9590937596560063, -0.9590937596560063, -0.9590937596560063, -0.9590937596560063, -0.9590937596560063, -0.9590937596560063, -0.970033511017842, -0.970033511017842, -0.970033511017842, -0.9809732623796776, -0.9809732623796776, -0.9809732623796776, -0.9809732623796776, -0.9809732623796776, -0.9809732623796776, -0.9809732623796776, -0.9809732623796776, -0.9809732623796776, -0.9809732623796776, -0.9809732623796776, -0.9809732623796776, -0.9809732623796776, -1.002852765103349, -1.002852765103349, -1.02473226782702, 2.3162677980775865, 0.28147404477615634, -0.02921489389997614, -0.1495521588801683, -0.6527807215246081, -0.9262745055704994], \"y0\": \" \", \"yaxis\": \"y\"}, {\"alignmentgroup\": \"True\", \"boxpoints\": \"all\", \"customdata\": [[\"Winovich, Chase NEP DE\", 65.5, 4.367, 26.0, 3.0], [\"Odenigbo, Ifeadi MIN DE\", 53.5, 3.5669999999999997, 27.0, 5.0], [\"Attaochu, Jeremiah DEN DE\", 53.0, 4.417, 28.0, 8.0], [\"Williams, Quinnen NYJ DE\", 91.0, 7.0, 23.0, 3.0], [\"Nichols, Bilal CHI DE\", 69.7, 4.647, 24.0, 4.0], [\"Brockers, Michael LAR DE\", 66.0, 4.4, 30.0, 10.0], [\"Alualu, Tyson PIT DE\", 50.0, 3.571, 34.0, 12.0], [\"Gotsis, Adam JAC DE\", 39.0, 2.6, 28.0, 6.0], [\"Watkins, Carlos HOU DE\", 31.5, 2.1, 27.0, 5.0], [\"Williams, Nick DET DE\", 24.9, 1.915, 31.0, 9.0], [\"Shepherd, Nathan NYJ DE\", 22.1, 1.7, 28.0, 4.0], [\"Hand, Da'Shawn DET DE\", 21.5, 2.15, 25.0, 4.0], [\"Coley, Trevon NYJ DE\", 20.0, 3.333, 26.0, 6.0], [\"Robertson-Harris, Roy CHI DE\", 16.3, 2.0380000000000003, 27.0, 6.0], [\"Buggs, Isaiah PIT DE\", 9.0, 1.0, 23.0, 3.0], [\"Smart, Tanzel NYJ DE\", 1.5, 0.75, 26.0, 5.0], [\"Anderson, Abdullah MIN DE\", 0.0, 0.0, 25.0, 4.0], [\"Pierre-Paul, Jason TBB DE\", 122.1, 8.14, 32.0, 12.0], [\"Watt, J.J. HOU DE\", 118.0, 7.867000000000001, 32.0, 11.0], [\"Okwara, Romeo DET DE\", 117.6, 7.84, 25.0, 6.0], [\"Garrett, Myles CLE DE\", 116.1, 8.931000000000001, 25.0, 5.0], [\"Young, Chase WAS DE\", 109.2, 7.8, 22.0, 2.0], [\"Burns, Brian CAR DE\", 109.0, 7.267, 23.0, 3.0], [\"Tuitt, Stephon PIT DE\", 108.5, 7.75, 28.0, 8.0], [\"Graham, Brandon PHI DE\", 101.1, 6.74, 33.0, 12.0], [\"Ogbah, Emmanuel MIA DE\", 101.0, 6.733, 27.0, 6.0], [\"Sweat, Montez WAS DE\", 98.0, 6.5329999999999995, 24.0, 3.0], [\"Hendrickson, Trey NOS DE\", 97.0, 6.928999999999999, 26.0, 5.0], [\"Lawrence, Demarcus DAL DE\", 95.4, 6.36, 29.0, 8.0], [\"Hyder, Kerry SFO DE\", 94.4, 6.292999999999999, 30.0, 6.0], [\"Williams, Leonard NYG DE\", 92.5, 6.167000000000001, 26.0, 7.0], [\"Bosa, Joey LAC DE\", 90.2, 7.517, 25.0, 6.0], [\"Vernon, Olivier CLE DE\", 89.2, 6.862, 30.0, 10.0], [\"Jordan, Cameron NOS DE\", 88.8, 5.92, 31.0, 11.0], [\"Smith, Aldon DAL DE\", 86.9, 5.792999999999999, 31.0, 11.0], [\"Sweat, Josh PHI DE\", 84.5, 6.0360000000000005, 24.0, 4.0], [\"Houston, Justin IND DE\", 83.5, 5.567, 32.0, 11.0], [\"Ngakoue, Yannick BAL DE\", 83.5, 5.567, 26.0, 6.0], [\"Heyward, Cameron PIT DE\", 80.0, 5.332999999999999, 32.0, 11.0], [\"Hughes, Jerry BUF DE\", 76.3, 5.087, 32.0, 12.0], [\"Sieler, Zach MIA DE\", 74.5, 4.967, 25.0, 4.0], [\"Hubbard, Sam CIN DE\", 70.5, 5.875, 25.0, 4.0], [\"Gholston, William TBB DE\", 69.6, 4.64, 29.0, 9.0], [\"Crosby, Maxx LVR DE\", 69.0, 4.6, 23.0, 3.0], [\"Lawson, Shaq MIA DE\", 66.6, 5.122999999999999, 26.0, 6.0], [\"Lawson, Carl CIN DE\", 64.8, 4.32, 25.0, 5.0], [\"Clark, Frank KCC DE\", 64.3, 4.287, 27.0, 7.0], [\"Armstead, Arik SFO DE\", 63.5, 4.2330000000000005, 26.0, 7.0], [\"Barnett, Derek PHI DE\", 63.5, 4.885, 24.0, 5.0], [\"Dunlap, Carlos SEA DE\", 63.5, 4.5360000000000005, 32.0, 12.0], [\"Harris, Shelby DEN DE\", 63.5, 5.773, 29.0, 8.0], [\"Simon, John NEP DE\", 62.0, 4.133, 30.0, 9.0], [\"Hicks, Akiem CHI DE\", 61.2, 4.371, 31.0, 10.0], [\"Fox, Morgan LAR DE\", 60.5, 4.033, 26.0, 6.0], [\"Griffen, Everson DET DE\", 60.5, 4.654, 33.0, 12.0], [\"Addison, Mario BUF DE\", 59.0, 3.9330000000000003, 33.0, 11.0], [\"Jones, Dre'Mont DEN DE\", 58.6, 4.883, 24.0, 3.0], [\"Nassib, Carl LVR DE\", 58.3, 4.485, 28.0, 6.0], [\"Wise, Deatrich NEP DE\", 55.5, 3.7, 26.0, 5.0], [\"Campbell, Calais BAL DE\", 55.0, 5.0, 34.0, 14.0], [\"Mayowa, Benson SEA DE\", 54.8, 4.567, 29.0, 9.0], [\"Smoot, Dawuane JAC DE\", 53.0, 3.533, 26.0, 5.0], [\"Wolfe, Derek BAL DE\", 53.0, 4.077, 31.0, 10.0], [\"Wonnum, D.J. MIN DE\", 49.5, 3.8080000000000003, 23.0, 2.0], [\"Gregory, Randy DAL DE\", 49.0, 5.444, 28.0, 7.0], [\"Haynes, Marquis CAR DE\", 47.6, 3.4, 27.0, 4.0], [\"Ferrell, Clelin LVR DE\", 47.3, 4.3, 24.0, 3.0], [\"Obada, Efe CAR DE\", 47.1, 3.14, 29.0, 5.0], [\"Means, Steven ATL DE\", 46.5, 3.1, 31.0, 9.0], [\"Keke, Kingsley GBP DE\", 44.0, 2.9330000000000003, 24.0, 3.0], [\"Kerrigan, Ryan WAS DE\", 42.1, 2.807, 32.0, 11.0], [\"Allen, Zach ARI DE\", 42.0, 3.5, 23.0, 3.0], [\"Jordan, Dion SFO DE\", 41.5, 3.458, 31.0, 9.0], [\"Robinson, Alton SEA DE\", 41.5, 3.1919999999999997, 22.0, 2.0], [\"Urban, Brent CHI DE\", 40.5, 2.7, 30.0, 8.0], [\"Edwards, Mario CHI DE\", 40.0, 2.8569999999999998, null, null], [\"Franklin-Myers, John NYJ DE\", 40.0, 2.8569999999999998, 24.0, 4.0], [\"Flowers, Trey DET DE\", 39.9, 5.7, 27.0, 7.0], [\"Collier, L.J. SEA DE\", 39.3, 2.62, 25.0, 3.0], [\"Lowry, Dean GBP DE\", 38.0, 2.533, 26.0, 6.0], [\"Kpassagnon, Tanoh KCC DE\", 37.5, 2.5, 26.0, 5.0], [\"Anderson, Henry NYJ DE\", 37.0, 2.467, 29.0, 7.0], [\"Danna, Michael KCC DE\", 37.0, 3.083, 23.0, 2.0], [\"Walker, DeMarcus DEN DE\", 37.0, 3.083, 26.0, 5.0], [\"Armstrong, Dorance DAL DE\", 36.0, 2.4, 23.0, 4.0], [\"Blackson, Angelo ARI DE\", 35.7, 2.38, 28.0, 7.0], [\"Crawford, Jack TEN DE\", 35.5, 2.367, 32.0, 10.0], [\"Omenihu, Charles HOU DE\", 35.5, 2.536, 23.0, 3.0], [\"Curry, Vinny PHI DE\", 34.5, 3.45, 32.0, 10.0], [\"Cominsky, John ATL DE\", 33.5, 2.792, 25.0, 3.0], [\"Clayborn, Adrian CLE DE\", 33.0, 2.3569999999999998, 32.0, 11.0], [\"Calhoun, Shilique NEP DE\", 32.5, 3.611, 29.0, 6.0], [\"Fowler, Dante ATL DE\", 32.4, 2.492, 26.0, 7.0], [\"Clowney, Jadeveon TEN DE\", 32.0, 4.0, 28.0, 8.0], [\"Muhammad, Al-Quadin IND DE\", 32.0, 2.133, 26.0, 5.0], [\"Ward, Jihad BAL DE\", 31.7, 3.522, 27.0, 6.0], [\"Phillips, Jordan ARI DE\", 31.5, 3.5, 28.0, 7.0], [\"Harris, Charles ATL DE\", 31.0, 2.583, 26.0, 5.0], [\"Murphy, Trent BUF DE\", 31.0, 3.444, 30.0, 8.0], [\"Rochell, Isaac LAC DE\", 31.0, 2.0669999999999997, 26.0, 5.0], [\"Granderson, Carl NOS DE\", 29.8, 2.129, 24.0, 3.0], [\"Hill, B.J. NYG DE\", 28.5, 1.9, 26.0, 4.0], [\"Sheard, Jabaal NYG DE\", 28.2, 3.133, 32.0, 11.0], [\"Davenport, Marcus NOS DE\", 28.0, 2.8, 24.0, 4.0], [\"Gross-Matos, Yetur CAR DE\", 27.5, 2.5, 23.0, 2.0], [\"Allen, Josh JAC DE\", 26.0, 3.25, 23.0, 3.0], [\"Willis, Jordan SFO DE\", 26.0, 2.889, 26.0, 5.0], [\"Huff, Bryce NYJ DE\", 24.5, 1.885, 23.0, 2.0], [\"Okafor, Alex KCC DE\", 24.5, 2.45, 30.0, 9.0], [\"Bailey, Allen ATL DE\", 22.0, 1.4669999999999999, 32.0, 11.0], [\"Chaisson, K'Lavon JAC DE\", 22.0, 1.4669999999999999, 21.0, 2.0], [\"Johnson, Darryl BUF DE\", 21.5, 1.536, 24.0, 3.0], [\"Casey, Jurrell DEN DE\", 18.0, 6.0, 31.0, 11.0], [\"Charlton, Taco KCC DE\", 18.0, 2.571, 26.0, 5.0], [\"Epenesa, A.J. BUF DE\", 17.5, 1.3459999999999999, 22.0, 2.0], [\"Moore, Damontre SEA DE\", 17.0, 1.889, 28.0, 9.0], [\"Bryant, Austin DET DE\", 16.0, 3.2, 24.0, 3.0], [\"Weatherly, Stephen CAR DE\", 15.5, 1.722, 27.0, 6.0], [\"Key, Arden LVR DE\", 15.2, 1.169, 25.0, 4.0], [\"Kareem, Khalid CIN DE\", 15.02, 1.001, 23.0, 2.0], [\"Ingram, Melvin LAC DE\", 14.5, 2.0709999999999997, 32.0, 10.0], [\"Bledsoe, Amani CIN DE\", 14.0, 1.077, 23.0, 3.0], [\"McKinley, Takkarist LVR DE\", 14.0, 3.5, 25.0, 5.0], [\"O'Connor, Pat TBB DE\", 13.5, 0.9, 27.0, 5.0], [\"Smith-Williams, James WAS DE\", 13.5, 1.038, 23.0, 2.0], [\"Green, Rasheem SEA DE\", 13.0, 1.444, 24.0, 4.0], [\"Lancaster, Tyler GBP DE\", 13.0, 0.929, 26.0, 4.0], [\"Phillips, Kyle NYJ DE\", 13.0, 1.857, 24.0, 3.0], [\"Lalos, Niko NYG DE\", 12.5, 2.5, 23.0, 2.0], [\"Adams, Montravius GBP DE\", 11.0, 1.375, 26.0, 5.0], [\"Thurman, Nick NEP DE\", 10.0, 1.429, 25.0, 4.0], [\"Mauro, Josh FA DE\", 9.5, 3.167, 30.0, 8.0], [\"Smith, Chris LVR DE\", 9.5, 1.357, 29.0, 8.0], [\"Bosa, Nick SFO DE\", 9.0, 4.5, 23.0, 3.0], [\"Rivers, Derek LAR DE\", 9.0, 0.75, 27.0, 5.0], [\"Ledbetter, Jeremiah TBB DE\", 8.5, 2.833, 26.0, 5.0], [\"Irvin, Bruce SEA DE\", 8.0, 4.0, 34.0, 10.0], [\"Ximines, Oshane NYG DE\", 8.0, 2.0, 25.0, 3.0], [\"Dickerson, Matt TEN DE\", 7.5, 0.833, 25.0, 4.0], [\"Larkin, Austin CAR DE\", 7.0, 0.875, 26.0, 4.0], [\"Winn, Billy GBP DE\", 7.0, 1.167, 32.0, 10.0], [\"Dogbe, Michael ARI DE\", 6.5, 2.167, 25.0, 3.0], [\"Tuszka, Derrek DEN DE\", 6.5, 0.812, 24.0, 2.0], [\"Yarbrough, Eddie MIN DE\", 6.5, 2.167, 28.0, 6.0], [\"Jackson, Joe CLE DE\", 5.5, 1.8330000000000002, 24.0, 3.0], [\"Harris, Trent NYG DE\", 5.0, 1.25, 25.0, 4.0], [\"Wormley, Chris PIT DE\", 5.0, 0.41700000000000004, 27.0, 5.0], [\"Murchison, Larrell TEN DE\", 4.5, 0.5, 24.0, 2.0], [\"Okwara, Julian DET DE\", 3.5, 0.7, 23.0, 2.0], [\"Street, Kentavius SFO DE\", 3.5, 0.25, 25.0, 4.0], [\"Bullard, Jonathan SEA DE\", 3.0, 0.5, 27.0, 6.0], [\"Banogu, Ben IND DE\", 2.5, 0.278, 25.0, 3.0], [\"Ford, Dee SFO DE\", 2.0, 2.0, 30.0, 8.0], [\"Harris, Demone FA DE\", 2.0, 2.0, 25.0, 4.0], [\"Jones, Datone LVR DE\", 2.0, 2.0, 30.0, 9.0], [\"Strowbridge, Jason MIA DE\", 1.5, 0.214, 24.0, 2.0], [\"Turay, Kemoko IND DE\", 1.4, 0.233, 25.0, 4.0], [\"Cox, Bryan BUF DE\", 1.0, 1.0, 26.0, 5.0], [\"Mack, Isaiah FA DE\", 1.0, 0.125, 25.0, 3.0], [\"Orchard, Nate TEN DE\", 1.0, 0.33299999999999996, 28.0, 7.0], [\"Mondeaux, Henry PIT DE\", 0.6, 0.06, 25.0, 4.0], [\"Anae, Bradlee DAL DE\", 0.5, 0.071, 22.0, 2.0], [\"Ansah, Ezekiel SFO DE\", 0.0, 0.0, 31.0, 9.0], [\"Carter, Ron'Dell DAL DE\", 0.0, 0.0, 23.0, 2.0], [\"Render, Tyshun MIA DE\", 0.0, 0.0, 24.0, 2.0], [\"Zettel, Anthony FA DE\", 0.0, 0.0, 28.0, 6.0], [\"Gipson, Trevis CHI DE\", -1.0, -0.16699999999999998, 23.0, 2.0]], \"hovertemplate\": \"position=%{x}<br>z_score=%{y}<br>player_name=%{customdata[0]}<br>total_points=%{customdata[1]}<br>average_points=%{customdata[2]}<br>age=%{customdata[3]}<br>experience_years=%{customdata[4]}<extra></extra>\", \"legendgroup\": \"DE\", \"marker\": {\"color\": \"#EF553B\"}, \"name\": \"DE\", \"notched\": false, \"offsetgroup\": \"DE\", \"orientation\": \"v\", \"showlegend\": true, \"type\": \"box\", \"x\": [\"DE\", \"DE\", \"DE\", \"DE\", \"DE\", \"DE\", \"DE\", \"DE\", \"DE\", \"DE\", \"DE\", \"DE\", \"DE\", \"DE\", \"DE\", \"DE\", \"DE\", \"DE\", \"DE\", \"DE\", \"DE\", \"DE\", \"DE\", \"DE\", \"DE\", \"DE\", \"DE\", \"DE\", \"DE\", \"DE\", \"DE\", \"DE\", \"DE\", \"DE\", \"DE\", \"DE\", \"DE\", \"DE\", \"DE\", \"DE\", \"DE\", \"DE\", \"DE\", \"DE\", \"DE\", \"DE\", \"DE\", \"DE\", \"DE\", \"DE\", \"DE\", \"DE\", \"DE\", \"DE\", \"DE\", \"DE\", \"DE\", \"DE\", \"DE\", \"DE\", \"DE\", \"DE\", \"DE\", \"DE\", \"DE\", \"DE\", \"DE\", \"DE\", \"DE\", \"DE\", \"DE\", \"DE\", \"DE\", \"DE\", \"DE\", \"DE\", \"DE\", \"DE\", \"DE\", \"DE\", \"DE\", \"DE\", \"DE\", \"DE\", \"DE\", \"DE\", \"DE\", \"DE\", \"DE\", \"DE\", \"DE\", \"DE\", \"DE\", \"DE\", \"DE\", \"DE\", \"DE\", \"DE\", \"DE\", \"DE\", \"DE\", \"DE\", \"DE\", \"DE\", \"DE\", \"DE\", \"DE\", \"DE\", \"DE\", \"DE\", \"DE\", \"DE\", \"DE\", \"DE\", \"DE\", \"DE\", \"DE\", \"DE\", \"DE\", \"DE\", \"DE\", \"DE\", \"DE\", \"DE\", \"DE\", \"DE\", \"DE\", \"DE\", \"DE\", \"DE\", \"DE\", \"DE\", \"DE\", \"DE\", \"DE\", \"DE\", \"DE\", \"DE\", \"DE\", \"DE\", \"DE\", \"DE\", \"DE\", \"DE\", \"DE\", \"DE\", \"DE\", \"DE\", \"DE\", \"DE\", \"DE\", \"DE\", \"DE\", \"DE\", \"DE\", \"DE\", \"DE\", \"DE\", \"DE\", \"DE\", \"DE\", \"DE\", \"DE\", \"DE\", \"DE\", \"DE\", \"DE\"], \"x0\": \" \", \"xaxis\": \"x\", \"y\": [0.8540678476351784, 0.47318804162743017, 0.45731804971044065, 1.6634374354016432, 0.9873757797378903, 0.8699378395521679, 0.36209809820850364, 0.012958276034734458, -0.22509160272010814, -0.4345754960243697, -0.5234474507595108, -0.5424914410598983, -0.5901014168108668, -0.7075393569965892, -0.939241238984636, -1.1772911177394787, -1.2249010934904472, 2.6505509326383905, 2.520416998919077, 2.507721005385485, 2.4601110296345166, 2.241105141180061, 2.234757144413266, 2.218887152496276, 1.984011272124831, 1.9808372737414335, 1.8856173222394963, 1.8538773384055174, 1.803093364271151, 1.771353380437172, 1.7110474111526117, 1.6380454483344602, 1.606305464500481, 1.5936094709668893, 1.5333035016823295, 1.4571275404807795, 1.4253875566468006, 1.4253875566468006, 1.314297613227874, 1.1968596730421517, 1.1397277021409895, 1.0127677668050734, 0.9842017813544921, 0.9651577910541049, 0.888981829852555, 0.831849858951393, 0.8159798670344034, 0.7905878799672204, 0.7905878799672204, 0.7905878799672204, 0.7905878799672204, 0.7429779042162518, 0.7175859171490687, 0.6953679284652833, 0.6953679284652833, 0.6477579527143148, 0.6350619591807232, 0.6255399640305294, 0.5366680092953882, 0.5207980173783987, 0.5144500206116028, 0.45731804971044065, 0.45731804971044065, 0.3462281062915141, 0.3303581143745246, 0.285922137006954, 0.2764001418567602, 0.2700521450899645, 0.25100815478957705, 0.17165819520462952, 0.11135222592006945, 0.1081782275366715, 0.09230823561968199, 0.09230823561968199, 0.06056825178570298, 0.04469825986871347, 0.04469825986871347, 0.041524261485315524, 0.022480271184928072, -0.018781707799244558, -0.034651699716234066, -0.05052169163322357, -0.05052169163322357, -0.05052169163322357, -0.08226167546720259, -0.0917836706173962, -0.09813166738419209, -0.09813166738419209, -0.1298716512181711, -0.16161163505215012, -0.17748162696913963, -0.19335161888612915, -0.19652561726952708, -0.20922161080311866, -0.20922161080311866, -0.21874360595331238, -0.22509160272010814, -0.24096159463709765, -0.24096159463709765, -0.24096159463709765, -0.27904957523787244, -0.3203115542220452, -0.3298335493722389, -0.3361815461390347, -0.35205153805602424, -0.3996615138069927, -0.3996615138069927, -0.44727148955796125, -0.44727148955796125, -0.5266214491429088, -0.5266214491429088, -0.5424914410598983, -0.6535813844788249, -0.6535813844788249, -0.6694513763958143, -0.6853213683128039, -0.7170613521467829, -0.7329313440637724, -0.7424533392139662, -0.7481665363040824, -0.7646713278977514, -0.780541319814741, -0.780541319814741, -0.7964113117317304, -0.7964113117317304, -0.81228130364872, -0.81228130364872, -0.81228130364872, -0.8281512955657094, -0.8757612713166779, -0.9075012551506569, -0.9233712470676465, -0.9233712470676465, -0.939241238984636, -0.939241238984636, -0.9551112309016255, -0.970981222818615, -0.970981222818615, -0.9868512147356046, -1.0027212066525941, -1.0027212066525941, -1.0185911985695835, -1.0185911985695835, -1.0185911985695835, -1.0503311824035626, -1.066201174320552, -1.066201174320552, -1.0820711662375415, -1.1138111500715207, -1.1138111500715207, -1.12968114198851, -1.1455511339054996, -1.1614211258224891, -1.1614211258224891, -1.1614211258224891, -1.1772911177394787, -1.1804651161228765, -1.193161109656468, -1.193161109656468, -1.193161109656468, -1.2058571031900596, -1.2090311015734576, -1.2249010934904472, -1.2249010934904472, -1.2249010934904472, -1.2249010934904472, -1.256641077324426], \"y0\": \" \", \"yaxis\": \"y\"}, {\"alignmentgroup\": \"True\", \"boxpoints\": \"all\", \"customdata\": [[\"Humphrey, Marlon BAL CB\", 137.2, 9.8, 24.0, 5.0], [\"Butler, Malcolm TEN CB\", 136.9, 9.127, 31.0, 8.0], [\"Johnson, Taron BUF CB\", 121.1, 8.073, 24.0, 4.0], [\"Ryan, Logan NYG CB\", 120.3, 8.02, 30.0, 9.0], [\"Moore, Kenny IND CB\", 119.6, 7.973, 25.0, 5.0], [\"Howard, Xavien MIA CB\", 115.4, 7.693, 27.0, 6.0], [\"Hill, Troy LAR CB\", 108.4, 7.227, 29.0, 7.0], [\"Hilton, Mike PIT CB\", 102.2, 9.291, 27.0, 6.0], [\"Jackson, J.C. NEP CB\", 101.6, 6.773, 25.0, 4.0], [\"Davis, Michael LAC CB\", 99.7, 6.647, 26.0, 5.0], [\"Davis, Carlton TBB CB\", 98.6, 7.042999999999999, 24.0, 4.0], [\"Bradberry, James NYG CB\", 90.6, 6.471, 27.0, 6.0], [\"Terrell, A.J. ATL CB\", 90.1, 6.931, 22.0, 2.0], [\"White, Tre'Davious BUF CB\", 89.7, 6.407, 26.0, 5.0], [\"Diggs, Trevon DAL CB\", 89.5, 8.136000000000001, 22.0, 2.0], [\"Peters, Marcus BAL CB\", 87.1, 6.7, 28.0, 7.0], [\"Griffin, Shaq SEA CB\", 87.0, 7.909, 27.0, 5.0], [\"Mitchell, Terrance CLE CB\", 84.8, 5.653, 28.0, 8.0], [\"Gladney, Jeff MIN CB\", 83.3, 5.553, 24.0, 2.0], [\"Desir, Pierre BAL CB\", 82.4, 6.867000000000001, 30.0, 8.0], [\"Haden, Joe PIT CB\", 81.1, 5.792999999999999, 32.0, 12.0], [\"Oliver, Isaiah ATL CB\", 78.7, 5.247000000000001, 24.0, 4.0], [\"Ward, Denzel CLE CB\", 78.7, 6.558, 24.0, 4.0], [\"Jones, Jonathan NEP CB\", 78.0, 5.2, 27.0, 6.0], [\"Dean, Jamel TBB CB\", 77.7, 5.977, 24.0, 3.0], [\"Mullen, Trayvon LVR CB\", 77.3, 5.153, 23.0, 3.0], [\"Alexander, Jaire GBP CB\", 77.1, 5.507000000000001, 24.0, 4.0], [\"Jenkins, Janoris NOS CB\", 77.0, 6.417000000000001, 32.0, 10.0], [\"Williams, Darious LAR CB\", 74.5, 4.967, 28.0, 4.0], [\"Fuller, Kendall WAS CB\", 73.7, 5.669, 26.0, 6.0], [\"Hargreaves, Vernon HOU CB\", 73.4, 4.893, 25.0, 6.0], [\"Darby, Ronald WAS CB\", 71.7, 4.78, 27.0, 7.0], [\"Herndon, Tre JAC CB\", 71.7, 4.78, 25.0, 4.0], [\"Sneed, L'Jarius KCC CB\", 71.0, 7.888999999999999, 24.0, 2.0], [\"Verrett, Jason SFO CB\", 67.7, 5.642, 30.0, 8.0], [\"Poole, Brian NYJ CB\", 67.5, 7.5, 28.0, 6.0], [\"Kirkpatrick, Dre ARI CB\", 67.4, 5.185, 31.0, 10.0], [\"Dantzler, Cameron MIN CB\", 67.0, 6.091, 22.0, 2.0], [\"Lattimore, Marshon NOS CB\", 66.8, 5.138, 25.0, 5.0], [\"Murphy-Bunting, Sean TBB CB\", 66.0, 4.4, 23.0, 3.0], [\"Amadi, Ugo SEA CB\", 65.5, 5.038, 24.0, 3.0], [\"Nelson, Steven PIT CB\", 64.9, 4.636, 28.0, 7.0], [\"Rhodes, Xavier IND CB\", 64.6, 4.3069999999999995, 30.0, 9.0], [\"Slay, Darius PHI CB\", 64.3, 4.593, 30.0, 9.0], [\"Phillips, Darius CIN CB\", 64.0, 5.818, 25.0, 4.0], [\"Needham, Nik MIA CB\", 63.6, 4.24, 24.0, 3.0], [\"Murphy, Byron ARI CB\", 63.5, 4.5360000000000005, 23.0, 3.0], [\"Brown, Anthony DAL CB\", 61.0, 6.778, 27.0, 6.0], [\"Lawson, Nevin LVR CB\", 61.0, 4.692, 30.0, 8.0], [\"Ojemudia, Michael DEN CB\", 60.9, 4.06, 23.0, 2.0], [\"Skrine, Buster CHI CB\", 60.9, 5.075, 32.0, 11.0], [\"Callahan, Bryce DEN CB\", 60.82, 6.082000000000001, 29.0, 7.0], [\"Peterson, Patrick ARI CB\", 60.8, 4.053, 30.0, 11.0], [\"Austin, Blessuan NYJ CB\", 60.5, 5.5, 24.0, 3.0], [\"Sutton, Cameron PIT CB\", 60.5, 4.033, 26.0, 5.0], [\"Douglas, Rasul CAR CB\", 59.8, 4.6, 27.0, 5.0], [\"Jackson, Donte CAR CB\", 59.8, 4.6, 25.0, 4.0], [\"Okudah, Jeff DET CB\", 59.6, 6.622000000000001, 22.0, 2.0], [\"Fuller, Kyle CHI CB\", 59.1, 3.94, 29.0, 8.0], [\"Oruwariye, Amani DET CB\", 57.7, 3.847, 25.0, 3.0], [\"Alexander, Mackensie CIN CB\", 57.6, 4.431, 27.0, 6.0], [\"Breeland, Bashaud KCC CB\", 57.5, 5.227, 29.0, 8.0], [\"King, Desmond TEN CB\", 56.38, 4.027, 26.0, 5.0], [\"Moseley, Emmanuel SFO CB\", 56.1, 5.1, 25.0, 4.0], [\"Lewis, Jourdan DAL CB\", 56.0, 4.0, 25.0, 5.0], [\"Wallace, Levi BUF CB\", 56.0, 5.091, 25.0, 4.0], [\"Jackson, William CIN CB\", 55.3, 3.95, 28.0, 6.0], [\"Carrie, T.J. IND CB\", 55.2, 3.943, 30.0, 8.0], [\"Hayward, Casey LAC CB\", 54.9, 3.9210000000000003, 31.0, 10.0], [\"Flowers, Tre SEA CB\", 52.0, 4.727, 25.0, 4.0], [\"Johnson, Jaylon CHI CB\", 51.9, 3.992, 22.0, 2.0], [\"Jones, Sidney JAC CB\", 51.1, 5.678, 25.0, 5.0], [\"King, Kevin GBP CB\", 50.0, 5.0, 26.0, 5.0], [\"Joseph, Johnathan ARI CB\", 49.3, 4.482, 37.0, 16.0], [\"Yiadom, Isaac NYG CB\", 49.1, 3.273, 25.0, 4.0], [\"Moreland, Jimmy WAS CB\", 48.3, 3.22, 25.0, 3.0], [\"Fenton, Rashad KCC CB\", 48.1, 3.207, 24.0, 3.0], [\"Moore, Tarvarius SFO CB\", 47.8, 3.187, 24.0, 4.0], [\"Sullivan, Chandon GBP CB\", 46.7, 3.113, 24.0, 4.0], [\"Sims, LeShaun CIN CB\", 46.4, 3.867, 27.0, 6.0], [\"Robey, Nickell PHI CB\", 44.9, 2.9930000000000003, 29.0, 9.0], [\"Taylor, Jamar SFO CB\", 44.3, 5.537000000000001, 30.0, 9.0], [\"Henderson, CJ JAC CB\", 44.2, 5.525, 22.0, 2.0], [\"Dennard, Darqueze ATL CB\", 44.1, 5.513, 29.0, 8.0], [\"Ya-Sin, Rock IND CB\", 43.8, 3.3689999999999998, 25.0, 3.0], [\"Williams, K'Waun SFO CB\", 43.5, 5.438, null, null], [\"Elder, Corn CAR CB\", 43.0, 2.867, 26.0, 5.0], [\"Roby, Bradley HOU CB\", 42.8, 4.28, 29.0, 8.0], [\"Dunbar, Quinton SEA CB\", 42.6, 7.1, 28.0, 7.0], [\"Harris, Chris LAC CB\", 42.6, 5.325, 31.0, 11.0], [\"Awuzie, Chidobe DAL CB\", 42.5, 6.071000000000001, 26.0, 5.0], [\"Ward, Charvarius KCC CB\", 41.9, 2.9930000000000003, 25.0, 4.0], [\"Roberts, Darryl DET CB\", 41.5, 4.15, 30.0, 7.0], [\"Sheffield, Kendall ATL CB\", 41.3, 3.4419999999999997, 24.0, 3.0], [\"Crossen, Keion HOU CB\", 40.5, 2.7, 25.0, 4.0], [\"Rodgers, Isaiah IND CB\", 40.16, 3.347, 23.0, 2.0], [\"Claybrooks, Chris JAC CB\", 39.74, 3.312, 23.0, 2.0], [\"Borders, Breon TEN CB\", 39.0, 6.5, 25.0, 5.0], [\"Bassey, Essang DEN CB\", 38.6, 3.217, 22.0, 2.0], [\"Hall, Bryce NYJ CB\", 38.5, 5.5, 24.0, 2.0], [\"Gilmore, Stephon NEP CB\", 37.9, 3.445, 30.0, 10.0], [\"Ramsey, Jalen LAR CB\", 37.8, 2.7, 26.0, 6.0], [\"Maddox, Avonte PHI CB\", 37.6, 3.76, 25.0, 4.0], [\"Johnson, Kevin CLE CB\", 36.0, 2.7689999999999997, 28.0, 7.0], [\"Thomas, Tavierre CLE CB\", 35.5, 2.367, 25.0, 4.0], [\"Holmes, Darney NYG CB\", 35.4, 3.218, 22.0, 2.0], [\"Campbell, Tevaughn LAC CB\", 35.1, 2.7, 27.0, 4.0], [\"Williams, P.J. NOS CB\", 35.0, 2.5, 27.0, 7.0], [\"Ballentine, Corey NYJ CB\", 33.52, 2.394, 25.0, 3.0], [\"Jones, Byron MIA CB\", 32.1, 2.469, 28.0, 7.0], [\"Wreh-Wilson, Blidi ATL CB\", 31.6, 2.2569999999999997, 31.0, 9.0], [\"Maulet, Art NYJ CB\", 31.3, 3.13, 27.0, 5.0], [\"LeBlanc, Cre'von PHI CB\", 30.9, 3.4330000000000003, 26.0, 6.0], [\"McCourty, Jason NEP CB\", 30.8, 2.053, 33.0, 13.0], [\"Boyd, Kris MIN CB\", 30.7, 3.07, 24.0, 3.0], [\"Norman, Josh BUF CB\", 30.5, 3.812, 33.0, 10.0], [\"Smith, Jimmy BAL CB\", 30.4, 2.764, 32.0, 11.0], [\"Pride, Troy CAR CB\", 29.3, 2.093, 23.0, 2.0], [\"Averett, Anthony BAL CB\", 28.5, 3.167, 26.0, 4.0], [\"Guidry, Javelin NYJ CB\", 28.0, 3.111, 22.0, 2.0], [\"Stewart, M.J. CLE CB\", 27.2, 1.8130000000000002, 25.0, 4.0], [\"Bouye, A.J. DEN CB\", 27.0, 3.8569999999999998, 29.0, 9.0], [\"Trufant, Desmond DET CB\", 26.8, 4.467, 30.0, 9.0], [\"Fulton, Kristian TEN CB\", 26.6, 5.32, 22.0, 2.0], [\"Coleman, Justin DET CB\", 25.9, 2.59, 28.0, 7.0], [\"Sherman, Richard SFO CB\", 25.9, 5.18, 33.0, 11.0], [\"Jackson, Lamar NYJ CB\", 25.5, 2.125, 23.0, 2.0], [\"Robinson, Patrick NOS CB\", 25.2, 2.1, 33.0, 12.0], [\"Witherspoon, Ahkello SFO CB\", 25.2, 2.52, 26.0, 5.0], [\"Bausby, DeVante DEN CB\", 24.7, 2.47, 28.0, 7.0], [\"Hill, Holton FA CB\", 24.5, 6.125, 24.0, 4.0], [\"Johnson, Danny WAS CB\", 24.16, 1.858, 25.0, 4.0], [\"Hand, Harrison MIN CB\", 23.9, 1.838, 22.0, 2.0], [\"Jacquet, Michael PHI CB\", 23.4, 3.343, 24.0, 2.0], [\"Jackson, Dane BUF CB\", 23.1, 5.775, 24.0, 2.0], [\"Gaines, Phillip HOU CB\", 22.5, 1.875, 30.0, 8.0], [\"Jackson, Chris TEN CB\", 22.5, 2.045, 23.0, 2.0], [\"Moreau, Fabian WAS CB\", 20.0, 1.3330000000000002, 27.0, 5.0], [\"Perry, Jamal MIA CB\", 19.5, 1.625, 26.0, 5.0], [\"Arnette, Damon LVR CB\", 18.7, 2.3369999999999997, 25.0, 2.0], [\"Mabin, Greg JAC CB\", 18.2, 4.55, 26.0, 5.0], [\"Johnson, Dontae SFO CB\", 18.1, 1.392, 29.0, 8.0], [\"Worley, Daryl LVR CB\", 18.1, 2.011, 26.0, 6.0], [\"McManis, Sherrick CHI CB\", 18.0, 1.8, 33.0, 12.0], [\"Jackson, Josh GBP CB\", 17.02, 1.4180000000000001, 25.0, 4.0], [\"Igbinoghene, Noah MIA CB\", 16.32, 1.088, 21.0, 2.0], [\"Hayden, D.J. JAC CB\", 15.9, 3.18, 30.0, 9.0], [\"Jones, Chris MIN CB\", 15.3, 1.913, 25.0, 4.0], [\"Harris, Davontae BAL CB\", 15.1, 1.3730000000000002, 26.0, 4.0], [\"Kalu, Joshua TEN CB\", 15.08, 1.077, 25.0, 4.0], [\"Bryant, Myles NEP CB\", 15.0, 2.1430000000000002, 23.0, 2.0], [\"Williams, Tramon FA CB\", 14.5, 2.9, 38.0, 16.0], [\"Facyson, Brandon LAC CB\", 14.3, 1.192, 26.0, 4.0], [\"Watson, Brandon JAC CB\", 13.7, 0.9129999999999999, 25.0, 3.0], [\"Brown, Tony CIN CB\", 13.0, 1.625, 25.0, 4.0], [\"Shelley, Duke CHI CB\", 13.0, 1.3, 24.0, 3.0], [\"Smith, Tye TEN CB\", 12.6, 1.145, 28.0, 7.0], [\"Robinson, Rashard DAL CB\", 12.5, 3.125, 25.0, 6.0], [\"Layne, Justin PIT CB\", 12.0, 0.8, 23.0, 3.0], [\"Lewis, Ryan NYG CB\", 12.0, 2.4, 27.0, 5.0], [\"Reid, John HOU CB\", 12.0, 1.0, 25.0, 2.0], [\"Bethel, Justin NEP CB\", 11.6, 0.773, 30.0, 10.0], [\"Hollman, Ka'dar GBP CB\", 11.0, 0.846, 26.0, 3.0], [\"Hughes, Mike MIN CB\", 11.0, 2.75, 25.0, 4.0], [\"Williams, Joejuan NEP CB\", 11.0, 0.7859999999999999, 23.0, 3.0], [\"Cockrell, Ross TBB CB\", 10.5, 0.955, 29.0, 8.0], [\"Barcoo, Luq JAC CB\", 9.2, 3.0669999999999997, 22.0, 2.0], [\"Smith, Tremon IND CB\", 9.2, 1.022, 24.0, 4.0], [\"Vildor, Kindle CHI CB\", 9.1, 0.607, 23.0, 2.0], [\"Johnson, Isaiah LVR CB\", 9.0, 0.643, 25.0, 3.0], [\"Scott, Josiah JAC CB\", 9.0, 1.5, 22.0, 2.0], [\"Hamilton, Antonio KCC CB\", 7.0, 0.467, null, null], [\"Jackson, Adoree TEN CB\", 6.5, 3.25, 25.0, 5.0], [\"Ford, Mike DET CB\", 6.1, 0.762, 25.0, 4.0], [\"Hardee, Justin NOS CB\", 6.0, 0.667, 27.0, 5.0], [\"Lewis, Cam BUF CB\", 6.0, 3.0, 24.0, 3.0], [\"Webster, Ken SFO CB\", 6.0, 0.667, 24.0, 3.0], [\"Nixon, Keisean LVR CB\", 5.84, 0.41700000000000004, 23.0, 3.0], [\"Pierre, James PIT CB\", 5.5, 0.423, 24.0, 2.0], [\"Robinson, Reggie DAL CB\", 5.0, 1.25, 24.0, 2.0], [\"Seymour, Kevon PHI CB\", 4.5, 2.25, 27.0, 6.0], [\"Williams, Trevor PIT CB\", 4.0, 2.0, 27.0, 6.0], [\"Goodwin, C.J. DAL CB\", 3.92, 0.261, 31.0, 7.0], [\"Harper, Madre NYG CB\", 3.9, 0.433, 23.0, 2.0], [\"Apple, Eli FA CB\", 3.5, 1.75, 25.0, 6.0], [\"Robertson, Amik LVR CB\", 3.5, 0.43799999999999994, 22.0, 2.0], [\"Dawson, Duke DEN CB\", 3.3, 0.275, 25.0, 4.0], [\"Bonds, Terrell MIA CB\", 3.0, 1.0, 24.0, 3.0], [\"Wilson, Quincy NYG CB\", 3.0, 1.0, 25.0, 5.0], [\"Smith, Ryan TBB CB\", 2.5, 0.16699999999999998, 27.0, 6.0], [\"Toliver, Kevin DEN CB\", 2.5, 1.25, 25.0, 4.0], [\"Long, David LAR CB\", 2.3, 0.153, 23.0, 3.0], [\"James, Craig PHI CB\", 2.0, 0.5, 25.0, 4.0], [\"Motley, Parnell DEN CB\", 2.0, 0.667, 23.0, 2.0], [\"Thomas-Oliver, Stantley CAR CB\", 2.0, 0.222, 22.0, 2.0], [\"Peterson, Kevin ARI CB\", 1.7, 0.155, 27.0, 6.0], [\"McRae, Tony DET CB\", 1.5, 0.188, 28.0, 6.0], [\"Miller, Jordan SEA CB\", 1.0, 1.0, 24.0, 3.0], [\"Tankersley, Cordrea MIN CB\", 1.0, 1.0, 27.0, 5.0], [\"Thorpe, Neiko SEA CB\", 1.0, 0.33299999999999996, 31.0, 10.0], [\"Smith, Saivion DAL CB\", 0.9, 0.15, 23.0, 3.0], [\"Brock, Tramaine DET CB\", 0.5, 0.5, 32.0, 12.0], [\"Crawford, Xavier CHI CB\", 0.5, 0.25, 25.0, 3.0], [\"Milton, Chris TEN CB\", 0.5, 0.036000000000000004, 28.0, 6.0], [\"Young, Tavon BAL CB\", 0.5, 0.25, 27.0, 6.0], [\"Armstrong, Cornell HOU CB\", 0.0, 0.0, 25.0, 4.0], [\"Baker, Deandre KCC CB\", 0.0, 0.0, 23.0, 3.0], [\"Boddy-Calhoun, Briean FA CB\", 0.0, 0.0, 28.0, 6.0], [\"Meadors, Nate JAC CB\", 0.0, 0.0, 24.0, 3.0], [\"Nickerson, Parry GBP CB\", 0.0, 0.0, 26.0, 4.0], [\"Stroman, Greg WAS CB\", -0.08, -0.02, 25.0, 4.0], [\"Crawley, Ken NOS CB\", -0.7, -0.14, 28.0, 6.0], [\"Carr, Brandon FA CB\", -1.4, -0.467, 35.0, 14.0], [\"Keyes, Thakarius KCC CB\", -1.6, -0.22899999999999998, 23.0, 2.0], [\"Allen, Brian CLE CB\", -2.1, -2.1, 27.0, 5.0], [\"Jamerson, Natrell CAR CB\", -6.6, -2.2, 25.0, 4.0], [\"Joyner, Lamarcus LVR CB\", 71.0, 5.462000000000001, 30.0, 8.0], [\"Johnson, Lonnie HOU CB\", 65.2, 4.3469999999999995, null, null], [\"Gaulden, Rashaan LVR CB\", 0.0, 0.0, 26.0, 4.0]], \"hovertemplate\": \"position=%{x}<br>z_score=%{y}<br>player_name=%{customdata[0]}<br>total_points=%{customdata[1]}<br>average_points=%{customdata[2]}<br>age=%{customdata[3]}<br>experience_years=%{customdata[4]}<extra></extra>\", \"legendgroup\": \"CB\", \"marker\": {\"color\": \"#00cc96\"}, \"name\": \"CB\", \"notched\": false, \"offsetgroup\": \"CB\", \"orientation\": \"v\", \"showlegend\": true, \"type\": \"box\", \"x\": [\"CB\", \"CB\", \"CB\", \"CB\", \"CB\", \"CB\", \"CB\", \"CB\", \"CB\", \"CB\", \"CB\", \"CB\", \"CB\", \"CB\", \"CB\", \"CB\", \"CB\", \"CB\", \"CB\", \"CB\", \"CB\", \"CB\", \"CB\", \"CB\", \"CB\", \"CB\", \"CB\", \"CB\", \"CB\", \"CB\", \"CB\", \"CB\", \"CB\", \"CB\", \"CB\", \"CB\", \"CB\", \"CB\", \"CB\", \"CB\", \"CB\", \"CB\", \"CB\", \"CB\", \"CB\", \"CB\", \"CB\", \"CB\", \"CB\", \"CB\", \"CB\", \"CB\", \"CB\", \"CB\", \"CB\", \"CB\", \"CB\", \"CB\", \"CB\", \"CB\", \"CB\", \"CB\", \"CB\", \"CB\", \"CB\", \"CB\", \"CB\", \"CB\", \"CB\", \"CB\", \"CB\", \"CB\", \"CB\", \"CB\", \"CB\", \"CB\", \"CB\", \"CB\", \"CB\", \"CB\", \"CB\", \"CB\", \"CB\", \"CB\", \"CB\", \"CB\", \"CB\", \"CB\", \"CB\", \"CB\", \"CB\", \"CB\", \"CB\", \"CB\", \"CB\", \"CB\", \"CB\", \"CB\", \"CB\", \"CB\", \"CB\", \"CB\", \"CB\", \"CB\", \"CB\", \"CB\", \"CB\", \"CB\", \"CB\", \"CB\", \"CB\", \"CB\", \"CB\", \"CB\", \"CB\", \"CB\", \"CB\", \"CB\", \"CB\", \"CB\", \"CB\", \"CB\", \"CB\", \"CB\", \"CB\", \"CB\", \"CB\", \"CB\", \"CB\", \"CB\", \"CB\", \"CB\", \"CB\", \"CB\", \"CB\", \"CB\", \"CB\", \"CB\", \"CB\", \"CB\", \"CB\", \"CB\", \"CB\", \"CB\", \"CB\", \"CB\", \"CB\", \"CB\", \"CB\", \"CB\", \"CB\", \"CB\", \"CB\", \"CB\", \"CB\", \"CB\", \"CB\", \"CB\", \"CB\", \"CB\", \"CB\", \"CB\", \"CB\", \"CB\", \"CB\", \"CB\", \"CB\", \"CB\", \"CB\", \"CB\", \"CB\", \"CB\", \"CB\", \"CB\", \"CB\", \"CB\", \"CB\", \"CB\", \"CB\", \"CB\", \"CB\", \"CB\", \"CB\", \"CB\", \"CB\", \"CB\", \"CB\", \"CB\", \"CB\", \"CB\", \"CB\", \"CB\", \"CB\", \"CB\", \"CB\", \"CB\", \"CB\", \"CB\", \"CB\", \"CB\", \"CB\", \"CB\", \"CB\", \"CB\", \"CB\", \"CB\", \"CB\", \"CB\", \"CB\", \"CB\", \"CB\", \"CB\", \"CB\", \"CB\", \"CB\", \"CB\", \"CB\", \"CB\", \"CB\"], \"x0\": \" \", \"xaxis\": \"x\", \"y\": [3.1533959979726043, 3.143819545726486, 2.639459727430904, 2.613922521441255, 2.591577466200311, 2.45750713475465, 2.2340565823452154, 2.0361432359254303, 2.0169903314331927, 1.956339467207775, 1.9212258089720065, 1.6658537490755094, 1.6498929953319783, 1.6371243923371537, 1.6307400908397414, 1.554128472870792, 1.550936322122086, 1.4807090056505492, 1.432826744419956, 1.4040973876816003, 1.3625994279484193, 1.2859878099794704, 1.2859878099794704, 1.2636427547385267, 1.2540663024924084, 1.2412976994975833, 1.2349133980001707, 1.2317212472514647, 1.1519174785338093, 1.1263802725441598, 1.1168038202980413, 1.0625372575700356, 1.0625372575700356, 1.040192202329092, 0.934851227621787, 0.9284669261243744, 0.9252747753756685, 0.9125061723808434, 0.9061218708834309, 0.8805846648937813, 0.8646239111502502, 0.8454710066580131, 0.8358945544118941, 0.8263181021657756, 0.816741649919657, 0.8039730469248322, 0.8007808961761259, 0.7209771274584706, 0.7209771274584706, 0.7177849767097644, 0.7177849767097644, 0.7152312561107995, 0.7145928259610581, 0.7050163737149396, 0.7050163737149396, 0.682671318473996, 0.682671318473996, 0.6762870169765837, 0.6603262632330527, 0.6156361527511657, 0.6124440020024594, 0.6092518512537533, 0.5734997628682437, 0.5645617407718663, 0.56136959002316, 0.56136959002316, 0.5390245347822165, 0.5358323840335104, 0.5262559317873916, 0.4336835600749115, 0.4304914093262052, 0.40495420333655563, 0.36984054510078723, 0.3474954898598437, 0.3411111883624314, 0.31557398237278156, 0.30918968087536924, 0.2996132286292505, 0.2644995703934823, 0.25492311814736357, 0.20704085691677035, 0.18788795242453304, 0.184695801675827, 0.18150365092712073, 0.17192719868100198, 0.16235074643488343, 0.14638999269135236, 0.14000569119393985, 0.13362138969652756, 0.13362138969652756, 0.1304292389478213, 0.11127633445558398, 0.09850773146075917, 0.09212342996334665, 0.06658622397369704, 0.055732911428095805, 0.042325878283529884, 0.018703962743103847, 0.005935359748279042, 0.002743208999572785, -0.016409695492664536, -0.019601846241370794, -0.025986147738783084, -0.07706055971808254, -0.0930213134616136, -0.09621346421031986, -0.1057899164564384, -0.10898206720514467, -0.1562258982859965, -0.20155443891762478, -0.21751519266115585, -0.22709164490727451, -0.23986024790209942, -0.24305239865080558, -0.24624454939951182, -0.2526288508969242, -0.2558210016456305, -0.29093465988139877, -0.3164718658710485, -0.33243261961457954, -0.3579698256042293, -0.36435412710164167, -0.3707384285990541, -0.37712273009646646, -0.39946778533741006, -0.39946778533741006, -0.41223638833223486, -0.42181284057835355, -0.42181284057835355, -0.4377735943218846, -0.444157895819297, -0.4550112083648981, -0.4633108003115343, -0.4792715540550654, -0.4888480063011839, -0.5080009107934212, -0.5080009107934212, -0.5878046795110766, -0.6037654332546076, -0.6293026392442573, -0.6452633929877885, -0.6484555437364946, -0.6484555437364946, -0.6516476944852008, -0.6829307718225217, -0.7052758270634651, -0.7186828602080313, -0.7378357647002686, -0.744220066197681, -0.7448584963474223, -0.7474122169463872, -0.7633729706899183, -0.7697572721873307, -0.788910176679568, -0.8112552319205114, -0.8112552319205114, -0.8240238349153363, -0.8272159856640425, -0.8431767394075735, -0.8431767394075735, -0.8431767394075735, -0.8559453424023984, -0.8750982468946357, -0.8750982468946357, -0.8750982468946357, -0.8910590006381668, -0.9325569603713476, -0.9325569603713476, -0.9357491111200537, -0.9389412618687599, -0.9389412618687599, -1.0027842768428843, -1.0187450305864152, -1.03151363358124, -1.0347057843299463, -1.0347057843299463, -1.0347057843299463, -1.0398132255278765, -1.0506665380734774, -1.0666272918170085, -1.0825880455605394, -1.0985487993040706, -1.1011025199030355, -1.1017409500527768, -1.1145095530476017, -1.1145095530476017, -1.1208938545450142, -1.1304703067911328, -1.1304703067911328, -1.1464310605346637, -1.1464310605346637, -1.1528153620320762, -1.1623918142781948, -1.1623918142781948, -1.1623918142781948, -1.1719682665243134, -1.178352568021726, -1.194313321765257, -1.194313321765257, -1.194313321765257, -1.1975054725139633, -1.210274075508788, -1.210274075508788, -1.210274075508788, -1.210274075508788, -1.226234829252319, -1.226234829252319, -1.226234829252319, -1.226234829252319, -1.226234829252319, -1.228788549851284, -1.2485798844932627, -1.270924939734206, -1.2773092412316185, -1.2932699949751496, -1.4369167786669292, 1.040192202329092, 0.8550474589041317, -1.226234829252319], \"y0\": \" \", \"yaxis\": \"y\"}, {\"alignmentgroup\": \"True\", \"boxpoints\": \"all\", \"customdata\": [[\"Mills, Jalen PHI S\", 89.5, 5.9670000000000005, 27.0, 6.0], [\"Reed, D.J. SEA S\", 80.84, 8.982000000000001, 24.0, 4.0], [\"Neal, Siran BUF S\", 7.0, 0.467, 26.0, 4.0], [\"Hairston, Nate DEN S\", 3.9, 0.975, 26.0, 5.0], [\"Baker, Budda ARI S\", 146.0, 10.429, 25.0, 5.0], [\"Poyer, Jordan BUF S\", 138.3, 9.22, 30.0, 9.0], [\"Chinn, Jeremy CAR S\", 137.4, 9.814, 23.0, 2.0], [\"Simmons, Justin DEN S\", 132.6, 8.84, 27.0, 6.0], [\"Bates, Jessie CIN S\", 132.3, 8.82, 24.0, 4.0], [\"Adams, Jamal SEA S\", 130.5, 11.864, 25.0, 5.0], [\"Phillips, Adrian NEP S\", 125.5, 8.367, 29.0, 8.0], [\"Bell, Vonn CIN S\", 125.0, 8.333, 26.0, 6.0], [\"Peppers, Jabrill NYG S\", 123.02, 8.787, 25.0, 5.0], [\"Sorensen, Daniel KCC S\", 122.8, 8.187000000000001, 31.0, 8.0], [\"Willis, Khari IND S\", 121.6, 8.686, 25.0, 3.0], [\"Jenkins, Malcolm NOS S\", 120.1, 8.007, 33.0, 13.0], [\"Curl, Kamren WAS S\", 118.3, 7.8870000000000005, 22.0, 2.0], [\"Fitzpatrick, Minkah PIT S\", 117.7, 7.847, 24.0, 4.0], [\"Neal, Keanu ATL S\", 112.5, 8.036, 25.0, 6.0], [\"Mathieu, Tyrann KCC S\", 111.3, 7.42, 29.0, 9.0], [\"Winfield, Antoine TBB S\", 108.1, 7.207000000000001, 22.0, 2.0], [\"Byard, Kevin TEN S\", 106.6, 7.107, 27.0, 6.0], [\"Maye, Marcus NYJ S\", 106.5, 7.1, 27.0, 5.0], [\"Johnson, John LAR S\", 106.0, 7.067, 27.0, 5.0], [\"Savage, Darnell GBP S\", 105.3, 7.521, 23.0, 3.0], [\"Rowe, Eric MIA S\", 101.6, 6.773, 28.0, 7.0], [\"Amos, Adrian GBP S\", 100.3, 6.687, 28.0, 7.0], [\"Whitehead, Jordan TBB S\", 99.4, 6.627000000000001, 24.0, 4.0], [\"Smith, Harrison MIN S\", 98.5, 6.567, 32.0, 10.0], [\"Clark, Chuck BAL S\", 98.0, 6.5329999999999995, 26.0, 5.0], [\"Reid, Justin HOU S\", 97.0, 7.462000000000001, 24.0, 4.0], [\"Jackson, Eddie CHI S\", 96.5, 6.433, 28.0, 5.0], [\"Jenkins, Rayshawn LAC S\", 95.1, 6.34, 27.0, 5.0], [\"Boston, Tre CAR S\", 94.5, 6.3, 28.0, 8.0], [\"Elliott, DeShon BAL S\", 92.0, 6.132999999999999, 24.0, 4.0], [\"Vaccaro, Kenny TEN S\", 91.8, 7.65, 30.0, 9.0], [\"McLeod, Rodney PHI S\", 91.7, 7.053999999999999, 30.0, 10.0], [\"McCourty, Devin NEP S\", 90.7, 6.047000000000001, 33.0, 12.0], [\"Diggs, Quandre SEA S\", 88.8, 5.92, 29.0, 7.0], [\"Abram, Johnathan LVR S\", 85.7, 7.142, 24.0, 3.0], [\"Wilson, Donovan DAL S\", 84.3, 6.485, 26.0, 3.0], [\"Harris, Anthony MIN S\", 82.9, 5.527, 28.0, 7.0], [\"Jackson, Kareem DEN S\", 82.7, 5.513, 33.0, 12.0], [\"Adderley, Nasir LAC S\", 82.5, 5.893, 23.0, 3.0], [\"Gardner-Johnson, Chauncey NOS S\", 81.9, 5.46, 23.0, 3.0], [\"Edmunds, Terrell PIT S\", 80.1, 5.34, 24.0, 4.0], [\"Gipson, Tashaun CHI S\", 77.0, 5.132999999999999, 30.0, 10.0], [\"Walker, Tracy DET S\", 76.5, 5.4639999999999995, 26.0, 4.0], [\"Joseph, Karl CLE S\", 72.1, 5.546, 27.0, 6.0], [\"Fuller, Jordan LAR S\", 71.5, 6.5, 23.0, 2.0], [\"Murray, Eric HOU S\", 69.0, 4.928999999999999, 27.0, 6.0], [\"Harmon, Duron DET S\", 68.2, 4.547, 30.0, 9.0], [\"Wilson, Jarrod JAC S\", 68.2, 6.2, 27.0, 6.0], [\"Hyde, Micah BUF S\", 66.62, 4.7589999999999995, 30.0, 9.0], [\"Harris, Erik LVR S\", 66.5, 4.75, 31.0, 7.0], [\"Williams, Marcus NOS S\", 65.9, 4.707, 24.0, 5.0], [\"Neal, Ryan SEA S\", 65.6, 5.4670000000000005, 25.0, 4.0], [\"Ward, Jimmie SFO S\", 64.1, 4.931, 29.0, 8.0], [\"Greene, Raven GBP S\", 62.2, 6.22, 26.0, 4.0], [\"Heath, Jeff LVR S\", 62.0, 5.167000000000001, 30.0, 9.0], [\"Sendejo, Andrew CLE S\", 61.0, 4.357, 33.0, 12.0], [\"Love, Julian NYG S\", 60.8, 4.053, 23.0, 3.0], [\"Burris, Juston CAR S\", 60.5, 5.042, 27.0, 6.0], [\"Jones, Brandon MIA S\", 60.5, 4.033, 23.0, 2.0], [\"Jones, Josh JAC S\", 60.5, 5.042, 26.0, 5.0], [\"Hooker, Amani TEN S\", 60.3, 4.02, 22.0, 3.0], [\"Blackmon, Julian IND S\", 59.9, 4.279, 22.0, 2.0], [\"Woods, Xavier DAL S\", 58.2, 4.157, 25.0, 5.0], [\"McCain, Bobby MIA S\", 54.9, 3.66, 27.0, 7.0], [\"Rapp, Taylor LAR S\", 53.5, 5.944, 23.0, 3.0], [\"Harrison, Ronnie CLE S\", 53.2, 5.32, 24.0, 4.0], [\"Collins, Landon WAS S\", 51.6, 7.371, 27.0, 7.0], [\"Kearse, Jayron FA S\", 49.5, 4.5, 27.0, 6.0], [\"Dugger, Kyle NEP S\", 47.58, 3.66, 25.0, 2.0], [\"Epps, Marcus PHI S\", 46.5, 3.577, 25.0, 3.0], [\"Harris, Marcell SFO S\", 46.5, 3.1, 24.0, 4.0], [\"Thompson, Darian DAL S\", 46.1, 3.073, 27.0, 6.0], [\"Banjo, Chris ARI S\", 45.0, 3.4619999999999997, 31.0, 9.0], [\"Wilson, Brandon CIN S\", 44.8, 3.2, 26.0, 5.0], [\"Thornhill, Juan KCC S\", 44.5, 2.967, 24.0, 3.0], [\"Thomas, Daniel JAC S\", 41.3, 4.13, 22.0, 2.0], [\"Wingard, Andrew JAC S\", 39.8, 3.3169999999999997, 24.0, 3.0], [\"Tartt, Jaquiski SFO S\", 39.6, 5.657, 29.0, 7.0], [\"Parks, Will DEN S\", 36.5, 4.056, 26.0, 6.0], [\"Edwards, Mike TBB S\", 35.8, 2.387, 25.0, 3.0], [\"Davis, Ashtyn NYJ S\", 35.22, 3.522, 24.0, 2.0], [\"McDougald, Bradley NYJ S\", 32.9, 4.7, 30.0, 9.0], [\"Everett, Deshazor WAS S\", 32.0, 2.909, 29.0, 7.0], [\"Apke, Troy WAS S\", 30.5, 2.033, 26.0, 4.0], [\"Marlowe, Dean BUF S\", 29.0, 2.0709999999999997, 28.0, 7.0], [\"Moore, A.J. HOU S\", 28.5, 2.85, 25.0, 4.0], [\"Addae, Jahleel LAC S\", 27.3, 2.4819999999999998, 31.0, 9.0], [\"Allen, Ricardo ATL S\", 26.8, 2.436, 29.0, 8.0], [\"Redwine, Sheldrick CLE S\", 26.3, 1.879, 24.0, 3.0], [\"Neasman, Sharrod ATL S\", 25.7, 1.713, 29.0, 6.0], [\"Harris, Will DET S\", 24.5, 1.633, 25.0, 3.0], [\"Houston-Carson, DeAndre CHI S\", 23.0, 1.5330000000000001, 28.0, 6.0], [\"Reaves, Jeremy WAS S\", 23.0, 2.875, 24.0, 4.0], [\"Thompson, Deionte ARI S\", 22.7, 1.892, 24.0, 3.0], [\"Wilson, Tavon IND S\", 22.5, 1.607, 31.0, 10.0], [\"Franklin, Sam CAR S\", 20.5, 2.278, 25.0, 2.0], [\"Odum, George IND S\", 20.5, 1.367, 27.0, 4.0], [\"Kazee, Damontae ATL S\", 20.0, 5.0, 27.0, 5.0], [\"Scott, Vernon GBP S\", 19.5, 1.393, 23.0, 2.0], [\"Redmond, Will GBP S\", 19.0, 1.5830000000000002, 27.0, 6.0], [\"Allen, Marcus PIT S\", 18.5, 1.423, 24.0, 4.0], [\"Brooks, Terrence NEP S\", 18.5, 1.423, 30.0, 8.0], [\"Williams, Shawn CIN S\", 17.1, 1.425, 30.0, 9.0], [\"Watts, Armani KCC S\", 16.62, 1.1079999999999999, 25.0, 4.0], [\"Farley, Matthias NYJ S\", 16.3, 1.087, 28.0, 6.0], [\"Killebrew, Miles DET S\", 16.0, 1.143, 28.0, 6.0], [\"Washington, Charles ARI S\", 15.0, 1.071, 28.0, 6.0], [\"Thompson, Jalen ARI S\", 14.5, 3.625, 22.0, 3.0], [\"Fejedelem, Clayton MIA S\", 14.3, 1.192, 27.0, 6.0], [\"Bush, Deon CHI S\", 14.0, 1.273, 27.0, 6.0], [\"Swearinger, D.J. NOS S\", 13.7, 1.245, 29.0, 9.0], [\"McKinney, Xavier NYG S\", 13.5, 2.7, 21.0, 2.0], [\"Scott, Nick LAR S\", 12.5, 0.893, 26.0, 3.0], [\"Wallace, K'Von PHI S\", 12.5, 0.893, 23.0, 2.0], [\"Hartsfield, Myles CAR S\", 12.2, 0.938, 23.0, 2.0], [\"Thompson, Tedric FA S\", 12.0, 1.5, 26.0, 5.0], [\"Davis, Cody NEP S\", 11.5, 0.958, 31.0, 9.0], [\"Black, Henry GBP S\", 11.0, 1.571, 24.0, 2.0], [\"Hill, Delano SEA S\", 11.0, 5.5, 25.0, 5.0], [\"Blair, Marquise SEA S\", 10.5, 5.25, 23.0, 3.0], [\"Ford, Johnathan PHI S\", 10.5, 1.5, 26.0, 5.0], [\"Hawkins, Jaylinn ATL S\", 10.5, 0.955, 23.0, 2.0], [\"Thomas, Michael HOU S\", 10.2, 1.133, 32.0, 10.0], [\"Burgess, Terrell LAR S\", 9.0, 1.286, 22.0, 2.0], [\"Metellus, Josh MIN S\", 8.5, 0.607, 23.0, 2.0], [\"Riley, Curtis FA S\", 8.5, 1.4169999999999998, 28.0, 7.0], [\"Cruikshank, Dane TEN S\", 8.3, 4.15, 26.0, 4.0], [\"Dangerfield, Jordan PIT S\", 7.5, 0.536, 30.0, 7.0], [\"Ebner, Nate NYG S\", 7.5, 0.5, 32.0, 10.0], [\"Iloka, George MIN S\", 7.5, 1.875, 30.0, 10.0], [\"Colbert, Adrian NYG S\", 7.4, 1.48, 27.0, 5.0], [\"Leavitt, Dallin LVR S\", 6.9, 0.863, 26.0, 4.0], [\"Orr, Kareem TEN S\", 6.8, 1.36, 24.0, 3.0], [\"Hooker, Malik IND S\", 6.0, 3.0, 25.0, 5.0], [\"Watkins, Jaylen LAC S\", 6.0, 3.0, 28.0, 8.0], [\"Cyprien, Johnathan FA S\", 5.5, 1.375, 30.0, 9.0], [\"Davis, Sean PIT S\", 5.5, 0.36700000000000005, 27.0, 6.0], [\"Parker, Steven DAL S\", 5.5, 0.7859999999999999, 25.0, 4.0], [\"Moore, C.J. DET S\", 4.4, 0.4, 27.0, 5.0], [\"Marshall, Trey DEN S\", 4.0, 0.33299999999999996, 25.0, 4.0], [\"Frazier, Kavon MIA S\", 3.8, 0.271, 26.0, 6.0], [\"Richards, Jordan BAL S\", 3.5, 0.233, 28.0, 7.0], [\"Gilchrist, Marcus BAL S\", 3.0, 1.5, 32.0, 11.0], [\"Johnson, Jaquan BUF S\", 2.48, 0.191, 25.0, 3.0], [\"Hughes, Juju LAR S\", 2.0, 0.182, 22.0, 2.0], [\"Randall, Damarious SEA S\", 2.0, 0.2, 28.0, 7.0], [\"Brooks, Antoine PIT S\", 1.5, 0.5, 22.0, 2.0], [\"Levine, Anthony BAL S\", 1.5, 0.107, 34.0, 11.0], [\"Chandler, Sean CAR S\", 1.0, 0.33299999999999996, 25.0, 4.0], [\"Mayden, Jared SFO S\", 1.0, 0.5, 22.0, 2.0], [\"Campbell, Ibraheim IND S\", 0.5, 0.125, 29.0, 7.0], [\"Gray, J.T. NOS S\", 0.5, 0.033, 25.0, 4.0], [\"Robinson, Kenny CAR S\", 0.5, 0.062, 22.0, 2.0], [\"Christian, Marqui CHI S\", 0.0, 0.0, 26.0, 6.0], [\"Countess, Blake PHI S\", 0.0, 0.0, 27.0, 6.0], [\"Hampton, Saquan NYJ S\", 0.0, 0.0, 25.0, 3.0], [\"Stone, Geno HOU S\", 0.0, 0.0, 22.0, 2.0], [\"Gilman, Alohi LAC S\", -0.2, -0.013999999999999999, 23.0, 2.0], [\"Adams, Andrew TBB S\", -0.5, -0.033, 27.0, 6.0], [\"Moffatt, Jovante CLE S\", -2.0, -0.25, 24.0, 2.0], [\"Locke, P.J. DEN S\", -2.8, -0.2, 24.0, 3.0]], \"hovertemplate\": \"position=%{x}<br>z_score=%{y}<br>player_name=%{customdata[0]}<br>total_points=%{customdata[1]}<br>average_points=%{customdata[2]}<br>age=%{customdata[3]}<br>experience_years=%{customdata[4]}<extra></extra>\", \"legendgroup\": \"S\", \"marker\": {\"color\": \"#ab63fa\"}, \"name\": \"S\", \"notched\": false, \"offsetgroup\": \"S\", \"orientation\": \"v\", \"showlegend\": true, \"type\": \"box\", \"x\": [\"S\", \"S\", \"S\", \"S\", \"S\", \"S\", \"S\", \"S\", \"S\", \"S\", \"S\", \"S\", \"S\", \"S\", \"S\", \"S\", \"S\", \"S\", \"S\", \"S\", \"S\", \"S\", \"S\", \"S\", \"S\", \"S\", \"S\", \"S\", \"S\", \"S\", \"S\", \"S\", \"S\", \"S\", \"S\", \"S\", \"S\", \"S\", \"S\", \"S\", \"S\", \"S\", \"S\", \"S\", \"S\", \"S\", \"S\", \"S\", \"S\", \"S\", \"S\", \"S\", \"S\", \"S\", \"S\", \"S\", \"S\", \"S\", \"S\", \"S\", \"S\", \"S\", \"S\", \"S\", \"S\", \"S\", \"S\", \"S\", \"S\", \"S\", \"S\", \"S\", \"S\", \"S\", \"S\", \"S\", \"S\", \"S\", \"S\", \"S\", \"S\", \"S\", \"S\", \"S\", \"S\", \"S\", \"S\", \"S\", \"S\", \"S\", \"S\", \"S\", \"S\", \"S\", \"S\", \"S\", \"S\", \"S\", \"S\", \"S\", \"S\", \"S\", \"S\", \"S\", \"S\", \"S\", \"S\", \"S\", \"S\", \"S\", \"S\", \"S\", \"S\", \"S\", \"S\", \"S\", \"S\", \"S\", \"S\", \"S\", \"S\", \"S\", \"S\", \"S\", \"S\", \"S\", \"S\", \"S\", \"S\", \"S\", \"S\", \"S\", \"S\", \"S\", \"S\", \"S\", \"S\", \"S\", \"S\", \"S\", \"S\", \"S\", \"S\", \"S\", \"S\", \"S\", \"S\", \"S\", \"S\", \"S\", \"S\", \"S\", \"S\", \"S\", \"S\", \"S\", \"S\", \"S\", \"S\", \"S\", \"S\", \"S\", \"S\", \"S\", \"S\", \"S\"], \"x0\": \" \", \"xaxis\": \"x\", \"y\": [1.026464892689613, 0.8169845216659962, -0.96916219847071, -1.0441493982597645, 2.3931670823933495, 2.206908553885053, 2.18513807652694, 2.069028863950339, 2.061772038164302, 2.0182310834480766, 1.8972839870141176, 1.8851892773707217, 1.8372942271828738, 1.8319725549397796, 1.8029452517956295, 1.7666611228654419, 1.7231201681492165, 1.7086065165771418, 1.5828215362858242, 1.553794233141674, 1.4763880914239402, 1.4401039624937526, 1.4376850205650735, 1.4255903109216777, 1.4086577174209234, 1.3191568660597937, 1.2877106209869644, 1.265940143628852, 1.244169666270739, 1.2320749566273432, 1.2078855373405515, 1.1957908276971556, 1.1619256406956469, 1.1474119891235721, 1.0869384409065925, 1.0821005570492341, 1.079681615120555, 1.0554921958337633, 1.0095322991888587, 0.9345450993998043, 0.9006799123982956, 0.8668147253967874, 0.8619768415394289, 0.8571389576820705, 0.8426253061099955, 0.79908435139377, 0.7240971516047157, 0.7120024419613197, 0.6055689970994357, 0.5910553455273607, 0.5305817973103812, 0.5112302618809479, 0.5112302618809479, 0.4730109794078169, 0.47010824909340176, 0.45559459752132686, 0.44833777173528905, 0.4120536428051013, 0.36609374616019713, 0.3612558623028387, 0.33706644301604693, 0.3322285591586885, 0.324971733372651, 0.324971733372651, 0.324971733372651, 0.3201338495152926, 0.3104580818005759, 0.26933606901303, 0.18951098536661692, 0.15564579836510847, 0.148388972579071, 0.10968590172020408, 0.058888121217941285, 0.012444436187300999, -0.013680136642434098, -0.013680136642434098, -0.02335590435715078, -0.04996426557262179, -0.05480214942998022, -0.062058975216017685, -0.1394651169337515, -0.1757492458639392, -0.18058712972129745, -0.255574329510352, -0.27250692301110635, -0.28653678619744555, -0.3426562389428025, -0.3644267163009151, -0.4007108452311028, -0.4369949741612905, -0.4490896838046864, -0.47811698694883653, -0.4902116965922324, -0.5023064062356283, -0.5168200578077035, -0.5458473609518536, -0.5821314898820412, -0.5821314898820412, -0.5893883156680788, -0.5942261995254372, -0.6426050380990207, -0.6426050380990207, -0.6546997477424167, -0.6667944573858126, -0.6788891670292084, -0.6909838766726043, -0.6909838766726043, -0.7248490636741128, -0.7364599849317729, -0.7442005991035463, -0.7514574248895838, -0.7756468441763756, -0.7877415538197715, -0.7925794376771299, -0.7998362634631674, -0.8070930892492049, -0.8119309731065633, -0.8361203923933551, -0.8361203923933551, -0.8433772181793926, -0.848215102036751, -0.8603098116801469, -0.8724045213235427, -0.8724045213235427, -0.8844992309669387, -0.8844992309669387, -0.8844992309669387, -0.8917560567529762, -0.9207833598971263, -0.9328780695405222, -0.9328780695405222, -0.9377159533978807, -0.9570674888273141, -0.9570674888273141, -0.9570674888273141, -0.9594864307559933, -0.9715811403993891, -0.9740000823280683, -0.9933516177575018, -0.9933516177575018, -1.0054463274008976, -1.0054463274008976, -1.0054463274008976, -1.0320546886163686, -1.0417304563310854, -1.0465683401884438, -1.0538251659744813, -1.0659198756178772, -1.0784983736470088, -1.090109294904669, -1.090109294904669, -1.1022040045480648, -1.1022040045480648, -1.1142987141914606, -1.1142987141914606, -1.1263934238348565, -1.1263934238348565, -1.1263934238348565, -1.1384881334782526, -1.1384881334782526, -1.1384881334782526, -1.1384881334782526, -1.143326017335611, -1.1505828431216485, -1.1868669720518361, -1.2062185074812695], \"y0\": \" \", \"yaxis\": \"y\"}, {\"alignmentgroup\": \"True\", \"boxpoints\": \"all\", \"customdata\": [[\"Mann, Braden NYJ PN\", 103.3, 6.8870000000000005, 23.0, 2.0], [\"Way, Tress WAS PN\", 103.11, 6.874, 31.0, 9.0], [\"Johnston, Cam PHI PN\", 101.35, 6.757000000000001, 29.0, 5.0], [\"Dickson, Michael SEA PN\", 100.09, 6.672999999999999, 25.0, 4.0], [\"Hekker, Johnny LAR PN\", 98.96, 6.597, 31.0, 10.0], [\"O'Donnell, Pat CHI PN\", 98.81, 6.587000000000001, 30.0, 8.0], [\"Fox, Jack DET PN\", 95.93, 6.395, 24.0, 3.0], [\"Wishnowsky, Mitch SFO PN\", 94.7, 6.313, 29.0, 3.0], [\"Haack, Matt MIA PN\", 94.57, 6.305, 26.0, 5.0], [\"Huber, Kevin CIN PN\", 93.31, 6.221, 35.0, 13.0], [\"Dixon, Riley NYG PN\", 93.16, 6.211, 27.0, 6.0], [\"Martin, Sam DEN PN\", 89.55, 5.97, 31.0, 9.0], [\"Bailey, Jake NEP PN\", 88.21, 5.881, 23.0, 3.0], [\"Morstead, Thomas NOS PN\", 83.67, 5.577999999999999, 35.0, 13.0], [\"Berry, Jordan PIT PN\", 83.0, 8.3, 30.0, 7.0], [\"Pinion, Bradley TBB PN\", 81.18, 5.412000000000001, 26.0, 7.0], [\"Anger, Bryan HOU PN\", 79.63, 5.309, 32.0, 10.0], [\"Koch, Sam BAL PN\", 78.74, 5.249, 38.0, 16.0], [\"Lee, Andy ARI PN\", 76.54, 5.103, 38.0, 18.0], [\"Townsend, Tommy KCC PN\", 76.46, 5.0969999999999995, 24.0, 2.0], [\"Cooke, Logan JAC PN\", 76.38, 5.875, 25.0, 4.0], [\"Hofrichter, Sterling ATL PN\", 75.48, 5.032, 24.0, 2.0], [\"Long, Ty LAC PN\", 74.59, 4.973, 28.0, 3.0], [\"Charlton, Joseph CAR PN\", 69.62, 4.641, 24.0, 2.0], [\"Colquitt, Britton MIN PN\", 67.47, 4.498, 36.0, 13.0], [\"Gillan, Jamie CLE PN\", 65.68, 4.379, 23.0, 3.0], [\"Scott, J.K. GBP PN\", 64.16, 4.277, 25.0, 4.0], [\"Bojorquez, Corey BUF PN\", 62.73, 4.1819999999999995, 24.0, 4.0], [\"Kern, Brett TEN PN\", 62.24, 5.187, 35.0, 14.0], [\"Cole, A.J. LVR PN\", 61.54, 4.103, 25.0, 3.0], [\"Sanchez, Rigoberto IND PN\", 61.2, 4.708, 26.0, 5.0], [\"Colquitt, Dustin KCC PN\", 36.35, 6.058, 39.0, 17.0], [\"Niswander, Hunter DAL PN\", 32.44, 4.6339999999999995, null, null], [\"Jones, Chris DAL PN\", 30.58, 3.823, 31.0, 11.0]], \"hovertemplate\": \"position=%{x}<br>z_score=%{y}<br>player_name=%{customdata[0]}<br>total_points=%{customdata[1]}<br>average_points=%{customdata[2]}<br>age=%{customdata[3]}<br>experience_years=%{customdata[4]}<extra></extra>\", \"legendgroup\": \"PN\", \"marker\": {\"color\": \"#FFA15A\"}, \"name\": \"PN\", \"notched\": false, \"offsetgroup\": \"PN\", \"orientation\": \"v\", \"showlegend\": true, \"type\": \"box\", \"x\": [\"PN\", \"PN\", \"PN\", \"PN\", \"PN\", \"PN\", \"PN\", \"PN\", \"PN\", \"PN\", \"PN\", \"PN\", \"PN\", \"PN\", \"PN\", \"PN\", \"PN\", \"PN\", \"PN\", \"PN\", \"PN\", \"PN\", \"PN\", \"PN\", \"PN\", \"PN\", \"PN\", \"PN\", \"PN\", \"PN\", \"PN\", \"PN\", \"PN\", \"PN\"], \"x0\": \" \", \"xaxis\": \"x\", \"y\": [1.3170608108909507, 1.3071383496522422, 1.2152250244936773, 1.1494234394369782, 1.090410906806763, 1.082577384776204, 0.932173761789462, 0.867938881138874, 0.8611498287123885, 0.7953482436556893, 0.7875147216251296, 0.5989879580896647, 0.5290084946166664, 0.2919138944917331, 0.25692416275523394, 0.1618774287844459, 0.08093103446866395, 0.03445213708734431, -0.08043951936086088, -0.08461739777715993, -0.08879527619345823, -0.1357964083768147, -0.18227530575813433, -0.4418260023706719, -0.5541064848086915, -0.6475865143733676, -0.7269662042830376, -0.8016457809743713, -0.8272352862741987, -0.8637917224168098, -0.8815477056860778, -2.179301188748766, -2.38349499634535, -2.4806306695242877], \"y0\": \" \", \"yaxis\": \"y\"}, {\"alignmentgroup\": \"True\", \"boxpoints\": \"all\", \"customdata\": [[\"Mahomes, Patrick KCC QB\", 424.9, 28.326999999999998, 25.0, 5.0], [\"Rodgers, Aaron GBP QB\", 416.46, 27.764, 37.0, 17.0], [\"Allen, Josh BUF QB\", 406.8, 27.12, 25.0, 4.0], [\"Murray, Kyler ARI QB\", 383.46, 25.564, 23.0, 3.0], [\"Wilson, Russell SEA QB\", 359.94, 23.996, 32.0, 10.0], [\"Watson, Deshaun HOU QB\", 346.52, 23.101, 25.0, 5.0], [\"Brady, Tom TBB QB\", 346.26, 23.084, 43.0, 22.0], [\"Tannehill, Ryan TEN QB\", 345.42, 23.028000000000002, 32.0, 10.0], [\"Jackson, Lamar BAL QB\", 314.06, 22.433000000000003, 24.0, 4.0], [\"Herbert, Justin LAC QB\", 312.86, 22.346999999999998, 23.0, 2.0], [\"Roethlisberger, Ben PIT QB\", 311.32, 20.755, 39.0, 18.0], [\"Cousins, Kirk MIN QB\", 292.9, 19.527, 32.0, 10.0], [\"Carr, Derek LVR QB\", 269.68, 17.979, 30.0, 8.0], [\"Ryan, Matt ATL QB\", 259.64, 17.309, 36.0, 14.0], [\"Rivers, Philip FA QB\", 251.8, 16.787, 39.0, 18.0], [\"Goff, Jared DET QB\", 244.48, 16.299, 26.0, 6.0], [\"Stafford, Matthew LAR QB\", 239.94, 15.995999999999999, 33.0, 13.0], [\"Mayfield, Baker CLE QB\", 236.88, 15.792, 26.0, 4.0], [\"Bridgewater, Teddy CAR QB\", 230.98, 16.499000000000002, 28.0, 8.0], [\"Brees, Drew NOS QB\", 212.44, 19.313, 42.0, 21.0], [\"Newton, Cam NEP QB\", 194.0, 13.857000000000001, 32.0, 11.0], [\"Wentz, Carson PHI QB\", 165.8, 13.817, 28.0, 6.0], [\"Minshew, Gardner JAC QB\", 161.66, 17.962, 25.0, 3.0], [\"Fitzpatrick, Ryan MIA QB\", 160.74, 17.86, 38.0, 17.0], [\"Burrow, Joe CIN QB\", 157.72, 15.772, 24.0, 2.0], [\"Lock, Drew DEN QB\", 152.66, 12.722000000000001, 24.0, 3.0], [\"Trubisky, Mitchell CHI QB\", 151.52, 16.836, 26.0, 5.0], [\"Prescott, Dak DAL QB\", 143.14, 28.628, 27.0, 6.0], [\"Jones, Daniel NYG QB\", 130.66, 10.051, 23.0, 3.0], [\"Dalton, Andy DAL QB\", 128.34, 12.834000000000001, 33.0, 11.0], [\"Hill, Taysom NOS QB\", 123.02, 8.201, 30.0, 5.0], [\"Tagovailoa, Tua MIA QB\", 120.12, 12.012, 23.0, 2.0], [\"Mullens, Nick SFO QB\", 115.88, 11.588, 26.0, 5.0], [\"Darnold, Sam NYJ QB\", 103.08, 9.371, 23.0, 4.0], [\"Foles, Nick CHI QB\", 97.08, 10.787, 32.0, 10.0], [\"Hurts, Jalen PHI QB\", 75.16, 5.369, 22.0, 2.0], [\"Garoppolo, Jimmy SFO QB\", 63.34, 10.557, 29.0, 8.0], [\"Flacco, Joe NYJ QB\", 55.46, 11.092, 36.0, 14.0], [\"Allen, Brandon CIN QB\", 54.58, 13.645, 28.0, 6.0], [\"Haskins, Dwayne PIT QB\", 53.36, 7.622999999999999, 24.0, 3.0], [\"Smith, Alex WAS QB\", 48.1, 6.871, 37.0, 17.0], [\"Glennon, Mike JAC QB\", 45.84, 11.46, 31.0, 9.0], [\"Allen, Kyle WAS QB\", 44.5, 11.125, 25.0, 4.0], [\"Beathard, C.J. SFO QB\", 42.36, 8.472000000000001, 27.0, 5.0], [\"Mariota, Marcus LVR QB\", 28.84, 28.84, 27.0, 7.0], [\"Driskel, Jeff DEN QB\", 25.08, 8.36, 28.0, 6.0], [\"Luton, Jake JAC QB\", 21.26, 7.087000000000001, 25.0, 2.0], [\"Brissett, Jacoby IND QB\", 17.28, 1.7280000000000002, 28.0, 6.0], [\"Gabbert, Blaine TBB QB\", 16.32, 4.08, 31.0, 11.0], [\"McCoy, Colt NYG QB\", 16.2, 4.05, 34.0, 12.0], [\"Gilbert, Garrett DAL QB\", 14.52, 14.52, 29.0, 8.0], [\"Stidham, Jarrett NEP QB\", 12.94, 2.588, 24.0, 3.0], [\"Heinicke, Taylor WAS QB\", 12.68, 12.68, 28.0, 7.0], [\"Finley, Ryan CIN QB\", 12.16, 2.432, 26.0, 3.0], [\"McSorley, Trace BAL QB\", 11.3, 5.65, 25.0, 3.0], [\"Daniel, Chase DET QB\", 11.16, 2.2319999999999998, 34.0, 13.0], [\"Rypien, Brett DEN QB\", 8.8, 2.9330000000000003, 24.0, 3.0], [\"Walker, P.J. CAR QB\", 8.72, 2.907, 26.0, 5.0], [\"Taylor, Tyrod LAC QB\", 7.02, 3.51, 31.0, 11.0], [\"Henne, Chad KCC QB\", 4.0, 2.0, 35.0, 14.0], [\"Huntley, Tyler BAL QB\", 2.08, 2.08, null, null], [\"Keenum, Case CLE QB\", 1.84, 0.92, 33.0, 10.0], [\"Woodside, Logan TEN QB\", 1.28, 0.213, 26.0, 4.0], [\"Webb, Joe NYG QB\", 1.0, 0.5, 34.0, 12.0], [\"Blough, David DET QB\", 0.76, 0.76, 25.0, 3.0], [\"Bray, Tyler CHI QB\", 0.72, 0.72, 29.0, 9.0], [\"Winston, Jameis NOS QB\", 0.5, 0.16699999999999998, 27.0, 7.0], [\"Streveler, Chris ARI QB\", 0.3, 0.075, 26.0, 3.0], [\"Barkley, Matt BUF QB\", 0.02, 0.005, 30.0, 9.0], [\"Hoyer, Brian NEP QB\", 0.0, 0.0, 35.0, 13.0], [\"Stick, Easton LAC QB\", -0.04, -0.04, 25.0, 3.0], [\"Peterman, Nathan LVR QB\", -0.1, -0.1, 27.0, 5.0], [\"Rudolph, Mason PIT QB\", -0.34, -0.085, 25.0, 4.0], [\"Schaub, Matt FA QB\", -0.4, -0.4, 39.0, 18.0], [\"Griffin III, Robert BAL QB\", -0.42, -0.105, 31.0, 10.0], [\"McCarron, A.J. HOU QB\", -1.0, -1.0, 30.0, 8.0], [\"Smith, Geno SEA QB\", -1.88, -1.88, 30.0, 9.0], [\"Boyle, Tim GBP QB\", -3.9, -0.48700000000000004, 26.0, 4.0], [\"DiNucci, Ben DAL QB\", -4.04, -1.347, 24.0, 2.0], [\"Hinton, Kendall DEN QB\", -5.28, -5.28, 24.0, 2.0]], \"hovertemplate\": \"position=%{x}<br>z_score=%{y}<br>player_name=%{customdata[0]}<br>total_points=%{customdata[1]}<br>average_points=%{customdata[2]}<br>age=%{customdata[3]}<br>experience_years=%{customdata[4]}<extra></extra>\", \"legendgroup\": \"QB\", \"marker\": {\"color\": \"#19d3f3\"}, \"name\": \"QB\", \"notched\": false, \"offsetgroup\": \"QB\", \"orientation\": \"v\", \"showlegend\": true, \"type\": \"box\", \"x\": [\"QB\", \"QB\", \"QB\", \"QB\", \"QB\", \"QB\", \"QB\", \"QB\", \"QB\", \"QB\", \"QB\", \"QB\", \"QB\", \"QB\", \"QB\", \"QB\", \"QB\", \"QB\", \"QB\", \"QB\", \"QB\", \"QB\", \"QB\", \"QB\", \"QB\", \"QB\", \"QB\", \"QB\", \"QB\", \"QB\", \"QB\", \"QB\", \"QB\", \"QB\", \"QB\", \"QB\", \"QB\", \"QB\", \"QB\", \"QB\", \"QB\", \"QB\", \"QB\", \"QB\", \"QB\", \"QB\", \"QB\", \"QB\", \"QB\", \"QB\", \"QB\", \"QB\", \"QB\", \"QB\", \"QB\", \"QB\", \"QB\", \"QB\", \"QB\", \"QB\", \"QB\", \"QB\", \"QB\", \"QB\", \"QB\", \"QB\", \"QB\", \"QB\", \"QB\", \"QB\", \"QB\", \"QB\", \"QB\", \"QB\", \"QB\", \"QB\", \"QB\", \"QB\", \"QB\", \"QB\"], \"x0\": \" \", \"xaxis\": \"x\", \"y\": [2.421139172988783, 2.3556908233528655, 2.2807819302861643, 2.099790878093948, 1.917404008018501, 1.8133380302798745, 1.811321848892986, 1.8048080321045774, 1.5616255386706481, 1.5523200861157784, 1.5403780886703622, 1.3975393919531116, 1.2174788850163822, 1.1396232653073053, 1.0788276419488232, 1.0220643813641177, 0.9868587525315271, 0.9631298485166093, 0.917378040121833, 0.7736087981490956, 0.6306150105559306, 0.41193687551649183, 0.3798330642021911, 0.3726988839101244, 0.34928016164703546, 0.31004217004066803, 0.30120199011354193, 0.23621891310536805, 0.13944220653472283, 0.12145166492864139, 0.08019749193538547, 0.057709314927783674, 0.024830049233910523, -0.07442811135136668, -0.12095537412571539, -0.2909349741280026, -0.38259368179346953, -0.44369948690378086, -0.45052348544401866, -0.4599840288748029, -0.5007729292403152, -0.5182981982186532, -0.5286892869049244, -0.5452840106277755, -0.6501254427459745, -0.6792825274178997, -0.7089048847175684, -0.7397679690245531, -0.7472123310684489, -0.7481428763239358, -0.7611705099007535, -0.7734226890979986, -0.775438870484887, -0.779471233258664, -0.7861401409229873, -0.7872257770543888, -0.8055265004122992, -0.8061468639159572, -0.8193295883686894, -0.8427483106317782, -0.8576370347195698, -0.8594981252305437, -0.8638406697561496, -0.8660119420189525, -0.8678730325299264, -0.8681832142817555, -0.869889213916815, -0.8714401226759599, -0.8736113949387628, -0.8737664858146773, -0.8740766675665064, -0.8745419401942498, -0.8764030307052237, -0.8768683033329673, -0.8770233942088818, -0.8815210296104021, -0.8883450281506399, -0.904009206618004, -0.9050948427494055, -0.9147104770561042], \"y0\": \" \", \"yaxis\": \"y\"}, {\"alignmentgroup\": \"True\", \"boxpoints\": \"all\", \"customdata\": [[\"Chiefs, Kansas City KCC Off\", 138.1, 9.207, null, null], [\"Cardinals, Arizona ARI Off\", 132.6, 8.84, null, null], [\"Bills, Buffalo BUF Off\", 131.8, 8.787, null, null], [\"Colts, Indianapolis IND Off\", 129.0, 8.6, null, null], [\"Steelers, Pittsburgh PIT Off\", 127.8, 8.52, null, null], [\"Packers, Green Bay GBP Off\", 127.3, 8.487, null, null], [\"Raiders, Las Vegas LVR Off\", 126.3, 8.42, null, null], [\"Titans, Tennessee TEN Off\", 123.0, 8.2, null, null], [\"Rams, Los Angeles LAR Off\", 122.4, 8.16, null, null], [\"Browns, Cleveland CLE Off\", 122.2, 8.147, null, null], [\"Chargers, Los Angeles LAC Off\", 122.0, 8.133, null, null], [\"Saints, New Orleans NOS Off\", 121.6, 8.107000000000001, null, null], [\"Buccaneers, Tampa Bay TBB Off\", 119.8, 7.987, null, null], [\"Ravens, Baltimore BAL Off\", 105.9, 7.06, null, null], [\"Falcons, Atlanta ATL Off\", 104.3, 6.952999999999999, null, null], [\"Cowboys, Dallas DAL Off\", 99.6, 6.64, null, null], [\"Vikings, Minnesota MIN Off\", 99.2, 6.6129999999999995, null, null], [\"Panthers, Carolina CAR Off\", 98.8, 6.587000000000001, null, null], [\"Dolphins, Miami MIA Off\", 95.2, 6.347, null, null], [\"Patriots, New England NEP Off\", 88.6, 5.907, null, null], [\"49ers, San Francisco SFO Off\", 85.9, 5.727, null, null], [\"Bears, Chicago CHI Off\", 83.6, 5.5729999999999995, null, null], [\"Broncos, Denver DEN Off\", 83.5, 5.567, null, null], [\"Lions, Detroit DET Off\", 82.3, 5.487, null, null], [\"Jaguars, Jacksonville JAC Off\", 81.5, 5.433, null, null], [\"Seahawks, Seattle SEA Off\", 76.5, 5.1, null, null], [\"Bengals, Cincinnati CIN Off\", 74.5, 4.967, null, null], [\"FootballTeam, Washington WAS Off\", 73.6, 4.907, null, null], [\"Texans, Houston HOU Off\", 70.7, 4.713, null, null], [\"Giants, New York NYG Off\", 62.5, 4.167, null, null], [\"Eagles, Philadelphia PHI Off\", 56.2, 3.747, null, null], [\"Jets, New York NYJ Off\", 51.4, 3.427, null, null]], \"hovertemplate\": \"position=%{x}<br>z_score=%{y}<br>player_name=%{customdata[0]}<br>total_points=%{customdata[1]}<br>average_points=%{customdata[2]}<br>age=%{customdata[3]}<br>experience_years=%{customdata[4]}<extra></extra>\", \"legendgroup\": \"Off\", \"marker\": {\"color\": \"#FF6692\"}, \"name\": \"Off\", \"notched\": false, \"offsetgroup\": \"Off\", \"orientation\": \"v\", \"showlegend\": true, \"type\": \"box\", \"x\": [\"Off\", \"Off\", \"Off\", \"Off\", \"Off\", \"Off\", \"Off\", \"Off\", \"Off\", \"Off\", \"Off\", \"Off\", \"Off\", \"Off\", \"Off\", \"Off\", \"Off\", \"Off\", \"Off\", \"Off\", \"Off\", \"Off\", \"Off\", \"Off\", \"Off\", \"Off\", \"Off\", \"Off\", \"Off\", \"Off\", \"Off\", \"Off\"], \"x0\": \" \", \"xaxis\": \"x\", \"y\": [1.5217284044641395, 1.298820207056159, 1.2663971965240897, 1.1529166596618445, 1.1042821438637396, 1.084017762281196, 1.0434889991161087, 0.9097440806713204, 0.8854268227722681, 0.8773210701392505, 0.869215317506233, 0.8530038122401978, 0.7800520385430406, 0.21670223054832646, 0.1518562094841863, -0.03862897739172448, -0.054840482657759086, -0.07105198792379427, -0.2169555353181086, -0.48444537220768563, -0.5938730327534211, -0.6870891880331225, -0.691142064349631, -0.739776580147736, -0.7721995906798058, -0.9748434065052427, -1.0559009328354174, -1.0923768196839962, -1.2099102328627493, -1.542246090816466, -1.7975772987565164, -1.9921153619489358], \"y0\": \" \", \"yaxis\": \"y\"}, {\"alignmentgroup\": \"True\", \"boxpoints\": \"all\", \"customdata\": [[\"Adams, Davante GBP WR\", 284.8, 21.908, 28.0, 8.0], [\"Hill, Tyreek KCC WR\", 282.0, 18.8, 27.0, 6.0], [\"Diggs, Stefon BUF WR\", 246.5, 16.433, 27.0, 7.0], [\"Ridley, Calvin ATL WR\", 223.4, 15.957, 26.0, 4.0], [\"Metcalf, DK SEA WR\", 223.2, 14.88, 23.0, 3.0], [\"Hopkins, DeAndre ARI WR\", 220.8, 14.72, 28.0, 9.0], [\"Thielen, Adam MIN WR\", 210.3, 15.020999999999999, 30.0, 8.0], [\"Jefferson, Justin MIN WR\", 210.2, 14.013, 21.0, 2.0], [\"Robinson, Allen CHI WR\", 208.2, 13.88, 27.0, 8.0], [\"Evans, Mike TBB WR\", 199.0, 13.267000000000001, 27.0, 8.0], [\"Allen, Keenan LAC WR\", 192.6, 13.757, 29.0, 9.0], [\"Woods, Robert LAR WR\", 186.0, 12.4, 29.0, 9.0], [\"Lockett, Tyler SEA WR\", 184.26, 12.284, 28.0, 7.0], [\"Cooper, Amari DAL WR\", 183.7, 12.247, 26.0, 7.0], [\"Brown, A.J. TEN WR\", 183.58, 14.122, 23.0, 3.0], [\"Lamb, CeeDee DAL WR\", 173.44, 11.562999999999999, 22.0, 2.0], [\"Johnson, Diontae PIT WR\", 169.98, 12.140999999999998, 24.0, 3.0], [\"Anderson, Robby CAR WR\", 168.1, 11.207, 28.0, 6.0], [\"Kupp, Cooper LAR WR\", 167.7, 11.18, 27.0, 5.0], [\"Smith-Schuster, JuJu PIT WR\", 166.1, 11.073, 24.0, 5.0], [\"Beasley, Cole BUF WR\", 165.5, 11.033, 32.0, 10.0], [\"McLaurin, Terry WAS WR\", 164.8, 11.770999999999999, 25.0, 3.0], [\"Fuller, Will HOU WR\", 163.96, 14.905, 27.0, 6.0], [\"Moore, D.J. CAR WR\", 162.9, 11.636, 24.0, 4.0], [\"Claypool, Chase PIT WR\", 162.3, 10.82, 22.0, 2.0], [\"Cooks, Brandin HOU WR\", 158.4, 11.314, 27.0, 8.0], [\"Higgins, Tee CIN WR\", 156.6, 10.44, 22.0, 2.0], [\"Agholor, Nelson LVR WR\", 155.4, 10.36, 28.0, 7.0], [\"Aiyuk, Brandon SFO WR\", 155.14, 12.927999999999999, 23.0, 2.0], [\"Jones, Marvin DET WR\", 153.8, 10.253, 31.0, 10.0], [\"Samuel, Curtis CAR WR\", 152.5, 10.892999999999999, 24.0, 5.0], [\"Davis, Corey TEN WR\", 152.0, 11.692, 26.0, 5.0], [\"Boyd, Tyler CIN WR\", 147.44, 10.530999999999999, 26.0, 6.0], [\"Brown, Marquise BAL WR\", 138.6, 9.24, 23.0, 3.0], [\"Crowder, Jamison NYJ WR\", 137.74, 12.522, 27.0, 7.0], [\"Gallup, Michael DAL WR\", 134.9, 8.993, 25.0, 4.0], [\"Godwin, Chris TBB WR\", 130.7, 11.882, 25.0, 5.0], [\"Cole, Keelan JAC WR\", 130.4, 8.693, 28.0, 5.0], [\"Landry, Jarvis CLE WR\", 129.36, 9.24, 28.0, 8.0], [\"Patrick, Tim DEN WR\", 128.6, 9.186, 27.0, 5.0], [\"Chark, D.J. JAC WR\", 126.6, 9.738, 24.0, 4.0], [\"Kirk, Christian ARI WR\", 126.48, 9.033999999999999, 24.0, 4.0], [\"Hilton, T.Y. IND WR\", 125.0, 8.929, 31.0, 10.0], [\"Gage, Russell ATL WR\", 124.86, 8.324, 25.0, 4.0], [\"Jones, Julio ATL WR\", 120.6, 13.4, 32.0, 11.0], [\"Hardman, Mecole KCC WR\", 116.8, 7.787000000000001, 23.0, 3.0], [\"Sanders, Emmanuel NOS WR\", 115.0, 8.846, 34.0, 12.0], [\"Parker, DeVante MIA WR\", 114.2, 8.785, 28.0, 7.0], [\"Williams, Mike LAC WR\", 113.9, 8.136000000000001, 26.0, 5.0], [\"Slayton, Darius NYG WR\", 110.8, 7.3870000000000005, 24.0, 3.0], [\"Pascal, Zach IND WR\", 105.8, 7.053, 26.0, 5.0], [\"Renfrow, Hunter LVR WR\", 105.46, 7.031000000000001, 25.0, 3.0], [\"Ward, Greg PHI WR\", 105.04, 7.002999999999999, 25.0, 5.0], [\"Jeudy, Jerry DEN WR\", 104.1, 6.94, 22.0, 2.0], [\"Mooney, Darnell CHI WR\", 104.0, 6.933, 23.0, 2.0], [\"Shenault, Laviska JAC WR\", 104.0, 8.0, 22.0, 2.0], [\"Moore, David SEA WR\", 102.62, 6.841, 26.0, 5.0], [\"Valdes-Scantling, Marquez GBP WR\", 101.7, 6.78, 26.0, 4.0], [\"Shepard, Sterling NYG WR\", 99.4, 9.036, 28.0, 6.0], [\"Davis, Gabriel BUF WR\", 98.7, 6.58, 22.0, 2.0], [\"Meyers, Jakobi NEP WR\", 95.26, 7.327999999999999, 24.0, 3.0], [\"Patterson, Cordarrelle CHI WR\", 93.66, 6.244, 30.0, 9.0], [\"Fulgham, Travis PHI WR\", 93.4, 7.7829999999999995, 25.0, 3.0], [\"Bourne, Kendrick SFO WR\", 91.6, 6.542999999999999, 25.0, 5.0], [\"Higgins, Rashard CLE WR\", 91.4, 7.617000000000001, 26.0, 6.0], [\"Reynolds, Josh LAR WR\", 88.9, 5.9270000000000005, 26.0, 5.0], [\"Grant, Jakeem MIA WR\", 87.36, 6.24, 28.0, 6.0], [\"Byrd, Damiere NEP WR\", 86.8, 5.787000000000001, 28.0, 7.0], [\"Miller, Scott TBB WR\", 85.3, 5.687, 23.0, 3.0], [\"Washington, James PIT WR\", 85.2, 5.68, 25.0, 4.0], [\"Green, A.J. CIN WR\", 84.3, 5.62, 32.0, 11.0], [\"Berrios, Braxton NYJ WR\", 83.82, 5.587999999999999, 25.0, 4.0], [\"Miller, Anthony CHI WR\", 83.74, 5.582999999999999, 26.0, 4.0], [\"Cobb, Randall HOU WR\", 81.6, 8.16, 30.0, 11.0], [\"Smith, Tre'Quan NOS WR\", 80.6, 5.757000000000001, 25.0, 4.0], [\"Guyton, Jalen LAC WR\", 78.6, 5.24, 23.0, 3.0], [\"Lazard, Allen GBP WR\", 78.6, 8.732999999999999, 25.0, 4.0], [\"Perriman, Breshad NYJ WR\", 77.7, 7.064, 27.0, 7.0], [\"Amendola, Danny DET WR\", 77.46, 5.957999999999999, 35.0, 14.0], [\"Snead, Willie BAL WR\", 74.4, 5.723, 28.0, 8.0], [\"Hamler, KJ DEN WR\", 74.02, 5.694, 21.0, 2.0], [\"Ruggs, Henry LVR WR\", 73.44, 6.12, 22.0, 2.0], [\"Beckham, Odell CLE WR\", 71.82, 10.26, 28.0, 8.0], [\"Fitzgerald, Larry ARI WR\", 70.9, 5.454, 37.0, 18.0], [\"Tate, Golden NYG WR\", 70.42, 5.867999999999999, 32.0, 12.0], [\"Robinson, Demarcus KCC WR\", 70.12, 4.675, 26.0, 6.0], [\"Watkins, Sammy KCC WR\", 69.9, 6.99, 27.0, 8.0], [\"Reagor, Jalen PHI WR\", 68.96, 6.896, 22.0, 2.0], [\"Johnson, Tyron LAC WR\", 68.94, 6.267, 25.0, 3.0], [\"Williams, Preston MIA WR\", 67.8, 8.475, 24.0, 3.0], [\"Sims, Cam WAS WR\", 67.7, 4.513, 25.0, 4.0], [\"Duvernay, Devin BAL WR\", 66.46, 4.431, 23.0, 2.0], [\"Samuel, Deebo SFO WR\", 65.2, 9.314, 25.0, 3.0], [\"Brown, John BUF WR\", 65.1, 8.138, 31.0, 8.0], [\"Conley, Chris JAC WR\", 63.9, 4.564, 28.0, 7.0], [\"Thomas, Michael NOS WR\", 63.9, 9.129, 28.0, 6.0], [\"Peoples-Jones, Donovan CLE WR\", 63.88, 5.807, 22.0, 2.0], [\"Brown, Antonio TBB WR\", 62.88, 8.982999999999999, 32.0, 12.0], [\"Pittman, Michael IND WR\", 62.4, 5.2, 23.0, 2.0], [\"Coutee, Keke HOU WR\", 62.22, 8.889, 24.0, 4.0], [\"Harris, Deonte NOS WR\", 59.42, 6.602, 23.0, 3.0], [\"McKenzie, Isaiah BUF WR\", 58.68, 3.912, 26.0, 5.0], [\"Agnew, Jamal DET WR\", 57.5, 4.423, 26.0, 5.0], [\"McCloud, Ray-Ray PIT WR\", 56.02, 3.735, 24.0, 4.0], [\"Golladay, Kenny DET WR\", 55.8, 11.16, 27.0, 5.0], [\"Hall, Marvin CLE WR\", 52.82, 4.402, 28.0, 6.0], [\"Boykin, Miles BAL WR\", 50.3, 3.353, 24.0, 3.0], [\"Wilson, Cedrick DAL WR\", 49.72, 3.315, 25.0, 4.0], [\"Roberts, Andre BUF WR\", 48.98, 3.265, 33.0, 12.0], [\"Harry, N'Keal NEP WR\", 48.7, 3.7460000000000004, 23.0, 3.0], [\"Johnson, Collin JAC WR\", 48.7, 3.4789999999999996, 23.0, 2.0], [\"Olszewski, Gunner NEP WR\", 48.38, 4.032, 24.0, 3.0], [\"Edelman, Julian NEP WR\", 47.22, 7.87, 35.0, 13.0], [\"Hamilton, DaeSean DEN WR\", 47.0, 3.133, 26.0, 4.0], [\"Mims, Denzel NYJ WR\", 46.7, 5.837999999999999, 23.0, 2.0], [\"James, Richie SFO WR\", 46.58, 4.658, 26.0, 4.0], [\"Cephus, Quintez DET WR\", 45.8, 3.8169999999999997, 23.0, 2.0], [\"Humphries, Adam TEN WR\", 45.3, 6.471, 27.0, 7.0], [\"Sims, Steven WAS WR\", 45.18, 4.107, 24.0, 3.0], [\"Isabella, Andy ARI WR\", 44.54, 3.7119999999999997, 24.0, 3.0], [\"Raymond, Kalif TEN WR\", 43.72, 3.123, 26.0, 6.0], [\"Powell, Brandon ATL WR\", 42.4, 2.827, 24.0, 4.0], [\"Zaccheaus, Olamide ATL WR\", 42.4, 3.855, 23.0, 3.0], [\"Swain, Freddie SEA WR\", 42.38, 2.825, 22.0, 2.0], [\"Jackson, DeSean PHI WR\", 39.88, 7.976, 34.0, 14.0], [\"Johnson, Marcus FA WR\", 38.5, 3.5, 26.0, 6.0], [\"Hansen, Chad HOU WR\", 35.5, 8.875, 26.0, 5.0], [\"Inman, Dontrelle WAS WR\", 34.8, 3.867, 32.0, 9.0], [\"Ford, Isaiah MIA WR\", 34.4, 3.822, 25.0, 5.0], [\"Callaway, Marquez NOS WR\", 32.84, 3.284, 23.0, 2.0], [\"Johnson, Tyler TBB WR\", 32.8, 2.523, 22.0, 2.0], [\"Sanu, Mohamed DET WR\", 32.4, 3.6, 31.0, 10.0], [\"Wright, Isaiah WAS WR\", 32.1, 2.469, 24.0, 2.0], [\"Jefferson, Van LAR WR\", 31.42, 2.095, 24.0, 2.0], [\"Hollins, Mack MIA WR\", 31.3, 2.0869999999999997, 27.0, 5.0], [\"Batson, Cameron TEN WR\", 29.24, 2.658, 25.0, 4.0], [\"Beebe, Chad MIN WR\", 28.84, 2.218, 26.0, 4.0], [\"Cooper, Pharoh CAR WR\", 27.96, 1.864, 26.0, 6.0], [\"Spencer, Diontae DEN WR\", 27.94, 2.7939999999999996, 29.0, 8.0], [\"Johnson, Olabisi MIN WR\", 26.4, 1.76, 24.0, 3.0], [\"Erickson, Alex CIN WR\", 26.18, 1.745, 28.0, 6.0], [\"Pringle, Byron KCC WR\", 26.18, 2.182, 27.0, 4.0], [\"Stills, Kenny BUF WR\", 25.9, 2.59, 29.0, 9.0], [\"Mickens, Jaydon TBB WR\", 25.82, 2.8689999999999998, 27.0, 6.0], [\"Jones, Zay LVR WR\", 25.36, 1.6909999999999998, 26.0, 5.0], [\"Reed, Joe LAC WR\", 25.3, 2.53, 23.0, 2.0], [\"Smith, Jeff NYJ WR\", 25.2, 2.291, 24.0, 3.0], [\"Webster, Nsimba LAR WR\", 24.9, 1.66, 25.0, 3.0], [\"Hightower, John PHI WR\", 24.7, 2.0580000000000003, 24.0, 2.0], [\"Watson, Justin TBB WR\", 24.66, 2.4659999999999997, 26.0, 4.0], [\"Brown, Noah DAL WR\", 24.3, 1.62, 23.0, 5.0], [\"St. Brown, Equanimeous GBP WR\", 23.9, 2.173, 24.0, 4.0], [\"Thomas, Mike CIN WR\", 23.3, 1.7919999999999998, 26.0, 6.0], [\"Johnson, KeeSean ARI WR\", 22.5, 3.214, 24.0, 3.0], [\"Taylor, Malik GBP WR\", 22.02, 1.5730000000000002, 25.0, 3.0], [\"Hodge, KhaDarel CLE WR\", 21.5, 2.688, 26.0, 4.0], [\"Tate, Auden CIN WR\", 20.5, 2.278, 24.0, 4.0], [\"Watkins, Quez PHI WR\", 19.0, 3.8, 22.0, 2.0], [\"Board, C.J. NYG WR\", 18.8, 1.446, 27.0, 5.0], [\"Edwards, Bryan LVR WR\", 18.7, 1.7, 22.0, 2.0], [\"Blake, Christian ATL WR\", 18.6, 1.24, 24.0, 4.0], [\"Jeffery, Alshon PHI WR\", 18.5, 2.6430000000000002, 31.0, 10.0], [\"Bryant, Dez BAL WR\", 18.2, 3.64, 32.0, 12.0], [\"Harris, De'Michael IND WR\", 17.5, 2.5, 22.0, 2.0], [\"Treadwell, Laquon ATL WR\", 17.4, 4.35, 25.0, 6.0], [\"Hogan, Chris FA WR\", 16.3, 3.26, 32.0, 11.0], [\"Taylor, Trent SFO WR\", 16.08, 1.34, 27.0, 5.0], [\"Dulin, Ashton IND WR\", 15.12, 1.26, 24.0, 3.0], [\"Shepherd, Darrius FA WR\", 14.42, 1.8030000000000002, 25.0, 3.0], [\"Cleveland, Tyrie DEN WR\", 13.66, 1.518, 23.0, 2.0], [\"Arcega-Whiteside, JJ PHI WR\", 13.5, 1.929, 24.0, 3.0], [\"Carter, DeAndre CHI WR\", 12.34, 1.028, 28.0, 7.0], [\"Osborn, K.J. MIN WR\", 11.7, 1.3, 23.0, 2.0], [\"Zylstra, Brandon CAR WR\", 11.34, 0.7559999999999999, 28.0, 4.0], [\"Mack, Austin NYG WR\", 11.2, 1.12, null, null], [\"Malone, Josh NYJ WR\", 10.4, 2.6, 25.0, 5.0], [\"Hill, K.J. LAC WR\", 10.32, 0.737, 23.0, 2.0], [\"Campbell, Parris IND WR\", 10.2, 5.1, 23.0, 3.0], [\"Humphrey, Lil'Jordan NOS WR\", 9.9, 4.95, 23.0, 3.0], [\"Proche, James BAL WR\", 9.82, 0.701, 24.0, 2.0], [\"Sutton, Courtland DEN WR\", 9.1, 9.1, 25.0, 4.0], [\"Kumerow, Jake BUF WR\", 8.7, 1.45, 29.0, 5.0], [\"Sherfield, Trent ARI WR\", 8.6, 0.614, 25.0, 4.0], [\"Wims, Javon CHI WR\", 8.5, 0.708, 26.0, 4.0], [\"Moncrief, Donte NEP WR\", 8.36, 1.672, 27.0, 8.0], [\"Westbrook, Nick TEN WR\", 7.3, 0.608, 24.0, 2.0], [\"Bradley, Ja'Marcus CLE WR\", 6.5, 6.5, 24.0, 2.0], [\"Zuber, Isaiah NEP WR\", 6.5, 1.625, 24.0, 2.0], [\"Ridley, Riley CHI WR\", 5.9, 1.18, 24.0, 3.0], [\"Hart, Penny SEA WR\", 5.7, 0.475, 24.0, 3.0], [\"Cracraft, River SFO WR\", 5.56, 0.695, 26.0, 5.0], [\"Mitchell, Steven HOU WR\", 5.5, 1.1, 27.0, 4.0], [\"Foster, Robert WAS WR\", 5.2, 1.3, 27.0, 4.0], [\"Johnson, Juwan NOS WR\", 5.0, 0.833, 24.0, 2.0], [\"Cager, Lawrence NYJ WR\", 4.5, 2.25, 23.0, 2.0], [\"Callaway, Antonio KCC WR\", 4.48, 0.8959999999999999, 24.0, 4.0], [\"Ginn Jr., Ted FA WR\", 4.46, 0.743, 36.0, 15.0], [\"Westbrook, Dede JAC WR\", 4.22, 2.11, 27.0, 5.0], [\"Kemp, Marcus KCC WR\", 4.1, 0.41, 25.0, 5.0], [\"Austin, Tavon GBP WR\", 3.58, 1.193, 30.0, 9.0], [\"Pettis, Dante NYG WR\", 3.58, 0.597, 25.0, 4.0], [\"Roberts, Seth FA WR\", 3.5, 0.5, 30.0, 8.0], [\"Burnett, Deontay PHI WR\", 3.4, 1.7, 23.0, 4.0], [\"Fountain, Daurice IND WR\", 3.3, 0.66, 25.0, 4.0], [\"Fowler, Bennie NOS WR\", 3.1, 0.62, 29.0, 8.0], [\"Gandy-Golden, Antonio WAS WR\", 3.0, 0.5, 23.0, 2.0], [\"Ratley, Damion HOU WR\", 2.8, 0.56, 26.0, 4.0], [\"Natson, JoJo CLE WR\", 2.54, 0.847, 27.0, 6.0], [\"Chisena, Dan MIN WR\", 2.5, 0.192, 24.0, 2.0], [\"Smith, Vyncint NYJ WR\", 2.38, 0.397, 24.0, 4.0], [\"Scott, Jaleel NYJ WR\", 2.1, 2.1, 26.0, 4.0], [\"Morgan, Stanley CIN WR\", 2.0, 0.4, 23.0, 3.0], [\"Kirkwood, Keith CAR WR\", 1.8, 1.8, 27.0, 4.0], [\"Hollister, Cody TEN WR\", 1.7, 0.85, 27.0, 5.0], [\"Harris, Dwayne CHI WR\", 1.24, 0.413, 33.0, 11.0], [\"Ross, John CIN WR\", 1.2, 0.4, 25.0, 5.0], [\"Carr, Austin FA WR\", 1.14, 0.228, 27.0, 5.0], [\"Moore, Chris BAL WR\", 1.0, 0.5, 27.0, 6.0], [\"Slater, Matt NEP WR\", 1.0, 0.067, 35.0, 14.0], [\"Turner, Malik DAL WR\", 1.0, 0.2, 25.0, 4.0], [\"Godwin, Terry JAC WR\", 0.8, 0.4, 24.0, 3.0], [\"White, Kevin SFO WR\", 0.8, 0.267, 28.0, 7.0], [\"Gafford, Rico ARI WR\", 0.48, 0.16, 25.0, 4.0], [\"Quinn, Trey LVR WR\", 0.24, 0.24, 25.0, 4.0], [\"Bachman, Alex NYG WR\", 0.0, 0.0, 24.0, 3.0], [\"Badet, Jeff WAS WR\", 0.0, 0.0, 26.0, 4.0], [\"Begelton, Reggie GBP WR\", 0.0, 0.0, 27.0, 3.0], [\"Brown, Tony WAS WR\", 0.0, 0.0, 23.0, 2.0], [\"Cain, Deon BAL WR\", 0.0, 0.0, 24.0, 4.0], [\"Coulter, Isaiah HOU WR\", 0.0, 0.0, null, null], [\"Dieter, Gehrig KCC WR\", 0.0, 0.0, 28.0, 5.0], [\"Doss, Keelan LVR WR\", 0.0, 0.0, 25.0, 3.0], [\"Holton, Johnny NYG WR\", 0.0, 0.0, 29.0, 6.0], [\"Matthews, Jordan SFO WR\", 0.0, 0.0, 28.0, 8.0], [\"Merritt, Kirk MIA WR\", 0.0, 0.0, 24.0, 2.0], [\"Moore, Jason LAC WR\", 0.0, 0.0, 25.0, 3.0], [\"Rowland, Chris ATL WR\", 0.0, 0.0, 23.0, 2.0], [\"Sharpe, Tajae FA WR\", 0.0, 0.0, 26.0, 6.0], [\"Taylor, Taywan CLE WR\", 0.0, 0.0, 26.0, 5.0], [\"Williams, Duke BUF WR\", 0.0, 0.0, 28.0, 4.0], [\"Willies, Derrick CLE WR\", 0.0, 0.0, 26.0, 4.0], [\"Winfree, Juwann GBP WR\", 0.0, 0.0, 24.0, 3.0], [\"Butler, Hakeem PHI WR\", 0.0, 0.0, 25.0, 3.0]], \"hovertemplate\": \"position=%{x}<br>z_score=%{y}<br>player_name=%{customdata[0]}<br>total_points=%{customdata[1]}<br>average_points=%{customdata[2]}<br>age=%{customdata[3]}<br>experience_years=%{customdata[4]}<extra></extra>\", \"legendgroup\": \"WR\", \"marker\": {\"color\": \"#B6E880\"}, \"name\": \"WR\", \"notched\": false, \"offsetgroup\": \"WR\", \"orientation\": \"v\", \"showlegend\": true, \"type\": \"box\", \"x\": [\"WR\", \"WR\", \"WR\", \"WR\", \"WR\", \"WR\", \"WR\", \"WR\", \"WR\", \"WR\", \"WR\", \"WR\", \"WR\", \"WR\", \"WR\", \"WR\", \"WR\", \"WR\", \"WR\", \"WR\", \"WR\", \"WR\", \"WR\", \"WR\", \"WR\", \"WR\", \"WR\", \"WR\", \"WR\", \"WR\", \"WR\", \"WR\", \"WR\", \"WR\", \"WR\", \"WR\", \"WR\", \"WR\", \"WR\", \"WR\", \"WR\", \"WR\", \"WR\", \"WR\", \"WR\", \"WR\", \"WR\", \"WR\", \"WR\", \"WR\", \"WR\", \"WR\", \"WR\", \"WR\", \"WR\", \"WR\", \"WR\", \"WR\", \"WR\", \"WR\", \"WR\", \"WR\", \"WR\", \"WR\", \"WR\", \"WR\", \"WR\", \"WR\", \"WR\", \"WR\", \"WR\", \"WR\", \"WR\", \"WR\", \"WR\", \"WR\", \"WR\", \"WR\", \"WR\", \"WR\", \"WR\", \"WR\", \"WR\", \"WR\", \"WR\", \"WR\", \"WR\", \"WR\", \"WR\", \"WR\", \"WR\", \"WR\", \"WR\", \"WR\", \"WR\", \"WR\", \"WR\", \"WR\", \"WR\", \"WR\", \"WR\", \"WR\", \"WR\", \"WR\", \"WR\", \"WR\", \"WR\", \"WR\", \"WR\", \"WR\", \"WR\", \"WR\", \"WR\", \"WR\", \"WR\", \"WR\", \"WR\", \"WR\", \"WR\", \"WR\", \"WR\", \"WR\", \"WR\", \"WR\", \"WR\", \"WR\", \"WR\", \"WR\", \"WR\", \"WR\", \"WR\", \"WR\", \"WR\", \"WR\", \"WR\", \"WR\", \"WR\", \"WR\", \"WR\", \"WR\", \"WR\", \"WR\", \"WR\", \"WR\", \"WR\", \"WR\", \"WR\", \"WR\", \"WR\", \"WR\", \"WR\", \"WR\", \"WR\", \"WR\", \"WR\", \"WR\", \"WR\", \"WR\", \"WR\", \"WR\", \"WR\", \"WR\", \"WR\", \"WR\", \"WR\", \"WR\", \"WR\", \"WR\", \"WR\", \"WR\", \"WR\", \"WR\", \"WR\", \"WR\", \"WR\", \"WR\", \"WR\", \"WR\", \"WR\", \"WR\", \"WR\", \"WR\", \"WR\", \"WR\", \"WR\", \"WR\", \"WR\", \"WR\", \"WR\", \"WR\", \"WR\", \"WR\", \"WR\", \"WR\", \"WR\", \"WR\", \"WR\", \"WR\", \"WR\", \"WR\", \"WR\", \"WR\", \"WR\", \"WR\", \"WR\", \"WR\", \"WR\", \"WR\", \"WR\", \"WR\", \"WR\", \"WR\", \"WR\", \"WR\", \"WR\", \"WR\", \"WR\", \"WR\", \"WR\", \"WR\", \"WR\", \"WR\", \"WR\", \"WR\", \"WR\", \"WR\", \"WR\", \"WR\", \"WR\", \"WR\", \"WR\", \"WR\", \"WR\", \"WR\", \"WR\", \"WR\", \"WR\", \"WR\", \"WR\", \"WR\", \"WR\", \"WR\", \"WR\"], \"x0\": \" \", \"xaxis\": \"x\", \"y\": [3.5477868559358794, 3.5033011070526925, 2.939285362283716, 2.5722779339974244, 2.5691003805057675, 2.530969738605893, 2.3641481802939426, 2.362559403548114, 2.330783868631552, 2.1846164080153665, 2.0829346962823685, 1.9780754310577136, 1.9504307156803042, 1.941533565903667, 1.9396270338086736, 1.7785250717817036, 1.7235533963760512, 1.693684393554483, 1.6873292865711704, 1.661908858637921, 1.6523761981629523, 1.6412547609421557, 1.6279090362771997, 1.6110680027714217, 1.6015353422964531, 1.539573049209157, 1.510975067784251, 1.4919097468343139, 1.4877789272951607, 1.4664893189010644, 1.445835221205299, 1.4378913374761584, 1.3654431178663968, 1.2249952535351925, 1.211331773521071, 1.1662105139395529, 1.0994818906147723, 1.0947155603772882, 1.078192282220676, 1.0661175789523822, 1.0343420440358202, 1.0324355119408266, 1.0089216161025705, 1.006697328658411, 0.9390154392861338, 0.878641922944666, 0.8500439415197603, 0.8373337275531354, 0.8325673973156512, 0.7833153181949798, 0.7038764809035747, 0.698474639967759, 0.6918017776352813, 0.6768672762244968, 0.6752784994786689, 0.6752784994786689, 0.6533533803862411, 0.6387366343246226, 0.6021947691705762, 0.5910733319497794, 0.5364194118932927, 0.510998983960043, 0.50686816442089, 0.47827018299598395, 0.47509262950432796, 0.43537321085862535, 0.4109060489728725, 0.40200889919623506, 0.3781772480088135, 0.3765884712629855, 0.3622894805505325, 0.35466335217055756, 0.3533923307738951, 0.3193925084131737, 0.3035047409548926, 0.27172920603833056, 0.27172920603833056, 0.2574302153258778, 0.2536171511358902, 0.2050005827135504, 0.19896323107940347, 0.1897483259536005, 0.16401014267118516, 0.1493933966095668, 0.14176726822959185, 0.13700093799210758, 0.13350562915128578, 0.11857112774050141, 0.11825337239133585, 0.10014131748889546, 0.09855254074306745, 0.07885170909479883, 0.058833122097364875, 0.057244345351536635, 0.03817902440159946, 0.03817902440159946, 0.03786126905243391, 0.021973501594152876, 0.014347373214177917, 0.011487575071687335, -0.032998173811499505, -0.044755121730627505, -0.06350268733139912, -0.08701658316965499, -0.09051189201047692, -0.13785743903615433, -0.17789461303102258, -0.18710951815682555, -0.19886646607595357, -0.20331504096427216, -0.20331504096427216, -0.20839912655092208, -0.22682893680252814, -0.23032424564334994, -0.2350905758808342, -0.23699710797582801, -0.24938956659328723, -0.25733345032242777, -0.2592399824174214, -0.2694081535907213, -0.28243612290651177, -0.3034079759514427, -0.3034079759514427, -0.30372573130060826, -0.34344514994631087, -0.3653702690387387, -0.4130335714135818, -0.4241550086343786, -0.430510115617691, -0.4552950328526093, -0.45593054355094065, -0.462285650534253, -0.4670519807717373, -0.4778556626433684, -0.4797621947383621, -0.5124909957024212, -0.5188461026857334, -0.5328273380490208, -0.5331450933981865, -0.5576122552839392, -0.561107564124761, -0.561107564124761, -0.5655561390130798, -0.5668271604097422, -0.5741355334405515, -0.5750887994880484, -0.5766775762338764, -0.5814439064713608, -0.584621459963017, -0.5852569706613483, -0.5909765669463294, -0.5973316739296418, -0.6068643344046104, -0.6195745483712353, -0.6272006767512102, -0.6354623158295163, -0.6513500832877973, -0.6751817344752188, -0.6783592879668751, -0.6799480647127031, -0.6815368414585312, -0.6831256182043594, -0.6878919484418436, -0.6990133856626404, -0.7006021624084685, -0.7180787066125777, -0.7215740154533995, -0.7368262722133493, -0.7479477094341459, -0.7600224127024396, -0.7625644554957646, -0.7809942657473704, -0.7911624369206703, -0.7968820332056515, -0.7991063206498108, -0.8118165346164358, -0.8130875560130982, -0.8149940881080919, -0.8197604183455762, -0.8210314397422387, -0.8324706323122011, -0.8388257392955134, -0.8404145160413415, -0.8420032927871697, -0.844227580231329, -0.861068613737107, -0.8737788277037317, -0.8737788277037317, -0.8833114881787004, -0.8864890416703565, -0.8887133291145158, -0.8896665951620127, -0.894432925399497, -0.8976104788911533, -0.9055543626202938, -0.9058721179694593, -0.906189873318625, -0.9100029375086125, -0.9119094696036062, -0.9201711086819124, -0.9201711086819124, -0.9214421300785748, -0.9230309068244029, -0.924619683570231, -0.9277972370618872, -0.9293860138077153, -0.9325635672993716, -0.9366943868385247, -0.9373298975368559, -0.9392364296318495, -0.9436850045201682, -0.9452737812659964, -0.9484513347576526, -0.9500401115034807, -0.9573484845342899, -0.9579839952326211, -0.958937261280118, -0.9611615487242774, -0.9611615487242774, -0.9611615487242774, -0.9643391022159337, -0.9643391022159337, -0.9694231878025836, -0.9732362519925709, -0.9770493161825584, -0.9770493161825584, -0.9770493161825584, -0.9770493161825584, -0.9770493161825584, -0.9770493161825584, -0.9770493161825584, -0.9770493161825584, -0.9770493161825584, -0.9770493161825584, -0.9770493161825584, -0.9770493161825584, -0.9770493161825584, -0.9770493161825584, -0.9770493161825584, -0.9770493161825584, -0.9770493161825584, -0.9770493161825584, -0.9770493161825584], \"y0\": \" \", \"yaxis\": \"y\"}, {\"alignmentgroup\": \"True\", \"boxpoints\": \"all\", \"customdata\": [[\"Bowden, Lynn MIA RB\", 31.6, 3.511, 23.0, 2.0], [\"Perry, Malcolm MIA RB\", 11.2, 1.4, 24.0, 2.0], [\"Kamara, Alvin NOS RB\", 336.56, 22.436999999999998, 25.0, 5.0], [\"Cook, Dalvin MIN RB\", 311.8, 22.271, 25.0, 5.0], [\"Henry, Derrick TEN RB\", 287.1, 19.14, 27.0, 6.0], [\"Robinson, James JAC RB\", 218.9, 15.636, 22.0, 2.0], [\"Montgomery, David CHI RB\", 215.1, 15.364, 23.0, 3.0], [\"Jones, Aaron GBP RB\", 214.9, 16.531, 26.0, 5.0], [\"Taylor, Jonathan IND RB\", 197.9, 14.136, 22.0, 2.0], [\"Hunt, Kareem CLE RB\", 191.9, 12.793, 25.0, 5.0], [\"Jacobs, Josh LVR RB\", 191.4, 13.671, 23.0, 3.0], [\"Elliott, Ezekiel DAL RB\", 183.1, 13.079, 25.0, 6.0], [\"Chubb, Nick CLE RB\", 182.9, 16.627, 25.0, 4.0], [\"Davis, Mike CAR RB\", 177.4, 11.827, 28.0, 7.0], [\"Gibson, Antonio WAS RB\", 175.6, 13.508, 22.0, 2.0], [\"Drake, Kenyan ARI RB\", 167.1, 11.936, 27.0, 6.0], [\"Gordon, Melvin DEN RB\", 165.4, 11.814, 28.0, 7.0], [\"Hines, Nyheim IND RB\", 164.2, 10.947000000000001, 24.0, 4.0], [\"Jones, Ronald TBB RB\", 158.5, 12.192, 23.0, 4.0], [\"Carson, Chris SEA RB\", 158.0, 14.364, 26.0, 5.0], [\"Edwards-Helaire, Clyde KCC RB\", 157.0, 12.077, 22.0, 2.0], [\"Sanders, Miles PHI RB\", 154.4, 12.867, 24.0, 3.0], [\"Edmonds, Chase ARI RB\", 151.68, 10.112, 25.0, 4.0], [\"Swift, D'Andre DET RB\", 150.3, 12.525, 22.0, 2.0], [\"Johnson, David HOU RB\", 142.0, 12.909, 29.0, 7.0], [\"McKissic, J.D. WAS RB\", 141.9, 9.46, 27.0, 6.0], [\"Gurley, Todd ATL RB\", 141.2, 10.086, 26.0, 7.0], [\"Bernard, Giovani CIN RB\", 136.42, 9.095, 29.0, 9.0], [\"Conner, James PIT RB\", 135.9, 11.325, 26.0, 5.0], [\"Pollard, Tony DAL RB\", 132.1, 8.807, 24.0, 3.0], [\"Gaskin, Myles MIA RB\", 128.0, 14.222000000000001, 24.0, 3.0], [\"Dobbins, J.K. BAL RB\", 127.5, 9.107000000000001, 22.0, 2.0], [\"Ekeler, Austin LAC RB\", 123.2, 13.689, 26.0, 5.0], [\"Murray, Latavius NOS RB\", 122.7, 8.18, 31.0, 9.0], [\"Henderson, Darrell LAR RB\", 122.3, 8.152999999999999, 23.0, 3.0], [\"Edwards, Gus BAL RB\", 121.2, 8.08, 26.0, 4.0], [\"McKinnon, Jerick SFO RB\", 121.16, 8.077, 29.0, 8.0], [\"Gallman, Wayne NYG RB\", 120.1, 8.579, 26.0, 5.0], [\"Singletary, Devin BUF RB\", 119.3, 7.952999999999999, 23.0, 3.0], [\"Wilson, Jeffery SFO RB\", 115.5, 10.5, 25.0, 4.0], [\"Williams, Jamaal GBP RB\", 111.8, 8.6, 26.0, 5.0], [\"Fournette, Leonard TBB RB\", 110.3, 9.192, 26.0, 5.0], [\"Peterson, Adrian DET RB\", 106.2, 7.08, 36.0, 15.0], [\"Brown, Malcolm LAR RB\", 96.3, 6.42, 28.0, 7.0], [\"Burkhead, Rex NEP RB\", 95.1, 9.51, 30.0, 9.0], [\"Scott, Boston PHI RB\", 93.8, 6.252999999999999, 26.0, 4.0], [\"Gore, Frank NYJ RB\", 92.2, 6.147, 38.0, 17.0], [\"Mostert, Raheem SFO RB\", 91.7, 11.462, 29.0, 7.0], [\"Mixon, Joe CIN RB\", 90.1, 15.017000000000001, 24.0, 5.0], [\"Moss, Zack BUF RB\", 89.5, 7.457999999999999, 23.0, 2.0], [\"Akers, Cam LAR RB\", 87.7, 7.308, 21.0, 2.0], [\"Harris, Damien NEP RB\", 86.8, 8.68, 24.0, 3.0], [\"McCaffrey, Christian CAR RB\", 83.4, 27.8, 24.0, 5.0], [\"White, James NEP RB\", 80.0, 6.154, 29.0, 8.0], [\"Hyde, Carlos SEA RB\", 74.9, 7.49, 30.0, 8.0], [\"Booker, Devontae LVR RB\", 73.76, 4.917, 28.0, 6.0], [\"Kelley, Joshua LAC RB\", 72.26, 5.558, 23.0, 2.0], [\"Hill, Brian ATL RB\", 71.3, 4.753, 25.0, 5.0], [\"Snell, Benny PIT RB\", 70.9, 4.727, 23.0, 3.0], [\"Juszczyk, Kyle SFO RB\", 69.2, 4.613, 30.0, 9.0], [\"Johnson, Duke HOU RB\", 68.4, 6.218, 27.0, 7.0], [\"Ballage, Kalen LAC RB\", 67.8, 6.78, 25.0, 4.0], [\"Lindsay, Phillip DEN RB\", 63.5, 5.773, 26.0, 4.0], [\"Lewis, Dion NYG RB\", 63.0, 4.2, 30.0, 11.0], [\"Johnson, Kerryon DET RB\", 62.3, 4.1530000000000005, 23.0, 4.0], [\"Bell, Le'Veon KCC RB\", 61.1, 5.555, 29.0, 9.0], [\"Perine, Samaje CIN RB\", 58.12, 3.875, 25.0, 5.0], [\"Wilkins, Jordan IND RB\", 57.42, 3.8280000000000003, 26.0, 4.0], [\"Barber, Peyton WAS RB\", 54.0, 3.6, 26.0, 6.0], [\"Mattison, Alexander MIN RB\", 52.4, 4.367, 22.0, 3.0], [\"Johnson, Ty NYJ RB\", 51.76, 4.313, 23.0, 3.0], [\"Michel, Sony NEP RB\", 50.7, 6.337000000000001, 26.0, 4.0], [\"Dallas, DeeJay SEA RB\", 49.9, 4.158, 22.0, 2.0], [\"Ahmed, Salvon MIA RB\", 49.7, 9.94, 22.0, 2.0], [\"Perine, Lamical NYJ RB\", 48.88, 4.888, 23.0, 2.0], [\"Richard, Jalen LVR RB\", 47.5, 3.654, 27.0, 6.0], [\"Ingram, Mark FA RB\", 46.0, 4.6, 31.0, 11.0], [\"Smith, Ito ATL RB\", 45.7, 3.515, 25.0, 4.0], [\"Williams, Darrel KCC RB\", 44.8, 2.987, 26.0, 4.0], [\"Homer, Travis SEA RB\", 42.94, 4.771, 22.0, 3.0], [\"Jackson, Justin LAC RB\", 42.4, 5.3, 26.0, 4.0], [\"Dillon, AJ GBP RB\", 39.0, 3.9, 23.0, 2.0], [\"Morris, Alfred NYG RB\", 38.0, 4.75, 32.0, 10.0], [\"McNichols, Jeremy TEN RB\", 37.9, 2.5269999999999997, 25.0, 5.0], [\"Breida, Matt MIA RB\", 37.0, 3.364, 26.0, 5.0], [\"Thompson, Chris JAC RB\", 32.6, 4.075, 30.0, 9.0], [\"Freeman, Devonta FA RB\", 32.5, 6.5, 29.0, 8.0], [\"Freeman, Royce DEN RB\", 31.4, 2.093, 25.0, 4.0], [\"Hasty, JaMycal SFO RB\", 29.88, 3.735, 24.0, 2.0], [\"Abdullah, Ameer MIN RB\", 29.6, 1.973, 27.0, 7.0], [\"Ervin, Tyler GBP RB\", 29.24, 3.655, 27.0, 6.0], [\"Johnson, D'Ernest CLE RB\", 28.28, 1.885, 25.0, 3.0], [\"Howard, Jordan PHI RB\", 28.2, 4.029, 26.0, 6.0], [\"Ogunbowale, Dare JAC RB\", 24.44, 1.88, 27.0, 5.0], [\"Ingold, Alec LVR RB\", 24.4, 1.6269999999999998, 24.0, 3.0], [\"Adams, Josh NYJ RB\", 23.2, 3.3139999999999996, 24.0, 4.0], [\"Evans, Darrynton TEN RB\", 22.7, 5.675, 22.0, 2.0], [\"Ham, C.J. MIN RB\", 21.84, 1.56, 27.0, 6.0], [\"Vaughn, Ke'Shawn TBB RB\", 20.8, 2.311, 24.0, 2.0], [\"Boone, Mike MIN RB\", 20.18, 1.345, 25.0, 4.0], [\"Nall, Ryan CHI RB\", 20.1, 1.34, 25.0, 4.0], [\"McCoy, LeSean TBB RB\", 19.2, 1.92, 32.0, 13.0], [\"Clement, Corey PHI RB\", 19.18, 1.37, 26.0, 5.0], [\"Smith, Rodney CAR RB\", 19.1, 3.1830000000000003, 25.0, 2.0], [\"McFarland, Anthony PIT RB\", 18.0, 1.8, 22.0, 2.0], [\"Nabers, Gabe LAC RB\", 17.5, 1.167, 23.0, 2.0], [\"Bonnafon, Reggie CAR RB\", 16.7, 8.35, 25.0, 3.0], [\"Foreman, D'Onta TEN RB\", 16.5, 2.75, 25.0, 5.0], [\"Pope, Troymaine FA RB\", 16.36, 2.727, 27.0, 6.0], [\"Laird, Patrick MIA RB\", 16.3, 1.087, 25.0, 3.0], [\"Prosise, C.J. FA RB\", 16.16, 1.6159999999999999, 27.0, 6.0], [\"Watt, Derek PIT RB\", 15.5, 1.409, 28.0, 6.0], [\"Taylor, J.J. NEP RB\", 15.1, 3.02, 23.0, 2.0], [\"Washington, DeAndre MIA RB\", 14.6, 3.65, 28.0, 6.0], [\"Cohen, Tarik CHI RB\", 14.5, 4.833, 25.0, 5.0], [\"Howell, Buddy HOU RB\", 14.2, 1.092, 25.0, 4.0], [\"Cannon, Trenton CAR RB\", 13.78, 1.06, 26.0, 4.0], [\"Yeldon, T.J. BUF RB\", 13.7, 4.567, 27.0, 7.0], [\"Coleman, Tevin SFO RB\", 12.8, 1.829, 28.0, 7.0], [\"Barkley, Saquon NYG RB\", 12.4, 6.2, 24.0, 4.0], [\"Hill, Justice BAL RB\", 11.9, 1.082, 23.0, 3.0], [\"Samuels, Jaylen PIT RB\", 11.9, 0.915, 24.0, 4.0], [\"Collins, Alex SEA RB\", 11.7, 5.85, 26.0, 6.0], [\"Williams, Trayveon CIN RB\", 11.0, 1.222, 23.0, 3.0], [\"Barner, Kenjon TBB RB\", 10.68, 1.78, 32.0, 9.0], [\"Ozigbo, Devine JAC RB\", 10.3, 1.4709999999999999, 24.0, 3.0], [\"Pierce, Artavis CHI RB\", 10.0, 2.5, 25.0, 2.0], [\"Bellore, Nick SEA RB\", 9.9, 0.66, 32.0, 11.0], [\"Smith, Keith ATL RB\", 9.9, 0.66, 29.0, 8.0], [\"Ricard, Patrick BAL RB\", 9.4, 0.6709999999999999, 26.0, 5.0], [\"Penny, Elijhaa NYG RB\", 9.0, 0.643, 27.0, 6.0], [\"Dowdle, Rico DAL RB\", 8.98, 0.6409999999999999, 22.0, 2.0], [\"Blasingame, Khari TEN RB\", 8.84, 0.631, 24.0, 3.0], [\"Hilliard, Dontrell HOU RB\", 8.74, 1.4569999999999999, 26.0, 4.0], [\"Cottrell, Nathan JAC RB\", 8.42, 1.203, 24.0, 2.0], [\"Burton, Michael NOS RB\", 8.0, 0.5329999999999999, 29.0, 7.0], [\"Mack, Marlon IND RB\", 7.1, 7.1, 25.0, 5.0], [\"Johnson, Jakob NEP RB\", 6.6, 0.44, 26.0, 3.0], [\"Sherman, Anthony KCC RB\", 6.5, 0.542, 32.0, 11.0], [\"Walter, Austin SFO RB\", 6.06, 2.02, 24.0, 3.0], [\"Phillips, Scottie HOU RB\", 5.94, 0.8490000000000001, 23.0, 2.0], [\"Janovich, Andy CLE RB\", 5.7, 0.43799999999999994, 28.0, 6.0], [\"Montgomery, Ty NOS RB\", 5.38, 1.0759999999999998, 28.0, 7.0], [\"Armah, Alexander CAR RB\", 5.2, 0.34700000000000003, 27.0, 5.0], [\"Thompson, Darwin KCC RB\", 5.2, 0.4, 24.0, 3.0], [\"Calais, Raymond LAR RB\", 4.44, 1.48, 23.0, 2.0], [\"Foster, D.J. ARI RB\", 4.24, 0.47100000000000003, 27.0, 6.0], [\"Ward, Jonathan ARI RB\", 4.0, 0.308, 23.0, 2.0], [\"Perry, Senorise TEN RB\", 3.4, 0.486, 29.0, 8.0], [\"Scarbrough, Bo SEA RB\", 3.1, 3.1, 24.0, 4.0], [\"Williams, Jonathan WAS RB\", 3.0, 0.6, 27.0, 6.0], [\"Huntley, Jason PHI RB\", 2.84, 0.71, 23.0, 2.0], [\"Washington, Dwayne NOS RB\", 2.24, 0.204, 27.0, 6.0], [\"Riddick, Theo LVR RB\", 2.2, 0.733, 30.0, 9.0], [\"Cox, Jeremy DEN RB\", 2.0, 0.28600000000000003, 24.0, 3.0], [\"Cox, Chandler FA RB\", 1.9, 0.23800000000000002, 24.0, 3.0], [\"Miller, Lamar WAS RB\", 1.6, 1.6, 30.0, 10.0], [\"Penny, Rashaad SEA RB\", 1.5, 0.75, 25.0, 4.0], [\"Reynolds, Craig JAC RB\", 1.2, 0.6, 24.0, 3.0], [\"Williams, Dexter GBP RB\", 0.8, 0.267, 24.0, 3.0], [\"Killins Jr., Adrian FA RB\", 0.7, 0.7, 23.0, 2.0], [\"Jones, Xavier LAR RB\", 0.66, 0.055, 23.0, 2.0], [\"Gillaspia, Cullen HOU RB\", 0.6, 0.086, 26.0, 3.0], [\"Bellamy, LeVante DEN RB\", 0.4, 0.1, 24.0, 2.0], [\"Brooks-James, Tony ATL RB\", 0.4, 0.4, 26.0, 3.0], [\"Ollison, Qadree ATL RB\", 0.3, 0.1, 24.0, 3.0], [\"Bradwell, Darius LAC RB\", 0.0, 0.0, 24.0, 2.0], [\"Holyfield, Elijah PHI RB\", 0.0, 0.0, 23.0, 3.0], [\"Leake, Javon WAS RB\", 0.0, 0.0, 22.0, 2.0], [\"Smallwood, Wendell FA RB\", 0.0, 0.0, 27.0, 6.0], [\"Warren, Michael WAS RB\", 0.0, 0.0, 22.0, 2.0], [\"Olonilua, Sewo DAL RB\", -1.5, -0.75, 23.0, 2.0], [\"Edmunds, Trey PIT RB\", -2.0, -0.5, 26.0, 5.0], [\"Jones, Taiwan BUF RB\", -2.2, -0.16899999999999998, 32.0, 11.0]], \"hovertemplate\": \"position=%{x}<br>z_score=%{y}<br>player_name=%{customdata[0]}<br>total_points=%{customdata[1]}<br>average_points=%{customdata[2]}<br>age=%{customdata[3]}<br>experience_years=%{customdata[4]}<extra></extra>\", \"legendgroup\": \"RB\", \"marker\": {\"color\": \"#FF97FF\"}, \"name\": \"RB\", \"notched\": false, \"offsetgroup\": \"RB\", \"orientation\": \"v\", \"showlegend\": true, \"type\": \"box\", \"x\": [\"RB\", \"RB\", \"RB\", \"RB\", \"RB\", \"RB\", \"RB\", \"RB\", \"RB\", \"RB\", \"RB\", \"RB\", \"RB\", \"RB\", \"RB\", \"RB\", \"RB\", \"RB\", \"RB\", \"RB\", \"RB\", \"RB\", \"RB\", \"RB\", \"RB\", \"RB\", \"RB\", \"RB\", \"RB\", \"RB\", \"RB\", \"RB\", \"RB\", \"RB\", \"RB\", \"RB\", \"RB\", \"RB\", \"RB\", \"RB\", \"RB\", \"RB\", \"RB\", \"RB\", \"RB\", \"RB\", \"RB\", \"RB\", \"RB\", \"RB\", \"RB\", \"RB\", \"RB\", \"RB\", \"RB\", \"RB\", \"RB\", \"RB\", \"RB\", \"RB\", \"RB\", \"RB\", \"RB\", \"RB\", \"RB\", \"RB\", \"RB\", \"RB\", \"RB\", \"RB\", \"RB\", \"RB\", \"RB\", \"RB\", \"RB\", \"RB\", \"RB\", \"RB\", \"RB\", \"RB\", \"RB\", \"RB\", \"RB\", \"RB\", \"RB\", \"RB\", \"RB\", \"RB\", \"RB\", \"RB\", \"RB\", \"RB\", \"RB\", \"RB\", \"RB\", \"RB\", \"RB\", \"RB\", \"RB\", \"RB\", \"RB\", \"RB\", \"RB\", \"RB\", \"RB\", \"RB\", \"RB\", \"RB\", \"RB\", \"RB\", \"RB\", \"RB\", \"RB\", \"RB\", \"RB\", \"RB\", \"RB\", \"RB\", \"RB\", \"RB\", \"RB\", \"RB\", \"RB\", \"RB\", \"RB\", \"RB\", \"RB\", \"RB\", \"RB\", \"RB\", \"RB\", \"RB\", \"RB\", \"RB\", \"RB\", \"RB\", \"RB\", \"RB\", \"RB\", \"RB\", \"RB\", \"RB\", \"RB\", \"RB\", \"RB\", \"RB\", \"RB\", \"RB\", \"RB\", \"RB\", \"RB\", \"RB\", \"RB\", \"RB\", \"RB\", \"RB\", \"RB\", \"RB\", \"RB\", \"RB\", \"RB\", \"RB\", \"RB\", \"RB\", \"RB\", \"RB\", \"RB\", \"RB\", \"RB\", \"RB\", \"RB\", \"RB\", \"RB\", \"RB\"], \"x0\": \" \", \"xaxis\": \"x\", \"y\": [-0.419019829636539, -0.7224027127175947, 4.1162568382261435, 3.74803329974149, 3.3807020638541334, 2.3664514449262906, 2.309938947097466, 2.306964605106476, 2.0541455358722627, 1.9649152761425404, 1.9574794211650635, 1.8340442285389476, 1.831069886547957, 1.7492754817957117, 1.7225064038767948, 1.5960968692596884, 1.5708149623362673, 1.5529689103903224, 1.4682001636470865, 1.4607643086696096, 1.445892598714656, 1.4072261528317764, 1.3667751017543024, 1.3462521420164664, 1.2228169493903505, 1.2213297783948551, 1.2109195814263871, 1.1398328078417084, 1.1320995186651328, 1.0755870208363085, 1.0146130100209985, 1.0071771550435216, 0.9432288022372206, 0.9357929472597437, 0.9298442632777622, 0.9134853823273131, 0.9128905139291149, 0.897126501376864, 0.8852291334129011, 0.828716635584077, 0.7736913087507482, 0.7513837438183177, 0.6904097330030076, 0.5431798044489657, 0.5253337525030213, 0.5060005295615815, 0.4822057936336557, 0.47476993865617884, 0.45097520272825276, 0.44205217675528063, 0.415283098836364, 0.4018985598769056, 0.3513347460300631, 0.30077093218322043, 0.2249252114129566, 0.20797146206430936, 0.1856638971318788, 0.17138705557512313, 0.16543837159314176, 0.14015646466972043, 0.1282590967057575, 0.11933607073278515, 0.05538771792648425, 0.0479518629490074, 0.03754166598053976, 0.019695614034595375, -0.02462208163116673, -0.03503227859963426, -0.08589352664557597, -0.10968826257350192, -0.11920615694467229, -0.13497016949692314, -0.14686753746088618, -0.14984187945187685, -0.1620366816149389, -0.18255964135277505, -0.2048672062852056, -0.2093287192716917, -0.2227132582311501, -0.250374638747364, -0.258405362123039, -0.30896917596988155, -0.3238408859248353, -0.3253280569203307, -0.33871259587978897, -0.40414811968158526, -0.40563529067708065, -0.4219941716275298, -0.4445991707590594, -0.44876324954644636, -0.45411706513022976, -0.4683939066869853, -0.4695836434833816, -0.5255012729140075, -0.5260961413122057, -0.5439421932581502, -0.5513780482356271, -0.5641677187968872, -0.579634297150039, -0.5888547573221103, -0.5900444941185066, -0.603429033077965, -0.603726467277064, -0.6049162040734604, -0.6212750850239094, -0.6287109400013863, -0.6406083079653493, -0.64358264995634, -0.6456646893500335, -0.6465569919473306, -0.6486390313410242, -0.6584543599112936, -0.6644030438932751, -0.671838898870752, -0.6733260698662474, -0.6777875828527335, -0.684033701033814, -0.6852234378302104, -0.6986079767896686, -0.7045566607716502, -0.711992515749127, -0.711992515749127, -0.7149668577401178, -0.7253770547085854, -0.7301360018941706, -0.735787251677053, -0.7402487646635391, -0.7417359356590345, -0.7417359356590345, -0.7491717906365113, -0.7551204746184927, -0.7554179088175919, -0.7574999482112854, -0.7589871192067807, -0.7637460663923659, -0.7699921845734465, -0.7833767235329048, -0.7908125785103817, -0.792299749505877, -0.7988433018860567, -0.8006279070806511, -0.80419711746984, -0.8089560646554251, -0.8116329724473168, -0.8116329724473168, -0.8229354720130817, -0.8259098140040724, -0.8294790243932613, -0.8384020503662336, -0.8428635633527196, -0.8443507343482151, -0.8467302079410076, -0.8556532339139798, -0.856248102312178, -0.8592224443031687, -0.8607096152986641, -0.8651711282851502, -0.8666582992806455, -0.8711198122671316, -0.8770684962491132, -0.8785556672446085, -0.8791505356428068, -0.8800428382401039, -0.8830171802310947, -0.8830171802310947, -0.8845043512265901, -0.8889658642130761, -0.8889658642130761, -0.8889658642130761, -0.8889658642130761, -0.8889658642130761, -0.9112734291455067, -0.9187092841229836, -0.9216836261139744], \"y0\": \" \", \"yaxis\": \"y\"}, {\"alignmentgroup\": \"True\", \"boxpoints\": \"all\", \"customdata\": [[\"Donald, Aaron LAR DT\", 125.5, 8.367, 30.0, 8.0], [\"Buckner, DeForest IND DT\", 113.0, 8.071, 27.0, 6.0], [\"Richardson, Sheldon CLE DT\", 96.5, 6.433, 30.0, 9.0], [\"Payne, Da'Ron WAS DT\", 83.0, 5.5329999999999995, 23.0, 4.0], [\"Onyemata, David NOS DT\", 82.6, 5.9, 28.0, 6.0], [\"Cox, Fletcher PHI DT\", 80.5, 5.367000000000001, 30.0, 10.0], [\"Jones, Chris KCC DT\", 79.4, 5.671, 26.0, 6.0], [\"Allen, Jonathan WAS DT\", 71.5, 4.7669999999999995, 26.0, 5.0], [\"Suh, Ndamukong TBB DT\", 71.5, 4.7669999999999995, 34.0, 12.0], [\"Jarrett, Grady ATL DT\", 70.6, 4.707, 28.0, 7.0], [\"Reed, Jarran SEA DT\", 70.5, 4.7, 27.0, 6.0], [\"Simmons, Jeffery TEN DT\", 70.0, 5.0, 23.0, 3.0], [\"Lawrence, Dexter NYG DT\", 67.0, 4.467, 23.0, 3.0], [\"Wilkins, Christian MIA DT\", 64.8, 4.985, 25.0, 3.0], [\"Tomlinson, Dalvin NYG DT\", 64.0, 4.2669999999999995, 27.0, 5.0], [\"Jones, DaQuan TEN DT\", 62.5, 4.167, 29.0, 8.0], [\"Ford, Poona SEA DT\", 60.5, 4.033, 25.0, 4.0], [\"Joseph-Day, Sebastian LAR DT\", 60.5, 4.033, 26.0, 4.0], [\"Fatukasi, Foley NYJ DT\", 52.7, 3.764, 26.0, 4.0], [\"Williams, DeShawn DEN DT\", 52.6, 4.046, null, null], [\"Joseph, Linval LAC DT\", 52.5, 3.5, 32.0, 12.0], [\"Stewart, Grover IND DT\", 50.5, 3.367, 27.0, 5.0], [\"Kinlaw, Javon SFO DT\", 50.2, 3.5860000000000003, 23.0, 2.0], [\"Oliver, Ed BUF DT\", 50.0, 3.333, 23.0, 3.0], [\"Hargrave, Javon PHI DT\", 49.5, 3.536, 28.0, 6.0], [\"Tillery, Jerry LAC DT\", 49.1, 3.273, 24.0, 3.0], [\"Ogunjobi, Larry CLE DT\", 47.8, 3.4139999999999997, 26.0, 5.0], [\"Brown, Derrick CAR DT\", 46.8, 3.12, 23.0, 2.0], [\"Butler, Adam NEP DT\", 43.0, 3.071, 27.0, 5.0], [\"Jefferson, Quinton BUF DT\", 41.6, 2.773, 28.0, 6.0], [\"Johnson, Jaleel MIN DT\", 41.5, 2.767, 26.0, 5.0], [\"Clark, Kenny GBP DT\", 41.0, 3.417, 25.0, 6.0], [\"Settle, Tim WAS DT\", 40.9, 2.727, 23.0, 4.0], [\"Wharton, Tershawn KCC DT\", 39.2, 2.613, 22.0, 2.0], [\"Kerr, Zach CAR DT\", 39.0, 3.25, 30.0, 8.0], [\"Penisini, John DET DT\", 39.0, 2.6, 23.0, 2.0], [\"Jones, D.J. SFO DT\", 37.5, 2.885, 26.0, 5.0], [\"Jones, Justin LAC DT\", 35.5, 2.958, 25.0, 4.0], [\"Nnadi, Derrick KCC DT\", 35.5, 2.367, 25.0, 4.0], [\"Hamilton, Davon JAC DT\", 35.0, 3.182, 24.0, 2.0], [\"Jackson, Malik PHI DT\", 34.8, 2.4859999999999998, 31.0, 10.0], [\"Givens, Kevin SFO DT\", 34.5, 2.654, 24.0, 3.0], [\"Hall, P.J. HOU DT\", 34.0, 3.4, 26.0, 4.0], [\"Stephen, Shamar MIN DT\", 33.5, 2.233, 30.0, 8.0], [\"Shelton, Danny DET DT\", 33.0, 3.0, 27.0, 7.0], [\"Cowart, Byron NEP DT\", 32.5, 2.5, 25.0, 3.0], [\"Roy, Bravvion CAR DT\", 31.5, 2.25, 24.0, 2.0], [\"Rankins, Sheldon NOS DT\", 31.4, 2.855, 27.0, 6.0], [\"Hankins, Johnathan LVR DT\", 30.8, 2.053, 29.0, 9.0], [\"Costin, Doug JAC DT\", 30.5, 2.773, 23.0, 2.0], [\"Williams, Brandon BAL DT\", 30.5, 2.542, 32.0, 9.0], [\"Butler, Vernon BUF DT\", 30.0, 2.3080000000000003, 26.0, 6.0], [\"Gallimore, Neville DAL DT\", 30.0, 2.3080000000000003, 24.0, 2.0], [\"Davis, Raekwon MIA DT\", 29.0, 1.933, 23.0, 2.0], [\"Hunt, Margus CIN DT\", 28.5, 2.375, 33.0, 9.0], [\"Hurst, Maurice LVR DT\", 28.5, 2.591, 26.0, 4.0], [\"Zimmer, Justin BUF DT\", 28.5, 2.591, 28.0, 6.0], [\"Mata'afa, Hercules MIN DT\", 28.0, 2.333, 25.0, 4.0], [\"Tuttle, Shy NOS DT\", 27.5, 2.292, 25.0, 3.0], [\"Davison, Tyeler ATL DT\", 27.0, 1.8, 28.0, 7.0], [\"Crawford, Tyrone DAL DT\", 26.5, 1.767, 31.0, 10.0], [\"Peters, Corey ARI DT\", 26.5, 2.944, 32.0, 12.0], [\"Johnson, Austin NYG DT\", 24.0, 1.6, 27.0, 6.0], [\"Watts, Armon MIN DT\", 24.0, 1.6, 24.0, 3.0], [\"Covington, Christian CIN DT\", 23.5, 1.567, 27.0, 7.0], [\"Mclendon, Steve TBB DT\", 23.0, 1.5330000000000001, 35.0, 13.0], [\"Brown, Malcom NOS DT\", 21.5, 1.7919999999999998, 27.0, 7.0], [\"Vickers, Kendal LVR DT\", 21.0, 1.75, 26.0, 4.0], [\"Woods, Antwaun DAL DT\", 21.0, 1.5, 28.0, 6.0], [\"Purcell, Mike DEN DT\", 20.0, 3.333, 30.0, 9.0], [\"Vea, Vita TBB DT\", 20.0, 4.0, 26.0, 4.0], [\"Bryan, Taven JAC DT\", 19.5, 1.3, 25.0, 4.0], [\"Dunn, Brandon HOU DT\", 19.5, 1.5, 28.0, 8.0], [\"Square, Damion LAC DT\", 19.5, 1.3, 32.0, 9.0], [\"Pennel, Mike KCC DT\", 19.0, 1.462, 30.0, 8.0], [\"Reader, D.J. CIN DT\", 19.0, 3.8, 26.0, 6.0], [\"Mone, Bryan SEA DT\", 17.5, 1.944, 25.0, 3.0], [\"Ridgeway, Hassan PHI DT\", 17.5, 2.5, 26.0, 6.0], [\"Godchaux, Davon MIA DT\", 16.0, 3.2, 26.0, 5.0], [\"Taylor, Vincent CLE DT\", 16.0, 1.143, 27.0, 5.0], [\"Williams, Xavier CIN DT\", 16.0, 1.455, 29.0, 7.0], [\"Fotu, Leki ARI DT\", 15.5, 1.55, 22.0, 2.0], [\"Ioannidis, Matt WAS DT\", 15.0, 5.0, 27.0, 6.0], [\"Jenkins, John CHI DT\", 15.0, 1.5, 31.0, 9.0], [\"Phillips, Harrison BUF DT\", 14.5, 1.318, 25.0, 4.0], [\"Daniels, Mike CIN DT\", 14.0, 1.273, 32.0, 10.0], [\"Ellis, Justin BAL DT\", 13.0, 1.0, 30.0, 8.0], [\"Stallworth, Taylor IND DT\", 13.0, 0.867, 25.0, 4.0], [\"Roach, Malcolm NOS DT\", 12.9, 1.433, 22.0, 2.0], [\"Liuget, Corey FA DT\", 11.0, 1.8330000000000002, 31.0, 11.0], [\"Hill, Trysten DAL DT\", 10.9, 2.18, 23.0, 3.0], [\"Elliott, Jordan CLE DT\", 10.5, 0.7, 23.0, 2.0], [\"Harrison, Damon GBP DT\", 10.0, 1.6669999999999998, 32.0, 10.0], [\"Robinson, A'Shawn LAR DT\", 10.0, 1.429, 26.0, 6.0], [\"Strong, Kevin DET DT\", 10.0, 2.0, 24.0, 3.0], [\"Nunez-Roches, Rakeem TBB DT\", 9.5, 0.633, 27.0, 7.0], [\"Ekuale, Daniel JAC DT\", 9.0, 1.125, 27.0, 4.0], [\"Peko, Domata ARI DT\", 9.0, 1.8, 36.0, 16.0], [\"Blacklock, Ross HOU DT\", 8.8, 0.629, 22.0, 2.0], [\"Williams, Sylvester DEN DT\", 8.5, 1.214, 32.0, 9.0], [\"Lawrence, Rashard ARI DT\", 8.0, 1.0, 22.0, 2.0], [\"Lynch, James MIN DT\", 8.0, 1.0, 22.0, 2.0], [\"Brown, Andrew HOU DT\", 7.0, 1.167, 25.0, 4.0], [\"Agim, McTelvin DEN DT\", 6.5, 0.722, 23.0, 2.0], [\"Davidson, Marlon ATL DT\", 6.5, 0.929, 23.0, 2.0], [\"Ross, Daniel JAC DT\", 6.5, 1.625, 28.0, 5.0], [\"Jones, Abry JAC DT\", 6.0, 1.2, 29.0, 9.0], [\"Hamilton, Justin DAL DT\", 5.5, 0.55, 27.0, 6.0], [\"McCullers, Daniel CHI DT\", 5.5, 1.8330000000000002, 28.0, 8.0], [\"McGill, T.Y. PHI DT\", 5.5, 0.917, 28.0, 7.0], [\"Davis, Carl NEP DT\", 5.0, 1.6669999999999998, 29.0, 7.0], [\"Poe, Dontari FA DT\", 5.0, 0.7140000000000001, 30.0, 10.0], [\"Senat, Deadrin ATL DT\", 5.0, 1.0, 26.0, 4.0], [\"Collins, Maliek LVR DT\", 4.0, 0.364, 26.0, 6.0], [\"Spence, Akeem NEP DT\", 3.8, 0.76, 29.0, 9.0], [\"Broughton, Cortez LAC DT\", 3.5, 0.43799999999999994, 24.0, 3.0], [\"Day, Sheldon FA DT\", 3.0, 0.75, 26.0, 6.0], [\"Irving, David FA DT\", 3.0, 1.5, 27.0, 7.0], [\"Short, Kawann CAR DT\", 3.0, 1.0, 32.0, 9.0], [\"Ankou, Eli DAL DT\", 2.5, 0.41700000000000004, 26.0, 5.0], [\"Glasgow, Ryan NOS DT\", 2.5, 1.25, 27.0, 5.0], [\"Akinmoladun, Freedom CIN DT\", 1.5, 0.75, 25.0, 3.0], [\"Davis, Khalil TBB DT\", 1.5, 1.5, 24.0, 2.0], [\"Copeland, Marquise LAR DT\", 1.0, 1.0, 24.0, 3.0], [\"Jernigan, Timmy FA DT\", 1.0, 0.2, 28.0, 8.0], [\"Lawrence, Devaroe WAS DT\", 1.0, 1.0, 28.0, 5.0], [\"Saunders, Khalen KCC DT\", 1.0, 0.5, 24.0, 3.0], [\"Thomas, Solomon SFO DT\", 1.0, 0.5, 25.0, 5.0], [\"Washington, Broderick BAL DT\", 1.0, 0.125, 24.0, 2.0], [\"Windsor, Robert IND DT\", 0.5, 0.25, 24.0, 2.0], [\"Atkins, Geno CIN DT\", 0.0, 0.0, 33.0, 12.0], [\"Autry, Denico IND DT\", 64.0, 4.923, 30.0, 8.0], [\"Guy, Lawrence NEP DT\", 61.5, 4.731, 31.0, 11.0], [\"Lewis, Tyquan IND DT\", 52.9, 3.5269999999999997, 26.0, 4.0], [\"Tuioti-Mariner, Jacob ATL DT\", 42.6, 2.84, 24.0, 4.0], [\"Holmes, Jalyn MIN DT\", 33.5, 2.3930000000000002, 25.0, 4.0], [\"Gaines, Greg LAR DT\", 23.0, 1.5330000000000001, 25.0, 3.0], [\"Madubuike, Justin BAL DT\", 22.0, 2.444, 23.0, 2.0], [\"Davis, Carlos PIT DT\", 6.5, 1.083, 24.0, 2.0], [\"Rush, Anthony GBP DT\", 5.0, 1.0, 24.0, 3.0]], \"hovertemplate\": \"position=%{x}<br>z_score=%{y}<br>player_name=%{customdata[0]}<br>total_points=%{customdata[1]}<br>average_points=%{customdata[2]}<br>age=%{customdata[3]}<br>experience_years=%{customdata[4]}<extra></extra>\", \"legendgroup\": \"DT\", \"marker\": {\"color\": \"#FECB52\"}, \"name\": \"DT\", \"notched\": false, \"offsetgroup\": \"DT\", \"orientation\": \"v\", \"showlegend\": true, \"type\": \"box\", \"x\": [\"DT\", \"DT\", \"DT\", \"DT\", \"DT\", \"DT\", \"DT\", \"DT\", \"DT\", \"DT\", \"DT\", \"DT\", \"DT\", \"DT\", \"DT\", \"DT\", \"DT\", \"DT\", \"DT\", \"DT\", \"DT\", \"DT\", \"DT\", \"DT\", \"DT\", \"DT\", \"DT\", \"DT\", \"DT\", \"DT\", \"DT\", \"DT\", \"DT\", \"DT\", \"DT\", \"DT\", \"DT\", \"DT\", \"DT\", \"DT\", \"DT\", \"DT\", \"DT\", \"DT\", \"DT\", \"DT\", \"DT\", \"DT\", \"DT\", \"DT\", \"DT\", \"DT\", \"DT\", \"DT\", \"DT\", \"DT\", \"DT\", \"DT\", \"DT\", \"DT\", \"DT\", \"DT\", \"DT\", \"DT\", \"DT\", \"DT\", \"DT\", \"DT\", \"DT\", \"DT\", \"DT\", \"DT\", \"DT\", \"DT\", \"DT\", \"DT\", \"DT\", \"DT\", \"DT\", \"DT\", \"DT\", \"DT\", \"DT\", \"DT\", \"DT\", \"DT\", \"DT\", \"DT\", \"DT\", \"DT\", \"DT\", \"DT\", \"DT\", \"DT\", \"DT\", \"DT\", \"DT\", \"DT\", \"DT\", \"DT\", \"DT\", \"DT\", \"DT\", \"DT\", \"DT\", \"DT\", \"DT\", \"DT\", \"DT\", \"DT\", \"DT\", \"DT\", \"DT\", \"DT\", \"DT\", \"DT\", \"DT\", \"DT\", \"DT\", \"DT\", \"DT\", \"DT\", \"DT\", \"DT\", \"DT\", \"DT\", \"DT\", \"DT\", \"DT\", \"DT\", \"DT\", \"DT\", \"DT\", \"DT\", \"DT\", \"DT\", \"DT\", \"DT\", \"DT\", \"DT\"], \"x0\": \" \", \"xaxis\": \"x\", \"y\": [3.9062487849772385, 3.400456433071608, 2.732810528556176, 2.186554788498095, 2.170369433237114, 2.0853963181169686, 2.0408865911492735, 1.7212258247449148, 1.7212258247449148, 1.6848087754077092, 1.6807624365924643, 1.6605307425162392, 1.5391405780588878, 1.4501211241234968, 1.4177504136015366, 1.3570553313728608, 1.27612855506796, 1.27612855506796, 0.9605141274788467, 0.9564677886636016, 0.9524214498483565, 0.8714946735434557, 0.8593556570977207, 0.8512629794672304, 0.8310312853910052, 0.8148459301300252, 0.7622435255318394, 0.721780137379389, 0.5680192624000774, 0.5113705189866469, 0.5073241801714018, 0.4870924860951765, 0.48304614727993145, 0.4142583874207659, 0.40616570979027566, 0.40616570979027566, 0.3454706275616, 0.2645438512566991, 0.2645438512566991, 0.24431215718047392, 0.2362194795499837, 0.2240804631042487, 0.20384876902802349, 0.18361707495179827, 0.16338538087557303, 0.1431536867993478, 0.10269029864689738, 0.09864395983165229, 0.07436592694018211, 0.06222691049444695, 0.06222691049444695, 0.04199521641822174, 0.04199521641822174, 0.0015318282657713002, -0.01869986581045392, -0.01869986581045392, -0.01869986581045392, -0.03893155988667914, -0.05916325396290435, -0.07939494803912957, -0.09962664211535478, -0.09962664211535478, -0.20078511249648087, -0.20078511249648087, -0.2210168065727061, -0.2412485006489313, -0.301943582877607, -0.3221752769538322, -0.3221752769538322, -0.3626386651062826, -0.3626386651062826, -0.38287035918250784, -0.38287035918250784, -0.38287035918250784, -0.40310205325873305, -0.40310205325873305, -0.4637971354874087, -0.4637971354874087, -0.5244922177160843, -0.5244922177160843, -0.5244922177160843, -0.5447239117923096, -0.5649556058685348, -0.5649556058685348, -0.58518729994476, -0.6054189940209852, -0.6458823821734356, -0.6458823821734356, -0.6499287209886807, -0.7268091584783365, -0.7308554972935817, -0.7470408525545618, -0.7672725466307869, -0.7672725466307869, -0.7672725466307869, -0.7875042407070122, -0.8077359347832374, -0.8077359347832374, -0.8158286124137275, -0.8279676288594626, -0.8481993229356879, -0.8481993229356879, -0.8886627110881383, -0.9088944051643635, -0.9088944051643635, -0.9088944051643635, -0.9291260992405888, -0.9493577933168139, -0.9493577933168139, -0.9493577933168139, -0.9695894873930392, -0.9695894873930392, -0.9695894873930392, -1.0100528755454896, -1.0181455531759795, -1.0302845696217149, -1.05051626369794, -1.05051626369794, -1.05051626369794, -1.0707479577741652, -1.0707479577741652, -1.1112113459266157, -1.1112113459266157, -1.1314430400028408, -1.1314430400028408, -1.1314430400028408, -1.1314430400028408, -1.1314430400028408, -1.1314430400028408, -1.151674734079066, -1.1719064281552913, 1.4177504136015366, 1.3165919432204105, 0.9686068051093366, 0.5518339071390973, 0.18361707495179827, -0.2412485006489313, -0.28171188880138176, -0.9088944051643635, -0.9695894873930392], \"y0\": \" \", \"yaxis\": \"y\"}, {\"alignmentgroup\": \"True\", \"boxpoints\": \"all\", \"customdata\": [[\"Kelce, Travis KCC TE\", 248.76, 16.584, 31.0, 9.0], [\"Waller, Darren LVR TE\", 202.4, 13.493, 28.0, 7.0], [\"Tonyan, Robert GBP TE\", 134.3, 8.953, 27.0, 5.0], [\"Hockenson, T.J. DET TE\", 131.3, 8.753, 23.0, 3.0], [\"Andrews, Mark BAL TE\", 128.0, 9.846, 24.0, 4.0], [\"Thomas, Logan WAS TE\", 127.02, 8.468, 29.0, 8.0], [\"Gesicki, Mike MIA TE\", 124.1, 8.863999999999999, 25.0, 4.0], [\"Gronkowski, Rob TBB TE\", 118.4, 7.893, 32.0, 12.0], [\"Smith, Jonnu TEN TE\", 117.7, 8.407, 25.0, 5.0], [\"Henry, Hunter LAC TE\", 113.8, 8.129, 26.0, 6.0], [\"Graham, Jimmy CHI TE\", 111.7, 7.447, 34.0, 12.0], [\"Hurst, Hayden ATL TE\", 109.3, 7.287000000000001, 27.0, 4.0], [\"Engram, Evan NYG TE\", 105.3, 7.02, 26.0, 5.0], [\"Fant, Noah DEN TE\", 105.1, 7.507000000000001, 23.0, 3.0], [\"Ebron, Eric PIT TE\", 101.3, 6.752999999999999, 28.0, 8.0], [\"Cook, Jared NOS TE\", 97.1, 6.936, 34.0, 13.0], [\"Schultz, Dalton DAL TE\", 97.0, 6.4670000000000005, 24.0, 4.0], [\"Goedert, Dallas PHI TE\", 91.9, 8.355, 26.0, 4.0], [\"Higbee, Tyler LAR TE\", 91.6, 6.542999999999999, 28.0, 6.0], [\"Kittle, George SFO TE\", 85.8, 12.257, 27.0, 5.0], [\"Hooper, Austin CLE TE\", 77.3, 6.442, 26.0, 6.0], [\"Smith Jr., Irv MIN TE\", 72.0, 6.0, 22.0, 3.0], [\"Eifert, Tyler JAC TE\", 70.4, 5.029, 30.0, 9.0], [\"Burton, Trey IND TE\", 69.8, 5.817, 29.0, 8.0], [\"Fells, Darren HOU TE\", 65.7, 4.38, 35.0, 10.0], [\"Everett, Gerald LAR TE\", 65.4, 4.36, 26.0, 5.0], [\"Alie-Cox, Mo IND TE\", 63.9, 4.564, 27.0, 5.0], [\"Firkser, Anthony TEN TE\", 62.4, 4.16, 26.0, 4.0], [\"Arnold, Dan ARI TE\", 61.7, 4.113, 26.0, 5.0], [\"Akins, Jordan HOU TE\", 60.9, 5.075, 29.0, 4.0], [\"Reed, Jordan SFO TE\", 59.6, 5.96, 30.0, 9.0], [\"Rodgers, Richard PHI TE\", 59.5, 4.25, 29.0, 8.0], [\"Ertz, Zach PHI TE\", 55.9, 5.59, 30.0, 9.0], [\"Sample, Drew CIN TE\", 53.9, 3.593, 25.0, 3.0], [\"Brate, Cameron TBB TE\", 52.6, 3.5069999999999997, 29.0, 8.0], [\"Hollister, Jacob SEA TE\", 52.3, 3.487, 27.0, 5.0], [\"Knox, Dawson BUF TE\", 50.9, 4.627, 24.0, 3.0], [\"Rudolph, Kyle MIN TE\", 50.4, 4.2, 31.0, 11.0], [\"Bryant, Harrison CLE TE\", 49.3, 3.287, 23.0, 2.0], [\"Dissly, Will SEA TE\", 46.92, 3.128, 24.0, 4.0], [\"Doyle, Jack IND TE\", 42.9, 3.3, 31.0, 9.0], [\"Smythe, Durham MIA TE\", 42.2, 3.014, 25.0, 4.0], [\"Kmet, Cole CHI TE\", 41.4, 2.76, 22.0, 2.0], [\"Herndon, Chris NYJ TE\", 40.7, 2.713, 25.0, 4.0], [\"Njoku, David CLE TE\", 40.5, 3.375, 24.0, 5.0], [\"Olsen, Greg FA TE\", 38.9, 3.536, 36.0, 15.0], [\"O'Shaughnessy, James JAC TE\", 36.2, 2.5860000000000003, 29.0, 7.0], [\"Kroft, Tyler BUF TE\", 35.4, 3.54, 28.0, 7.0], [\"Shaheen, Adam MIA TE\", 34.4, 2.293, 27.0, 5.0], [\"Howard, O.J. TBB TE\", 30.6, 7.65, 26.0, 5.0], [\"James, Jesse DET TE\", 29.2, 1.9469999999999998, 26.0, 7.0], [\"Trautman, Adam NOS TE\", 28.6, 2.043, 24.0, 2.0], [\"Dwelley, Ross SFO TE\", 27.3, 1.82, 26.0, 4.0], [\"Moreau, Foster LVR TE\", 27.3, 1.82, 24.0, 3.0], [\"Boyle, Nick BAL TE\", 26.8, 2.978, 28.0, 7.0], [\"Lewis, Marcedes GBP TE\", 26.3, 1.879, 37.0, 16.0], [\"Parham, Donald LAC TE\", 26.0, 2.167, 23.0, 3.0], [\"Izzo, Ryan NEP TE\", 25.4, 2.117, 25.0, 4.0], [\"Thomas, Ian CAR TE\", 24.6, 1.64, 24.0, 4.0], [\"Witten, Jason FA TE\", 24.0, 1.6, 39.0, 19.0], [\"Pruitt, MyCole TEN TE\", 23.9, 2.39, 29.0, 7.0], [\"Sternberger, Jace GBP TE\", 23.72, 1.9769999999999999, 24.0, 3.0], [\"Okwuegbunam, Albert DEN TE\", 23.6, 5.9, 23.0, 2.0], [\"Conklin, Tyler MIN TE\", 22.4, 1.493, 25.0, 4.0], [\"Vannett, Nick DEN TE\", 20.5, 1.464, 28.0, 6.0], [\"Williams, Maxx ARI TE\", 18.7, 2.3369999999999997, 27.0, 7.0], [\"Daniels, Darrell ARI TE\", 18.06, 1.642, 26.0, 6.0], [\"Smith, Lee BUF TE\", 17.5, 1.944, 33.0, 11.0], [\"Uzomah, C.J. CIN TE\", 17.2, 8.6, 28.0, 7.0], [\"Bell, Blake DAL TE\", 16.7, 1.113, 29.0, 7.0], [\"Brown, Pharaoh HOU TE\", 16.0, 1.3330000000000002, 27.0, 5.0], [\"Gilliam, Reggie BUF TE\", 14.6, 1.123, 23.0, 2.0], [\"Swaim, Geoff TEN TE\", 12.1, 1.344, 27.0, 7.0], [\"Anderson, Stephen LAC TE\", 11.9, 0.7929999999999999, 28.0, 6.0], [\"Smith, Kaden NYG TE\", 11.8, 0.843, 24.0, 3.0], [\"Green, Virgil LAC TE\", 11.5, 1.9169999999999998, 32.0, 11.0], [\"Harris, Demetrius CHI TE\", 11.42, 0.816, 29.0, 9.0], [\"Carter, Cethan CIN TE\", 11.2, 0.8, 27.0, 5.0], [\"Carlson, Stephen CLE TE\", 11.1, 0.74, 24.0, 3.0], [\"Hill, Josh NOS TE\", 10.6, 0.757, 31.0, 9.0], [\"Griffin, Ryan NYJ TE\", 10.1, 0.721, 31.0, 9.0], [\"Fumagalli, Troy DEN TE\", 10.0, 1.429, 26.0, 4.0], [\"Keizer, Nick KCC TE\", 8.8, 0.5870000000000001, 26.0, 4.0], [\"McDonald, Vance FA TE\", 8.1, 0.623, 30.0, 9.0], [\"Stocker, Luke ATL TE\", 7.5, 0.5, 32.0, 11.0], [\"Mundt, Johnny LAR TE\", 7.3, 0.48700000000000004, 26.0, 5.0], [\"Thompson, Colin CAR TE\", 7.2, 0.5539999999999999, 27.0, 5.0], [\"Croom, Jason PHI TE\", 6.8, 1.7, 27.0, 5.0], [\"Thomas, Jordan IND TE\", 6.8, 1.133, 24.0, 4.0], [\"Manhertz, Chris CAR TE\", 6.2, 0.413, 29.0, 6.0], [\"Carrier, Derek LVR TE\", 5.9, 0.39299999999999996, 30.0, 10.0], [\"Woerner, Charlie SFO TE\", 5.8, 0.446, 23.0, 2.0], [\"Hudson, Tanner TBB TE\", 5.6, 0.509, 26.0, 4.0], [\"Toilolo, Levine NYG TE\", 5.6, 0.373, 29.0, 9.0], [\"Yelder, Deon KCC TE\", 5.5, 0.423, 26.0, 4.0], [\"Brown, Daniel NYJ TE\", 5.3, 0.353, 28.0, 7.0], [\"Sprinkle, Jeremy WAS TE\", 5.1, 0.34, 26.0, 5.0], [\"Warring, Kahale HOU TE\", 5.0, 0.833, 24.0, 3.0], [\"Holtz, J.P. CHI TE\", 4.96, 0.331, 27.0, 6.0], [\"Graham, Jaeden ATL TE\", 4.52, 0.301, 25.0, 4.0], [\"Lovett, John GBP TE\", 4.3, 0.537, 25.0, 3.0], [\"Ellefson, Ben JAC TE\", 3.5, 0.5, 24.0, 2.0], [\"Bryant, Hunter DET TE\", 3.2, 0.8, 22.0, 2.0], [\"Dafney, Dominique GBP TE\", 2.8, 2.8, 23.0, 2.0], [\"Parkinson, Colby SEA TE\", 2.6, 0.52, 22.0, 2.0], [\"Butt, Jake DEN TE\", 2.5, 0.5, 25.0, 5.0], [\"Deguara, Josiah GBP TE\", 1.7, 0.85, 24.0, 2.0], [\"Jarwin, Blake DAL TE\", 1.7, 1.7, 26.0, 5.0], [\"Willson, Luke SEA TE\", 1.7, 0.212, 31.0, 9.0], [\"Saubert, Eric JAC TE\", 1.2, 0.171, 27.0, 5.0], [\"Dillon, Brandon MIN TE\", 1.1, 0.36700000000000005, 24.0, 3.0], [\"DeValve, Seth ARI TE\", 1.0, 0.33299999999999996, 28.0, 6.0], [\"Keene, Dalton NEP TE\", 1.0, 0.2, 22.0, 2.0], [\"Schreck, Mason CIN TE\", 1.0, 0.077, 27.0, 5.0], [\"Nauta, Isaac GBP TE\", 0.8, 0.114, 24.0, 3.0], [\"Baugh, Marcus WAS TE\", 0.7, 0.1, 26.0, 4.0], [\"Sullivan, Stephen CAR TE\", 0.5, 0.5, 24.0, 2.0], [\"Winchester, James KCC TE\", 0.5, 0.033, 31.0, 9.0], [\"Asiasi, Devin NEP TE\", 0.0, 0.0, 23.0, 2.0], [\"Auclair, Antony TBB TE\", 0.0, 0.0, 27.0, 5.0], [\"Beck, Andrew DEN TE\", 0.0, 0.0, 25.0, 3.0], [\"Culkin, Sean BAL TE\", 0.0, 0.0, 27.0, 5.0], [\"Davis, Tyler JAC TE\", 0.0, 0.0, 24.0, 2.0], [\"Gentry, Zach PIT TE\", 0.0, 0.0, 24.0, 3.0], [\"Hopkins, Brycen LAR TE\", 0.0, 0.0, 24.0, 2.0], [\"McKeon, Sean DAL TE\", 0.0, 0.0, 23.0, 2.0], [\"Seals-Jones, Ricky KCC TE\", 0.0, 0.0, 26.0, 5.0], [\"Togiai, Noah IND TE\", 0.0, 0.0, 23.0, 2.0], [\"Travis, Ross NYJ TE\", 0.0, 0.0, 28.0, 7.0], [\"Wilson, Caleb PHI TE\", 0.0, 0.0, 24.0, 3.0], [\"Hemingway, Temarrick WAS TE\", -0.5, -0.062, 27.0, 6.0], [\"Tomlinson, Eric BAL TE\", -0.5, -0.083, 29.0, 7.0], [\"Wesco, Trevon NYJ TE\", -3.0, -0.273, 25.0, 3.0]], \"hovertemplate\": \"position=%{x}<br>z_score=%{y}<br>player_name=%{customdata[0]}<br>total_points=%{customdata[1]}<br>average_points=%{customdata[2]}<br>age=%{customdata[3]}<br>experience_years=%{customdata[4]}<extra></extra>\", \"legendgroup\": \"TE\", \"marker\": {\"color\": \"#636efa\"}, \"name\": \"TE\", \"notched\": false, \"offsetgroup\": \"TE\", \"orientation\": \"v\", \"showlegend\": true, \"type\": \"box\", \"x\": [\"TE\", \"TE\", \"TE\", \"TE\", \"TE\", \"TE\", \"TE\", \"TE\", \"TE\", \"TE\", \"TE\", \"TE\", \"TE\", \"TE\", \"TE\", \"TE\", \"TE\", \"TE\", \"TE\", \"TE\", \"TE\", \"TE\", \"TE\", \"TE\", \"TE\", \"TE\", \"TE\", \"TE\", \"TE\", \"TE\", \"TE\", \"TE\", \"TE\", \"TE\", \"TE\", \"TE\", \"TE\", \"TE\", \"TE\", \"TE\", \"TE\", \"TE\", \"TE\", \"TE\", \"TE\", \"TE\", \"TE\", \"TE\", \"TE\", \"TE\", \"TE\", \"TE\", \"TE\", \"TE\", \"TE\", \"TE\", \"TE\", \"TE\", \"TE\", \"TE\", \"TE\", \"TE\", \"TE\", \"TE\", \"TE\", \"TE\", \"TE\", \"TE\", \"TE\", \"TE\", \"TE\", \"TE\", \"TE\", \"TE\", \"TE\", \"TE\", \"TE\", \"TE\", \"TE\", \"TE\", \"TE\", \"TE\", \"TE\", \"TE\", \"TE\", \"TE\", \"TE\", \"TE\", \"TE\", \"TE\", \"TE\", \"TE\", \"TE\", \"TE\", \"TE\", \"TE\", \"TE\", \"TE\", \"TE\", \"TE\", \"TE\", \"TE\", \"TE\", \"TE\", \"TE\", \"TE\", \"TE\", \"TE\", \"TE\", \"TE\", \"TE\", \"TE\", \"TE\", \"TE\", \"TE\", \"TE\", \"TE\", \"TE\", \"TE\", \"TE\", \"TE\", \"TE\", \"TE\", \"TE\", \"TE\", \"TE\", \"TE\", \"TE\", \"TE\", \"TE\", \"TE\", \"TE\", \"TE\"], \"x0\": \" \", \"xaxis\": \"x\", \"y\": [4.839376929387914, 3.7853410676260775, 2.2370269566256233, 2.168819286537498, 2.093790849440559, 2.071509677211772, 2.0051208783259957, 1.8755263051585571, 1.8596111821379946, 1.770941211023431, 1.7231958419617432, 1.6686297058912425, 1.5776861457737414, 1.573138967767866, 1.4867425856562404, 1.3912518475328641, 1.3889782585299268, 1.2730252193801133, 1.2662044523713003, 1.134336290200924, 0.9410812249512345, 0.8205810077955458, 0.7842035837485455, 0.7705620497309201, 0.6773449006104818, 0.6705241336016693, 0.6364202985576062, 0.6023164635135434, 0.5864013404929808, 0.5682126284694805, 0.5386559714312927, 0.5363823824283552, 0.45453317832260426, 0.4090613982638538, 0.379504741225666, 0.37268397421685334, 0.34085372817572807, 0.32948578316104044, 0.3044763041287276, 0.25036488585881467, 0.1589666079407261, 0.14305148492016354, 0.12486277289666324, 0.10894764987610066, 0.10440047187022555, 0.06802304782322513, 0.006636144743912065, -0.011552567279588227, -0.034288457308963474, -0.12068483942058933, -0.15251508546171472, -0.16615661947933982, -0.19571327651752765, -0.19571327651752765, -0.20708122153221528, -0.21844916654690288, -0.22526993355571548, -0.23891146757334067, -0.2571001795968408, -0.270741713614466, -0.27301530261740353, -0.27710776282269106, -0.27983606962621604, -0.3071191376614664, -0.35031732871727933, -0.3912419307701548, -0.40579290038895494, -0.41852499880540506, -0.4253457658142176, -0.43671371082890525, -0.45262883384946795, -0.4844590798905932, -0.5412988049640314, -0.5458459829699065, -0.5481195719728439, -0.5549403389816565, -0.5567592101840065, -0.5617611059904691, -0.5640346949934066, -0.5754026400080942, -0.5867705850227818, -0.5890441740257194, -0.6163272420609697, -0.6322423650815323, -0.6458838990991576, -0.6504310771050326, -0.6527046661079701, -0.6617990221197202, -0.6617990221197202, -0.6754405561373453, -0.682261323146158, -0.6845349121490953, -0.6890820901549705, -0.6890820901549705, -0.691355679157908, -0.695902857163783, -0.7004500351696581, -0.7027236241725956, -0.7036330597737706, -0.7136368513866957, -0.7186387471931582, -0.7368274592166585, -0.743648226225471, -0.7527425822372212, -0.7572897602430961, -0.7595633492460337, -0.7777520612695339, -0.7777520612695339, -0.7777520612695339, -0.7891200062842215, -0.791393595287159, -0.7936671842900966, -0.7936671842900966, -0.7936671842900966, -0.7982143622959716, -0.800487951298909, -0.8050351293047842, -0.8050351293047842, -0.8164030743194718, -0.8164030743194718, -0.8164030743194718, -0.8164030743194718, -0.8164030743194718, -0.8164030743194718, -0.8164030743194718, -0.8164030743194718, -0.8164030743194718, -0.8164030743194718, -0.8164030743194718, -0.8164030743194718, -0.8277710193341594, -0.8277710193341594, -0.8846107444075976], \"y0\": \" \", \"yaxis\": \"y\"}, {\"alignmentgroup\": \"True\", \"boxpoints\": \"all\", \"customdata\": [[\"Sanders, Jason MIA PK\", 162.1, 10.807, 25.0, 4.0], [\"Koo, Younghoe ATL PK\", 153.7, 10.979000000000001, 26.0, 5.0], [\"Bass, Tyler BUF PK\", 135.7, 9.047, 24.0, 2.0], [\"Carlson, Daniel LVR PK\", 135.5, 9.033, 26.0, 4.0], [\"Blankenship, Rodrigo IND PK\", 135.2, 9.013, 24.0, 2.0], [\"Tucker, Justin BAL PK\", 134.0, 8.933, 31.0, 10.0], [\"Gano, Graham NYG PK\", 132.4, 8.827, 34.0, 13.0], [\"Myers, Jason SEA PK\", 129.8, 8.652999999999999, 30.0, 8.0], [\"Santos, Cairo CHI PK\", 127.4, 8.493, 29.0, 8.0], [\"Zuerlein, Greg DAL PK\", 126.0, 8.4, 33.0, 10.0], [\"Lutz, Wil NOS PK\", 120.5, 8.033, 26.0, 6.0], [\"McManus, Brandon DEN PK\", 117.6, 8.4, 29.0, 8.0], [\"Succop, Ryan TBB PK\", 113.2, 7.547000000000001, 34.0, 13.0], [\"Slye, Joey CAR PK\", 110.9, 7.393, 25.0, 3.0], [\"Folk, Nick NEP PK\", 110.4, 7.36, 36.0, 15.0], [\"Butker, Harrison KCC PK\", 108.8, 7.252999999999999, 25.0, 5.0], [\"Fairbairn, Ka'imi HOU PK\", 107.2, 7.147, 27.0, 6.0], [\"Crosby, Mason GBP PK\", 106.9, 7.127000000000001, 36.0, 15.0], [\"Hopkins, Dustin WAS PK\", 106.2, 7.08, 30.0, 9.0], [\"Gostkowski, Stephen TEN PK\", 100.8, 6.72, 37.0, 16.0], [\"Prater, Matt DET PK\", 99.1, 6.607, 36.0, 16.0], [\"Gould, Robbie SFO PK\", 97.4, 6.492999999999999, 38.0, 17.0], [\"Bullock, Randy CIN PK\", 95.3, 7.942, 31.0, 10.0], [\"Badgley, Mike LAC PK\", 94.9, 6.327000000000001, 25.0, 4.0], [\"Parkey, Cody CLE PK\", 89.9, 6.421, 29.0, 8.0], [\"Gonzalez, Zane ARI PK\", 88.9, 7.4079999999999995, 26.0, 5.0], [\"Boswell, Chris PIT PK\", 88.7, 6.8229999999999995, 31.0, 8.0], [\"Elliott, Jake PHI PK\", 62.7, 4.18, 26.0, 5.0], [\"Bailey, Dan MIN PK\", 59.1, 3.94, 33.0, 11.0], [\"Gay, Matt LAR PK\", 56.6, 9.433, 27.0, 3.0], [\"Ficken, Sam NYJ PK\", 43.8, 4.867, 28.0, 7.0], [\"Rosas, Aldrick JAC PK\", 31.9, 6.38, 26.0, 6.0], [\"Nugent, Mike ARI PK\", 30.5, 10.167, 39.0, 17.0], [\"Sloman, Sam TEN PK\", 28.0, 4.0, 23.0, 2.0], [\"Castillo, Sergio FA PK\", 25.9, 4.317, 30.0, 8.0], [\"Lambo, Josh JAC PK\", 24.0, 6.0, 30.0, 7.0], [\"Seibert, Austin CIN PK\", 18.6, 4.65, 24.0, 3.0], [\"McLaughlin, Chase NYJ PK\", 13.6, 4.533, 25.0, 3.0], [\"Wright, Matthew DET PK\", 9.7, 4.85, 25.0, 3.0], [\"Forbath, Kai FA PK\", 3.6, 1.8, 33.0, 11.0], [\"Brown, Jon FA PK\", 2.1, 2.1, 28.0, 6.0], [\"Fry, Elliott ATL PK\", 0.3, 0.3, 26.0, 3.0], [\"Wright, Brandon LAR PK\", -2.0, -2.0, 24.0, 2.0], [\"Hauschka, Steven FA PK\", -3.0, -3.0, 35.0, 14.0], [\"Russolino, Taylor DEN PK\", -6.0, -6.0, 32.0, 3.0]], \"hovertemplate\": \"position=%{x}<br>z_score=%{y}<br>player_name=%{customdata[0]}<br>total_points=%{customdata[1]}<br>average_points=%{customdata[2]}<br>age=%{customdata[3]}<br>experience_years=%{customdata[4]}<extra></extra>\", \"legendgroup\": \"PK\", \"marker\": {\"color\": \"#EF553B\"}, \"name\": \"PK\", \"notched\": false, \"offsetgroup\": \"PK\", \"orientation\": \"v\", \"showlegend\": true, \"type\": \"box\", \"x\": [\"PK\", \"PK\", \"PK\", \"PK\", \"PK\", \"PK\", \"PK\", \"PK\", \"PK\", \"PK\", \"PK\", \"PK\", \"PK\", \"PK\", \"PK\", \"PK\", \"PK\", \"PK\", \"PK\", \"PK\", \"PK\", \"PK\", \"PK\", \"PK\", \"PK\", \"PK\", \"PK\", \"PK\", \"PK\", \"PK\", \"PK\", \"PK\", \"PK\", \"PK\", \"PK\", \"PK\", \"PK\", \"PK\", \"PK\", \"PK\", \"PK\", \"PK\", \"PK\", \"PK\", \"PK\"], \"x0\": \" \", \"xaxis\": \"x\", \"y\": [1.6693993683126502, 1.5018655284511884, 1.1428644430337704, 1.138875542084688, 1.1328921906610643, 1.10895878496657, 1.0770475773739108, 1.0251918650358394, 0.9773250536468502, 0.9494027470032731, 0.8397079709035065, 0.7818689071418112, 0.6941130862619981, 0.6482407253475503, 0.6382684729748442, 0.6063572653821847, 0.5744460577895254, 0.5684627063659019, 0.5545015530441133, 0.4468012274188878, 0.41289556935168714, 0.3789899112844868, 0.33710645131912115, 0.3291286494209565, 0.22940612569389593, 0.2094616209484838, 0.20547271999940134, -0.3130844033813136, -0.38488462046479727, -0.43474588232832756, -0.6900355430696027, -0.9273751495400068, -0.9552974561835837, -1.005158718047114, -1.0470421780124795, -1.0849367370287624, -1.192637062653988, -1.2923595863810486, -1.3701431548881557, -1.4918046338351696, -1.5217213909532878, -1.5576214994950297, -1.6034938604094775, -1.6234383651548896, -1.6832718793911259], \"y0\": \" \", \"yaxis\": \"y\"}],                        {\"boxmode\": \"overlay\", \"legend\": {\"title\": {\"text\": \"position\"}, \"tracegroupgap\": 0}, \"margin\": {\"t\": 60}, \"template\": {\"data\": {\"bar\": [{\"error_x\": {\"color\": \"#2a3f5f\"}, \"error_y\": {\"color\": \"#2a3f5f\"}, \"marker\": {\"line\": {\"color\": \"#E5ECF6\", \"width\": 0.5}}, \"type\": \"bar\"}], \"barpolar\": [{\"marker\": {\"line\": {\"color\": \"#E5ECF6\", \"width\": 0.5}}, \"type\": \"barpolar\"}], \"carpet\": [{\"aaxis\": {\"endlinecolor\": \"#2a3f5f\", \"gridcolor\": \"white\", \"linecolor\": \"white\", \"minorgridcolor\": \"white\", \"startlinecolor\": \"#2a3f5f\"}, \"baxis\": {\"endlinecolor\": \"#2a3f5f\", \"gridcolor\": \"white\", \"linecolor\": \"white\", \"minorgridcolor\": \"white\", \"startlinecolor\": \"#2a3f5f\"}, \"type\": \"carpet\"}], \"choropleth\": [{\"colorbar\": {\"outlinewidth\": 0, \"ticks\": \"\"}, \"type\": \"choropleth\"}], \"contour\": [{\"colorbar\": {\"outlinewidth\": 0, \"ticks\": \"\"}, \"colorscale\": [[0.0, \"#0d0887\"], [0.1111111111111111, \"#46039f\"], [0.2222222222222222, \"#7201a8\"], [0.3333333333333333, \"#9c179e\"], [0.4444444444444444, \"#bd3786\"], [0.5555555555555556, \"#d8576b\"], [0.6666666666666666, \"#ed7953\"], [0.7777777777777778, \"#fb9f3a\"], [0.8888888888888888, \"#fdca26\"], [1.0, \"#f0f921\"]], \"type\": \"contour\"}], \"contourcarpet\": [{\"colorbar\": {\"outlinewidth\": 0, \"ticks\": \"\"}, \"type\": \"contourcarpet\"}], \"heatmap\": [{\"colorbar\": {\"outlinewidth\": 0, \"ticks\": \"\"}, \"colorscale\": [[0.0, \"#0d0887\"], [0.1111111111111111, \"#46039f\"], [0.2222222222222222, \"#7201a8\"], [0.3333333333333333, \"#9c179e\"], [0.4444444444444444, \"#bd3786\"], [0.5555555555555556, \"#d8576b\"], [0.6666666666666666, \"#ed7953\"], [0.7777777777777778, \"#fb9f3a\"], [0.8888888888888888, \"#fdca26\"], [1.0, \"#f0f921\"]], \"type\": \"heatmap\"}], \"heatmapgl\": [{\"colorbar\": {\"outlinewidth\": 0, \"ticks\": \"\"}, \"colorscale\": [[0.0, \"#0d0887\"], [0.1111111111111111, \"#46039f\"], [0.2222222222222222, \"#7201a8\"], [0.3333333333333333, \"#9c179e\"], [0.4444444444444444, \"#bd3786\"], [0.5555555555555556, \"#d8576b\"], [0.6666666666666666, \"#ed7953\"], [0.7777777777777778, \"#fb9f3a\"], [0.8888888888888888, \"#fdca26\"], [1.0, \"#f0f921\"]], \"type\": \"heatmapgl\"}], \"histogram\": [{\"marker\": {\"colorbar\": {\"outlinewidth\": 0, \"ticks\": \"\"}}, \"type\": \"histogram\"}], \"histogram2d\": [{\"colorbar\": {\"outlinewidth\": 0, \"ticks\": \"\"}, \"colorscale\": [[0.0, \"#0d0887\"], [0.1111111111111111, \"#46039f\"], [0.2222222222222222, \"#7201a8\"], [0.3333333333333333, \"#9c179e\"], [0.4444444444444444, \"#bd3786\"], [0.5555555555555556, \"#d8576b\"], [0.6666666666666666, \"#ed7953\"], [0.7777777777777778, \"#fb9f3a\"], [0.8888888888888888, \"#fdca26\"], [1.0, \"#f0f921\"]], \"type\": \"histogram2d\"}], \"histogram2dcontour\": [{\"colorbar\": {\"outlinewidth\": 0, \"ticks\": \"\"}, \"colorscale\": [[0.0, \"#0d0887\"], [0.1111111111111111, \"#46039f\"], [0.2222222222222222, \"#7201a8\"], [0.3333333333333333, \"#9c179e\"], [0.4444444444444444, \"#bd3786\"], [0.5555555555555556, \"#d8576b\"], [0.6666666666666666, \"#ed7953\"], [0.7777777777777778, \"#fb9f3a\"], [0.8888888888888888, \"#fdca26\"], [1.0, \"#f0f921\"]], \"type\": \"histogram2dcontour\"}], \"mesh3d\": [{\"colorbar\": {\"outlinewidth\": 0, \"ticks\": \"\"}, \"type\": \"mesh3d\"}], \"parcoords\": [{\"line\": {\"colorbar\": {\"outlinewidth\": 0, \"ticks\": \"\"}}, \"type\": \"parcoords\"}], \"pie\": [{\"automargin\": true, \"type\": \"pie\"}], \"scatter\": [{\"marker\": {\"colorbar\": {\"outlinewidth\": 0, \"ticks\": \"\"}}, \"type\": \"scatter\"}], \"scatter3d\": [{\"line\": {\"colorbar\": {\"outlinewidth\": 0, \"ticks\": \"\"}}, \"marker\": {\"colorbar\": {\"outlinewidth\": 0, \"ticks\": \"\"}}, \"type\": \"scatter3d\"}], \"scattercarpet\": [{\"marker\": {\"colorbar\": {\"outlinewidth\": 0, \"ticks\": \"\"}}, \"type\": \"scattercarpet\"}], \"scattergeo\": [{\"marker\": {\"colorbar\": {\"outlinewidth\": 0, \"ticks\": \"\"}}, \"type\": \"scattergeo\"}], \"scattergl\": [{\"marker\": {\"colorbar\": {\"outlinewidth\": 0, \"ticks\": \"\"}}, \"type\": \"scattergl\"}], \"scattermapbox\": [{\"marker\": {\"colorbar\": {\"outlinewidth\": 0, \"ticks\": \"\"}}, \"type\": \"scattermapbox\"}], \"scatterpolar\": [{\"marker\": {\"colorbar\": {\"outlinewidth\": 0, \"ticks\": \"\"}}, \"type\": \"scatterpolar\"}], \"scatterpolargl\": [{\"marker\": {\"colorbar\": {\"outlinewidth\": 0, \"ticks\": \"\"}}, \"type\": \"scatterpolargl\"}], \"scatterternary\": [{\"marker\": {\"colorbar\": {\"outlinewidth\": 0, \"ticks\": \"\"}}, \"type\": \"scatterternary\"}], \"surface\": [{\"colorbar\": {\"outlinewidth\": 0, \"ticks\": \"\"}, \"colorscale\": [[0.0, \"#0d0887\"], [0.1111111111111111, \"#46039f\"], [0.2222222222222222, \"#7201a8\"], [0.3333333333333333, \"#9c179e\"], [0.4444444444444444, \"#bd3786\"], [0.5555555555555556, \"#d8576b\"], [0.6666666666666666, \"#ed7953\"], [0.7777777777777778, \"#fb9f3a\"], [0.8888888888888888, \"#fdca26\"], [1.0, \"#f0f921\"]], \"type\": \"surface\"}], \"table\": [{\"cells\": {\"fill\": {\"color\": \"#EBF0F8\"}, \"line\": {\"color\": \"white\"}}, \"header\": {\"fill\": {\"color\": \"#C8D4E3\"}, \"line\": {\"color\": \"white\"}}, \"type\": \"table\"}]}, \"layout\": {\"annotationdefaults\": {\"arrowcolor\": \"#2a3f5f\", \"arrowhead\": 0, \"arrowwidth\": 1}, \"autotypenumbers\": \"strict\", \"coloraxis\": {\"colorbar\": {\"outlinewidth\": 0, \"ticks\": \"\"}}, \"colorscale\": {\"diverging\": [[0, \"#8e0152\"], [0.1, \"#c51b7d\"], [0.2, \"#de77ae\"], [0.3, \"#f1b6da\"], [0.4, \"#fde0ef\"], [0.5, \"#f7f7f7\"], [0.6, \"#e6f5d0\"], [0.7, \"#b8e186\"], [0.8, \"#7fbc41\"], [0.9, \"#4d9221\"], [1, \"#276419\"]], \"sequential\": [[0.0, \"#0d0887\"], [0.1111111111111111, \"#46039f\"], [0.2222222222222222, \"#7201a8\"], [0.3333333333333333, \"#9c179e\"], [0.4444444444444444, \"#bd3786\"], [0.5555555555555556, \"#d8576b\"], [0.6666666666666666, \"#ed7953\"], [0.7777777777777778, \"#fb9f3a\"], [0.8888888888888888, \"#fdca26\"], [1.0, \"#f0f921\"]], \"sequentialminus\": [[0.0, \"#0d0887\"], [0.1111111111111111, \"#46039f\"], [0.2222222222222222, \"#7201a8\"], [0.3333333333333333, \"#9c179e\"], [0.4444444444444444, \"#bd3786\"], [0.5555555555555556, \"#d8576b\"], [0.6666666666666666, \"#ed7953\"], [0.7777777777777778, \"#fb9f3a\"], [0.8888888888888888, \"#fdca26\"], [1.0, \"#f0f921\"]]}, \"colorway\": [\"#636efa\", \"#EF553B\", \"#00cc96\", \"#ab63fa\", \"#FFA15A\", \"#19d3f3\", \"#FF6692\", \"#B6E880\", \"#FF97FF\", \"#FECB52\"], \"font\": {\"color\": \"#2a3f5f\"}, \"geo\": {\"bgcolor\": \"white\", \"lakecolor\": \"white\", \"landcolor\": \"#E5ECF6\", \"showlakes\": true, \"showland\": true, \"subunitcolor\": \"white\"}, \"hoverlabel\": {\"align\": \"left\"}, \"hovermode\": \"closest\", \"mapbox\": {\"style\": \"light\"}, \"paper_bgcolor\": \"white\", \"plot_bgcolor\": \"#E5ECF6\", \"polar\": {\"angularaxis\": {\"gridcolor\": \"white\", \"linecolor\": \"white\", \"ticks\": \"\"}, \"bgcolor\": \"#E5ECF6\", \"radialaxis\": {\"gridcolor\": \"white\", \"linecolor\": \"white\", \"ticks\": \"\"}}, \"scene\": {\"xaxis\": {\"backgroundcolor\": \"#E5ECF6\", \"gridcolor\": \"white\", \"gridwidth\": 2, \"linecolor\": \"white\", \"showbackground\": true, \"ticks\": \"\", \"zerolinecolor\": \"white\"}, \"yaxis\": {\"backgroundcolor\": \"#E5ECF6\", \"gridcolor\": \"white\", \"gridwidth\": 2, \"linecolor\": \"white\", \"showbackground\": true, \"ticks\": \"\", \"zerolinecolor\": \"white\"}, \"zaxis\": {\"backgroundcolor\": \"#E5ECF6\", \"gridcolor\": \"white\", \"gridwidth\": 2, \"linecolor\": \"white\", \"showbackground\": true, \"ticks\": \"\", \"zerolinecolor\": \"white\"}}, \"shapedefaults\": {\"line\": {\"color\": \"#2a3f5f\"}}, \"ternary\": {\"aaxis\": {\"gridcolor\": \"white\", \"linecolor\": \"white\", \"ticks\": \"\"}, \"baxis\": {\"gridcolor\": \"white\", \"linecolor\": \"white\", \"ticks\": \"\"}, \"bgcolor\": \"#E5ECF6\", \"caxis\": {\"gridcolor\": \"white\", \"linecolor\": \"white\", \"ticks\": \"\"}}, \"title\": {\"x\": 0.05}, \"xaxis\": {\"automargin\": true, \"gridcolor\": \"white\", \"linecolor\": \"white\", \"ticks\": \"\", \"title\": {\"standoff\": 15}, \"zerolinecolor\": \"white\", \"zerolinewidth\": 2}, \"yaxis\": {\"automargin\": true, \"gridcolor\": \"white\", \"linecolor\": \"white\", \"ticks\": \"\", \"title\": {\"standoff\": 15}, \"zerolinecolor\": \"white\", \"zerolinewidth\": 2}}}, \"xaxis\": {\"anchor\": \"y\", \"categoryarray\": [\"LB\", \"DE\", \"CB\", \"S\", \"PN\", \"QB\", \"Off\", \"WR\", \"RB\", \"DT\", \"TE\", \"PK\"], \"categoryorder\": \"array\", \"domain\": [0.0, 1.0], \"title\": {\"text\": \"position\"}}, \"yaxis\": {\"anchor\": \"x\", \"domain\": [0.0, 1.0], \"title\": {\"text\": \"z_score\"}}},                        {\"responsive\": true}                    ).then(function(){\n",
       "                            \n",
       "var gd = document.getElementById('e75e3015-667b-453c-8f43-5ee4adf854bd');\n",
       "var x = new MutationObserver(function (mutations, observer) {{\n",
       "        var display = window.getComputedStyle(gd).display;\n",
       "        if (!display || display === 'none') {{\n",
       "            console.log([gd, 'removed!']);\n",
       "            Plotly.purge(gd);\n",
       "            observer.disconnect();\n",
       "        }}\n",
       "}});\n",
       "\n",
       "// Listen for the removal of the full notebook cells\n",
       "var notebookContainer = gd.closest('#notebook-container');\n",
       "if (notebookContainer) {{\n",
       "    x.observe(notebookContainer, {childList: true});\n",
       "}}\n",
       "\n",
       "// Listen for the clearing of the current output cell\n",
       "var outputEl = gd.closest('.output');\n",
       "if (outputEl) {{\n",
       "    x.observe(outputEl, {childList: true});\n",
       "}}\n",
       "\n",
       "                        })                };                });            </script>        </div>"
      ]
     },
     "metadata": {},
     "output_type": "display_data"
    }
   ],
   "source": [
    "px.box(\n",
    "    top_2020, \n",
    "    x=\"position\", \n",
    "    y=\"z_score\", \n",
    "    color=\"position\",\n",
    "    points=\"all\", \n",
    "    hover_data=[\"player_name\", \"total_points\", \"average_points\", \"age\", \"experience_years\"]\n",
    ")"
   ]
  },
  {
   "cell_type": "code",
   "execution_count": null,
   "id": "interim-honduras",
   "metadata": {},
   "outputs": [],
   "source": []
  }
 ],
 "metadata": {
  "kernelspec": {
   "display_name": "Python 3",
   "language": "python",
   "name": "python3"
  },
  "language_info": {
   "codemirror_mode": {
    "name": "ipython",
    "version": 3
   },
   "file_extension": ".py",
   "mimetype": "text/x-python",
   "name": "python",
   "nbconvert_exporter": "python",
   "pygments_lexer": "ipython3",
   "version": "3.6.8"
  }
 },
 "nbformat": 4,
 "nbformat_minor": 5
}
